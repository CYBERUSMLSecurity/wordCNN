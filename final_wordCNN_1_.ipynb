{
 "cells": [
  {
   "cell_type": "code",
   "execution_count": null,
   "metadata": {
    "colab": {
     "base_uri": "https://localhost:8080/"
    },
    "id": "1o8hCZR3kjfY",
    "outputId": "b2e31641-4ca1-4597-9813-43ca09ed2621"
   },
   "outputs": [
    {
     "name": "stdout",
     "output_type": "stream",
     "text": [
      "Collecting textattack\n",
      "  Downloading textattack-0.3.10-py3-none-any.whl.metadata (38 kB)\n",
      "Collecting bert-score>=0.3.5 (from textattack)\n",
      "  Downloading bert_score-0.3.13-py3-none-any.whl.metadata (15 kB)\n",
      "Requirement already satisfied: editdistance in /usr/local/lib/python3.10/dist-packages (from textattack) (0.8.1)\n",
      "Collecting flair (from textattack)\n",
      "  Downloading flair-0.14.0-py3-none-any.whl.metadata (12 kB)\n",
      "Requirement already satisfied: filelock in /usr/local/lib/python3.10/dist-packages (from textattack) (3.16.1)\n",
      "Collecting language-tool-python (from textattack)\n",
      "  Downloading language_tool_python-2.8.1-py3-none-any.whl.metadata (12 kB)\n",
      "Collecting lemminflect (from textattack)\n",
      "  Downloading lemminflect-0.2.3-py3-none-any.whl.metadata (7.0 kB)\n",
      "Collecting lru-dict (from textattack)\n",
      "  Downloading lru_dict-1.3.0-cp310-cp310-manylinux_2_5_x86_64.manylinux1_x86_64.manylinux_2_17_x86_64.manylinux2014_x86_64.whl.metadata (4.5 kB)\n",
      "Collecting datasets>=2.4.0 (from textattack)\n",
      "  Downloading datasets-3.1.0-py3-none-any.whl.metadata (20 kB)\n",
      "Requirement already satisfied: nltk in /usr/local/lib/python3.10/dist-packages (from textattack) (3.9.1)\n",
      "Requirement already satisfied: numpy>=1.21.0 in /usr/local/lib/python3.10/dist-packages (from textattack) (1.26.4)\n",
      "Requirement already satisfied: pandas>=1.0.1 in /usr/local/lib/python3.10/dist-packages (from textattack) (2.2.2)\n",
      "Requirement already satisfied: scipy>=1.4.1 in /usr/local/lib/python3.10/dist-packages (from textattack) (1.13.1)\n",
      "Requirement already satisfied: torch!=1.8,>=1.7.0 in /usr/local/lib/python3.10/dist-packages (from textattack) (2.5.1+cu121)\n",
      "Requirement already satisfied: transformers>=4.30.0 in /usr/local/lib/python3.10/dist-packages (from textattack) (4.46.2)\n",
      "Collecting terminaltables (from textattack)\n",
      "  Downloading terminaltables-3.1.10-py2.py3-none-any.whl.metadata (3.5 kB)\n",
      "Requirement already satisfied: tqdm in /usr/local/lib/python3.10/dist-packages (from textattack) (4.66.6)\n",
      "Collecting word2number (from textattack)\n",
      "  Downloading word2number-1.1.zip (9.7 kB)\n",
      "  Preparing metadata (setup.py) ... \u001b[?25l\u001b[?25hdone\n",
      "Collecting num2words (from textattack)\n",
      "  Downloading num2words-0.5.13-py3-none-any.whl.metadata (12 kB)\n",
      "Requirement already satisfied: more-itertools in /usr/local/lib/python3.10/dist-packages (from textattack) (10.5.0)\n",
      "Collecting pinyin>=0.4.0 (from textattack)\n",
      "  Downloading pinyin-0.4.0.tar.gz (3.6 MB)\n",
      "\u001b[2K     \u001b[90m━━━━━━━━━━━━━━━━━━━━━━━━━━━━━━━━━━━━━━━━\u001b[0m \u001b[32m3.6/3.6 MB\u001b[0m \u001b[31m76.3 MB/s\u001b[0m eta \u001b[36m0:00:00\u001b[0m\n",
      "\u001b[?25h  Preparing metadata (setup.py) ... \u001b[?25l\u001b[?25hdone\n",
      "Requirement already satisfied: jieba in /usr/local/lib/python3.10/dist-packages (from textattack) (0.42.1)\n",
      "Collecting OpenHowNet (from textattack)\n",
      "  Downloading OpenHowNet-2.0-py3-none-any.whl.metadata (821 bytes)\n",
      "Requirement already satisfied: requests in /usr/local/lib/python3.10/dist-packages (from bert-score>=0.3.5->textattack) (2.32.3)\n",
      "Requirement already satisfied: matplotlib in /usr/local/lib/python3.10/dist-packages (from bert-score>=0.3.5->textattack) (3.8.0)\n",
      "Requirement already satisfied: packaging>=20.9 in /usr/local/lib/python3.10/dist-packages (from bert-score>=0.3.5->textattack) (24.2)\n",
      "Requirement already satisfied: pyarrow>=15.0.0 in /usr/local/lib/python3.10/dist-packages (from datasets>=2.4.0->textattack) (17.0.0)\n",
      "Collecting dill<0.3.9,>=0.3.0 (from datasets>=2.4.0->textattack)\n",
      "  Downloading dill-0.3.8-py3-none-any.whl.metadata (10 kB)\n",
      "Collecting xxhash (from datasets>=2.4.0->textattack)\n",
      "  Downloading xxhash-3.5.0-cp310-cp310-manylinux_2_17_x86_64.manylinux2014_x86_64.whl.metadata (12 kB)\n",
      "Collecting multiprocess<0.70.17 (from datasets>=2.4.0->textattack)\n",
      "  Downloading multiprocess-0.70.16-py310-none-any.whl.metadata (7.2 kB)\n",
      "Collecting fsspec<=2024.9.0,>=2023.1.0 (from fsspec[http]<=2024.9.0,>=2023.1.0->datasets>=2.4.0->textattack)\n",
      "  Downloading fsspec-2024.9.0-py3-none-any.whl.metadata (11 kB)\n",
      "Requirement already satisfied: aiohttp in /usr/local/lib/python3.10/dist-packages (from datasets>=2.4.0->textattack) (3.11.2)\n",
      "Requirement already satisfied: huggingface-hub>=0.23.0 in /usr/local/lib/python3.10/dist-packages (from datasets>=2.4.0->textattack) (0.26.2)\n",
      "Requirement already satisfied: pyyaml>=5.1 in /usr/local/lib/python3.10/dist-packages (from datasets>=2.4.0->textattack) (6.0.2)\n",
      "Requirement already satisfied: python-dateutil>=2.8.2 in /usr/local/lib/python3.10/dist-packages (from pandas>=1.0.1->textattack) (2.8.2)\n",
      "Requirement already satisfied: pytz>=2020.1 in /usr/local/lib/python3.10/dist-packages (from pandas>=1.0.1->textattack) (2024.2)\n",
      "Requirement already satisfied: tzdata>=2022.7 in /usr/local/lib/python3.10/dist-packages (from pandas>=1.0.1->textattack) (2024.2)\n",
      "Requirement already satisfied: typing-extensions>=4.8.0 in /usr/local/lib/python3.10/dist-packages (from torch!=1.8,>=1.7.0->textattack) (4.12.2)\n",
      "Requirement already satisfied: networkx in /usr/local/lib/python3.10/dist-packages (from torch!=1.8,>=1.7.0->textattack) (3.4.2)\n",
      "Requirement already satisfied: jinja2 in /usr/local/lib/python3.10/dist-packages (from torch!=1.8,>=1.7.0->textattack) (3.1.4)\n",
      "Requirement already satisfied: sympy==1.13.1 in /usr/local/lib/python3.10/dist-packages (from torch!=1.8,>=1.7.0->textattack) (1.13.1)\n",
      "Requirement already satisfied: mpmath<1.4,>=1.1.0 in /usr/local/lib/python3.10/dist-packages (from sympy==1.13.1->torch!=1.8,>=1.7.0->textattack) (1.3.0)\n",
      "Requirement already satisfied: regex!=2019.12.17 in /usr/local/lib/python3.10/dist-packages (from transformers>=4.30.0->textattack) (2024.9.11)\n",
      "Requirement already satisfied: safetensors>=0.4.1 in /usr/local/lib/python3.10/dist-packages (from transformers>=4.30.0->textattack) (0.4.5)\n",
      "Requirement already satisfied: tokenizers<0.21,>=0.20 in /usr/local/lib/python3.10/dist-packages (from transformers>=4.30.0->textattack) (0.20.3)\n",
      "Collecting boto3>=1.20.27 (from flair->textattack)\n",
      "  Downloading boto3-1.35.71-py3-none-any.whl.metadata (6.7 kB)\n",
      "Collecting conllu<5.0.0,>=4.0 (from flair->textattack)\n",
      "  Downloading conllu-4.5.3-py2.py3-none-any.whl.metadata (19 kB)\n",
      "Requirement already satisfied: deprecated>=1.2.13 in /usr/local/lib/python3.10/dist-packages (from flair->textattack) (1.2.15)\n",
      "Collecting ftfy>=6.1.0 (from flair->textattack)\n",
      "  Downloading ftfy-6.3.1-py3-none-any.whl.metadata (7.3 kB)\n",
      "Requirement already satisfied: gdown>=4.4.0 in /usr/local/lib/python3.10/dist-packages (from flair->textattack) (5.2.0)\n",
      "Collecting langdetect>=1.0.9 (from flair->textattack)\n",
      "  Downloading langdetect-1.0.9.tar.gz (981 kB)\n",
      "\u001b[2K     \u001b[90m━━━━━━━━━━━━━━━━━━━━━━━━━━━━━━━━━━━━━━━━\u001b[0m \u001b[32m981.5/981.5 kB\u001b[0m \u001b[31m51.7 MB/s\u001b[0m eta \u001b[36m0:00:00\u001b[0m\n",
      "\u001b[?25h  Preparing metadata (setup.py) ... \u001b[?25l\u001b[?25hdone\n",
      "Requirement already satisfied: lxml>=4.8.0 in /usr/local/lib/python3.10/dist-packages (from flair->textattack) (5.3.0)\n",
      "Collecting mpld3>=0.3 (from flair->textattack)\n",
      "  Downloading mpld3-0.5.10-py3-none-any.whl.metadata (5.1 kB)\n",
      "Collecting pptree>=3.1 (from flair->textattack)\n",
      "  Downloading pptree-3.1.tar.gz (3.0 kB)\n",
      "  Preparing metadata (setup.py) ... \u001b[?25l\u001b[?25hdone\n",
      "Collecting pytorch-revgrad>=0.2.0 (from flair->textattack)\n",
      "  Downloading pytorch_revgrad-0.2.0-py3-none-any.whl.metadata (1.7 kB)\n",
      "Requirement already satisfied: scikit-learn>=1.0.2 in /usr/local/lib/python3.10/dist-packages (from flair->textattack) (1.5.2)\n",
      "Collecting segtok>=1.5.11 (from flair->textattack)\n",
      "  Downloading segtok-1.5.11-py3-none-any.whl.metadata (9.0 kB)\n",
      "Collecting sqlitedict>=2.0.0 (from flair->textattack)\n",
      "  Downloading sqlitedict-2.1.0.tar.gz (21 kB)\n",
      "  Preparing metadata (setup.py) ... \u001b[?25l\u001b[?25hdone\n",
      "Requirement already satisfied: tabulate>=0.8.10 in /usr/local/lib/python3.10/dist-packages (from flair->textattack) (0.9.0)\n",
      "Collecting transformer-smaller-training-vocab>=0.2.3 (from flair->textattack)\n",
      "  Downloading transformer_smaller_training_vocab-0.4.0-py3-none-any.whl.metadata (8.1 kB)\n",
      "Collecting wikipedia-api>=0.5.7 (from flair->textattack)\n",
      "  Downloading wikipedia_api-0.7.1.tar.gz (17 kB)\n",
      "  Preparing metadata (setup.py) ... \u001b[?25l\u001b[?25hdone\n",
      "Collecting semver<4.0.0,>=3.0.0 (from flair->textattack)\n",
      "  Downloading semver-3.0.2-py3-none-any.whl.metadata (5.0 kB)\n",
      "Collecting bioc<3.0.0,>=2.0.0 (from flair->textattack)\n",
      "  Downloading bioc-2.1-py3-none-any.whl.metadata (4.6 kB)\n",
      "Requirement already satisfied: pip in /usr/local/lib/python3.10/dist-packages (from language-tool-python->textattack) (24.1.2)\n",
      "Requirement already satisfied: wheel in /usr/local/lib/python3.10/dist-packages (from language-tool-python->textattack) (0.45.0)\n",
      "Requirement already satisfied: click in /usr/local/lib/python3.10/dist-packages (from nltk->textattack) (8.1.7)\n",
      "Requirement already satisfied: joblib in /usr/local/lib/python3.10/dist-packages (from nltk->textattack) (1.4.2)\n",
      "Collecting docopt>=0.6.2 (from num2words->textattack)\n",
      "  Downloading docopt-0.6.2.tar.gz (25 kB)\n",
      "  Preparing metadata (setup.py) ... \u001b[?25l\u001b[?25hdone\n",
      "Collecting anytree (from OpenHowNet->textattack)\n",
      "  Downloading anytree-2.12.1-py3-none-any.whl.metadata (8.1 kB)\n",
      "Requirement already satisfied: setuptools in /usr/local/lib/python3.10/dist-packages (from OpenHowNet->textattack) (75.1.0)\n",
      "Collecting jsonlines>=1.2.0 (from bioc<3.0.0,>=2.0.0->flair->textattack)\n",
      "  Downloading jsonlines-4.0.0-py3-none-any.whl.metadata (1.6 kB)\n",
      "Collecting intervaltree (from bioc<3.0.0,>=2.0.0->flair->textattack)\n",
      "  Downloading intervaltree-3.1.0.tar.gz (32 kB)\n",
      "  Preparing metadata (setup.py) ... \u001b[?25l\u001b[?25hdone\n",
      "Collecting botocore<1.36.0,>=1.35.71 (from boto3>=1.20.27->flair->textattack)\n",
      "  Downloading botocore-1.35.71-py3-none-any.whl.metadata (5.7 kB)\n",
      "Collecting jmespath<2.0.0,>=0.7.1 (from boto3>=1.20.27->flair->textattack)\n",
      "  Downloading jmespath-1.0.1-py3-none-any.whl.metadata (7.6 kB)\n",
      "Collecting s3transfer<0.11.0,>=0.10.0 (from boto3>=1.20.27->flair->textattack)\n",
      "  Downloading s3transfer-0.10.4-py3-none-any.whl.metadata (1.7 kB)\n",
      "Requirement already satisfied: wrapt<2,>=1.10 in /usr/local/lib/python3.10/dist-packages (from deprecated>=1.2.13->flair->textattack) (1.16.0)\n",
      "Requirement already satisfied: aiohappyeyeballs>=2.3.0 in /usr/local/lib/python3.10/dist-packages (from aiohttp->datasets>=2.4.0->textattack) (2.4.3)\n",
      "Requirement already satisfied: aiosignal>=1.1.2 in /usr/local/lib/python3.10/dist-packages (from aiohttp->datasets>=2.4.0->textattack) (1.3.1)\n",
      "Requirement already satisfied: attrs>=17.3.0 in /usr/local/lib/python3.10/dist-packages (from aiohttp->datasets>=2.4.0->textattack) (24.2.0)\n",
      "Requirement already satisfied: frozenlist>=1.1.1 in /usr/local/lib/python3.10/dist-packages (from aiohttp->datasets>=2.4.0->textattack) (1.5.0)\n",
      "Requirement already satisfied: multidict<7.0,>=4.5 in /usr/local/lib/python3.10/dist-packages (from aiohttp->datasets>=2.4.0->textattack) (6.1.0)\n",
      "Requirement already satisfied: propcache>=0.2.0 in /usr/local/lib/python3.10/dist-packages (from aiohttp->datasets>=2.4.0->textattack) (0.2.0)\n",
      "Requirement already satisfied: yarl<2.0,>=1.17.0 in /usr/local/lib/python3.10/dist-packages (from aiohttp->datasets>=2.4.0->textattack) (1.17.2)\n",
      "Requirement already satisfied: async-timeout<6.0,>=4.0 in /usr/local/lib/python3.10/dist-packages (from aiohttp->datasets>=2.4.0->textattack) (4.0.3)\n",
      "Requirement already satisfied: wcwidth in /usr/local/lib/python3.10/dist-packages (from ftfy>=6.1.0->flair->textattack) (0.2.13)\n",
      "Requirement already satisfied: beautifulsoup4 in /usr/local/lib/python3.10/dist-packages (from gdown>=4.4.0->flair->textattack) (4.12.3)\n",
      "Requirement already satisfied: six in /usr/local/lib/python3.10/dist-packages (from langdetect>=1.0.9->flair->textattack) (1.16.0)\n",
      "Requirement already satisfied: contourpy>=1.0.1 in /usr/local/lib/python3.10/dist-packages (from matplotlib->bert-score>=0.3.5->textattack) (1.3.1)\n",
      "Requirement already satisfied: cycler>=0.10 in /usr/local/lib/python3.10/dist-packages (from matplotlib->bert-score>=0.3.5->textattack) (0.12.1)\n",
      "Requirement already satisfied: fonttools>=4.22.0 in /usr/local/lib/python3.10/dist-packages (from matplotlib->bert-score>=0.3.5->textattack) (4.55.0)\n",
      "Requirement already satisfied: kiwisolver>=1.0.1 in /usr/local/lib/python3.10/dist-packages (from matplotlib->bert-score>=0.3.5->textattack) (1.4.7)\n",
      "Requirement already satisfied: pillow>=6.2.0 in /usr/local/lib/python3.10/dist-packages (from matplotlib->bert-score>=0.3.5->textattack) (11.0.0)\n",
      "Requirement already satisfied: pyparsing>=2.3.1 in /usr/local/lib/python3.10/dist-packages (from matplotlib->bert-score>=0.3.5->textattack) (3.2.0)\n",
      "Requirement already satisfied: charset-normalizer<4,>=2 in /usr/local/lib/python3.10/dist-packages (from requests->bert-score>=0.3.5->textattack) (3.4.0)\n",
      "Requirement already satisfied: idna<4,>=2.5 in /usr/local/lib/python3.10/dist-packages (from requests->bert-score>=0.3.5->textattack) (3.10)\n",
      "Requirement already satisfied: urllib3<3,>=1.21.1 in /usr/local/lib/python3.10/dist-packages (from requests->bert-score>=0.3.5->textattack) (2.2.3)\n",
      "Requirement already satisfied: certifi>=2017.4.17 in /usr/local/lib/python3.10/dist-packages (from requests->bert-score>=0.3.5->textattack) (2024.8.30)\n",
      "Requirement already satisfied: threadpoolctl>=3.1.0 in /usr/local/lib/python3.10/dist-packages (from scikit-learn>=1.0.2->flair->textattack) (3.5.0)\n",
      "Requirement already satisfied: protobuf in /usr/local/lib/python3.10/dist-packages (from transformers[sentencepiece]<5.0.0,>=4.18.0->flair->textattack) (4.25.5)\n",
      "Requirement already satisfied: sentencepiece!=0.1.92,>=0.1.91 in /usr/local/lib/python3.10/dist-packages (from transformers[sentencepiece]<5.0.0,>=4.18.0->flair->textattack) (0.2.0)\n",
      "Requirement already satisfied: MarkupSafe>=2.0 in /usr/local/lib/python3.10/dist-packages (from jinja2->torch!=1.8,>=1.7.0->textattack) (3.0.2)\n",
      "Requirement already satisfied: accelerate>=0.26.0 in /usr/local/lib/python3.10/dist-packages (from transformers[sentencepiece,torch]<5.0,>=4.1->transformer-smaller-training-vocab>=0.2.3->flair->textattack) (1.1.1)\n",
      "Requirement already satisfied: soupsieve>1.2 in /usr/local/lib/python3.10/dist-packages (from beautifulsoup4->gdown>=4.4.0->flair->textattack) (2.6)\n",
      "Collecting sortedcontainers<3.0,>=2.0 (from intervaltree->bioc<3.0.0,>=2.0.0->flair->textattack)\n",
      "  Downloading sortedcontainers-2.4.0-py2.py3-none-any.whl.metadata (10 kB)\n",
      "Requirement already satisfied: PySocks!=1.5.7,>=1.5.6 in /usr/local/lib/python3.10/dist-packages (from requests[socks]->gdown>=4.4.0->flair->textattack) (1.7.1)\n",
      "Requirement already satisfied: psutil in /usr/local/lib/python3.10/dist-packages (from accelerate>=0.26.0->transformers[sentencepiece,torch]<5.0,>=4.1->transformer-smaller-training-vocab>=0.2.3->flair->textattack) (5.9.5)\n",
      "Downloading textattack-0.3.10-py3-none-any.whl (445 kB)\n",
      "\u001b[2K   \u001b[90m━━━━━━━━━━━━━━━━━━━━━━━━━━━━━━━━━━━━━━━━\u001b[0m \u001b[32m445.7/445.7 kB\u001b[0m \u001b[31m27.0 MB/s\u001b[0m eta \u001b[36m0:00:00\u001b[0m\n",
      "\u001b[?25hDownloading bert_score-0.3.13-py3-none-any.whl (61 kB)\n",
      "\u001b[2K   \u001b[90m━━━━━━━━━━━━━━━━━━━━━━━━━━━━━━━━━━━━━━━━\u001b[0m \u001b[32m61.1/61.1 kB\u001b[0m \u001b[31m4.0 MB/s\u001b[0m eta \u001b[36m0:00:00\u001b[0m\n",
      "\u001b[?25hDownloading datasets-3.1.0-py3-none-any.whl (480 kB)\n",
      "\u001b[2K   \u001b[90m━━━━━━━━━━━━━━━━━━━━━━━━━━━━━━━━━━━━━━━━\u001b[0m \u001b[32m480.6/480.6 kB\u001b[0m \u001b[31m22.7 MB/s\u001b[0m eta \u001b[36m0:00:00\u001b[0m\n",
      "\u001b[?25hDownloading flair-0.14.0-py3-none-any.whl (776 kB)\n",
      "\u001b[2K   \u001b[90m━━━━━━━━━━━━━━━━━━━━━━━━━━━━━━━━━━━━━━━━\u001b[0m \u001b[32m776.5/776.5 kB\u001b[0m \u001b[31m37.3 MB/s\u001b[0m eta \u001b[36m0:00:00\u001b[0m\n",
      "\u001b[?25hDownloading language_tool_python-2.8.1-py3-none-any.whl (35 kB)\n",
      "Downloading lemminflect-0.2.3-py3-none-any.whl (769 kB)\n",
      "\u001b[2K   \u001b[90m━━━━━━━━━━━━━━━━━━━━━━━━━━━━━━━━━━━━━━━━\u001b[0m \u001b[32m769.7/769.7 kB\u001b[0m \u001b[31m33.8 MB/s\u001b[0m eta \u001b[36m0:00:00\u001b[0m\n",
      "\u001b[?25hDownloading lru_dict-1.3.0-cp310-cp310-manylinux_2_5_x86_64.manylinux1_x86_64.manylinux_2_17_x86_64.manylinux2014_x86_64.whl (30 kB)\n",
      "Downloading num2words-0.5.13-py3-none-any.whl (143 kB)\n",
      "\u001b[2K   \u001b[90m━━━━━━━━━━━━━━━━━━━━━━━━━━━━━━━━━━━━━━━━\u001b[0m \u001b[32m143.3/143.3 kB\u001b[0m \u001b[31m9.0 MB/s\u001b[0m eta \u001b[36m0:00:00\u001b[0m\n",
      "\u001b[?25hDownloading OpenHowNet-2.0-py3-none-any.whl (18 kB)\n",
      "Downloading terminaltables-3.1.10-py2.py3-none-any.whl (15 kB)\n",
      "Downloading bioc-2.1-py3-none-any.whl (33 kB)\n",
      "Downloading boto3-1.35.71-py3-none-any.whl (139 kB)\n",
      "\u001b[2K   \u001b[90m━━━━━━━━━━━━━━━━━━━━━━━━━━━━━━━━━━━━━━━━\u001b[0m \u001b[32m139.2/139.2 kB\u001b[0m \u001b[31m10.5 MB/s\u001b[0m eta \u001b[36m0:00:00\u001b[0m\n",
      "\u001b[?25hDownloading conllu-4.5.3-py2.py3-none-any.whl (16 kB)\n",
      "Downloading dill-0.3.8-py3-none-any.whl (116 kB)\n",
      "\u001b[2K   \u001b[90m━━━━━━━━━━━━━━━━━━━━━━━━━━━━━━━━━━━━━━━━\u001b[0m \u001b[32m116.3/116.3 kB\u001b[0m \u001b[31m9.3 MB/s\u001b[0m eta \u001b[36m0:00:00\u001b[0m\n",
      "\u001b[?25hDownloading fsspec-2024.9.0-py3-none-any.whl (179 kB)\n",
      "\u001b[2K   \u001b[90m━━━━━━━━━━━━━━━━━━━━━━━━━━━━━━━━━━━━━━━━\u001b[0m \u001b[32m179.3/179.3 kB\u001b[0m \u001b[31m13.7 MB/s\u001b[0m eta \u001b[36m0:00:00\u001b[0m\n",
      "\u001b[?25hDownloading ftfy-6.3.1-py3-none-any.whl (44 kB)\n",
      "\u001b[2K   \u001b[90m━━━━━━━━━━━━━━━━━━━━━━━━━━━━━━━━━━━━━━━━\u001b[0m \u001b[32m44.8/44.8 kB\u001b[0m \u001b[31m2.6 MB/s\u001b[0m eta \u001b[36m0:00:00\u001b[0m\n",
      "\u001b[?25hDownloading mpld3-0.5.10-py3-none-any.whl (202 kB)\n",
      "\u001b[2K   \u001b[90m━━━━━━━━━━━━━━━━━━━━━━━━━━━━━━━━━━━━━━━━\u001b[0m \u001b[32m202.6/202.6 kB\u001b[0m \u001b[31m12.3 MB/s\u001b[0m eta \u001b[36m0:00:00\u001b[0m\n",
      "\u001b[?25hDownloading multiprocess-0.70.16-py310-none-any.whl (134 kB)\n",
      "\u001b[2K   \u001b[90m━━━━━━━━━━━━━━━━━━━━━━━━━━━━━━━━━━━━━━━━\u001b[0m \u001b[32m134.8/134.8 kB\u001b[0m \u001b[31m10.0 MB/s\u001b[0m eta \u001b[36m0:00:00\u001b[0m\n",
      "\u001b[?25hDownloading pytorch_revgrad-0.2.0-py3-none-any.whl (4.6 kB)\n",
      "Downloading segtok-1.5.11-py3-none-any.whl (24 kB)\n",
      "Downloading semver-3.0.2-py3-none-any.whl (17 kB)\n",
      "Downloading transformer_smaller_training_vocab-0.4.0-py3-none-any.whl (14 kB)\n",
      "Downloading anytree-2.12.1-py3-none-any.whl (44 kB)\n",
      "\u001b[2K   \u001b[90m━━━━━━━━━━━━━━━━━━━━━━━━━━━━━━━━━━━━━━━━\u001b[0m \u001b[32m44.9/44.9 kB\u001b[0m \u001b[31m3.2 MB/s\u001b[0m eta \u001b[36m0:00:00\u001b[0m\n",
      "\u001b[?25hDownloading xxhash-3.5.0-cp310-cp310-manylinux_2_17_x86_64.manylinux2014_x86_64.whl (194 kB)\n",
      "\u001b[2K   \u001b[90m━━━━━━━━━━━━━━━━━━━━━━━━━━━━━━━━━━━━━━━━\u001b[0m \u001b[32m194.1/194.1 kB\u001b[0m \u001b[31m14.3 MB/s\u001b[0m eta \u001b[36m0:00:00\u001b[0m\n",
      "\u001b[?25hDownloading botocore-1.35.71-py3-none-any.whl (13.0 MB)\n",
      "\u001b[2K   \u001b[90m━━━━━━━━━━━━━━━━━━━━━━━━━━━━━━━━━━━━━━━━\u001b[0m \u001b[32m13.0/13.0 MB\u001b[0m \u001b[31m58.8 MB/s\u001b[0m eta \u001b[36m0:00:00\u001b[0m\n",
      "\u001b[?25hDownloading jmespath-1.0.1-py3-none-any.whl (20 kB)\n",
      "Downloading jsonlines-4.0.0-py3-none-any.whl (8.7 kB)\n",
      "Downloading s3transfer-0.10.4-py3-none-any.whl (83 kB)\n",
      "\u001b[2K   \u001b[90m━━━━━━━━━━━━━━━━━━━━━━━━━━━━━━━━━━━━━━━━\u001b[0m \u001b[32m83.2/83.2 kB\u001b[0m \u001b[31m6.4 MB/s\u001b[0m eta \u001b[36m0:00:00\u001b[0m\n",
      "\u001b[?25hDownloading sortedcontainers-2.4.0-py2.py3-none-any.whl (29 kB)\n",
      "Building wheels for collected packages: pinyin, word2number, docopt, langdetect, pptree, sqlitedict, wikipedia-api, intervaltree\n",
      "  Building wheel for pinyin (setup.py) ... \u001b[?25l\u001b[?25hdone\n",
      "  Created wheel for pinyin: filename=pinyin-0.4.0-py3-none-any.whl size=3630477 sha256=0ea2ea8bc2d6dee49426d9d02a4607783488b8127537f22a943bd04d80708fcf\n",
      "  Stored in directory: /root/.cache/pip/wheels/33/38/af/616fc6f154aa5bae65a1da12b22d79943434269f0468ff9b3f\n",
      "  Building wheel for word2number (setup.py) ... \u001b[?25l\u001b[?25hdone\n",
      "  Created wheel for word2number: filename=word2number-1.1-py3-none-any.whl size=5568 sha256=df846b69e8e96d1c6594e6059d9ba418fa1c26207ffedac422eff01e37bf6fae\n",
      "  Stored in directory: /root/.cache/pip/wheels/84/ff/26/d3cfbd971e96c5aa3737ecfced81628830d7359b55fbb8ca3b\n",
      "  Building wheel for docopt (setup.py) ... \u001b[?25l\u001b[?25hdone\n",
      "  Created wheel for docopt: filename=docopt-0.6.2-py2.py3-none-any.whl size=13706 sha256=c89758c5b4150f3ee78871c6b30d8bc7206e3a5e5434561571d720134aec06ae\n",
      "  Stored in directory: /root/.cache/pip/wheels/fc/ab/d4/5da2067ac95b36618c629a5f93f809425700506f72c9732fac\n",
      "  Building wheel for langdetect (setup.py) ... \u001b[?25l\u001b[?25hdone\n",
      "  Created wheel for langdetect: filename=langdetect-1.0.9-py3-none-any.whl size=993222 sha256=8723b7a21da0ae666300708830f90ac1dfcdac7570a65c74ac1172fae75fd1f2\n",
      "  Stored in directory: /root/.cache/pip/wheels/95/03/7d/59ea870c70ce4e5a370638b5462a7711ab78fba2f655d05106\n",
      "  Building wheel for pptree (setup.py) ... \u001b[?25l\u001b[?25hdone\n",
      "  Created wheel for pptree: filename=pptree-3.1-py3-none-any.whl size=4608 sha256=22df8c47ee82af25628efa791380f5ceb536521678dd8b8c9bfbd1a72d7ba8e4\n",
      "  Stored in directory: /root/.cache/pip/wheels/9f/b6/0e/6f26eb9e6eb53ff2107a7888d72b5a6a597593956113037828\n",
      "  Building wheel for sqlitedict (setup.py) ... \u001b[?25l\u001b[?25hdone\n",
      "  Created wheel for sqlitedict: filename=sqlitedict-2.1.0-py3-none-any.whl size=16864 sha256=709ea915f094ebd6fe8e73cc6207bd33a463b586e254e54374952e264ab16664\n",
      "  Stored in directory: /root/.cache/pip/wheels/79/d6/e7/304e0e6cb2221022c26d8161f7c23cd4f259a9e41e8bbcfabd\n",
      "  Building wheel for wikipedia-api (setup.py) ... \u001b[?25l\u001b[?25hdone\n",
      "  Created wheel for wikipedia-api: filename=Wikipedia_API-0.7.1-py3-none-any.whl size=14346 sha256=a7aab786186c8f0231d1b11cb597019c06969c6cf133e41260ef046e7d29cf73\n",
      "  Stored in directory: /root/.cache/pip/wheels/4c/96/18/b9201cc3e8b47b02b510460210cfd832ccf10c0c4dd0522962\n",
      "  Building wheel for intervaltree (setup.py) ... \u001b[?25l\u001b[?25hdone\n",
      "  Created wheel for intervaltree: filename=intervaltree-3.1.0-py2.py3-none-any.whl size=26097 sha256=36d7cce927d0e9dd6a9c3204172f7b28575828a52cbc0c9d1db5f5e0c7c1a691\n",
      "  Stored in directory: /root/.cache/pip/wheels/fa/80/8c/43488a924a046b733b64de3fac99252674c892a4c3801c0a61\n",
      "Successfully built pinyin word2number docopt langdetect pptree sqlitedict wikipedia-api intervaltree\n",
      "Installing collected packages: word2number, sqlitedict, sortedcontainers, pptree, pinyin, docopt, xxhash, terminaltables, semver, segtok, num2words, lru-dict, lemminflect, langdetect, jsonlines, jmespath, intervaltree, ftfy, fsspec, dill, conllu, anytree, wikipedia-api, OpenHowNet, multiprocess, language-tool-python, botocore, bioc, s3transfer, pytorch-revgrad, mpld3, boto3, datasets, bert-score, transformer-smaller-training-vocab, flair, textattack\n",
      "  Attempting uninstall: fsspec\n",
      "    Found existing installation: fsspec 2024.10.0\n",
      "    Uninstalling fsspec-2024.10.0:\n",
      "      Successfully uninstalled fsspec-2024.10.0\n",
      "\u001b[31mERROR: pip's dependency resolver does not currently take into account all the packages that are installed. This behaviour is the source of the following dependency conflicts.\n",
      "gcsfs 2024.10.0 requires fsspec==2024.10.0, but you have fsspec 2024.9.0 which is incompatible.\u001b[0m\u001b[31m\n",
      "\u001b[0mSuccessfully installed OpenHowNet-2.0 anytree-2.12.1 bert-score-0.3.13 bioc-2.1 boto3-1.35.71 botocore-1.35.71 conllu-4.5.3 datasets-3.1.0 dill-0.3.8 docopt-0.6.2 flair-0.14.0 fsspec-2024.9.0 ftfy-6.3.1 intervaltree-3.1.0 jmespath-1.0.1 jsonlines-4.0.0 langdetect-1.0.9 language-tool-python-2.8.1 lemminflect-0.2.3 lru-dict-1.3.0 mpld3-0.5.10 multiprocess-0.70.16 num2words-0.5.13 pinyin-0.4.0 pptree-3.1 pytorch-revgrad-0.2.0 s3transfer-0.10.4 segtok-1.5.11 semver-3.0.2 sortedcontainers-2.4.0 sqlitedict-2.1.0 terminaltables-3.1.10 textattack-0.3.10 transformer-smaller-training-vocab-0.4.0 wikipedia-api-0.7.1 word2number-1.1 xxhash-3.5.0\n"
     ]
    }
   ],
   "source": [
    "!pip install textattack"
   ]
  },
  {
   "cell_type": "code",
   "execution_count": 1,
   "metadata": {
    "colab": {
     "base_uri": "https://localhost:8080/"
    },
    "id": "ub4LIxYxlR28",
    "outputId": "8be5207a-ffac-4de4-d77e-fe4b946e7965"
   },
   "outputs": [
    {
     "name": "stderr",
     "output_type": "stream",
     "text": [
      "[nltk_data] Downloading package averaged_perceptron_tagger_eng to\n",
      "[nltk_data]     /home/users/agross/nltk_data...\n",
      "[nltk_data]   Package averaged_perceptron_tagger_eng is already up-to-\n",
      "[nltk_data]       date!\n"
     ]
    },
    {
     "data": {
      "text/plain": [
       "True"
      ]
     },
     "execution_count": 1,
     "metadata": {},
     "output_type": "execute_result"
    }
   ],
   "source": [
    "import nltk\n",
    "nltk.download('averaged_perceptron_tagger_eng')"
   ]
  },
  {
   "cell_type": "code",
   "execution_count": 6,
   "metadata": {
    "colab": {
     "background_save": true,
     "base_uri": "https://localhost:8080/",
     "height": 1000,
     "referenced_widgets": [
      "caaf7e0db1b64768832847dd8809e33f",
      "63a301292ff84da6a2e2582dd08e07c3",
      "a17bdba3691d45b28330f1b7c1b5d6c2",
      "9f95553b44964fe69f2eb8d3af85fe36",
      "554cc8f8abd94af8a0814ae1bd3f57d3",
      "1fa7b2fbed844e94990df8de6cc02d27",
      "9664a94a4b6e45a2b846c70066b600aa",
      "5f82819e7adf4900b5054f4a10ee8d1f",
      "05a8ad74158b42c5965b3f07574c25ff",
      "c5e22257a1814c53baabaabb72972395",
      "8e2eb05461ed4215b69ee6960d5c7f6e",
      "828d5839456044c282d2c7a5e41c5b53",
      "317df84546b0498da872b59e32f509b5",
      "63f6e7a5bc8c4c63a01df93be61de19e",
      "e05d6d6f3b544937b43dd79dbe5b82fe",
      "ebebb04ee5ef40e1a826ef7e4d494eb2",
      "e8b308f25d9f49fda8bf56dd6268ab49",
      "b4164cf8624f410493c3e4e968d6a532",
      "c334f584d4e04552a0b9d91a83c98599",
      "6f5d7724c1284fd48b1209cc7ee4200e",
      "0daa9518e99d46c5b42c0179c2e7f549",
      "3ac27eef6beb45b596e298282ac20481",
      "a264af2abc9944f5951ca1a41fe7621f",
      "8eff85eb87f440fa8fb93f5c345352f4",
      "e351d67deac84ea1a3a6015f1169db24",
      "13031c518a9c44889af13ab4fbcaa523",
      "c989c935db4d447b930d66a903c23c56",
      "ded829b024ba447fbdc8f09ab905d80d",
      "a6af8d348a15407b9d3957b58fd3df78",
      "062b9d8f714647c6a9cd6f139c965ca7",
      "0a6ae7bf373544278c8040ca2e057d4a",
      "4ad8a8ae5f394d5694fe072f05c8b205",
      "3283d162580c4523be8b2dec32d42752",
      "6e133fb84bfc423fb77bbf868d54c54d",
      "781fa06e9fe948d3b662c84f83ce6cd1",
      "5393986261f14c98a48eb742c6e462eb",
      "b67f9fd4d13442718ff78356a904534b",
      "add0ba72147541098eb9d4f3f865af9f",
      "b83faeaa29a740f79a8ff8d78f0a6e02",
      "955328e996c545cab2f594426ce8d37b",
      "3f232e7be5e64a8ba8b9c605981f4fd8",
      "5541fb4cecde4b7898e3db400e11a797",
      "005a9dc0b30f464b9ff7885e5ca302e4",
      "59cc6631d46e49339e9076540c1caaed",
      "a1431cb46f7b44298f859f2233f11d8b",
      "3cd51a772e23470cbf32591a3cdd4f7f",
      "7a774d4af1b44be08a96be0497244090",
      "81b243844ed843588d528f7f7a792061",
      "2992ea6ccc334992ab92da5e09120f03",
      "7f357c1369c1483e9e109b1d0b99f7fb",
      "4ff750a204e148ffb443ab3188755cf6",
      "f35bb36beeea455599f08928b9ad99af",
      "c3a8ef7c09a24440bd30afee9bc05eba",
      "014953bf81eb47c6a744ed723b80b7de",
      "d222949db8ba479a99d54a60b3b0bd47",
      "101f2294c07e4120a1d18c52979c87f5",
      "7d992bd0758a4384a2abc78ff0ba3603",
      "71c72eb8f53b47e4871cebef9ee7d762",
      "6a8e43853bd04d8b89c71d76ff490f52",
      "6cbf24ecbb2743daa5662ddc2aa29fed",
      "0b8314f2e8c34bb18a69363e97854280",
      "f3656deea55c45aa975e8f8fde063222",
      "2c312bc61a974cc698c7be4024c4e329",
      "668ab7746e4e4718a699051f1c9f6933",
      "49b55f13ed654a899201dad37cd6c79c",
      "3429ebc4456c40c081ca199aadf70c3e",
      "1c4eded5194542d4b77d5c8711ce8bee",
      "cdb4751c22784ebeb9adff201f190beb",
      "1edd577dafb24dd4adbc3240d243a647",
      "cf683ac40c144ae982875612f3c92e2e",
      "b158e4778d3b4714beaa0d768226fdb1",
      "817d522eabcd4a53abe3b6dfdd90be95",
      "bb239ffaf3b74b2ca9075f5af3742e13",
      "2ed9e8eac13c46f7b40687287592917b",
      "2d15e7097cb6414c8c016c066c0f8fcc",
      "eed57d8cd9b14c5681e9997dff39074c",
      "cfa485b612654ea6b9b8133e842a5897",
      "0a86c4cd69d94b99b08d1d6a06860dff",
      "30f4288027e948f18088f3ba06f60e8a",
      "984473c762dd43a3b931baea0c54b3cc",
      "0283bc89194641d48f8559c9308e3332",
      "2faff79341af4fec86f166b4fada9764",
      "a9e6bbaabb374615b96ed5ad21cb27a2",
      "8f04bb8cb4c544a88764c9eff83f0cbf",
      "4593bb6e5baa4f5a9a2fff7f8b971543",
      "81764d59ece84d33a2c024b4dd53b746",
      "8b9c740726774c4c988a972f474f05e1",
      "f60302e7a05c49f1b7e3882ce6d13ed4",
      "32761836f27847f18f316f7fcdd2a260",
      "64808644f9e04d9696f5e0a0b2a64362",
      "64e4f4a201a84c67bb8d1d21aba0c7fb",
      "7f520b5a354f410ab81329a8f6040cf1",
      "a9c79d3073874f2c8d7b577631817ff7",
      "7d813c80b99b43c9afb01e14ed272258",
      "781d825cde694eaf98a0db37fd77018a",
      "3689fbae503d4fa1808d3c840f659e16",
      "ed600ff947154898a749a38f4625faf3",
      "b243c6f616484db19dee1972e0307c63",
      "ff0f8d03993f415ea6ae40d6d90f5280",
      "21feaf5753bd45cea2860bcfed1e1024",
      "c6e85081dea84e1dbe4cd82972a0415f",
      "15c1e99e85a24bab80c244c79c9bc7e0",
      "e51f6d2b967c49f2b09e21191f4de5d6",
      "10fe87bde4094108b3f1374ae138b00d",
      "5060b4211a3f4a4cba7425bc85eec0c7",
      "1a4011d4518e4cdaa5a2fa1b769128df",
      "9fc1d322527940ed9782aace64093e3f",
      "916b035891f743688f3f0e7b4264fe05",
      "bf29c75549b84d358c83beb3fb5d92c6",
      "92ba3201c4224a82ad7aa381a9e75908",
      "9525d19e8ad946bd8d7c5ed81a26ca91",
      "b44ab123440e400890633f77d5087a9f",
      "6977596eb8444a6dbb22ea4d2682cb41",
      "31dd78dd62094c7f9cdaef7947213015",
      "02150657eb5a4145898b5557914bc844",
      "bf1ec9315edf439a8944b00ed2f77090",
      "db78f9802ab449d0b0326645a17b1298",
      "de8a58f2150c4cf4b6fe1e64c9f232a6",
      "04acaa0525134a9ea88e483e82e0d680",
      "52e1092979c744a6bdec30fad5c0e715",
      "3eae80fcd8b24c5a9eea715e84292652",
      "9cc9de8d0da94f89a93a6b19c587e412",
      "d681e33ba2ba4fd0866cf68eb2e168b8",
      "dfd8bd2f7df74454a2cd140638658023",
      "3139a8f55afa4712a0b308338118ba5e",
      "1ff50e393dc24d8b807d5cb0af1569e0",
      "ee396620d2894debad4f343694997980",
      "409d4505adbe47ceaab58c9d7f16ed57",
      "ac970541f7ce488b8239a430485b8393",
      "26e7863f76a4404284475e20efedd5f7",
      "e58c7ed2862f4e2293f19d94f0cca7ab",
      "776a643b33e34dec90d0d45292e6f2e6"
     ]
    },
    "id": "-TQQSw6zkpKU",
    "outputId": "e0d44c25-abe1-49a6-8f32-ce5d24b9b3ea"
   },
   "outputs": [
    {
     "name": "stderr",
     "output_type": "stream",
     "text": [
      "textattack: Unknown if model of class <class 'transformers.models.distilbert.modeling_distilbert.DistilBertForSequenceClassification'> compatible with goal function <class 'textattack.goal_functions.classification.untargeted_classification.UntargetedClassification'>.\n"
     ]
    },
    {
     "name": "stdout",
     "output_type": "stream",
     "text": [
      "Attack(\n",
      "  (search_method): GreedyWordSwapWIR(\n",
      "    (wir_method):  delete\n",
      "  )\n",
      "  (goal_function):  UntargetedClassification\n",
      "  (transformation):  WordSwapEmbedding(\n",
      "    (max_candidates):  50\n",
      "    (embedding):  WordEmbedding\n",
      "  )\n",
      "  (constraints): \n",
      "    (0): WordEmbeddingDistance(\n",
      "        (embedding):  WordEmbedding\n",
      "        (min_cos_sim):  0.5\n",
      "        (cased):  False\n",
      "        (include_unknown_words):  True\n",
      "        (compare_against_original):  True\n",
      "      )\n",
      "    (1): PartOfSpeech(\n",
      "        (tagger_type):  nltk\n",
      "        (tagset):  universal\n",
      "        (allow_verb_noun_swap):  True\n",
      "        (compare_against_original):  True\n",
      "      )\n",
      "    (2): UniversalSentenceEncoder(\n",
      "        (metric):  angular\n",
      "        (threshold):  0.840845057\n",
      "        (window_size):  15\n",
      "        (skip_text_shorter_than_window):  True\n",
      "        (compare_against_original):  False\n",
      "      )\n",
      "    (3): RepeatModification\n",
      "    (4): StopwordModification\n",
      "    (5): InputColumnModification(\n",
      "        (matching_column_labels):  ['premise', 'hypothesis']\n",
      "        (columns_to_ignore):  {'premise'}\n",
      "      )\n",
      "  (is_black_box):  True\n",
      ") \n",
      "\n"
     ]
    },
    {
     "name": "stderr",
     "output_type": "stream",
     "text": [
      "\n",
      "  0%|          | 0/10 [00:00<?, ?it/s]\u001b[A\n",
      " 10%|█         | 1/10 [00:04<00:36,  4.02s/it]\u001b[A\n",
      "[Succeeded / Failed / Skipped / Total] 1 / 0 / 0 / 1:  10%|█         | 1/10 [00:04<00:36,  4.03s/it]\u001b[A"
     ]
    },
    {
     "name": "stdout",
     "output_type": "stream",
     "text": [
      "--------------------------------------------- Result 1 ---------------------------------------------\n",
      "[[0 (78%)]] --> [[1 (54%)]]\n",
      "\n",
      "ecks this one off your must-see [[list]] .\n",
      "\n",
      "ecks this one off your must-see [[inclusion]] .\n",
      "\n",
      "\n"
     ]
    },
    {
     "name": "stderr",
     "output_type": "stream",
     "text": [
      "\n",
      "[Succeeded / Failed / Skipped / Total] 1 / 0 / 0 / 1:  20%|██        | 2/10 [00:04<00:17,  2.17s/it]\u001b[A\n",
      "[Succeeded / Failed / Skipped / Total] 2 / 0 / 0 / 2:  20%|██        | 2/10 [00:04<00:17,  2.18s/it]\u001b[A"
     ]
    },
    {
     "name": "stdout",
     "output_type": "stream",
     "text": [
      "--------------------------------------------- Result 2 ---------------------------------------------\n",
      "[[0 (87%)]] --> [[1 (87%)]]\n",
      "\n",
      "the very definition of what critics have come to term an \" ambitious [[failure]] . \"\n",
      "\n",
      "the very definition of what critics have come to term an \" ambitious [[infirmity]] . \"\n",
      "\n",
      "\n"
     ]
    },
    {
     "name": "stderr",
     "output_type": "stream",
     "text": [
      "\n",
      "[Succeeded / Failed / Skipped / Total] 2 / 0 / 0 / 2:  30%|███       | 3/10 [00:04<00:11,  1.61s/it]\u001b[A\n",
      "[Succeeded / Failed / Skipped / Total] 3 / 0 / 0 / 3:  30%|███       | 3/10 [00:04<00:11,  1.62s/it]\u001b[A"
     ]
    },
    {
     "name": "stdout",
     "output_type": "stream",
     "text": [
      "--------------------------------------------- Result 3 ---------------------------------------------\n",
      "[[1 (94%)]] --> [[0 (76%)]]\n",
      "\n",
      "that old adage about women being unknowable [[gets]] an [[exhilarating]] new interpretation in morvern callar .\n",
      "\n",
      "that old adage about women being unknowable [[getting]] an [[scintillating]] new interpretation in morvern callar .\n",
      "\n",
      "\n"
     ]
    },
    {
     "name": "stderr",
     "output_type": "stream",
     "text": [
      "\n",
      "[Succeeded / Failed / Skipped / Total] 3 / 0 / 0 / 3:  40%|████      | 4/10 [00:05<00:08,  1.37s/it]\u001b[A\n",
      "[Succeeded / Failed / Skipped / Total] 4 / 0 / 0 / 4:  40%|████      | 4/10 [00:05<00:08,  1.37s/it]\u001b[A"
     ]
    },
    {
     "name": "stdout",
     "output_type": "stream",
     "text": [
      "--------------------------------------------- Result 4 ---------------------------------------------\n",
      "[[0 (92%)]] --> [[1 (53%)]]\n",
      "\n",
      "the [[movie]] quickly [[drags]] on becoming [[boring]] and predictable . i tried to read the [[time]] on my [[watch]] .\n",
      "\n",
      "the [[cinematographers]] quickly [[squeezes]] on becoming [[infuriating]] and predictable . i tried to read the [[occasion]] on my [[surveilling]] .\n",
      "\n",
      "\n"
     ]
    },
    {
     "name": "stderr",
     "output_type": "stream",
     "text": [
      "\n",
      "[Succeeded / Failed / Skipped / Total] 4 / 0 / 0 / 4:  50%|█████     | 5/10 [00:05<00:05,  1.14s/it]\u001b[A\n",
      "[Succeeded / Failed / Skipped / Total] 5 / 0 / 0 / 5:  50%|█████     | 5/10 [00:05<00:05,  1.14s/it]\u001b[A"
     ]
    },
    {
     "name": "stdout",
     "output_type": "stream",
     "text": [
      "--------------------------------------------- Result 5 ---------------------------------------------\n",
      "[[0 (74%)]] --> [[1 (68%)]]\n",
      "\n",
      "what's needed so badly but what is virtually absent here is either a saving [[dark]] humor or the feel of poetic tragedy .\n",
      "\n",
      "what's needed so badly but what is virtually absent here is either a saving [[dusky]] humor or the feel of poetic tragedy .\n",
      "\n",
      "\n"
     ]
    },
    {
     "name": "stderr",
     "output_type": "stream",
     "text": [
      "\n",
      "[Succeeded / Failed / Skipped / Total] 5 / 0 / 0 / 5:  60%|██████    | 6/10 [00:06<00:04,  1.00s/it]\u001b[A\n",
      "[Succeeded / Failed / Skipped / Total] 6 / 0 / 0 / 6:  60%|██████    | 6/10 [00:06<00:04,  1.00s/it]\u001b[A"
     ]
    },
    {
     "name": "stdout",
     "output_type": "stream",
     "text": [
      "--------------------------------------------- Result 6 ---------------------------------------------\n",
      "[[0 (86%)]] --> [[1 (64%)]]\n",
      "\n",
      "[[showtime]] is one of the [[hapless]] victims of the arrogant \" if we put together a wry white man and a chatty black man and give them guns , the movie will be funny \" [[syndrome]] .\n",
      "\n",
      "[[cinemax]] is one of the [[distressing]] victims of the arrogant \" if we put together a wry white man and a chatty black man and give them guns , the movie will be funny \" [[procured]] .\n",
      "\n",
      "\n"
     ]
    },
    {
     "name": "stderr",
     "output_type": "stream",
     "text": [
      "\n",
      "[Succeeded / Failed / Skipped / Total] 6 / 0 / 0 / 6:  70%|███████   | 7/10 [00:06<00:02,  1.12it/s]\u001b[A\n",
      "[Succeeded / Failed / Skipped / Total] 7 / 0 / 0 / 7:  70%|███████   | 7/10 [00:06<00:02,  1.12it/s]\u001b[A"
     ]
    },
    {
     "name": "stdout",
     "output_type": "stream",
     "text": [
      "--------------------------------------------- Result 7 ---------------------------------------------\n",
      "[[0 (87%)]] --> [[1 (51%)]]\n",
      "\n",
      "by getting myself wrapped up in the visuals and eccentricities of many of the characters , i found myself [[confused]] when it came time to get to the heart of the movie .\n",
      "\n",
      "by getting myself wrapped up in the visuals and eccentricities of many of the characters , i found myself [[mystified]] when it came time to get to the heart of the movie .\n",
      "\n",
      "\n"
     ]
    },
    {
     "name": "stderr",
     "output_type": "stream",
     "text": [
      "\n",
      "[Succeeded / Failed / Skipped / Total] 7 / 0 / 0 / 7:  80%|████████  | 8/10 [00:06<00:01,  1.19it/s]\u001b[A\n",
      "[Succeeded / Failed / Skipped / Total] 8 / 0 / 0 / 8:  80%|████████  | 8/10 [00:06<00:01,  1.18it/s]\u001b[A\n",
      "[Succeeded / Failed / Skipped / Total] 8 / 0 / 1 / 9:  90%|█████████ | 9/10 [00:06<00:00,  1.33it/s]\u001b[A\n",
      "[Succeeded / Failed / Skipped / Total] 8 / 0 / 2 / 10: 100%|██████████| 10/10 [00:06<00:00,  1.48it/s]\u001b[A"
     ]
    },
    {
     "name": "stdout",
     "output_type": "stream",
     "text": [
      "--------------------------------------------- Result 8 ---------------------------------------------\n",
      "[[1 (95%)]] --> [[0 (51%)]]\n",
      "\n",
      "while insomnia is in many ways a conventional , even predictable remake , nolan's [[penetrating]] undercurrent of cerebral and cinemantic flair lends ( it ) [[stimulating]] [[depth]] .\n",
      "\n",
      "while insomnia is in many ways a conventional , even predictable remake , nolan's [[edifying]] undercurrent of cerebral and cinemantic flair lends ( it ) [[spur]] [[dug]] .\n",
      "\n",
      "\n",
      "--------------------------------------------- Result 9 ---------------------------------------------\n",
      "[[0 (80%)]] --> [[[SKIPPED]]]\n",
      "\n",
      "those who want to be jolted out of their gourd should drop everything and run to ichi .\n",
      "\n",
      "\n",
      "--------------------------------------------- Result 10 ---------------------------------------------\n",
      "[[0 (69%)]] --> [[[SKIPPED]]]\n",
      "\n",
      "lends itself to the narcotizing bland ( sinister , though not nearly so sinister as the biennial disney girl movie ) machinations of the biennial disney boy movie .\n",
      "\n",
      "\n",
      "\n",
      "+-------------------------------+--------+\n",
      "| Attack Results                |        |\n",
      "+-------------------------------+--------+\n",
      "| Number of successful attacks: | 8      |\n",
      "| Number of failed attacks:     | 0      |\n",
      "| Number of skipped attacks:    | 2      |\n",
      "| Original accuracy:            | 80.0%  |\n",
      "| Accuracy under attack:        | 0.0%   |\n",
      "| Attack success rate:          | 100.0% |\n",
      "| Average perturbed word %:     | 11.62% |\n",
      "| Average num. words per input: | 20.4   |\n",
      "| Avg num queries:              | 64.88  |\n",
      "+-------------------------------+--------+"
     ]
    },
    {
     "name": "stderr",
     "output_type": "stream",
     "text": [
      "\n"
     ]
    },
    {
     "name": "stdout",
     "output_type": "stream",
     "text": [
      "\n",
      "Attack(\n",
      "  (search_method): GreedyWordSwapWIR(\n",
      "    (wir_method):  delete\n",
      "  )\n",
      "  (goal_function):  UntargetedClassification\n",
      "  (transformation):  WordSwapEmbedding(\n",
      "    (max_candidates):  50\n",
      "    (embedding):  WordEmbedding\n",
      "  )\n",
      "  (constraints): \n",
      "    (0): WordEmbeddingDistance(\n",
      "        (embedding):  WordEmbedding\n",
      "        (min_cos_sim):  0.5\n",
      "        (cased):  False\n",
      "        (include_unknown_words):  True\n",
      "        (compare_against_original):  True\n",
      "      )\n",
      "    (1): PartOfSpeech(\n",
      "        (tagger_type):  nltk\n",
      "        (tagset):  universal\n",
      "        (allow_verb_noun_swap):  True\n",
      "        (compare_against_original):  True\n",
      "      )\n",
      "    (2): UniversalSentenceEncoder(\n",
      "        (metric):  angular\n",
      "        (threshold):  0.840845057\n",
      "        (window_size):  15\n",
      "        (skip_text_shorter_than_window):  True\n",
      "        (compare_against_original):  False\n",
      "      )\n",
      "    (3): RepeatModification\n",
      "    (4): StopwordModification\n",
      "    (5): InputColumnModification(\n",
      "        (matching_column_labels):  ['premise', 'hypothesis']\n",
      "        (columns_to_ignore):  {'premise'}\n",
      "      )\n",
      "  (is_black_box):  True\n",
      ") \n",
      "\n"
     ]
    },
    {
     "name": "stderr",
     "output_type": "stream",
     "text": [
      "\n",
      "  0%|          | 0/10 [00:00<?, ?it/s]\u001b[A\n",
      " 10%|█         | 1/10 [00:00<00:04,  2.23it/s]\u001b[A\n",
      "[Succeeded / Failed / Skipped / Total] 1 / 0 / 0 / 1:  10%|█         | 1/10 [00:00<00:04,  2.18it/s]\u001b[A\n",
      "[Succeeded / Failed / Skipped / Total] 1 / 0 / 1 / 2:  20%|██        | 2/10 [00:00<00:01,  4.28it/s]\u001b[A\n",
      "[Succeeded / Failed / Skipped / Total] 1 / 0 / 1 / 2:  30%|███       | 3/10 [00:00<00:01,  4.85it/s]\u001b[A\n",
      "[Succeeded / Failed / Skipped / Total] 2 / 0 / 1 / 3:  30%|███       | 3/10 [00:00<00:01,  4.73it/s]\u001b[A"
     ]
    },
    {
     "name": "stdout",
     "output_type": "stream",
     "text": [
      "--------------------------------------------- Result 1 ---------------------------------------------\n",
      "[[0 (82%)]] --> [[1 (54%)]]\n",
      "\n",
      "the only surprise is that heavyweights joel silver and robert zemeckis agreed to produce this ; i [[assume]] the director has pictures of them cavorting in ladies' [[underwear]] .\n",
      "\n",
      "the only surprise is that heavyweights joel silver and robert zemeckis agreed to produce this ; i [[envisage]] the director has pictures of them cavorting in ladies' [[boxers]] .\n",
      "\n",
      "\n",
      "--------------------------------------------- Result 2 ---------------------------------------------\n",
      "[[1 (78%)]] --> [[[SKIPPED]]]\n",
      "\n",
      "as an entertainment destination for the general public , kung pow sets a new benchmark for lameness .\n",
      "\n",
      "\n",
      "--------------------------------------------- Result 3 ---------------------------------------------\n",
      "[[1 (96%)]] --> [[0 (55%)]]\n",
      "\n",
      "a [[riveting]] documentary .\n",
      "\n",
      "a [[enigmatic]] documentary .\n",
      "\n",
      "\n"
     ]
    },
    {
     "name": "stderr",
     "output_type": "stream",
     "text": [
      "\n",
      "[Succeeded / Failed / Skipped / Total] 3 / 0 / 1 / 4:  40%|████      | 4/10 [00:00<00:01,  4.14it/s]\u001b[A\n",
      "[Succeeded / Failed / Skipped / Total] 3 / 0 / 1 / 4:  50%|█████     | 5/10 [00:01<00:01,  4.82it/s]\u001b[A\n",
      "[Succeeded / Failed / Skipped / Total] 4 / 0 / 1 / 5:  50%|█████     | 5/10 [00:01<00:01,  4.79it/s]\u001b[A"
     ]
    },
    {
     "name": "stdout",
     "output_type": "stream",
     "text": [
      "--------------------------------------------- Result 4 ---------------------------------------------\n",
      "[[1 (92%)]] --> [[0 (85%)]]\n",
      "\n",
      "singer/composer bryan adams contributes a slew of songs  a few potential hits , a few more simply intrusive to the story  but the whole package certainly [[captures]] the intended , er , spirit of the piece .\n",
      "\n",
      "singer/composer bryan adams contributes a slew of songs  a few potential hits , a few more simply intrusive to the story  but the whole package certainly [[nabbed]] the intended , er , spirit of the piece .\n",
      "\n",
      "\n",
      "--------------------------------------------- Result 5 ---------------------------------------------\n",
      "[[0 (91%)]] --> [[1 (79%)]]\n",
      "\n",
      "the title not only describes its main characters , but the [[lazy]] people behind the camera as well .\n",
      "\n",
      "the title not only describes its main characters , but the [[unmotivated]] people behind the camera as well .\n",
      "\n",
      "\n"
     ]
    },
    {
     "name": "stderr",
     "output_type": "stream",
     "text": [
      "\n",
      "[Succeeded / Failed / Skipped / Total] 5 / 0 / 1 / 6:  60%|██████    | 6/10 [00:01<00:00,  4.65it/s]\u001b[A\n",
      "[Succeeded / Failed / Skipped / Total] 5 / 0 / 1 / 6:  70%|███████   | 7/10 [00:01<00:00,  4.74it/s]\u001b[A"
     ]
    },
    {
     "name": "stdout",
     "output_type": "stream",
     "text": [
      "--------------------------------------------- Result 6 ---------------------------------------------\n",
      "[[1 (93%)]] --> [[0 (51%)]]\n",
      "\n",
      "arguably the [[best]] script that besson has written in years .\n",
      "\n",
      "arguably the [[strictest]] script that besson has written in years .\n",
      "\n",
      "\n",
      "--------------------------------------------- Result 7 ---------------------------------------------\n"
     ]
    },
    {
     "name": "stderr",
     "output_type": "stream",
     "text": [
      "\n",
      "[Succeeded / Failed / Skipped / Total] 6 / 0 / 1 / 7:  70%|███████   | 7/10 [00:01<00:00,  4.70it/s]\u001b[A"
     ]
    },
    {
     "name": "stdout",
     "output_type": "stream",
     "text": [
      "[[0 (86%)]] --> [[1 (54%)]]\n",
      "\n",
      "corpus collosum -- while undeniably interesting -- [[wore]] out its welcome well before the end credits rolled about 45 minutes in .\n",
      "\n",
      "corpus collosum -- while undeniably interesting -- [[oriented]] out its welcome well before the end credits rolled about 45 minutes in .\n",
      "\n",
      "\n"
     ]
    },
    {
     "name": "stderr",
     "output_type": "stream",
     "text": [
      "\n",
      "[Succeeded / Failed / Skipped / Total] 7 / 0 / 1 / 8:  80%|████████  | 8/10 [00:01<00:00,  4.59it/s]\u001b[A"
     ]
    },
    {
     "name": "stdout",
     "output_type": "stream",
     "text": [
      "--------------------------------------------- Result 8 ---------------------------------------------\n",
      "[[1 (84%)]] --> [[0 (53%)]]\n",
      "\n",
      "we do get the distinct impression that this franchise is drawing to a [[close]] .\n",
      "\n",
      "we do get the distinct impression that this franchise is drawing to a [[shutdown]] .\n",
      "\n",
      "\n"
     ]
    },
    {
     "name": "stderr",
     "output_type": "stream",
     "text": [
      "\n",
      "[Succeeded / Failed / Skipped / Total] 7 / 0 / 1 / 8:  90%|█████████ | 9/10 [00:01<00:00,  4.63it/s]\u001b[A\n",
      "[Succeeded / Failed / Skipped / Total] 8 / 0 / 1 / 9:  90%|█████████ | 9/10 [00:01<00:00,  4.61it/s]\u001b[A"
     ]
    },
    {
     "name": "stdout",
     "output_type": "stream",
     "text": [
      "--------------------------------------------- Result 9 ---------------------------------------------\n",
      "[[0 (51%)]] --> [[1 (82%)]]\n",
      "\n",
      "exactly what it claims to be -- a simple [[diversion]] for the kids .\n",
      "\n",
      "exactly what it claims to be -- a simple [[difference]] for the kids .\n",
      "\n",
      "\n"
     ]
    },
    {
     "name": "stderr",
     "output_type": "stream",
     "text": [
      "\n",
      "[Succeeded / Failed / Skipped / Total] 9 / 0 / 1 / 10: 100%|██████████| 10/10 [00:02<00:00,  3.68it/s]\u001b[A"
     ]
    },
    {
     "name": "stdout",
     "output_type": "stream",
     "text": [
      "--------------------------------------------- Result 10 ---------------------------------------------\n",
      "[[1 (96%)]] --> [[0 (86%)]]\n",
      "\n",
      "brash , intelligent and erotically perplexing , haneke's [[portrait]] of an upper class austrian society and the suppression of its tucked away demons is [[uniquely]] felt with a [[sardonic]] [[jolt]] .\n",
      "\n",
      "brash , intelligent and erotically perplexing , haneke's [[pictured]] of an upper class austrian society and the suppression of its tucked away demons is [[purely]] felt with a [[disdainful]] [[spasm]] .\n",
      "\n",
      "\n",
      "\n",
      "+-------------------------------+--------+\n",
      "| Attack Results                |        |\n",
      "+-------------------------------+--------+\n",
      "| Number of successful attacks: | 9      |\n",
      "| Number of failed attacks:     | 0      |\n",
      "| Number of skipped attacks:    | 1      |\n",
      "| Original accuracy:            | 90.0%  |\n",
      "| Accuracy under attack:        | 0.0%   |\n",
      "| Attack success rate:          | 100.0% |\n",
      "| Average perturbed word %:     | 10.51% |\n",
      "| Average num. words per input: | 18.0   |\n",
      "| Avg num queries:              | 54.33  |\n",
      "+-------------------------------+--------+"
     ]
    },
    {
     "name": "stderr",
     "output_type": "stream",
     "text": [
      "\n"
     ]
    },
    {
     "name": "stdout",
     "output_type": "stream",
     "text": [
      "\n",
      "Attack(\n",
      "  (search_method): GreedyWordSwapWIR(\n",
      "    (wir_method):  delete\n",
      "  )\n",
      "  (goal_function):  UntargetedClassification\n",
      "  (transformation):  WordSwapEmbedding(\n",
      "    (max_candidates):  50\n",
      "    (embedding):  WordEmbedding\n",
      "  )\n",
      "  (constraints): \n",
      "    (0): WordEmbeddingDistance(\n",
      "        (embedding):  WordEmbedding\n",
      "        (min_cos_sim):  0.5\n",
      "        (cased):  False\n",
      "        (include_unknown_words):  True\n",
      "        (compare_against_original):  True\n",
      "      )\n",
      "    (1): PartOfSpeech(\n",
      "        (tagger_type):  nltk\n",
      "        (tagset):  universal\n",
      "        (allow_verb_noun_swap):  True\n",
      "        (compare_against_original):  True\n",
      "      )\n",
      "    (2): UniversalSentenceEncoder(\n",
      "        (metric):  angular\n",
      "        (threshold):  0.840845057\n",
      "        (window_size):  15\n",
      "        (skip_text_shorter_than_window):  True\n",
      "        (compare_against_original):  False\n",
      "      )\n",
      "    (3): RepeatModification\n",
      "    (4): StopwordModification\n",
      "    (5): InputColumnModification(\n",
      "        (matching_column_labels):  ['premise', 'hypothesis']\n",
      "        (columns_to_ignore):  {'premise'}\n",
      "      )\n",
      "  (is_black_box):  True\n",
      ") \n",
      "\n"
     ]
    },
    {
     "name": "stderr",
     "output_type": "stream",
     "text": [
      "\n",
      "  0%|          | 0/10 [00:00<?, ?it/s]\u001b[A\n",
      " 10%|█         | 1/10 [00:00<00:03,  2.54it/s]\u001b[A\n",
      "[Succeeded / Failed / Skipped / Total] 1 / 0 / 0 / 1:  10%|█         | 1/10 [00:00<00:03,  2.49it/s]\u001b[A"
     ]
    },
    {
     "name": "stdout",
     "output_type": "stream",
     "text": [
      "--------------------------------------------- Result 1 ---------------------------------------------\n",
      "[[0 (86%)]] --> [[1 (56%)]]\n",
      "\n",
      "several [[uninteresting]] , unlikeable people do bad things to and with each other in \" unfaithful . \" why anyone who is not a character in this movie [[should]] [[care]] is beyond me .\n",
      "\n",
      "several [[humdrum]] , unlikeable people do bad things to and with each other in \" unfaithful . \" why anyone who is not a character in this movie [[hoped]] [[loving]] is beyond me .\n",
      "\n",
      "\n"
     ]
    },
    {
     "name": "stderr",
     "output_type": "stream",
     "text": [
      "\n",
      "[Succeeded / Failed / Skipped / Total] 1 / 0 / 0 / 1:  20%|██        | 2/10 [00:01<00:04,  1.67it/s]\u001b[A\n",
      "[Succeeded / Failed / Skipped / Total] 2 / 0 / 0 / 2:  20%|██        | 2/10 [00:01<00:04,  1.66it/s]\u001b[A"
     ]
    },
    {
     "name": "stdout",
     "output_type": "stream",
     "text": [
      "--------------------------------------------- Result 2 ---------------------------------------------\n",
      "[[0 (93%)]] --> [[1 (51%)]]\n",
      "\n",
      "the [[movie]] is a desperate [[miscalculation]] . it gives poor dana carvey nothing to do that is really funny , and then [[expects]] us to laugh because he acts so [[goofy]] all the time .\n",
      "\n",
      "the [[teatro]] is a desperate [[mistakes]] . it gives poor dana carvey nothing to do that is really funny , and then [[hope]] us to laugh because he acts so [[fun]] all the time .\n",
      "\n",
      "\n"
     ]
    },
    {
     "name": "stderr",
     "output_type": "stream",
     "text": [
      "\n",
      "[Succeeded / Failed / Skipped / Total] 2 / 0 / 0 / 2:  30%|███       | 3/10 [00:01<00:03,  1.83it/s]\u001b[A\n",
      "[Succeeded / Failed / Skipped / Total] 3 / 0 / 0 / 3:  30%|███       | 3/10 [00:01<00:03,  1.82it/s]\u001b[A"
     ]
    },
    {
     "name": "stdout",
     "output_type": "stream",
     "text": [
      "--------------------------------------------- Result 3 ---------------------------------------------\n",
      "[[0 (91%)]] --> [[1 (66%)]]\n",
      "\n",
      "the performances are so leaden , michael rymer's direction is so [[bloodless]] and the dialogue is so [[corny]] that the audience laughs out loud .\n",
      "\n",
      "the performances are so leaden , michael rymer's direction is so [[bai]] and the dialogue is so [[humdrum]] that the audience laughs out loud .\n",
      "\n",
      "\n"
     ]
    },
    {
     "name": "stderr",
     "output_type": "stream",
     "text": [
      "\n",
      "[Succeeded / Failed / Skipped / Total] 3 / 0 / 0 / 3:  40%|████      | 4/10 [00:02<00:03,  1.64it/s]\u001b[A\n",
      "[Succeeded / Failed / Skipped / Total] 4 / 0 / 0 / 4:  40%|████      | 4/10 [00:02<00:03,  1.64it/s]\u001b[A"
     ]
    },
    {
     "name": "stdout",
     "output_type": "stream",
     "text": [
      "--------------------------------------------- Result 4 ---------------------------------------------\n",
      "[[1 (96%)]] --> [[0 (88%)]]\n",
      "\n",
      "a [[delicious]] , [[quirky]] [[movie]] with a [[terrific]] screenplay and fanciful direction by michael gondry .\n",
      "\n",
      "a [[scrumptious]] , [[lunatic]] [[theaters]] with a [[grandiose]] screenplay and fanciful direction by michael gondry .\n",
      "\n",
      "\n"
     ]
    },
    {
     "name": "stderr",
     "output_type": "stream",
     "text": [
      "\n",
      "[Succeeded / Failed / Skipped / Total] 4 / 0 / 0 / 4:  50%|█████     | 5/10 [00:02<00:02,  1.68it/s]\u001b[A\n",
      "[Succeeded / Failed / Skipped / Total] 5 / 0 / 0 / 5:  50%|█████     | 5/10 [00:02<00:02,  1.67it/s]\u001b[A"
     ]
    },
    {
     "name": "stdout",
     "output_type": "stream",
     "text": [
      "--------------------------------------------- Result 5 ---------------------------------------------\n",
      "[[1 (92%)]] --> [[0 (58%)]]\n",
      "\n",
      "captivates as it shows excess in business and [[pleasure]] , allowing us to find the small , human moments , and leaving off with a [[grand]] whimper .\n",
      "\n",
      "captivates as it shows excess in business and [[exaltation]] , allowing us to find the small , human moments , and leaving off with a [[gargantuan]] whimper .\n",
      "\n",
      "\n"
     ]
    },
    {
     "name": "stderr",
     "output_type": "stream",
     "text": [
      "\n",
      "[Succeeded / Failed / Skipped / Total] 5 / 0 / 0 / 5:  60%|██████    | 6/10 [00:03<00:02,  1.84it/s]\u001b[A\n",
      "[Succeeded / Failed / Skipped / Total] 6 / 0 / 0 / 6:  60%|██████    | 6/10 [00:03<00:02,  1.84it/s]\u001b[A"
     ]
    },
    {
     "name": "stdout",
     "output_type": "stream",
     "text": [
      "--------------------------------------------- Result 6 ---------------------------------------------\n",
      "[[0 (91%)]] --> [[1 (88%)]]\n",
      "\n",
      "overall tomfoolery like this is a [[matter]] of taste .\n",
      "\n",
      "overall tomfoolery like this is a [[theme]] of taste .\n",
      "\n",
      "\n"
     ]
    },
    {
     "name": "stderr",
     "output_type": "stream",
     "text": [
      "\n",
      "[Succeeded / Failed / Skipped / Total] 6 / 0 / 0 / 6:  70%|███████   | 7/10 [00:03<00:01,  1.90it/s]\u001b[A\n",
      "[Succeeded / Failed / Skipped / Total] 7 / 0 / 0 / 7:  70%|███████   | 7/10 [00:03<00:01,  1.90it/s]\u001b[A\n",
      "[Succeeded / Failed / Skipped / Total] 7 / 0 / 1 / 8:  80%|████████  | 8/10 [00:03<00:00,  2.16it/s]\u001b[A"
     ]
    },
    {
     "name": "stdout",
     "output_type": "stream",
     "text": [
      "--------------------------------------------- Result 7 ---------------------------------------------\n",
      "[[0 (94%)]] --> [[1 (71%)]]\n",
      "\n",
      "an ugly-duckling tale so hideously and clumsily [[told]] it feels [[accidental]] .\n",
      "\n",
      "an ugly-duckling tale so hideously and clumsily [[enlightened]] it feels [[unexpected]] .\n",
      "\n",
      "\n",
      "--------------------------------------------- Result 8 ---------------------------------------------\n",
      "[[1 (84%)]] --> [[[SKIPPED]]]\n",
      "\n",
      "an admitted egomaniac , evans is no hollywood villain , and yet this grating showcase almost makes you wish he'd gone the way of don simpson .\n",
      "\n",
      "\n"
     ]
    },
    {
     "name": "stderr",
     "output_type": "stream",
     "text": [
      "\n",
      "[Succeeded / Failed / Skipped / Total] 7 / 0 / 1 / 8:  90%|█████████ | 9/10 [00:04<00:00,  2.23it/s]\u001b[A\n",
      "[Succeeded / Failed / Skipped / Total] 8 / 0 / 1 / 9:  90%|█████████ | 9/10 [00:04<00:00,  2.22it/s]\u001b[A"
     ]
    },
    {
     "name": "stdout",
     "output_type": "stream",
     "text": [
      "--------------------------------------------- Result 9 ---------------------------------------------\n",
      "[[0 (83%)]] --> [[1 (65%)]]\n",
      "\n",
      "in the wake of saving private ryan , black hawk down and we were soldiers , you are likely to be as heartily [[sick]] of mayhem as cage's war-weary marine .\n",
      "\n",
      "in the wake of saving private ryan , black hawk down and we were soldiers , you are likely to be as heartily [[barmy]] of mayhem as cage's war-weary marine .\n",
      "\n",
      "\n"
     ]
    },
    {
     "name": "stderr",
     "output_type": "stream",
     "text": [
      "\n",
      "[Succeeded / Failed / Skipped / Total] 9 / 0 / 1 / 10: 100%|██████████| 10/10 [00:04<00:00,  2.18it/s]\u001b[A"
     ]
    },
    {
     "name": "stdout",
     "output_type": "stream",
     "text": [
      "--------------------------------------------- Result 10 ---------------------------------------------\n",
      "[[0 (92%)]] --> [[1 (53%)]]\n",
      "\n",
      "although no pastry is violated , this [[nasty]] comedy pokes fun at the same easy targets as other rowdy raunch-fests -- farts , boobs , unmentionables -- without much [[success]] .\n",
      "\n",
      "although no pastry is violated , this [[horrific]] comedy pokes fun at the same easy targets as other rowdy raunch-fests -- farts , boobs , unmentionables -- without much [[triomphe]] .\n",
      "\n",
      "\n",
      "\n",
      "+-------------------------------+--------+\n",
      "| Attack Results                |        |\n",
      "+-------------------------------+--------+\n",
      "| Number of successful attacks: | 9      |\n",
      "| Number of failed attacks:     | 0      |\n",
      "| Number of skipped attacks:    | 1      |\n",
      "| Original accuracy:            | 90.0%  |\n",
      "| Accuracy under attack:        | 0.0%   |\n",
      "| Attack success rate:          | 100.0% |\n",
      "| Average perturbed word %:     | 12.15% |\n",
      "| Average num. words per input: | 21.9   |\n",
      "| Avg num queries:              | 95.11  |\n",
      "+-------------------------------+--------+"
     ]
    },
    {
     "name": "stderr",
     "output_type": "stream",
     "text": [
      "\n"
     ]
    },
    {
     "name": "stdout",
     "output_type": "stream",
     "text": [
      "\n",
      "Attack(\n",
      "  (search_method): GreedyWordSwapWIR(\n",
      "    (wir_method):  delete\n",
      "  )\n",
      "  (goal_function):  UntargetedClassification\n",
      "  (transformation):  WordSwapEmbedding(\n",
      "    (max_candidates):  50\n",
      "    (embedding):  WordEmbedding\n",
      "  )\n",
      "  (constraints): \n",
      "    (0): WordEmbeddingDistance(\n",
      "        (embedding):  WordEmbedding\n",
      "        (min_cos_sim):  0.5\n",
      "        (cased):  False\n",
      "        (include_unknown_words):  True\n",
      "        (compare_against_original):  True\n",
      "      )\n",
      "    (1): PartOfSpeech(\n",
      "        (tagger_type):  nltk\n",
      "        (tagset):  universal\n",
      "        (allow_verb_noun_swap):  True\n",
      "        (compare_against_original):  True\n",
      "      )\n",
      "    (2): UniversalSentenceEncoder(\n",
      "        (metric):  angular\n",
      "        (threshold):  0.840845057\n",
      "        (window_size):  15\n",
      "        (skip_text_shorter_than_window):  True\n",
      "        (compare_against_original):  False\n",
      "      )\n",
      "    (3): RepeatModification\n",
      "    (4): StopwordModification\n",
      "    (5): InputColumnModification(\n",
      "        (matching_column_labels):  ['premise', 'hypothesis']\n",
      "        (columns_to_ignore):  {'premise'}\n",
      "      )\n",
      "  (is_black_box):  True\n",
      ") \n",
      "\n"
     ]
    },
    {
     "name": "stderr",
     "output_type": "stream",
     "text": [
      "\n",
      "  0%|          | 0/10 [00:00<?, ?it/s]\u001b[A\n",
      " 10%|█         | 1/10 [00:00<00:04,  2.12it/s]\u001b[A\n",
      "[Succeeded / Failed / Skipped / Total] 1 / 0 / 0 / 1:  10%|█         | 1/10 [00:00<00:04,  2.06it/s]\u001b[A\n",
      "[Succeeded / Failed / Skipped / Total] 1 / 0 / 1 / 2:  20%|██        | 2/10 [00:00<00:01,  4.05it/s]\u001b[A"
     ]
    },
    {
     "name": "stdout",
     "output_type": "stream",
     "text": [
      "--------------------------------------------- Result 1 ---------------------------------------------\n",
      "[[1 (95%)]] --> [[0 (60%)]]\n",
      "\n",
      ". . . [[mesmerizing]] , an eye-opening tour of modern beijing culture in a journey of rebellion , retreat into oblivion and [[return]] .\n",
      "\n",
      ". . . [[hallucinatory]] , an eye-opening tour of modern beijing culture in a journey of rebellion , retreat into oblivion and [[returned]] .\n",
      "\n",
      "\n",
      "--------------------------------------------- Result 2 ---------------------------------------------\n",
      "[[0 (57%)]] --> [[[SKIPPED]]]\n",
      "\n",
      "the reason this picture works better than its predecessors is that myers is no longer simply spoofing the mini-mod-madness of '60s spy movies .\n",
      "\n",
      "\n"
     ]
    },
    {
     "name": "stderr",
     "output_type": "stream",
     "text": [
      "\n",
      "[Succeeded / Failed / Skipped / Total] 1 / 0 / 1 / 2:  30%|███       | 3/10 [00:01<00:04,  1.67it/s]\u001b[A\n",
      "[Succeeded / Failed / Skipped / Total] 2 / 0 / 1 / 3:  30%|███       | 3/10 [00:01<00:04,  1.66it/s]\u001b[A"
     ]
    },
    {
     "name": "stdout",
     "output_type": "stream",
     "text": [
      "--------------------------------------------- Result 3 ---------------------------------------------\n",
      "[[0 (94%)]] --> [[1 (52%)]]\n",
      "\n",
      "the [[characters]] are never more than [[sketches]] . . . which [[leaves]] any [[true]] [[emotional]] [[connection]] or [[identification]] frustratingly out of [[reach]] .\n",
      "\n",
      "the [[qualities]] are never more than [[portrait]] . . . which [[refill]] any [[sincere]] [[romantic]] [[affair]] or [[characterized]] frustratingly out of [[unearth]] .\n",
      "\n",
      "\n"
     ]
    },
    {
     "name": "stderr",
     "output_type": "stream",
     "text": [
      "\n",
      "[Succeeded / Failed / Skipped / Total] 3 / 0 / 1 / 4:  40%|████      | 4/10 [00:02<00:03,  1.80it/s]\u001b[A"
     ]
    },
    {
     "name": "stdout",
     "output_type": "stream",
     "text": [
      "--------------------------------------------- Result 4 ---------------------------------------------\n",
      "[[1 (94%)]] --> [[0 (80%)]]\n",
      "\n",
      "like shrek , spirit's visual imagination [[reminds]] you of why animation is such a [[perfect]] medium for children , because of the way it allows the mind to enter and accept another world .\n",
      "\n",
      "like shrek , spirit's visual imagination [[callbacks]] you of why animation is such a [[faultless]] medium for children , because of the way it allows the mind to enter and accept another world .\n",
      "\n",
      "\n"
     ]
    },
    {
     "name": "stderr",
     "output_type": "stream",
     "text": [
      "\n",
      "[Succeeded / Failed / Skipped / Total] 3 / 0 / 1 / 4:  50%|█████     | 5/10 [00:02<00:02,  1.98it/s]\u001b[A\n",
      "[Succeeded / Failed / Skipped / Total] 4 / 0 / 1 / 5:  50%|█████     | 5/10 [00:02<00:02,  1.97it/s]\u001b[A"
     ]
    },
    {
     "name": "stdout",
     "output_type": "stream",
     "text": [
      "--------------------------------------------- Result 5 ---------------------------------------------\n",
      "[[1 (79%)]] --> [[0 (62%)]]\n",
      "\n",
      "in many ways , reminiscent of 1992's unforgiven which also utilized the scintillating [[force]] of its actors to [[draw]] out the menace of its sparse dialogue .\n",
      "\n",
      "in many ways , reminiscent of 1992's unforgiven which also utilized the scintillating [[army]] of its actors to [[pulled]] out the menace of its sparse dialogue .\n",
      "\n",
      "\n"
     ]
    },
    {
     "name": "stderr",
     "output_type": "stream",
     "text": [
      "\n",
      "[Succeeded / Failed / Skipped / Total] 5 / 0 / 1 / 6:  60%|██████    | 6/10 [00:02<00:01,  2.13it/s]\u001b[A"
     ]
    },
    {
     "name": "stdout",
     "output_type": "stream",
     "text": [
      "--------------------------------------------- Result 6 ---------------------------------------------\n",
      "[[0 (89%)]] --> [[1 (62%)]]\n",
      "\n",
      "it's not a bad premise , just a [[bad]] movie .\n",
      "\n",
      "it's not a bad premise , just a [[wicked]] movie .\n",
      "\n",
      "\n"
     ]
    },
    {
     "name": "stderr",
     "output_type": "stream",
     "text": [
      "\n",
      "[Succeeded / Failed / Skipped / Total] 5 / 0 / 1 / 6:  70%|███████   | 7/10 [00:04<00:01,  1.65it/s]\u001b[A\n",
      "[Succeeded / Failed / Skipped / Total] 5 / 1 / 1 / 7:  70%|███████   | 7/10 [00:04<00:01,  1.65it/s]\u001b[A"
     ]
    },
    {
     "name": "stdout",
     "output_type": "stream",
     "text": [
      "--------------------------------------------- Result 7 ---------------------------------------------\n",
      "[[0 (94%)]] --> [[[FAILED]]]\n",
      "\n",
      "it's rare that a movie can be as intelligent as this one is in every regard except its storyline ; everything that's good is ultimately scuttled by a plot that's just too boring and obvious .\n",
      "\n",
      "\n"
     ]
    },
    {
     "name": "stderr",
     "output_type": "stream",
     "text": [
      "\n",
      "[Succeeded / Failed / Skipped / Total] 6 / 1 / 1 / 8:  80%|████████  | 8/10 [00:04<00:01,  1.62it/s]\u001b[A"
     ]
    },
    {
     "name": "stdout",
     "output_type": "stream",
     "text": [
      "--------------------------------------------- Result 8 ---------------------------------------------\n",
      "[[1 (96%)]] --> [[0 (57%)]]\n",
      "\n",
      "this [[clever]] caper movie has twists [[worthy]] of david mamet and is enormous [[fun]] for thinking [[audiences]] .\n",
      "\n",
      "this [[adroit]] caper movie has twists [[legitimate]] of david mamet and is enormous [[distracting]] for thinking [[client]] .\n",
      "\n",
      "\n"
     ]
    },
    {
     "name": "stderr",
     "output_type": "stream",
     "text": [
      "\n",
      "[Succeeded / Failed / Skipped / Total] 6 / 1 / 1 / 8:  90%|█████████ | 9/10 [00:05<00:00,  1.71it/s]\u001b[A\n",
      "[Succeeded / Failed / Skipped / Total] 7 / 1 / 1 / 9:  90%|█████████ | 9/10 [00:05<00:00,  1.70it/s]\u001b[A"
     ]
    },
    {
     "name": "stdout",
     "output_type": "stream",
     "text": [
      "--------------------------------------------- Result 9 ---------------------------------------------\n",
      "[[1 (94%)]] --> [[0 (88%)]]\n",
      "\n",
      "woven together [[handsomely]] , [[recalling]] sixties' rockumentary milestones from lonely boy to don't look back .\n",
      "\n",
      "woven together [[politely]] , [[callbacks]] sixties' rockumentary milestones from lonely boy to don't look back .\n",
      "\n",
      "\n"
     ]
    },
    {
     "name": "stderr",
     "output_type": "stream",
     "text": [
      "\n",
      "[Succeeded / Failed / Skipped / Total] 8 / 1 / 1 / 10: 100%|██████████| 10/10 [00:05<00:00,  1.72it/s]\u001b[A"
     ]
    },
    {
     "name": "stdout",
     "output_type": "stream",
     "text": [
      "--------------------------------------------- Result 10 ---------------------------------------------\n",
      "[[1 (96%)]] --> [[0 (71%)]]\n",
      "\n",
      "[[excellent]] performances from jacqueline bisset and martha plimpton grace this deeply touching [[melodrama]] .\n",
      "\n",
      "[[unpaid]] performances from jacqueline bisset and martha plimpton grace this deeply touching [[cliched]] .\n",
      "\n",
      "\n",
      "\n",
      "+-------------------------------+--------+\n",
      "| Attack Results                |        |\n",
      "+-------------------------------+--------+\n",
      "| Number of successful attacks: | 8      |\n",
      "| Number of failed attacks:     | 1      |\n",
      "| Number of skipped attacks:    | 1      |\n",
      "| Original accuracy:            | 90.0%  |\n",
      "| Accuracy under attack:        | 10.0%  |\n",
      "| Attack success rate:          | 88.89% |\n",
      "| Average perturbed word %:     | 16.5%  |\n",
      "| Average num. words per input: | 20.3   |\n",
      "| Avg num queries:              | 113.89 |\n",
      "+-------------------------------+--------+"
     ]
    },
    {
     "name": "stderr",
     "output_type": "stream",
     "text": [
      "\n"
     ]
    },
    {
     "name": "stdout",
     "output_type": "stream",
     "text": [
      "\n",
      "Attack(\n",
      "  (search_method): GreedyWordSwapWIR(\n",
      "    (wir_method):  delete\n",
      "  )\n",
      "  (goal_function):  UntargetedClassification\n",
      "  (transformation):  WordSwapEmbedding(\n",
      "    (max_candidates):  50\n",
      "    (embedding):  WordEmbedding\n",
      "  )\n",
      "  (constraints): \n",
      "    (0): WordEmbeddingDistance(\n",
      "        (embedding):  WordEmbedding\n",
      "        (min_cos_sim):  0.5\n",
      "        (cased):  False\n",
      "        (include_unknown_words):  True\n",
      "        (compare_against_original):  True\n",
      "      )\n",
      "    (1): PartOfSpeech(\n",
      "        (tagger_type):  nltk\n",
      "        (tagset):  universal\n",
      "        (allow_verb_noun_swap):  True\n",
      "        (compare_against_original):  True\n",
      "      )\n",
      "    (2): UniversalSentenceEncoder(\n",
      "        (metric):  angular\n",
      "        (threshold):  0.840845057\n",
      "        (window_size):  15\n",
      "        (skip_text_shorter_than_window):  True\n",
      "        (compare_against_original):  False\n",
      "      )\n",
      "    (3): RepeatModification\n",
      "    (4): StopwordModification\n",
      "    (5): InputColumnModification(\n",
      "        (matching_column_labels):  ['premise', 'hypothesis']\n",
      "        (columns_to_ignore):  {'premise'}\n",
      "      )\n",
      "  (is_black_box):  True\n",
      ") \n",
      "\n"
     ]
    },
    {
     "name": "stderr",
     "output_type": "stream",
     "text": [
      "\n",
      "  0%|          | 0/10 [00:00<?, ?it/s]\u001b[A\n",
      " 10%|█         | 1/10 [00:00<00:03,  2.37it/s]\u001b[A\n",
      "[Succeeded / Failed / Skipped / Total] 1 / 0 / 0 / 1:  10%|█         | 1/10 [00:00<00:03,  2.31it/s]\u001b[A\n",
      "[Succeeded / Failed / Skipped / Total] 1 / 0 / 1 / 2:  20%|██        | 2/10 [00:00<00:01,  4.52it/s]\u001b[A"
     ]
    },
    {
     "name": "stdout",
     "output_type": "stream",
     "text": [
      "--------------------------------------------- Result 1 ---------------------------------------------\n",
      "[[0 (89%)]] --> [[1 (59%)]]\n",
      "\n",
      "how [[many]] more times will indie filmmakers subject us to [[boring]] , self-important stories of how horrible we are to ourselves and each other ?\n",
      "\n",
      "how [[immeasurable]] more times will indie filmmakers subject us to [[humdrum]] , self-important stories of how horrible we are to ourselves and each other ?\n",
      "\n",
      "\n",
      "--------------------------------------------- Result 2 ---------------------------------------------\n",
      "[[1 (60%)]] --> [[[SKIPPED]]]\n",
      "\n",
      "that is essentially what's missing from blackboards -- the sense of something bigger , some ultimate point .\n",
      "\n",
      "\n"
     ]
    },
    {
     "name": "stderr",
     "output_type": "stream",
     "text": [
      "\n",
      "[Succeeded / Failed / Skipped / Total] 1 / 0 / 1 / 2:  30%|███       | 3/10 [00:01<00:02,  2.97it/s]\u001b[A\n",
      "[Succeeded / Failed / Skipped / Total] 2 / 0 / 1 / 3:  30%|███       | 3/10 [00:01<00:02,  2.94it/s]\u001b[A"
     ]
    },
    {
     "name": "stdout",
     "output_type": "stream",
     "text": [
      "--------------------------------------------- Result 3 ---------------------------------------------\n",
      "[[1 (95%)]] --> [[0 (65%)]]\n",
      "\n",
      "vera has created a provocative , [[absorbing]] [[drama]] that [[reveals]] the curse of a self-hatred instilled by rigid social mores .\n",
      "\n",
      "vera has created a provocative , [[takeover]] [[cataclysmic]] that [[indicate]] the curse of a self-hatred instilled by rigid social mores .\n",
      "\n",
      "\n"
     ]
    },
    {
     "name": "stderr",
     "output_type": "stream",
     "text": [
      "\n",
      "[Succeeded / Failed / Skipped / Total] 3 / 0 / 1 / 4:  40%|████      | 4/10 [00:01<00:02,  2.62it/s]\u001b[A\n",
      "[Succeeded / Failed / Skipped / Total] 3 / 0 / 1 / 4:  50%|█████     | 5/10 [00:01<00:01,  3.06it/s]\u001b[A\n",
      "[Succeeded / Failed / Skipped / Total] 4 / 0 / 1 / 5:  50%|█████     | 5/10 [00:01<00:01,  3.03it/s]\u001b[A"
     ]
    },
    {
     "name": "stdout",
     "output_type": "stream",
     "text": [
      "--------------------------------------------- Result 4 ---------------------------------------------\n",
      "[[1 (92%)]] --> [[0 (94%)]]\n",
      "\n",
      "[[chilling]] in its objective [[portrait]] of dreary , lost twenty-first century america .\n",
      "\n",
      "[[paralysing]] in its objective [[skit]] of dreary , lost twenty-first century america .\n",
      "\n",
      "\n",
      "--------------------------------------------- Result 5 ---------------------------------------------\n",
      "[[0 (83%)]] --> [[1 (88%)]]\n",
      "\n",
      "it's a pedestrian , [[flat]] drama that screams out 'amateur' in almost every frame .\n",
      "\n",
      "it's a pedestrian , [[stable]] drama that screams out 'amateur' in almost every frame .\n",
      "\n",
      "\n"
     ]
    },
    {
     "name": "stderr",
     "output_type": "stream",
     "text": [
      "\n",
      "[Succeeded / Failed / Skipped / Total] 5 / 0 / 1 / 6:  60%|██████    | 6/10 [00:01<00:01,  3.39it/s]\u001b[A\n",
      "[Succeeded / Failed / Skipped / Total] 5 / 0 / 1 / 6:  70%|███████   | 7/10 [00:01<00:00,  3.94it/s]\u001b[A\n",
      "[Succeeded / Failed / Skipped / Total] 5 / 0 / 2 / 7:  70%|███████   | 7/10 [00:01<00:00,  3.94it/s]\u001b[A"
     ]
    },
    {
     "name": "stdout",
     "output_type": "stream",
     "text": [
      "--------------------------------------------- Result 6 ---------------------------------------------\n",
      "[[0 (90%)]] --> [[1 (56%)]]\n",
      "\n",
      "an infuriating film . just when you think you are making sense of it , something happens that tells you there is no [[sense]] .\n",
      "\n",
      "an infuriating film . just when you think you are making sense of it , something happens that tells you there is no [[brainchild]] .\n",
      "\n",
      "\n",
      "--------------------------------------------- Result 7 ---------------------------------------------\n",
      "[[1 (65%)]] --> [[[SKIPPED]]]\n",
      "\n",
      "la de salma es una versión de frida superficial , preciosista y sin ningún contenido .\n",
      "\n",
      "\n"
     ]
    },
    {
     "name": "stderr",
     "output_type": "stream",
     "text": [
      "\n",
      "[Succeeded / Failed / Skipped / Total] 6 / 0 / 2 / 8:  80%|████████  | 8/10 [00:01<00:00,  4.02it/s]\u001b[A"
     ]
    },
    {
     "name": "stdout",
     "output_type": "stream",
     "text": [
      "--------------------------------------------- Result 8 ---------------------------------------------\n",
      "[[1 (77%)]] --> [[0 (94%)]]\n",
      "\n",
      "a [[glorious]] mess .\n",
      "\n",
      "a [[leggy]] mess .\n",
      "\n",
      "\n"
     ]
    },
    {
     "name": "stderr",
     "output_type": "stream",
     "text": [
      "\n",
      "[Succeeded / Failed / Skipped / Total] 6 / 0 / 2 / 8:  90%|█████████ | 9/10 [00:02<00:00,  4.10it/s]\u001b[A\n",
      "[Succeeded / Failed / Skipped / Total] 7 / 0 / 2 / 9:  90%|█████████ | 9/10 [00:02<00:00,  4.08it/s]\u001b[A"
     ]
    },
    {
     "name": "stdout",
     "output_type": "stream",
     "text": [
      "--------------------------------------------- Result 9 ---------------------------------------------\n",
      "[[1 (80%)]] --> [[0 (76%)]]\n",
      "\n",
      "writer/director walter hill is in his hypermasculine element here , once again [[able]] to inject some real vitality and even art into a pulpy concept that , in many other hands would be completely forgettable .\n",
      "\n",
      "writer/director walter hill is in his hypermasculine element here , once again [[imaginable]] to inject some real vitality and even art into a pulpy concept that , in many other hands would be completely forgettable .\n",
      "\n",
      "\n"
     ]
    },
    {
     "name": "stderr",
     "output_type": "stream",
     "text": [
      "\n",
      "[Succeeded / Failed / Skipped / Total] 8 / 0 / 2 / 10: 100%|██████████| 10/10 [00:03<00:00,  2.94it/s]\u001b[A"
     ]
    },
    {
     "name": "stdout",
     "output_type": "stream",
     "text": [
      "--------------------------------------------- Result 10 ---------------------------------------------\n",
      "[[1 (91%)]] --> [[0 (58%)]]\n",
      "\n",
      "the trick when watching godard is to catch the pitch of his poetics , savor the [[pleasure]] of his [[sounds]] and images , and ponder the [[historical]] , [[philosophical]] , and [[ethical]] [[issues]] that [[intersect]] with them .\n",
      "\n",
      "the trick when watching godard is to catch the pitch of his poetics , savor the [[hei]] of his [[beeping]] and images , and ponder the [[hindsight]] , [[heidegger]] , and [[morale]] [[hassles]] that [[superposition]] with them .\n",
      "\n",
      "\n",
      "\n",
      "+-------------------------------+--------+\n",
      "| Attack Results                |        |\n",
      "+-------------------------------+--------+\n",
      "| Number of successful attacks: | 8      |\n",
      "| Number of failed attacks:     | 0      |\n",
      "| Number of skipped attacks:    | 2      |\n",
      "| Original accuracy:            | 80.0%  |\n",
      "| Accuracy under attack:        | 0.0%   |\n",
      "| Attack success rate:          | 100.0% |\n",
      "| Average perturbed word %:     | 14.05% |\n",
      "| Average num. words per input: | 18.7   |\n",
      "| Avg num queries:              | 74.25  |\n",
      "+-------------------------------+--------+\n"
     ]
    },
    {
     "name": "stderr",
     "output_type": "stream",
     "text": [
      "\n",
      "[nltk_data] Downloading package omw-1.4 to\n",
      "[nltk_data]     /home/users/agross/nltk_data...\n",
      "[nltk_data]   Package omw-1.4 is already up-to-date!\n"
     ]
    },
    {
     "name": "stdout",
     "output_type": "stream",
     "text": [
      "Attack(\n",
      "  (search_method): GreedyWordSwapWIR(\n",
      "    (wir_method):  delete\n",
      "  )\n",
      "  (goal_function):  UntargetedClassification\n",
      "  (transformation):  WordSwapEmbedding(\n",
      "    (max_candidates):  50\n",
      "    (embedding):  WordEmbedding\n",
      "  )\n",
      "  (constraints): \n",
      "    (0): WordEmbeddingDistance(\n",
      "        (embedding):  WordEmbedding\n",
      "        (min_cos_sim):  0.5\n",
      "        (cased):  False\n",
      "        (include_unknown_words):  True\n",
      "        (compare_against_original):  True\n",
      "      )\n",
      "    (1): PartOfSpeech(\n",
      "        (tagger_type):  nltk\n",
      "        (tagset):  universal\n",
      "        (allow_verb_noun_swap):  True\n",
      "        (compare_against_original):  True\n",
      "      )\n",
      "    (2): UniversalSentenceEncoder(\n",
      "        (metric):  angular\n",
      "        (threshold):  0.840845057\n",
      "        (window_size):  15\n",
      "        (skip_text_shorter_than_window):  True\n",
      "        (compare_against_original):  False\n",
      "      )\n",
      "    (3): RepeatModification\n",
      "    (4): StopwordModification\n",
      "    (5): InputColumnModification(\n",
      "        (matching_column_labels):  ['premise', 'hypothesis']\n",
      "        (columns_to_ignore):  {'premise'}\n",
      "      )\n",
      "  (is_black_box):  True\n",
      ") \n",
      "\n"
     ]
    },
    {
     "name": "stderr",
     "output_type": "stream",
     "text": [
      "\n",
      "  0%|          | 0/10 [00:00<?, ?it/s]\u001b[A\n",
      " 10%|█         | 1/10 [00:00<00:01,  6.75it/s]\u001b[A\n",
      "[Succeeded / Failed / Skipped / Total] 1 / 0 / 0 / 1:  10%|█         | 1/10 [00:00<00:01,  6.35it/s]\u001b[A"
     ]
    },
    {
     "name": "stdout",
     "output_type": "stream",
     "text": [
      "--------------------------------------------- Result 1 ---------------------------------------------\n",
      "[[0 (58%)]] --> [[1 (72%)]]\n",
      "\n",
      "an easy watch , role except for the [[annoying]] demeanour of its lead character .\n",
      "\n",
      "an easy watch , role except for the [[vexing]] demeanour of its lead character .\n",
      "\n",
      "\n"
     ]
    },
    {
     "name": "stderr",
     "output_type": "stream",
     "text": [
      "\n",
      "[Succeeded / Failed / Skipped / Total] 1 / 0 / 0 / 1:  20%|██        | 2/10 [00:00<00:02,  2.93it/s]\u001b[A\n",
      "[Succeeded / Failed / Skipped / Total] 2 / 0 / 0 / 2:  20%|██        | 2/10 [00:00<00:02,  2.87it/s]\u001b[A"
     ]
    },
    {
     "name": "stdout",
     "output_type": "stream",
     "text": [
      "--------------------------------------------- Result 2 ---------------------------------------------\n",
      "[[0 (87%)]] --> [[1 (50%)]]\n",
      "\n",
      "unless you come in to the film with skateboard under your arm , you're [[going]] to [[feel]] [[like]] you weren't invited to party .\n",
      "\n",
      "unless you come in to the film with skateboard under your arm , you're [[will]] to [[believe]] [[love]] you weren't invited to party .\n",
      "\n",
      "\n"
     ]
    },
    {
     "name": "stderr",
     "output_type": "stream",
     "text": [
      "\n",
      "[Succeeded / Failed / Skipped / Total] 2 / 0 / 0 / 2:  30%|███       | 3/10 [00:01<00:02,  2.96it/s]\u001b[A\n",
      "[Succeeded / Failed / Skipped / Total] 3 / 0 / 0 / 3:  30%|███       | 3/10 [00:01<00:02,  2.93it/s]\u001b[A"
     ]
    },
    {
     "name": "stdout",
     "output_type": "stream",
     "text": [
      "--------------------------------------------- Result 3 ---------------------------------------------\n",
      "[[1 (81%)]] --> [[0 (50%)]]\n",
      "\n",
      "red wish dragon is less baroque and showy than hannibal , and less emotionally affecting than silence . but , like [[silence]] , it's a [[movie]] that gets under your skin .\n",
      "\n",
      "red wish dragon is less baroque and showy than hannibal , and less emotionally affecting than silence . but , like [[chut]] , it's a [[theaters]] that gets under your skin .\n",
      "\n",
      "\n"
     ]
    },
    {
     "name": "stderr",
     "output_type": "stream",
     "text": [
      "\n",
      "[Succeeded / Failed / Skipped / Total] 3 / 0 / 0 / 3:  40%|████      | 4/10 [00:01<00:01,  3.15it/s]\u001b[A\n",
      "[Succeeded / Failed / Skipped / Total] 4 / 0 / 0 / 4:  40%|████      | 4/10 [00:01<00:01,  3.13it/s]\u001b[A"
     ]
    },
    {
     "name": "stdout",
     "output_type": "stream",
     "text": [
      "--------------------------------------------- Result 4 ---------------------------------------------\n",
      "[[0 (60%)]] --> [[1 (89%)]]\n",
      "\n",
      "[[largely]] , this is a movie that it does also by the numbers .\n",
      "\n",
      "[[vitally]] , this is a movie that it does also by the numbers .\n",
      "\n",
      "\n"
     ]
    },
    {
     "name": "stderr",
     "output_type": "stream",
     "text": [
      "\n",
      "[Succeeded / Failed / Skipped / Total] 4 / 0 / 0 / 4:  50%|█████     | 5/10 [00:01<00:01,  3.00it/s]\u001b[A\n",
      "[Succeeded / Failed / Skipped / Total] 5 / 0 / 0 / 5:  50%|█████     | 5/10 [00:01<00:01,  2.98it/s]\u001b[A\n",
      "[Succeeded / Failed / Skipped / Total] 5 / 0 / 0 / 5:  60%|██████    | 6/10 [00:01<00:01,  3.23it/s]\u001b[A\n",
      "[Succeeded / Failed / Skipped / Total] 6 / 0 / 0 / 6:  60%|██████    | 6/10 [00:01<00:01,  3.21it/s]\u001b[A"
     ]
    },
    {
     "name": "stdout",
     "output_type": "stream",
     "text": [
      "--------------------------------------------- Result 5 ---------------------------------------------\n",
      "[[0 (80%)]] --> [[1 (51%)]]\n",
      "\n",
      "if was welles unhappy at the prospect of the human race splitting in great-grandson's , he [[probably]] wouldn't be too crazy with his two [[movie]] splitting up in pretty much the same way .\n",
      "\n",
      "if was welles unhappy at the prospect of the human race splitting in great-grandson's , he [[undeniably]] wouldn't be too crazy with his two [[film]] splitting up in pretty much the same way .\n",
      "\n",
      "\n",
      "--------------------------------------------- Result 6 ---------------------------------------------\n",
      "[[0 (91%)]] --> [[1 (58%)]]\n",
      "\n",
      "begins as a promising meditation on one of america's most durable obsessions but winds up as a slender perdurable cinematic [[stunt]] .\n",
      "\n",
      "begins as a promising meditation on one of america's most durable obsessions but winds up as a slender perdurable cinematic [[acrobatics]] .\n",
      "\n",
      "\n"
     ]
    },
    {
     "name": "stderr",
     "output_type": "stream",
     "text": [
      "\n",
      "[Succeeded / Failed / Skipped / Total] 6 / 0 / 0 / 6:  70%|███████   | 7/10 [00:02<00:00,  3.12it/s]\u001b[A\n",
      "[Succeeded / Failed / Skipped / Total] 7 / 0 / 0 / 7:  70%|███████   | 7/10 [00:02<00:00,  3.11it/s]\u001b[A"
     ]
    },
    {
     "name": "stdout",
     "output_type": "stream",
     "text": [
      "--------------------------------------------- Result 7 ---------------------------------------------\n",
      "[[1 (96%)]] --> [[0 (92%)]]\n",
      "\n",
      "a [[sensitive]] , school treatment of greene's work as [[well]] as a remarkably faithful one .\n",
      "\n",
      "a [[clumsy]] , school treatment of greene's work as [[too]] as a remarkably faithful one .\n",
      "\n",
      "\n"
     ]
    },
    {
     "name": "stderr",
     "output_type": "stream",
     "text": [
      "\n",
      "[Succeeded / Failed / Skipped / Total] 7 / 0 / 0 / 7:  80%|████████  | 8/10 [00:03<00:00,  2.60it/s]\u001b[A\n",
      "[Succeeded / Failed / Skipped / Total] 8 / 0 / 0 / 8:  80%|████████  | 8/10 [00:03<00:00,  2.58it/s]\u001b[A"
     ]
    },
    {
     "name": "stdout",
     "output_type": "stream",
     "text": [
      "--------------------------------------------- Result 8 ---------------------------------------------\n",
      "[[0 (94%)]] --> [[1 (78%)]]\n",
      "\n",
      "under 15 ? [[time]] giggle a [[minute]] . over [[age]] 15 ? [[big]] [[fat]] [[waste]] of a .\n",
      "\n",
      "under 15 ? [[moments]] giggle a [[instant]] . over [[centuries]] 15 ? [[tremendous]] [[bold]] [[jingles]] of a .\n",
      "\n",
      "\n"
     ]
    },
    {
     "name": "stderr",
     "output_type": "stream",
     "text": [
      "\n",
      "[Succeeded / Failed / Skipped / Total] 8 / 0 / 0 / 8:  90%|█████████ | 9/10 [00:03<00:00,  2.68it/s]\u001b[A\n",
      "[Succeeded / Failed / Skipped / Total] 9 / 0 / 0 / 9:  90%|█████████ | 9/10 [00:03<00:00,  2.67it/s]\u001b[A"
     ]
    },
    {
     "name": "stdout",
     "output_type": "stream",
     "text": [
      "--------------------------------------------- Result 9 ---------------------------------------------\n",
      "[[0 (92%)]] --> [[1 (67%)]]\n",
      "\n",
      "everything about girls can't swim , even its passages of sensitive observation , feels IT secondhand , familiar -- and not in a [[good]] way .\n",
      "\n",
      "everything about girls can't swim , even its passages of sensitive observation , feels IT secondhand , familiar -- and not in a [[bonne]] way .\n",
      "\n",
      "\n"
     ]
    },
    {
     "name": "stderr",
     "output_type": "stream",
     "text": [
      "\n",
      "[Succeeded / Failed / Skipped / Total] 9 / 0 / 0 / 9: 100%|██████████| 10/10 [00:03<00:00,  2.67it/s]\u001b[A\n",
      "[Succeeded / Failed / Skipped / Total] 10 / 0 / 0 / 10: 100%|██████████| 10/10 [00:03<00:00,  2.66it/s]\u001b[A"
     ]
    },
    {
     "name": "stdout",
     "output_type": "stream",
     "text": [
      "--------------------------------------------- Result 10 ---------------------------------------------\n",
      "[[0 (94%)]] --> [[1 (88%)]]\n",
      "\n",
      "co-writer/director jonathan parker's fall to fashion a brazil-like , hyper-real satire attempts [[dreadfully]] [[short]] .\n",
      "\n",
      "co-writer/director jonathan parker's fall to fashion a brazil-like , hyper-real satire attempts [[stunningly]] [[summary]] .\n",
      "\n",
      "\n",
      "\n",
      "+-------------------------------+--------+\n",
      "| Attack Results                |        |\n",
      "+-------------------------------+--------+\n",
      "| Number of successful attacks: | 10     |\n",
      "| Number of failed attacks:     | 0      |\n",
      "| Number of skipped attacks:    | 0      |\n",
      "| Original accuracy:            | 100.0% |\n",
      "| Accuracy under attack:        | 0.0%   |\n",
      "| Attack success rate:          | 100.0% |\n",
      "| Average perturbed word %:     | 12.43% |\n",
      "| Average num. words per input: | 19.0   |\n",
      "| Avg num queries:              | 68.1   |\n",
      "+-------------------------------+--------+"
     ]
    },
    {
     "name": "stderr",
     "output_type": "stream",
     "text": [
      "\n",
      "[nltk_data] Downloading package omw-1.4 to\n",
      "[nltk_data]     /home/users/agross/nltk_data...\n",
      "[nltk_data]   Package omw-1.4 is already up-to-date!\n"
     ]
    },
    {
     "name": "stdout",
     "output_type": "stream",
     "text": [
      "\n",
      "Attack(\n",
      "  (search_method): GreedyWordSwapWIR(\n",
      "    (wir_method):  delete\n",
      "  )\n",
      "  (goal_function):  UntargetedClassification\n",
      "  (transformation):  WordSwapEmbedding(\n",
      "    (max_candidates):  50\n",
      "    (embedding):  WordEmbedding\n",
      "  )\n",
      "  (constraints): \n",
      "    (0): WordEmbeddingDistance(\n",
      "        (embedding):  WordEmbedding\n",
      "        (min_cos_sim):  0.5\n",
      "        (cased):  False\n",
      "        (include_unknown_words):  True\n",
      "        (compare_against_original):  True\n",
      "      )\n",
      "    (1): PartOfSpeech(\n",
      "        (tagger_type):  nltk\n",
      "        (tagset):  universal\n",
      "        (allow_verb_noun_swap):  True\n",
      "        (compare_against_original):  True\n",
      "      )\n",
      "    (2): UniversalSentenceEncoder(\n",
      "        (metric):  angular\n",
      "        (threshold):  0.840845057\n",
      "        (window_size):  15\n",
      "        (skip_text_shorter_than_window):  True\n",
      "        (compare_against_original):  False\n",
      "      )\n",
      "    (3): RepeatModification\n",
      "    (4): StopwordModification\n",
      "    (5): InputColumnModification(\n",
      "        (matching_column_labels):  ['premise', 'hypothesis']\n",
      "        (columns_to_ignore):  {'premise'}\n",
      "      )\n",
      "  (is_black_box):  True\n",
      ") \n",
      "\n"
     ]
    },
    {
     "name": "stderr",
     "output_type": "stream",
     "text": [
      "\n",
      "  0%|          | 0/10 [00:00<?, ?it/s]\u001b[A\n",
      "[Succeeded / Failed / Skipped / Total] 0 / 0 / 1 / 1:  10%|█         | 1/10 [00:00<00:00, 124.65it/s]\u001b[A\n",
      "[Succeeded / Failed / Skipped / Total] 0 / 0 / 2 / 2:  20%|██        | 2/10 [00:00<00:00, 121.55it/s]\u001b[A"
     ]
    },
    {
     "name": "stdout",
     "output_type": "stream",
     "text": [
      "--------------------------------------------- Result 1 ---------------------------------------------\n",
      "[[0 (90%)]] --> [[[SKIPPED]]]\n",
      "\n",
      "whenever you think you've figured out late marriage , it throws you estimate for a loop .\n",
      "\n",
      "\n",
      "--------------------------------------------- Result 2 ---------------------------------------------\n",
      "[[1 (63%)]] --> [[[SKIPPED]]]\n",
      "\n",
      "imagine the james woods character from videodrome making a home movie of audrey rose and showing it to the kid record from the sixth sense and you've imagined the ring .\n",
      "\n",
      "\n"
     ]
    },
    {
     "name": "stderr",
     "output_type": "stream",
     "text": [
      "\n",
      "[Succeeded / Failed / Skipped / Total] 0 / 0 / 2 / 2:  30%|███       | 3/10 [00:00<00:01,  5.33it/s] \u001b[A\n",
      "[Succeeded / Failed / Skipped / Total] 1 / 0 / 2 / 3:  30%|███       | 3/10 [00:00<00:01,  5.23it/s]\u001b[A"
     ]
    },
    {
     "name": "stdout",
     "output_type": "stream",
     "text": [
      "--------------------------------------------- Result 3 ---------------------------------------------\n",
      "[[1 (95%)]] --> [[0 (64%)]]\n",
      "\n",
      "a literate [[presentation]] that [[wonderfully]] weaves a murderous event in 1873 with murderous craze in 2002 .\n",
      "\n",
      "a literate [[presenting]] that [[terribly]] weaves a murderous event in 1873 with murderous craze in 2002 .\n",
      "\n",
      "\n"
     ]
    },
    {
     "name": "stderr",
     "output_type": "stream",
     "text": [
      "\n",
      "[Succeeded / Failed / Skipped / Total] 2 / 0 / 2 / 4:  40%|████      | 4/10 [00:01<00:01,  3.56it/s]\u001b[A"
     ]
    },
    {
     "name": "stdout",
     "output_type": "stream",
     "text": [
      "--------------------------------------------- Result 4 ---------------------------------------------\n",
      "[[0 (93%)]] --> [[1 (61%)]]\n",
      "\n",
      "a sub-formulaic [[confront]] [[slap]] in the face to [[seasonal]] cheer .\n",
      "\n",
      "a sub-formulaic [[combating]] [[beating]] in the face to [[monsoon]] cheer .\n",
      "\n",
      "\n"
     ]
    },
    {
     "name": "stderr",
     "output_type": "stream",
     "text": [
      "\n",
      "[Succeeded / Failed / Skipped / Total] 3 / 0 / 2 / 5:  50%|█████     | 5/10 [00:01<00:01,  3.71it/s]\u001b[A"
     ]
    },
    {
     "name": "stdout",
     "output_type": "stream",
     "text": [
      "--------------------------------------------- Result 5 ---------------------------------------------\n",
      "[[1 (83%)]] --> [[0 (85%)]]\n",
      "\n",
      "deeply [[characters]] are more the thought through than in most 'right-thinking' films .\n",
      "\n",
      "deeply [[idiosyncrasies]] are more the thought through than in most 'right-thinking' films .\n",
      "\n",
      "\n"
     ]
    },
    {
     "name": "stderr",
     "output_type": "stream",
     "text": [
      "\n",
      "[Succeeded / Failed / Skipped / Total] 3 / 0 / 2 / 5:  60%|██████    | 6/10 [00:02<00:01,  2.50it/s]\u001b[A\n",
      "[Succeeded / Failed / Skipped / Total] 4 / 0 / 2 / 6:  60%|██████    | 6/10 [00:02<00:01,  2.49it/s]\u001b[A"
     ]
    },
    {
     "name": "stdout",
     "output_type": "stream",
     "text": [
      "--------------------------------------------- Result 6 ---------------------------------------------\n",
      "[[0 (94%)]] --> [[1 (61%)]]\n",
      "\n",
      "the director's [[twitchy]] [[sketchbook]] style and adroit perspective shifts grow [[wearisome]] amid leaden pacing and [[workmanship]] [[indifferent]] [[craftsmanship]] ( most notably [[wretched]] [[sound]] design ) .\n",
      "\n",
      "the director's [[excitable]] [[sketching]] style and adroit perspective shifts grow [[torturous]] amid leaden pacing and [[craftsmanship]] [[impassive]] [[handcrafted]] ( most notably [[pittance]] [[acoustical]] design ) .\n",
      "\n",
      "\n"
     ]
    },
    {
     "name": "stderr",
     "output_type": "stream",
     "text": [
      "\n",
      "[Succeeded / Failed / Skipped / Total] 5 / 0 / 2 / 7:  70%|███████   | 7/10 [00:02<00:01,  2.62it/s]\u001b[A\n",
      "[Succeeded / Failed / Skipped / Total] 6 / 0 / 2 / 8:  80%|████████  | 8/10 [00:02<00:00,  2.84it/s]\u001b[A"
     ]
    },
    {
     "name": "stdout",
     "output_type": "stream",
     "text": [
      "--------------------------------------------- Result 7 ---------------------------------------------\n",
      "[[0 (56%)]] --> [[1 (54%)]]\n",
      "\n",
      "nominate exactly what you'd expect from a guy [[named]] kaos .\n",
      "\n",
      "nominate exactly what you'd expect from a guy [[christened]] kaos .\n",
      "\n",
      "\n",
      "--------------------------------------------- Result 8 ---------------------------------------------\n",
      "[[1 (64%)]] --> [[0 (92%)]]\n",
      "\n",
      "there's lots of [[cool]] stuff Lot packed into espn's ultimate x .\n",
      "\n",
      "there's lots of [[frigid]] stuff Lot packed into espn's ultimate x .\n",
      "\n",
      "\n"
     ]
    },
    {
     "name": "stderr",
     "output_type": "stream",
     "text": [
      "\n",
      "[Succeeded / Failed / Skipped / Total] 6 / 0 / 2 / 8:  90%|█████████ | 9/10 [00:04<00:00,  2.17it/s]\u001b[A\n",
      "[Succeeded / Failed / Skipped / Total] 7 / 0 / 2 / 9:  90%|█████████ | 9/10 [00:04<00:00,  2.17it/s]\u001b[A"
     ]
    },
    {
     "name": "stdout",
     "output_type": "stream",
     "text": [
      "--------------------------------------------- Result 9 ---------------------------------------------\n",
      "[[1 (96%)]] --> [[0 (51%)]]\n",
      "\n",
      "tsai [[has]] a well-deserved reputation as one of the [[cinema]] world's [[great]] [[visual]] [[stylists]] , and in this [[film]] , [[every]] shot [[enhances]] [[excellent]] .\n",
      "\n",
      "tsai [[had]] a well-deserved reputation as one of the [[movie]] world's [[sizable]] [[eyeball]] [[barbershop]] , and in this [[video]] , [[all]] shot [[improvement]] [[super]] .\n",
      "\n",
      "\n"
     ]
    },
    {
     "name": "stderr",
     "output_type": "stream",
     "text": [
      "\n",
      "[Succeeded / Failed / Skipped / Total] 8 / 0 / 2 / 10: 100%|██████████| 10/10 [00:04<00:00,  2.29it/s]\u001b[A"
     ]
    },
    {
     "name": "stdout",
     "output_type": "stream",
     "text": [
      "--------------------------------------------- Result 10 ---------------------------------------------\n",
      "[[1 (95%)]] --> [[0 (53%)]]\n",
      "\n",
      "about a manga-like heroine who fights back at her abusers , it's up-and-coming and [[satisfying]] if not deep and [[psychological]] .\n",
      "\n",
      "about a manga-like heroine who fights back at her abusers , it's up-and-coming and [[fecund]] if not deep and [[psychosomatic]] .\n",
      "\n",
      "\n",
      "\n",
      "+-------------------------------+--------+\n",
      "| Attack Results                |        |\n",
      "+-------------------------------+--------+\n",
      "| Number of successful attacks: | 8      |\n",
      "| Number of failed attacks:     | 0      |\n",
      "| Number of skipped attacks:    | 2      |\n",
      "| Original accuracy:            | 80.0%  |\n",
      "| Accuracy under attack:        | 0.0%   |\n",
      "| Attack success rate:          | 100.0% |\n",
      "| Average perturbed word %:     | 19.52% |\n",
      "| Average num. words per input: | 16.8   |\n",
      "| Avg num queries:              | 95.12  |\n",
      "+-------------------------------+--------+\n"
     ]
    },
    {
     "name": "stderr",
     "output_type": "stream",
     "text": [
      "\n",
      "[nltk_data] Downloading package omw-1.4 to\n",
      "[nltk_data]     /home/users/agross/nltk_data...\n",
      "[nltk_data]   Package omw-1.4 is already up-to-date!\n"
     ]
    },
    {
     "name": "stdout",
     "output_type": "stream",
     "text": [
      "Attack(\n",
      "  (search_method): GreedyWordSwapWIR(\n",
      "    (wir_method):  delete\n",
      "  )\n",
      "  (goal_function):  UntargetedClassification\n",
      "  (transformation):  WordSwapEmbedding(\n",
      "    (max_candidates):  50\n",
      "    (embedding):  WordEmbedding\n",
      "  )\n",
      "  (constraints): \n",
      "    (0): WordEmbeddingDistance(\n",
      "        (embedding):  WordEmbedding\n",
      "        (min_cos_sim):  0.5\n",
      "        (cased):  False\n",
      "        (include_unknown_words):  True\n",
      "        (compare_against_original):  True\n",
      "      )\n",
      "    (1): PartOfSpeech(\n",
      "        (tagger_type):  nltk\n",
      "        (tagset):  universal\n",
      "        (allow_verb_noun_swap):  True\n",
      "        (compare_against_original):  True\n",
      "      )\n",
      "    (2): UniversalSentenceEncoder(\n",
      "        (metric):  angular\n",
      "        (threshold):  0.840845057\n",
      "        (window_size):  15\n",
      "        (skip_text_shorter_than_window):  True\n",
      "        (compare_against_original):  False\n",
      "      )\n",
      "    (3): RepeatModification\n",
      "    (4): StopwordModification\n",
      "    (5): InputColumnModification(\n",
      "        (matching_column_labels):  ['premise', 'hypothesis']\n",
      "        (columns_to_ignore):  {'premise'}\n",
      "      )\n",
      "  (is_black_box):  True\n",
      ") \n",
      "\n"
     ]
    },
    {
     "name": "stderr",
     "output_type": "stream",
     "text": [
      "\n",
      "  0%|          | 0/10 [00:00<?, ?it/s]\u001b[A\n",
      "[Succeeded / Failed / Skipped / Total] 0 / 0 / 1 / 1:  10%|█         | 1/10 [00:00<00:00, 123.57it/s]\u001b[A"
     ]
    },
    {
     "name": "stdout",
     "output_type": "stream",
     "text": [
      "--------------------------------------------- Result 1 ---------------------------------------------\n",
      "[[0 (55%)]] --> [[[SKIPPED]]]\n",
      "\n",
      "a mess , but it's a sincere axerophthol mess .\n",
      "\n",
      "\n"
     ]
    },
    {
     "name": "stderr",
     "output_type": "stream",
     "text": [
      "\n",
      "[Succeeded / Failed / Skipped / Total] 0 / 0 / 1 / 1:  20%|██        | 2/10 [00:00<00:02,  3.29it/s] \u001b[A\n",
      "[Succeeded / Failed / Skipped / Total] 1 / 0 / 1 / 2:  20%|██        | 2/10 [00:00<00:02,  3.25it/s]\u001b[A"
     ]
    },
    {
     "name": "stdout",
     "output_type": "stream",
     "text": [
      "--------------------------------------------- Result 2 ---------------------------------------------\n",
      "[[1 (92%)]] --> [[0 (55%)]]\n",
      "\n",
      "the belongs to the [[marvelous]] verdu , a [[sexy]] slip of an earth mother who mourns her tragedies in private and [[embraces]] in public\n",
      "\n",
      "the belongs to the [[unbelievable]] verdu , a [[sexier]] slip of an earth mother who mourns her tragedies in private and [[encompass]] in public\n",
      "\n",
      "\n"
     ]
    },
    {
     "name": "stderr",
     "output_type": "stream",
     "text": [
      "\n",
      "[Succeeded / Failed / Skipped / Total] 2 / 0 / 1 / 3:  30%|███       | 3/10 [00:01<00:02,  2.54it/s]\u001b[A"
     ]
    },
    {
     "name": "stdout",
     "output_type": "stream",
     "text": [
      "--------------------------------------------- Result 3 ---------------------------------------------\n",
      "[[1 (96%)]] --> [[0 (90%)]]\n",
      "\n",
      "by no means a [[great]] movie , but it is a [[refreshingly]] [[forthright]] .\n",
      "\n",
      "by no means a [[gargantuan]] movie , but it is a [[nonchalantly]] [[outright]] .\n",
      "\n",
      "\n"
     ]
    },
    {
     "name": "stderr",
     "output_type": "stream",
     "text": [
      "\n",
      "[Succeeded / Failed / Skipped / Total] 2 / 0 / 1 / 3:  40%|████      | 4/10 [00:01<00:02,  2.75it/s]\u001b[A\n",
      "[Succeeded / Failed / Skipped / Total] 3 / 0 / 1 / 4:  40%|████      | 4/10 [00:01<00:02,  2.73it/s]\u001b[A\n",
      "[Succeeded / Failed / Skipped / Total] 3 / 0 / 2 / 5:  50%|█████     | 5/10 [00:01<00:01,  3.39it/s]\u001b[A"
     ]
    },
    {
     "name": "stdout",
     "output_type": "stream",
     "text": [
      "--------------------------------------------- Result 4 ---------------------------------------------\n",
      "[[1 (94%)]] --> [[0 (67%)]]\n",
      "\n",
      "i am not generally a huge fan of cartoons derived tv shows , but hey arnold ! the movie is [[clever]] , offbeat and even enough to overcome my resistance .\n",
      "\n",
      "i am not generally a huge fan of cartoons derived tv shows , but hey arnold ! the movie is [[malin]] , offbeat and even enough to overcome my resistance .\n",
      "\n",
      "\n",
      "--------------------------------------------- Result 5 ---------------------------------------------\n",
      "[[0 (86%)]] --> [[[SKIPPED]]]\n",
      "\n",
      "a meditation on faith and madness , vice is blood-curdling stuff .\n",
      "\n",
      "\n"
     ]
    },
    {
     "name": "stderr",
     "output_type": "stream",
     "text": [
      "\n",
      "[Succeeded / Failed / Skipped / Total] 3 / 0 / 2 / 5:  60%|██████    | 6/10 [00:01<00:01,  3.13it/s]\u001b[A\n",
      "[Succeeded / Failed / Skipped / Total] 4 / 0 / 2 / 6:  60%|██████    | 6/10 [00:01<00:01,  3.11it/s]\u001b[A"
     ]
    },
    {
     "name": "stdout",
     "output_type": "stream",
     "text": [
      "--------------------------------------------- Result 6 ---------------------------------------------\n",
      "[[0 (88%)]] --> [[1 (71%)]]\n",
      "\n",
      "the biggest [[problem]] with satin rouge is lilia herself . she's a [[cipher]] , played by an actress who smiles and frowns but doesn't reveal an AN inner life .\n",
      "\n",
      "the biggest [[challenging]] with satin rouge is lilia herself . she's a [[encrypt]] , played by an actress who smiles and frowns but doesn't reveal an AN inner life .\n",
      "\n",
      "\n"
     ]
    },
    {
     "name": "stderr",
     "output_type": "stream",
     "text": [
      "\n",
      "[Succeeded / Failed / Skipped / Total] 5 / 0 / 2 / 7:  70%|███████   | 7/10 [00:02<00:01,  2.87it/s]\u001b[A\n",
      "[Succeeded / Failed / Skipped / Total] 5 / 0 / 2 / 7:  80%|████████  | 8/10 [00:02<00:00,  3.27it/s]\u001b[A\n",
      "[Succeeded / Failed / Skipped / Total] 5 / 0 / 3 / 8:  80%|████████  | 8/10 [00:02<00:00,  3.27it/s]\u001b[A"
     ]
    },
    {
     "name": "stdout",
     "output_type": "stream",
     "text": [
      "--------------------------------------------- Result 7 ---------------------------------------------\n",
      "[[1 (84%)]] --> [[0 (50%)]]\n",
      "\n",
      "as weber and weissman vitality demonstrate with such insight and celebratory verve , the cockettes weren't as much about [[gender]] , sexual preference or political agitprop as they were simply a [[triumph]] of the intimate indomitable human will to rebel , [[connect]] and create .\n",
      "\n",
      "as weber and weissman vitality demonstrate with such insight and celebratory verve , the cockettes weren't as much about [[kind]] , sexual preference or political agitprop as they were simply a [[succeeded]] of the intimate indomitable human will to rebel , [[attaching]] and create .\n",
      "\n",
      "\n",
      "--------------------------------------------- Result 8 ---------------------------------------------\n",
      "[[1 (55%)]] --> [[[SKIPPED]]]\n",
      "\n",
      "cost if only it were , well , funnier .\n",
      "\n",
      "\n"
     ]
    },
    {
     "name": "stderr",
     "output_type": "stream",
     "text": [
      "\n",
      "[Succeeded / Failed / Skipped / Total] 6 / 0 / 3 / 9:  90%|█████████ | 9/10 [00:02<00:00,  3.09it/s]\u001b[A"
     ]
    },
    {
     "name": "stdout",
     "output_type": "stream",
     "text": [
      "--------------------------------------------- Result 9 ---------------------------------------------\n",
      "[[1 (93%)]] --> [[0 (62%)]]\n",
      "\n",
      "what's most [[striking]] about largely celebratory film . . . is the sense of isolation that [[permeates]] these bastions of individuality in ikea world .\n",
      "\n",
      "what's most [[conspicuous]] about largely celebratory film . . . is the sense of isolation that [[overwhelms]] these bastions of individuality in ikea world .\n",
      "\n",
      "\n"
     ]
    },
    {
     "name": "stderr",
     "output_type": "stream",
     "text": [
      "\n",
      "[Succeeded / Failed / Skipped / Total] 6 / 0 / 3 / 9: 100%|██████████| 10/10 [00:03<00:00,  2.79it/s]\u001b[A\n",
      "[Succeeded / Failed / Skipped / Total] 7 / 0 / 3 / 10: 100%|██████████| 10/10 [00:03<00:00,  2.78it/s]\u001b[A"
     ]
    },
    {
     "name": "stdout",
     "output_type": "stream",
     "text": [
      "--------------------------------------------- Result 10 ---------------------------------------------\n",
      "[[1 (95%)]] --> [[0 (51%)]]\n",
      "\n",
      "slow and [[ponderous]] , but rohmer's drama builds to an [[intense]] [[drama]] about compassion , sacrifice , and love in the face of political corruption .\n",
      "\n",
      "slow and [[gargantuan]] , but rohmer's drama builds to an [[strained]] [[cinematographic]] about compassion , sacrifice , and love in the face of political corruption .\n",
      "\n",
      "\n",
      "\n",
      "+-------------------------------+--------+\n",
      "| Attack Results                |        |\n",
      "+-------------------------------+--------+\n",
      "| Number of successful attacks: | 7      |\n",
      "| Number of failed attacks:     | 0      |\n",
      "| Number of skipped attacks:    | 3      |\n",
      "| Original accuracy:            | 70.0%  |\n",
      "| Accuracy under attack:        | 0.0%   |\n",
      "| Attack success rate:          | 100.0% |\n",
      "| Average perturbed word %:     | 11.38% |\n",
      "| Average num. words per input: | 19.8   |\n",
      "| Avg num queries:              | 94.57  |\n",
      "+-------------------------------+--------+"
     ]
    },
    {
     "name": "stderr",
     "output_type": "stream",
     "text": [
      "\n",
      "[nltk_data] Downloading package omw-1.4 to\n",
      "[nltk_data]     /home/users/agross/nltk_data...\n",
      "[nltk_data]   Package omw-1.4 is already up-to-date!\n"
     ]
    },
    {
     "name": "stdout",
     "output_type": "stream",
     "text": [
      "\n",
      "Attack(\n",
      "  (search_method): GreedyWordSwapWIR(\n",
      "    (wir_method):  delete\n",
      "  )\n",
      "  (goal_function):  UntargetedClassification\n",
      "  (transformation):  WordSwapEmbedding(\n",
      "    (max_candidates):  50\n",
      "    (embedding):  WordEmbedding\n",
      "  )\n",
      "  (constraints): \n",
      "    (0): WordEmbeddingDistance(\n",
      "        (embedding):  WordEmbedding\n",
      "        (min_cos_sim):  0.5\n",
      "        (cased):  False\n",
      "        (include_unknown_words):  True\n",
      "        (compare_against_original):  True\n",
      "      )\n",
      "    (1): PartOfSpeech(\n",
      "        (tagger_type):  nltk\n",
      "        (tagset):  universal\n",
      "        (allow_verb_noun_swap):  True\n",
      "        (compare_against_original):  True\n",
      "      )\n",
      "    (2): UniversalSentenceEncoder(\n",
      "        (metric):  angular\n",
      "        (threshold):  0.840845057\n",
      "        (window_size):  15\n",
      "        (skip_text_shorter_than_window):  True\n",
      "        (compare_against_original):  False\n",
      "      )\n",
      "    (3): RepeatModification\n",
      "    (4): StopwordModification\n",
      "    (5): InputColumnModification(\n",
      "        (matching_column_labels):  ['premise', 'hypothesis']\n",
      "        (columns_to_ignore):  {'premise'}\n",
      "      )\n",
      "  (is_black_box):  True\n",
      ") \n",
      "\n"
     ]
    },
    {
     "name": "stderr",
     "output_type": "stream",
     "text": [
      "\n",
      "  0%|          | 0/10 [00:00<?, ?it/s]\u001b[A\n",
      " 10%|█         | 1/10 [00:00<00:02,  4.32it/s]\u001b[A\n",
      "[Succeeded / Failed / Skipped / Total] 1 / 0 / 0 / 1:  10%|█         | 1/10 [00:00<00:02,  4.17it/s]\u001b[A"
     ]
    },
    {
     "name": "stdout",
     "output_type": "stream",
     "text": [
      "--------------------------------------------- Result 1 ---------------------------------------------\n",
      "[[1 (93%)]] --> [[0 (81%)]]\n",
      "\n",
      "this may not have the dramatic gut-wrenching touch of other holocaust films , but it's a [[oblige]] story , chiefly because of the way it's told by the people who were there .\n",
      "\n",
      "this may not have the dramatic gut-wrenching touch of other holocaust films , but it's a [[forced]] story , chiefly because of the way it's told by the people who were there .\n",
      "\n",
      "\n"
     ]
    },
    {
     "name": "stderr",
     "output_type": "stream",
     "text": [
      "\n",
      "[Succeeded / Failed / Skipped / Total] 1 / 0 / 0 / 1:  20%|██        | 2/10 [00:00<00:02,  3.77it/s]\u001b[A\n",
      "[Succeeded / Failed / Skipped / Total] 2 / 0 / 0 / 2:  20%|██        | 2/10 [00:00<00:02,  3.71it/s]\u001b[A"
     ]
    },
    {
     "name": "stdout",
     "output_type": "stream",
     "text": [
      "--------------------------------------------- Result 2 ---------------------------------------------\n",
      "[[0 (88%)]] --> [[1 (67%)]]\n",
      "\n",
      "the cumulative of the relentless horror on [[parade]] numbs the movie's [[power]] as a work of drama .\n",
      "\n",
      "the cumulative of the relentless horror on [[parading]] numbs the movie's [[electrified]] as a work of drama .\n",
      "\n",
      "\n"
     ]
    },
    {
     "name": "stderr",
     "output_type": "stream",
     "text": [
      "\n",
      "[Succeeded / Failed / Skipped / Total] 2 / 0 / 0 / 2:  30%|███       | 3/10 [00:01<00:02,  2.67it/s]\u001b[A\n",
      "[Succeeded / Failed / Skipped / Total] 3 / 0 / 0 / 3:  30%|███       | 3/10 [00:01<00:02,  2.64it/s]\u001b[A\n",
      "[Succeeded / Failed / Skipped / Total] 3 / 0 / 0 / 3:  40%|████      | 4/10 [00:01<00:01,  3.04it/s]\u001b[A\n",
      "[Succeeded / Failed / Skipped / Total] 4 / 0 / 0 / 4:  40%|████      | 4/10 [00:01<00:01,  3.02it/s]"
     ]
    },
    {
     "name": "stdout",
     "output_type": "stream",
     "text": [
      "--------------------------------------------- Result 3 ---------------------------------------------\n",
      "[[1 (95%)]] --> [[0 (54%)]]\n",
      "\n",
      "gaunt , silver-haired and leonine , [harris] [[brings]] a tragic dimension tricky and [[savage]] full-bodied [[wit]] and cunning to the [[aging]] sandeman .\n",
      "\n",
      "gaunt , silver-haired and leonine , [harris] [[prescribes]] a tragic dimension tricky and [[sauvage]] full-bodied [[waite]] and cunning to the [[olds]] sandeman .\n",
      "\n",
      "\n",
      "--------------------------------------------- Result 4 ---------------------------------------------\n",
      "[[1 (95%)]] --> [[0 (84%)]]\n",
      "\n",
      "dense some characters and contains with [[thrilling]] moments .\n",
      "\n",
      "dense some characters and contains with [[hallucinatory]] moments .\n",
      "\n",
      "\n"
     ]
    },
    {
     "name": "stderr",
     "output_type": "stream",
     "text": [
      "\u001b[A\n",
      "[Succeeded / Failed / Skipped / Total] 4 / 0 / 0 / 4:  50%|█████     | 5/10 [00:01<00:01,  2.71it/s]\u001b[A\n",
      "[Succeeded / Failed / Skipped / Total] 5 / 0 / 0 / 5:  50%|█████     | 5/10 [00:01<00:01,  2.70it/s]\u001b[A"
     ]
    },
    {
     "name": "stdout",
     "output_type": "stream",
     "text": [
      "--------------------------------------------- Result 5 ---------------------------------------------\n",
      "[[0 (93%)]] --> [[1 (73%)]]\n",
      "\n",
      "the movie is [[like]] a [[year]] late for tapping into our reality [[tv]] obsession , and even [[class]] tardier for exploiting the novelty of the \" [[webcast]] . \"\n",
      "\n",
      "the movie is [[iove]] a [[enjoyment]] late for tapping into our reality [[fabio]] obsession , and even [[classifies]] tardier for exploiting the novelty of the \" [[communique]] . \"\n",
      "\n",
      "\n"
     ]
    },
    {
     "name": "stderr",
     "output_type": "stream",
     "text": [
      "\n",
      "[Succeeded / Failed / Skipped / Total] 5 / 0 / 0 / 5:  60%|██████    | 6/10 [00:02<00:01,  2.64it/s]\u001b[A\n",
      "[Succeeded / Failed / Skipped / Total] 6 / 0 / 0 / 6:  60%|██████    | 6/10 [00:02<00:01,  2.63it/s]\u001b[A\n",
      "[Succeeded / Failed / Skipped / Total] 6 / 0 / 1 / 7:  70%|███████   | 7/10 [00:02<00:00,  3.05it/s]\u001b[A"
     ]
    },
    {
     "name": "stdout",
     "output_type": "stream",
     "text": [
      "--------------------------------------------- Result 6 ---------------------------------------------\n",
      "[[1 (94%)]] --> [[0 (54%)]]\n",
      "\n",
      "elating fuller would surely have called this gutsy and at times [[exhilarating]] movie a [[great]] yarn .\n",
      "\n",
      "elating fuller would surely have called this gutsy and at times [[mesmerising]] movie a [[sizable]] yarn .\n",
      "\n",
      "\n",
      "--------------------------------------------- Result 7 ---------------------------------------------\n",
      "[[0 (79%)]] --> [[[SKIPPED]]]\n",
      "\n",
      "the next generation of mob movie . part low engage godfather . part three stooges .\n",
      "\n",
      "\n"
     ]
    },
    {
     "name": "stderr",
     "output_type": "stream",
     "text": [
      "\n",
      "[Succeeded / Failed / Skipped / Total] 6 / 0 / 1 / 7:  80%|████████  | 8/10 [00:02<00:00,  2.91it/s]\u001b[A\n",
      "[Succeeded / Failed / Skipped / Total] 7 / 0 / 1 / 8:  80%|████████  | 8/10 [00:02<00:00,  2.90it/s]\u001b[A"
     ]
    },
    {
     "name": "stdout",
     "output_type": "stream",
     "text": [
      "--------------------------------------------- Result 8 ---------------------------------------------\n",
      "[[0 (91%)]] --> [[1 (55%)]]\n",
      "\n",
      "like its script , which nurses Olympic plot holes gaping enough to pilot an entire olympic swim team through , the characters in swimfan [[gape]] seem [[motivated]] by nothing [[short]] of dull , brain-deadening hangover .\n",
      "\n",
      "like its script , which nurses Olympic plot holes gaping enough to pilot an entire olympic swim team through , the characters in swimfan [[jizz]] seem [[inspiring]] by nothing [[little]] of dull , brain-deadening hangover .\n",
      "\n",
      "\n"
     ]
    },
    {
     "name": "stderr",
     "output_type": "stream",
     "text": [
      "\n",
      "[Succeeded / Failed / Skipped / Total] 8 / 0 / 1 / 9:  90%|█████████ | 9/10 [00:03<00:00,  2.99it/s]\u001b[A"
     ]
    },
    {
     "name": "stdout",
     "output_type": "stream",
     "text": [
      "--------------------------------------------- Result 9 ---------------------------------------------\n",
      "[[1 (84%)]] --> [[0 (80%)]]\n",
      "\n",
      "there's a [[wickedly]] subversive bent to the best parts of girl .\n",
      "\n",
      "there's a [[maniacally]] subversive bent to the best parts of girl .\n",
      "\n",
      "\n"
     ]
    },
    {
     "name": "stderr",
     "output_type": "stream",
     "text": [
      "\n",
      "[Succeeded / Failed / Skipped / Total] 8 / 0 / 1 / 9: 100%|██████████| 10/10 [00:03<00:00,  2.72it/s]\u001b[A\n",
      "[Succeeded / Failed / Skipped / Total] 9 / 0 / 1 / 10: 100%|██████████| 10/10 [00:03<00:00,  2.71it/s]\u001b[A"
     ]
    },
    {
     "name": "stdout",
     "output_type": "stream",
     "text": [
      "--------------------------------------------- Result 10 ---------------------------------------------\n",
      "[[0 (89%)]] --> [[1 (56%)]]\n",
      "\n",
      "judd's characters ought to pick up the durable best [[seller]] smart [[women]] , goosy [[choices]] for advice .\n",
      "\n",
      "judd's characters ought to pick up the durable best [[shopkeepers]] smart [[feminine]] , goosy [[elect]] for advice .\n",
      "\n",
      "\n",
      "\n",
      "+-------------------------------+--------+\n",
      "| Attack Results                |        |\n",
      "+-------------------------------+--------+\n",
      "| Number of successful attacks: | 9      |\n",
      "| Number of failed attacks:     | 0      |\n",
      "| Number of skipped attacks:    | 1      |\n",
      "| Original accuracy:            | 90.0%  |\n",
      "| Accuracy under attack:        | 0.0%   |\n",
      "| Attack success rate:          | 100.0% |\n",
      "| Average perturbed word %:     | 13.03% |\n",
      "| Average num. words per input: | 18.8   |\n",
      "| Avg num queries:              | 71.56  |\n",
      "+-------------------------------+--------+"
     ]
    },
    {
     "name": "stderr",
     "output_type": "stream",
     "text": [
      "\n",
      "[nltk_data] Downloading package omw-1.4 to\n",
      "[nltk_data]     /home/users/agross/nltk_data...\n",
      "[nltk_data]   Package omw-1.4 is already up-to-date!\n"
     ]
    },
    {
     "name": "stdout",
     "output_type": "stream",
     "text": [
      "\n",
      "Attack(\n",
      "  (search_method): GreedyWordSwapWIR(\n",
      "    (wir_method):  delete\n",
      "  )\n",
      "  (goal_function):  UntargetedClassification\n",
      "  (transformation):  WordSwapEmbedding(\n",
      "    (max_candidates):  50\n",
      "    (embedding):  WordEmbedding\n",
      "  )\n",
      "  (constraints): \n",
      "    (0): WordEmbeddingDistance(\n",
      "        (embedding):  WordEmbedding\n",
      "        (min_cos_sim):  0.5\n",
      "        (cased):  False\n",
      "        (include_unknown_words):  True\n",
      "        (compare_against_original):  True\n",
      "      )\n",
      "    (1): PartOfSpeech(\n",
      "        (tagger_type):  nltk\n",
      "        (tagset):  universal\n",
      "        (allow_verb_noun_swap):  True\n",
      "        (compare_against_original):  True\n",
      "      )\n",
      "    (2): UniversalSentenceEncoder(\n",
      "        (metric):  angular\n",
      "        (threshold):  0.840845057\n",
      "        (window_size):  15\n",
      "        (skip_text_shorter_than_window):  True\n",
      "        (compare_against_original):  False\n",
      "      )\n",
      "    (3): RepeatModification\n",
      "    (4): StopwordModification\n",
      "    (5): InputColumnModification(\n",
      "        (matching_column_labels):  ['premise', 'hypothesis']\n",
      "        (columns_to_ignore):  {'premise'}\n",
      "      )\n",
      "  (is_black_box):  True\n",
      ") \n",
      "\n"
     ]
    },
    {
     "name": "stderr",
     "output_type": "stream",
     "text": [
      "\n",
      "  0%|          | 0/10 [00:00<?, ?it/s]\u001b[A\n",
      " 10%|█         | 1/10 [00:00<00:01,  6.42it/s]\u001b[A\n",
      "[Succeeded / Failed / Skipped / Total] 1 / 0 / 0 / 1:  10%|█         | 1/10 [00:00<00:01,  6.08it/s]\u001b[A"
     ]
    },
    {
     "name": "stdout",
     "output_type": "stream",
     "text": [
      "--------------------------------------------- Result 1 ---------------------------------------------\n",
      "[[0 (94%)]] --> [[1 (78%)]]\n",
      "\n",
      "many shallower movies these days seem too , but this one is egregiously [[short]] .\n",
      "\n",
      "many shallower movies these days seem too , but this one is egregiously [[concise]] .\n",
      "\n",
      "\n"
     ]
    },
    {
     "name": "stderr",
     "output_type": "stream",
     "text": [
      "\n",
      "[Succeeded / Failed / Skipped / Total] 1 / 0 / 0 / 1:  20%|██        | 2/10 [00:00<00:01,  4.00it/s]\u001b[A\n",
      "[Succeeded / Failed / Skipped / Total] 2 / 0 / 0 / 2:  20%|██        | 2/10 [00:00<00:02,  3.95it/s]\u001b[A"
     ]
    },
    {
     "name": "stdout",
     "output_type": "stream",
     "text": [
      "--------------------------------------------- Result 2 ---------------------------------------------\n",
      "[[0 (93%)]] --> [[1 (65%)]]\n",
      "\n",
      "so [[putrid]] it is not [[worth]] the damage of the catch that should be used to burn every print of the film .\n",
      "\n",
      "so [[fetid]] it is not [[chastisement]] the damage of the catch that should be used to burn every print of the film .\n",
      "\n",
      "\n"
     ]
    },
    {
     "name": "stderr",
     "output_type": "stream",
     "text": [
      "\n",
      "[Succeeded / Failed / Skipped / Total] 2 / 0 / 0 / 2:  30%|███       | 3/10 [00:00<00:01,  3.86it/s]\u001b[A\n",
      "[Succeeded / Failed / Skipped / Total] 3 / 0 / 0 / 3:  30%|███       | 3/10 [00:00<00:01,  3.82it/s]\u001b[A\n",
      "[Succeeded / Failed / Skipped / Total] 3 / 0 / 0 / 3:  40%|████      | 4/10 [00:00<00:01,  4.37it/s]\u001b[A\n",
      "[Succeeded / Failed / Skipped / Total] 4 / 0 / 0 / 4:  40%|████      | 4/10 [00:00<00:01,  4.33it/s]\u001b[A"
     ]
    },
    {
     "name": "stdout",
     "output_type": "stream",
     "text": [
      "--------------------------------------------- Result 3 ---------------------------------------------\n",
      "[[0 (84%)]] --> [[1 (52%)]]\n",
      "\n",
      "claims to sort the bad guys from the good , which is its essential IT [[problem]] .\n",
      "\n",
      "claims to sort the bad guys from the good , which is its essential IT [[things]] .\n",
      "\n",
      "\n",
      "--------------------------------------------- Result 4 ---------------------------------------------\n",
      "[[0 (50%)]] --> [[1 (89%)]]\n",
      "\n",
      "blue crush is as [[predictable]] as the tides . . . . the movie feels together from stock and characters from other movies .\n",
      "\n",
      "blue crush is as [[foreseeable]] as the tides . . . . the movie feels together from stock and characters from other movies .\n",
      "\n",
      "\n"
     ]
    },
    {
     "name": "stderr",
     "output_type": "stream",
     "text": [
      "\n",
      "[Succeeded / Failed / Skipped / Total] 4 / 0 / 0 / 4:  50%|█████     | 5/10 [00:01<00:01,  4.17it/s]\u001b[A\n",
      "[Succeeded / Failed / Skipped / Total] 5 / 0 / 0 / 5:  50%|█████     | 5/10 [00:01<00:01,  4.14it/s]\u001b[A"
     ]
    },
    {
     "name": "stdout",
     "output_type": "stream",
     "text": [
      "--------------------------------------------- Result 5 ---------------------------------------------\n",
      "[[1 (87%)]] --> [[0 (86%)]]\n",
      "\n",
      "[[though]] jackson doesn't always succeed in integrating the characters in the into the extraordinarily rich landscape , it must be said that he is an [[imaginative]] can see the forest for the trees .\n",
      "\n",
      "[[besides]] jackson doesn't always succeed in integrating the characters in the into the extraordinarily rich landscape , it must be said that he is an [[outlandish]] can see the forest for the trees .\n",
      "\n",
      "\n"
     ]
    },
    {
     "name": "stderr",
     "output_type": "stream",
     "text": [
      "\n",
      "[Succeeded / Failed / Skipped / Total] 5 / 0 / 0 / 5:  60%|██████    | 6/10 [00:01<00:00,  4.20it/s]\u001b[A\n",
      "[Succeeded / Failed / Skipped / Total] 6 / 0 / 0 / 6:  60%|██████    | 6/10 [00:01<00:00,  4.18it/s]\u001b[A"
     ]
    },
    {
     "name": "stdout",
     "output_type": "stream",
     "text": [
      "--------------------------------------------- Result 6 ---------------------------------------------\n",
      "[[1 (86%)]] --> [[0 (81%)]]\n",
      "\n",
      "when the movie flick mixes the cornpone and the cosa nostra , it finds a [[nice]] rhythm .\n",
      "\n",
      "when the movie flick mixes the cornpone and the cosa nostra , it finds a [[leggy]] rhythm .\n",
      "\n",
      "\n"
     ]
    },
    {
     "name": "stderr",
     "output_type": "stream",
     "text": [
      "\n",
      "[Succeeded / Failed / Skipped / Total] 6 / 0 / 0 / 6:  70%|███████   | 7/10 [00:01<00:00,  4.08it/s]\u001b[A\n",
      "[Succeeded / Failed / Skipped / Total] 7 / 0 / 0 / 7:  70%|███████   | 7/10 [00:01<00:00,  4.04it/s]\u001b[A"
     ]
    },
    {
     "name": "stdout",
     "output_type": "stream",
     "text": [
      "--------------------------------------------- Result 7 ---------------------------------------------\n",
      "[[0 (78%)]] --> [[1 (75%)]]\n",
      "\n",
      "laggard drama wending its way to an [[unimaginative]] philosophical epiphany .\n",
      "\n",
      "laggard drama wending its way to an [[humdrum]] philosophical epiphany .\n",
      "\n",
      "\n"
     ]
    },
    {
     "name": "stderr",
     "output_type": "stream",
     "text": [
      "\n",
      "[Succeeded / Failed / Skipped / Total] 7 / 0 / 0 / 7:  80%|████████  | 8/10 [00:02<00:00,  3.84it/s]\u001b[A\n",
      "[Succeeded / Failed / Skipped / Total] 8 / 0 / 0 / 8:  80%|████████  | 8/10 [00:02<00:00,  3.82it/s]\u001b[A"
     ]
    },
    {
     "name": "stdout",
     "output_type": "stream",
     "text": [
      "--------------------------------------------- Result 8 ---------------------------------------------\n",
      "[[1 (95%)]] --> [[0 (54%)]]\n",
      "\n",
      "[[though]] few will argue that it ranks with the best of herzog's works , [[invincible]] shows he's dorsum in mould , with an astoundingly [[rich]] film .\n",
      "\n",
      "[[upon]] few will argue that it ranks with the best of herzog's works , [[insurmountable]] shows he's dorsum in mould , with an astoundingly [[tributary]] film .\n",
      "\n",
      "\n"
     ]
    },
    {
     "name": "stderr",
     "output_type": "stream",
     "text": [
      "\n",
      "[Succeeded / Failed / Skipped / Total] 8 / 0 / 0 / 8:  90%|█████████ | 9/10 [00:02<00:00,  3.61it/s]\u001b[A\n",
      "[Succeeded / Failed / Skipped / Total] 9 / 0 / 0 / 9:  90%|█████████ | 9/10 [00:02<00:00,  3.59it/s]\u001b[A"
     ]
    },
    {
     "name": "stdout",
     "output_type": "stream",
     "text": [
      "--------------------------------------------- Result 9 ---------------------------------------------\n",
      "[[0 (89%)]] --> [[1 (63%)]]\n",
      "\n",
      "though respective it draws [[several]] decent laughs , it's low-cal woody at [[best]] .\n",
      "\n",
      "though respective it draws [[sundry]] decent laughs , it's low-cal woody at [[sweetest]] .\n",
      "\n",
      "\n"
     ]
    },
    {
     "name": "stderr",
     "output_type": "stream",
     "text": [
      "\n",
      "[Succeeded / Failed / Skipped / Total] 9 / 0 / 0 / 9: 100%|██████████| 10/10 [00:02<00:00,  3.60it/s]\u001b[A\n",
      "[Succeeded / Failed / Skipped / Total] 10 / 0 / 0 / 10: 100%|██████████| 10/10 [00:02<00:00,  3.59it/s]\u001b[A"
     ]
    },
    {
     "name": "stdout",
     "output_type": "stream",
     "text": [
      "--------------------------------------------- Result 10 ---------------------------------------------\n",
      "[[1 (54%)]] --> [[0 (58%)]]\n",
      "\n",
      "\" frailty \" has been written so well , that even simple \" goddammit ! \" near the end [[takes]] on whole other meaning .\n",
      "\n",
      "\" frailty \" has been written so well , that even simple \" goddammit ! \" near the end [[taking]] on whole other meaning .\n",
      "\n",
      "\n",
      "\n",
      "+-------------------------------+--------+\n",
      "| Attack Results                |        |\n",
      "+-------------------------------+--------+\n",
      "| Number of successful attacks: | 10     |\n",
      "| Number of failed attacks:     | 0      |\n",
      "| Number of skipped attacks:    | 0      |\n",
      "| Original accuracy:            | 100.0% |\n",
      "| Accuracy under attack:        | 0.0%   |\n",
      "| Attack success rate:          | 100.0% |\n",
      "| Average perturbed word %:     | 8.59%  |\n",
      "| Average num. words per input: | 18.1   |\n",
      "| Avg num queries:              | 48.1   |\n",
      "+-------------------------------+--------+"
     ]
    },
    {
     "name": "stderr",
     "output_type": "stream",
     "text": [
      "\n"
     ]
    },
    {
     "name": "stdout",
     "output_type": "stream",
     "text": [
      "\n",
      "Attack(\n",
      "  (search_method): GreedyWordSwapWIR(\n",
      "    (wir_method):  delete\n",
      "  )\n",
      "  (goal_function):  UntargetedClassification\n",
      "  (transformation):  WordSwapEmbedding(\n",
      "    (max_candidates):  50\n",
      "    (embedding):  WordEmbedding\n",
      "  )\n",
      "  (constraints): \n",
      "    (0): WordEmbeddingDistance(\n",
      "        (embedding):  WordEmbedding\n",
      "        (min_cos_sim):  0.5\n",
      "        (cased):  False\n",
      "        (include_unknown_words):  True\n",
      "        (compare_against_original):  True\n",
      "      )\n",
      "    (1): PartOfSpeech(\n",
      "        (tagger_type):  nltk\n",
      "        (tagset):  universal\n",
      "        (allow_verb_noun_swap):  True\n",
      "        (compare_against_original):  True\n",
      "      )\n",
      "    (2): UniversalSentenceEncoder(\n",
      "        (metric):  angular\n",
      "        (threshold):  0.840845057\n",
      "        (window_size):  15\n",
      "        (skip_text_shorter_than_window):  True\n",
      "        (compare_against_original):  False\n",
      "      )\n",
      "    (3): RepeatModification\n",
      "    (4): StopwordModification\n",
      "    (5): InputColumnModification(\n",
      "        (matching_column_labels):  ['premise', 'hypothesis']\n",
      "        (columns_to_ignore):  {'premise'}\n",
      "      )\n",
      "  (is_black_box):  True\n",
      ") \n",
      "\n"
     ]
    },
    {
     "name": "stderr",
     "output_type": "stream",
     "text": [
      "\n",
      "  0%|          | 0/10 [00:00<?, ?it/s]\u001b[A\n",
      "[Succeeded / Failed / Skipped / Total] 0 / 0 / 1 / 1:  10%|█         | 1/10 [00:00<00:00, 128.20it/s]\u001b[A"
     ]
    },
    {
     "name": "stdout",
     "output_type": "stream",
     "text": [
      "--------------------------------------------- Result 1 ---------------------------------------------\n",
      "[[1 (70%)]] --> [[[SKIPPED]]]\n",
      "\n",
      "the cinema is loaded with good intentions , but in his zeal to squeeze the efforts and our emotions into the all-too-familiar dramatic arc of the holocaust escape saga , minac drains his movie of all individuality .\n",
      "\n",
      "\n"
     ]
    },
    {
     "name": "stderr",
     "output_type": "stream",
     "text": [
      "\n",
      "[Succeeded / Failed / Skipped / Total] 0 / 0 / 1 / 1:  20%|██        | 2/10 [00:00<00:01,  5.25it/s] \u001b[A\n",
      "[Succeeded / Failed / Skipped / Total] 1 / 0 / 1 / 2:  20%|██        | 2/10 [00:00<00:01,  5.13it/s]\u001b[A\n",
      "[Succeeded / Failed / Skipped / Total] 1 / 0 / 2 / 3:  30%|███       | 3/10 [00:00<00:00,  7.54it/s]\u001b[A\n",
      "[Succeeded / Failed / Skipped / Total] 1 / 0 / 2 / 3:  40%|████      | 4/10 [00:00<00:00,  7.03it/s]\u001b[A\n",
      "[Succeeded / Failed / Skipped / Total] 2 / 0 / 2 / 4:  40%|████      | 4/10 [00:00<00:00,  6.92it/s]\u001b[A"
     ]
    },
    {
     "name": "stdout",
     "output_type": "stream",
     "text": [
      "--------------------------------------------- Result 2 ---------------------------------------------\n",
      "[[0 (94%)]] --> [[1 (70%)]]\n",
      "\n",
      "an [[annoying]] orgy of [[glut]] and exploitation that has no [[point]] and goes nowhere .\n",
      "\n",
      "an [[infuriating]] orgy of [[saturation]] and exploitation that has no [[question]] and goes nowhere .\n",
      "\n",
      "\n",
      "--------------------------------------------- Result 3 ---------------------------------------------\n",
      "[[1 (64%)]] --> [[[SKIPPED]]]\n",
      "\n",
      "so relentlessly healthier it made me want to swipe something .\n",
      "\n",
      "\n",
      "--------------------------------------------- Result 4 ---------------------------------------------\n",
      "[[0 (54%)]] --> [[1 (70%)]]\n",
      "\n",
      "perfectly pleasant , instantly [[forgettable]] , nothing to write home about .\n",
      "\n",
      "perfectly pleasant , instantly [[insubstantial]] , nothing to write home about .\n",
      "\n",
      "\n"
     ]
    },
    {
     "name": "stderr",
     "output_type": "stream",
     "text": [
      "\n",
      "[Succeeded / Failed / Skipped / Total] 3 / 0 / 2 / 5:  50%|█████     | 5/10 [00:01<00:01,  4.23it/s]\u001b[A"
     ]
    },
    {
     "name": "stdout",
     "output_type": "stream",
     "text": [
      "--------------------------------------------- Result 5 ---------------------------------------------\n",
      "[[1 (95%)]] --> [[0 (56%)]]\n",
      "\n",
      "it's a clear-eyed [[portrait]] of an [[intensely]] lived time , fill with nervous energy , moral ambiguity and [[great]] uncertainties .\n",
      "\n",
      "it's a clear-eyed [[pictured]] of an [[severely]] lived time , fill with nervous energy , moral ambiguity and [[massive]] uncertainties .\n",
      "\n",
      "\n"
     ]
    },
    {
     "name": "stderr",
     "output_type": "stream",
     "text": [
      "\n",
      "[Succeeded / Failed / Skipped / Total] 3 / 0 / 2 / 5:  60%|██████    | 6/10 [00:01<00:01,  3.56it/s]\u001b[A\n",
      "[Succeeded / Failed / Skipped / Total] 4 / 0 / 2 / 6:  60%|██████    | 6/10 [00:01<00:01,  3.54it/s]\u001b[A"
     ]
    },
    {
     "name": "stdout",
     "output_type": "stream",
     "text": [
      "--------------------------------------------- Result 6 ---------------------------------------------\n",
      "[[0 (87%)]] --> [[1 (58%)]]\n",
      "\n",
      "several [[uninteresting]] , unlikeable people do bad things to and with each other in \" [[unfaithful]] . \" why anyone who is not a character in this [[flick]] [[should]] healthcare is beyond me .\n",
      "\n",
      "several [[humdrum]] , unlikeable people do bad things to and with each other in \" [[unfaithfulness]] . \" why anyone who is not a character in this [[cinema]] [[hoped]] healthcare is beyond me .\n",
      "\n",
      "\n"
     ]
    },
    {
     "name": "stderr",
     "output_type": "stream",
     "text": [
      "\n",
      "[Succeeded / Failed / Skipped / Total] 5 / 0 / 2 / 7:  70%|███████   | 7/10 [00:02<00:00,  3.01it/s]\u001b[A\n",
      "[Succeeded / Failed / Skipped / Total] 5 / 0 / 2 / 7:  80%|████████  | 8/10 [00:02<00:00,  3.17it/s]\u001b[A"
     ]
    },
    {
     "name": "stdout",
     "output_type": "stream",
     "text": [
      "--------------------------------------------- Result 7 ---------------------------------------------\n",
      "[[0 (93%)]] --> [[1 (72%)]]\n",
      "\n",
      "a poky and pseudo-serious exert in [[sham]] [[actor]] [[workshops]] and an affected [[malaise]] .\n",
      "\n",
      "a poky and pseudo-serious exert in [[disingenuous]] [[protagonists]] [[symposium]] and an affected [[restlessness]] .\n",
      "\n",
      "\n",
      "--------------------------------------------- Result 8 ---------------------------------------------\n"
     ]
    },
    {
     "name": "stderr",
     "output_type": "stream",
     "text": [
      "\n",
      "[Succeeded / Failed / Skipped / Total] 6 / 0 / 2 / 8:  80%|████████  | 8/10 [00:02<00:00,  3.16it/s]\u001b[A"
     ]
    },
    {
     "name": "stdout",
     "output_type": "stream",
     "text": [
      "[[1 (94%)]] --> [[0 (67%)]]\n",
      "\n",
      "caviezel [[embodies]] the metamorphosis of his character completely .\n",
      "\n",
      "caviezel [[consists]] the metamorphosis of his character completely .\n",
      "\n",
      "\n"
     ]
    },
    {
     "name": "stderr",
     "output_type": "stream",
     "text": [
      "\n",
      "[Succeeded / Failed / Skipped / Total] 7 / 0 / 2 / 9:  90%|█████████ | 9/10 [00:03<00:00,  2.92it/s]\u001b[A"
     ]
    },
    {
     "name": "stdout",
     "output_type": "stream",
     "text": [
      "--------------------------------------------- Result 9 ---------------------------------------------\n",
      "[[1 (96%)]] --> [[0 (63%)]]\n",
      "\n",
      "a [[compelling]] , [[moving]] [[film]] that respects its audience and its wellspring material .\n",
      "\n",
      "a [[compel]] , [[wiggle]] [[theaters]] that respects its audience and its wellspring material .\n",
      "\n",
      "\n"
     ]
    },
    {
     "name": "stderr",
     "output_type": "stream",
     "text": [
      "\n",
      "[Succeeded / Failed / Skipped / Total] 7 / 0 / 2 / 9: 100%|██████████| 10/10 [00:03<00:00,  3.02it/s]\u001b[A\n",
      "[Succeeded / Failed / Skipped / Total] 8 / 0 / 2 / 10: 100%|██████████| 10/10 [00:03<00:00,  3.01it/s]\u001b[A"
     ]
    },
    {
     "name": "stdout",
     "output_type": "stream",
     "text": [
      "--------------------------------------------- Result 10 ---------------------------------------------\n",
      "[[0 (54%)]] --> [[1 (55%)]]\n",
      "\n",
      "that is [[mainly]] what's missing from blackboards -- the sense of something bigger , some ultimate point .\n",
      "\n",
      "that is [[primarily]] what's missing from blackboards -- the sense of something bigger , some ultimate point .\n",
      "\n",
      "\n",
      "\n",
      "+-------------------------------+--------+\n",
      "| Attack Results                |        |\n",
      "+-------------------------------+--------+\n",
      "| Number of successful attacks: | 8      |\n",
      "| Number of failed attacks:     | 0      |\n",
      "| Number of skipped attacks:    | 2      |\n",
      "| Original accuracy:            | 80.0%  |\n",
      "| Accuracy under attack:        | 0.0%   |\n",
      "| Attack success rate:          | 100.0% |\n",
      "| Average perturbed word %:     | 17.24% |\n",
      "| Average num. words per input: | 16.3   |\n",
      "| Avg num queries:              | 75.5   |\n",
      "+-------------------------------+--------+"
     ]
    },
    {
     "name": "stderr",
     "output_type": "stream",
     "text": [
      "\n"
     ]
    },
    {
     "name": "stdout",
     "output_type": "stream",
     "text": [
      "\n",
      "Attack(\n",
      "  (search_method): GreedyWordSwapWIR(\n",
      "    (wir_method):  delete\n",
      "  )\n",
      "  (goal_function):  UntargetedClassification\n",
      "  (transformation):  WordSwapEmbedding(\n",
      "    (max_candidates):  50\n",
      "    (embedding):  WordEmbedding\n",
      "  )\n",
      "  (constraints): \n",
      "    (0): WordEmbeddingDistance(\n",
      "        (embedding):  WordEmbedding\n",
      "        (min_cos_sim):  0.5\n",
      "        (cased):  False\n",
      "        (include_unknown_words):  True\n",
      "        (compare_against_original):  True\n",
      "      )\n",
      "    (1): PartOfSpeech(\n",
      "        (tagger_type):  nltk\n",
      "        (tagset):  universal\n",
      "        (allow_verb_noun_swap):  True\n",
      "        (compare_against_original):  True\n",
      "      )\n",
      "    (2): UniversalSentenceEncoder(\n",
      "        (metric):  angular\n",
      "        (threshold):  0.840845057\n",
      "        (window_size):  15\n",
      "        (skip_text_shorter_than_window):  True\n",
      "        (compare_against_original):  False\n",
      "      )\n",
      "    (3): RepeatModification\n",
      "    (4): StopwordModification\n",
      "    (5): InputColumnModification(\n",
      "        (matching_column_labels):  ['premise', 'hypothesis']\n",
      "        (columns_to_ignore):  {'premise'}\n",
      "      )\n",
      "  (is_black_box):  True\n",
      ") \n",
      "\n"
     ]
    },
    {
     "name": "stderr",
     "output_type": "stream",
     "text": [
      "\n",
      "  0%|          | 0/10 [00:00<?, ?it/s]\u001b[A\n",
      " 10%|█         | 1/10 [00:00<00:05,  1.61it/s]\u001b[A\n",
      "[Succeeded / Failed / Skipped / Total] 1 / 0 / 0 / 1:  10%|█         | 1/10 [00:00<00:05,  1.57it/s]\u001b[A"
     ]
    },
    {
     "name": "stdout",
     "output_type": "stream",
     "text": [
      "--------------------------------------------- Result 1 ---------------------------------------------\n",
      "[[0 (89%)]] --> [[1 (59%)]]\n",
      "\n",
      "the opera was [[so]] [[uninspiring]] that even a story immersed in love , lust , and sin couldn't keep my [[attention]] .\n",
      "\n",
      "the opera was [[well]] [[humdrum]] that even a story immersed in love , lust , and sin couldn't keep my [[emphasis]] .\n",
      "\n",
      "\n"
     ]
    },
    {
     "name": "stderr",
     "output_type": "stream",
     "text": [
      "\n",
      "[Succeeded / Failed / Skipped / Total] 1 / 0 / 0 / 1:  20%|██        | 2/10 [00:01<00:04,  1.92it/s]\u001b[A\n",
      "[Succeeded / Failed / Skipped / Total] 2 / 0 / 0 / 2:  20%|██        | 2/10 [00:01<00:04,  1.90it/s]\u001b[A"
     ]
    },
    {
     "name": "stdout",
     "output_type": "stream",
     "text": [
      "--------------------------------------------- Result 2 ---------------------------------------------\n",
      "[[1 (90%)]] --> [[0 (50%)]]\n",
      "\n",
      "what makes this film extraordinaire is serry's [[ability]] to take what is essentially a contained family conflict and put it into a much akbar historical [[context]] .\n",
      "\n",
      "what makes this film extraordinaire is serry's [[prerogatives]] to take what is essentially a contained family conflict and put it into a much akbar historical [[background]] .\n",
      "\n",
      "\n"
     ]
    },
    {
     "name": "stderr",
     "output_type": "stream",
     "text": [
      "\n",
      "[Succeeded / Failed / Skipped / Total] 2 / 0 / 0 / 2:  30%|███       | 3/10 [00:01<00:04,  1.68it/s]\u001b[A\n",
      "[Succeeded / Failed / Skipped / Total] 3 / 0 / 0 / 3:  30%|███       | 3/10 [00:01<00:04,  1.67it/s]\u001b[A\n",
      "[Succeeded / Failed / Skipped / Total] 3 / 0 / 1 / 4:  40%|████      | 4/10 [00:01<00:02,  2.22it/s]\u001b[A"
     ]
    },
    {
     "name": "stdout",
     "output_type": "stream",
     "text": [
      "--------------------------------------------- Result 3 ---------------------------------------------\n",
      "[[0 (91%)]] --> [[1 (77%)]]\n",
      "\n",
      "the [[people]] in [[abc]] africa are [[treated]] as [[dutiful]] , mostly wordless ethnographic [[extras]] .\n",
      "\n",
      "the [[individuals]] in [[fundamentals]] africa are [[transformed]] as [[respectful]] , mostly wordless ethnographic [[complementary]] .\n",
      "\n",
      "\n",
      "--------------------------------------------- Result 4 ---------------------------------------------\n",
      "[[0 (60%)]] --> [[[SKIPPED]]]\n",
      "\n",
      "nothing can detract from the affection of that moral favored : friends will be friends through thick and thin .\n",
      "\n",
      "\n"
     ]
    },
    {
     "name": "stderr",
     "output_type": "stream",
     "text": [
      "\n",
      "[Succeeded / Failed / Skipped / Total] 3 / 0 / 1 / 4:  50%|█████     | 5/10 [00:02<00:02,  2.45it/s]\u001b[A\n",
      "[Succeeded / Failed / Skipped / Total] 4 / 0 / 1 / 5:  50%|█████     | 5/10 [00:02<00:02,  2.44it/s]\u001b[A"
     ]
    },
    {
     "name": "stdout",
     "output_type": "stream",
     "text": [
      "--------------------------------------------- Result 5 ---------------------------------------------\n",
      "[[0 (93%)]] --> [[1 (54%)]]\n",
      "\n",
      "what a [[shame]] . . . that the material is so second-rate .\n",
      "\n",
      "what a [[humbled]] . . . that the material is so second-rate .\n",
      "\n",
      "\n"
     ]
    },
    {
     "name": "stderr",
     "output_type": "stream",
     "text": [
      "\n",
      "[Succeeded / Failed / Skipped / Total] 4 / 1 / 1 / 6:  60%|██████    | 6/10 [00:02<00:01,  2.49it/s]\u001b[A"
     ]
    },
    {
     "name": "stdout",
     "output_type": "stream",
     "text": [
      "--------------------------------------------- Result 6 ---------------------------------------------\n",
      "[[0 (95%)]] --> [[[FAILED]]]\n",
      "\n",
      "too much of it believes unfocused and underdeveloped .\n",
      "\n",
      "\n"
     ]
    },
    {
     "name": "stderr",
     "output_type": "stream",
     "text": [
      "\n",
      "[Succeeded / Failed / Skipped / Total] 4 / 1 / 1 / 6:  70%|███████   | 7/10 [00:02<00:01,  2.59it/s]\u001b[A\n",
      "[Succeeded / Failed / Skipped / Total] 5 / 1 / 1 / 7:  70%|███████   | 7/10 [00:02<00:01,  2.59it/s]\u001b[A"
     ]
    },
    {
     "name": "stdout",
     "output_type": "stream",
     "text": [
      "--------------------------------------------- Result 7 ---------------------------------------------\n",
      "[[0 (94%)]] --> [[1 (96%)]]\n",
      "\n",
      "[[overly]] longue and worshipful bio-doc .\n",
      "\n",
      "[[tremendously]] longue and worshipful bio-doc .\n",
      "\n",
      "\n"
     ]
    },
    {
     "name": "stderr",
     "output_type": "stream",
     "text": [
      "\n",
      "[Succeeded / Failed / Skipped / Total] 6 / 1 / 1 / 8:  80%|████████  | 8/10 [00:02<00:00,  2.73it/s]\u001b[A"
     ]
    },
    {
     "name": "stdout",
     "output_type": "stream",
     "text": [
      "--------------------------------------------- Result 8 ---------------------------------------------\n",
      "[[0 (63%)]] --> [[1 (53%)]]\n",
      "\n",
      "it has more in common with a fireworks displayed than a movie , which [[normally]] is expected to have traits and a storyline .\n",
      "\n",
      "it has more in common with a fireworks displayed than a movie , which [[ordinarily]] is expected to have traits and a storyline .\n",
      "\n",
      "\n"
     ]
    },
    {
     "name": "stderr",
     "output_type": "stream",
     "text": [
      "\n",
      "[Succeeded / Failed / Skipped / Total] 6 / 1 / 1 / 8:  90%|█████████ | 9/10 [00:03<00:00,  2.82it/s]\u001b[A\n",
      "[Succeeded / Failed / Skipped / Total] 7 / 1 / 1 / 9:  90%|█████████ | 9/10 [00:03<00:00,  2.82it/s]\u001b[A"
     ]
    },
    {
     "name": "stdout",
     "output_type": "stream",
     "text": [
      "--------------------------------------------- Result 9 ---------------------------------------------\n",
      "[[1 (93%)]] --> [[0 (53%)]]\n",
      "\n",
      "my wife is an actress is an utterly [[charming]] french charade that feels so americans in sensibility and style it's virtually its own [[hollywood]] remake .\n",
      "\n",
      "my wife is an actress is an utterly [[cutie]] french charade that feels so americans in sensibility and style it's virtually its own [[celebs]] remake .\n",
      "\n",
      "\n"
     ]
    },
    {
     "name": "stderr",
     "output_type": "stream",
     "text": [
      "\n",
      "[Succeeded / Failed / Skipped / Total] 8 / 1 / 1 / 10: 100%|██████████| 10/10 [00:03<00:00,  2.68it/s]\u001b[A"
     ]
    },
    {
     "name": "stdout",
     "output_type": "stream",
     "text": [
      "--------------------------------------------- Result 10 ---------------------------------------------\n",
      "[[1 (95%)]] --> [[0 (88%)]]\n",
      "\n",
      "one of the most [[significant]] moviegoing [[pleasures]] of the [[annum]] .\n",
      "\n",
      "one of the most [[cannot]] moviegoing [[droll]] of the [[sunni]] .\n",
      "\n",
      "\n",
      "\n",
      "+-------------------------------+--------+\n",
      "| Attack Results                |        |\n",
      "+-------------------------------+--------+\n",
      "| Number of successful attacks: | 8      |\n",
      "| Number of failed attacks:     | 1      |\n",
      "| Number of skipped attacks:    | 1      |\n",
      "| Original accuracy:            | 90.0%  |\n",
      "| Accuracy under attack:        | 10.0%  |\n",
      "| Attack success rate:          | 88.89% |\n",
      "| Average perturbed word %:     | 16.95% |\n",
      "| Average num. words per input: | 15.5   |\n",
      "| Avg num queries:              | 76.56  |\n",
      "+-------------------------------+--------+\n"
     ]
    },
    {
     "name": "stderr",
     "output_type": "stream",
     "text": [
      "\n"
     ]
    },
    {
     "name": "stdout",
     "output_type": "stream",
     "text": [
      "Attack(\n",
      "  (search_method): GreedyWordSwapWIR(\n",
      "    (wir_method):  delete\n",
      "  )\n",
      "  (goal_function):  UntargetedClassification\n",
      "  (transformation):  WordSwapEmbedding(\n",
      "    (max_candidates):  50\n",
      "    (embedding):  WordEmbedding\n",
      "  )\n",
      "  (constraints): \n",
      "    (0): WordEmbeddingDistance(\n",
      "        (embedding):  WordEmbedding\n",
      "        (min_cos_sim):  0.5\n",
      "        (cased):  False\n",
      "        (include_unknown_words):  True\n",
      "        (compare_against_original):  True\n",
      "      )\n",
      "    (1): PartOfSpeech(\n",
      "        (tagger_type):  nltk\n",
      "        (tagset):  universal\n",
      "        (allow_verb_noun_swap):  True\n",
      "        (compare_against_original):  True\n",
      "      )\n",
      "    (2): UniversalSentenceEncoder(\n",
      "        (metric):  angular\n",
      "        (threshold):  0.840845057\n",
      "        (window_size):  15\n",
      "        (skip_text_shorter_than_window):  True\n",
      "        (compare_against_original):  False\n",
      "      )\n",
      "    (3): RepeatModification\n",
      "    (4): StopwordModification\n",
      "    (5): InputColumnModification(\n",
      "        (matching_column_labels):  ['premise', 'hypothesis']\n",
      "        (columns_to_ignore):  {'premise'}\n",
      "      )\n",
      "  (is_black_box):  True\n",
      ") \n",
      "\n"
     ]
    },
    {
     "name": "stderr",
     "output_type": "stream",
     "text": [
      "\n",
      "  0%|          | 0/10 [00:00<?, ?it/s]\u001b[A\n",
      "[Succeeded / Failed / Skipped / Total] 0 / 0 / 1 / 1:  10%|█         | 1/10 [00:00<00:00, 124.81it/s]\u001b[A"
     ]
    },
    {
     "name": "stdout",
     "output_type": "stream",
     "text": [
      "--------------------------------------------- Result 1 ---------------------------------------------\n",
      "[[0 (51%)]] --> [[[SKIPPED]]]\n",
      "\n",
      "os problemas têm início a partir do momento em que saímos do filmmaking e começamos a pensar sobre o que acabamos de ver . É então que sinais parece desaponta .\n",
      "\n",
      "\n"
     ]
    },
    {
     "name": "stderr",
     "output_type": "stream",
     "text": [
      "\n",
      "[Succeeded / Failed / Skipped / Total] 0 / 0 / 1 / 1:  20%|██        | 2/10 [00:00<00:01,  7.39it/s] \u001b[A\n",
      "[Succeeded / Failed / Skipped / Total] 1 / 0 / 1 / 2:  20%|██        | 2/10 [00:00<00:01,  7.11it/s]\u001b[A"
     ]
    },
    {
     "name": "stdout",
     "output_type": "stream",
     "text": [
      "--------------------------------------------- Result 2 ---------------------------------------------\n",
      "[[1 (94%)]] --> [[0 (81%)]]\n",
      "\n",
      "from the dull , surreal ache of homicidal awareness emerges a [[radiant]] character portrait .\n",
      "\n",
      "from the dull , surreal ache of homicidal awareness emerges a [[irradiated]] character portrait .\n",
      "\n",
      "\n"
     ]
    },
    {
     "name": "stderr",
     "output_type": "stream",
     "text": [
      "\n",
      "[Succeeded / Failed / Skipped / Total] 2 / 0 / 1 / 3:  30%|███       | 3/10 [00:00<00:01,  5.23it/s]\u001b[A"
     ]
    },
    {
     "name": "stdout",
     "output_type": "stream",
     "text": [
      "--------------------------------------------- Result 3 ---------------------------------------------\n",
      "[[1 (92%)]] --> [[0 (76%)]]\n",
      "\n",
      "the film has just enough of everything -- re-enactments , archival footage , talking-head interviews -- and the music is simply [[gorgeous]] .\n",
      "\n",
      "the film has just enough of everything -- re-enactments , archival footage , talking-head interviews -- and the music is simply [[magnifique]] .\n",
      "\n",
      "\n"
     ]
    },
    {
     "name": "stderr",
     "output_type": "stream",
     "text": [
      "\n",
      "[Succeeded / Failed / Skipped / Total] 2 / 0 / 1 / 3:  40%|████      | 4/10 [00:01<00:02,  2.15it/s]\u001b[A\n",
      "[Succeeded / Failed / Skipped / Total] 2 / 1 / 1 / 4:  40%|████      | 4/10 [00:01<00:02,  2.15it/s]\u001b[A\n",
      "[Succeeded / Failed / Skipped / Total] 2 / 1 / 2 / 5:  50%|█████     | 5/10 [00:01<00:01,  2.67it/s]\u001b[A"
     ]
    },
    {
     "name": "stdout",
     "output_type": "stream",
     "text": [
      "--------------------------------------------- Result 4 ---------------------------------------------\n",
      "[[0 (91%)]] --> [[[FAILED]]]\n",
      "\n",
      "it's not helpful to hear to extremist name-calling , irrespective of whether you think kissinger was a calculating fiend or just a slippery self-promoter .\n",
      "\n",
      "\n",
      "--------------------------------------------- Result 5 ---------------------------------------------\n",
      "[[0 (69%)]] --> [[[SKIPPED]]]\n",
      "\n",
      "the date films that franz kafka would have made .\n",
      "\n",
      "\n"
     ]
    },
    {
     "name": "stderr",
     "output_type": "stream",
     "text": [
      "\n",
      "[Succeeded / Failed / Skipped / Total] 2 / 1 / 2 / 5:  60%|██████    | 6/10 [00:02<00:01,  2.58it/s]\u001b[A\n",
      "[Succeeded / Failed / Skipped / Total] 3 / 1 / 2 / 6:  60%|██████    | 6/10 [00:02<00:01,  2.57it/s]\u001b[A"
     ]
    },
    {
     "name": "stdout",
     "output_type": "stream",
     "text": [
      "--------------------------------------------- Result 6 ---------------------------------------------\n",
      "[[1 (91%)]] --> [[0 (69%)]]\n",
      "\n",
      "kaufman [[creates]] an [[eerie]] feeling of not only being there at the time of these events but the very night matthew was assassination .\n",
      "\n",
      "kaufman [[crea]] an [[ominous]] feeling of not only being there at the time of these events but the very night matthew was assassination .\n",
      "\n",
      "\n"
     ]
    },
    {
     "name": "stderr",
     "output_type": "stream",
     "text": [
      "\n",
      "[Succeeded / Failed / Skipped / Total] 4 / 1 / 2 / 7:  70%|███████   | 7/10 [00:03<00:01,  2.19it/s]\u001b[A"
     ]
    },
    {
     "name": "stdout",
     "output_type": "stream",
     "text": [
      "--------------------------------------------- Result 7 ---------------------------------------------\n",
      "[[1 (96%)]] --> [[0 (57%)]]\n",
      "\n",
      "all-in-all , the films is an [[enjoyable]] and frankly [[told]] [[saga]] of a [[people]] who live among us , but not [[necessarily]] with us .\n",
      "\n",
      "all-in-all , the films is an [[lovable]] and frankly [[saying]] [[tales]] of a [[humans]] who live among us , but not [[definitively]] with us .\n",
      "\n",
      "\n"
     ]
    },
    {
     "name": "stderr",
     "output_type": "stream",
     "text": [
      "\n",
      "[Succeeded / Failed / Skipped / Total] 4 / 1 / 2 / 7:  80%|████████  | 8/10 [00:03<00:00,  2.33it/s]\u001b[A\n",
      "[Succeeded / Failed / Skipped / Total] 5 / 1 / 2 / 8:  80%|████████  | 8/10 [00:03<00:00,  2.32it/s]\u001b[A"
     ]
    },
    {
     "name": "stdout",
     "output_type": "stream",
     "text": [
      "--------------------------------------------- Result 8 ---------------------------------------------\n",
      "[[1 (87%)]] --> [[0 (55%)]]\n",
      "\n",
      "a [[thriller]] with an edge -- which is to say that it doesn't follow the [[stale]] , standard , connect-the-dots storyline which has become commonplace in filmmaking that examine the seamy underbelly of the criminal global .\n",
      "\n",
      "a [[thrillers]] with an edge -- which is to say that it doesn't follow the [[elapsed]] , standard , connect-the-dots storyline which has become commonplace in filmmaking that examine the seamy underbelly of the criminal global .\n",
      "\n",
      "\n"
     ]
    },
    {
     "name": "stderr",
     "output_type": "stream",
     "text": [
      "\n",
      "[Succeeded / Failed / Skipped / Total] 6 / 1 / 2 / 9:  90%|█████████ | 9/10 [00:04<00:00,  2.16it/s]\u001b[A"
     ]
    },
    {
     "name": "stdout",
     "output_type": "stream",
     "text": [
      "--------------------------------------------- Result 9 ---------------------------------------------\n",
      "[[0 (91%)]] --> [[1 (65%)]]\n",
      "\n",
      "we are [[left]] with a [[superficial]] [[snapshot]] that , albeit [[engaging]] , is insufficiently enlightening and [[inviting]] .\n",
      "\n",
      "we are [[let]] with a [[conspicuous]] [[instantaneously]] that , albeit [[incur]] , is insufficiently enlightening and [[please]] .\n",
      "\n",
      "\n"
     ]
    },
    {
     "name": "stderr",
     "output_type": "stream",
     "text": [
      "\n",
      "[Succeeded / Failed / Skipped / Total] 6 / 1 / 2 / 9: 100%|██████████| 10/10 [00:04<00:00,  2.17it/s]\u001b[A\n",
      "[Succeeded / Failed / Skipped / Total] 7 / 1 / 2 / 10: 100%|██████████| 10/10 [00:04<00:00,  2.16it/s]\u001b[A"
     ]
    },
    {
     "name": "stdout",
     "output_type": "stream",
     "text": [
      "--------------------------------------------- Result 10 ---------------------------------------------\n",
      "[[0 (92%)]] --> [[1 (88%)]]\n",
      "\n",
      "a [[twit]] , self-indulgent film about a [[silly]] , self-indulgent filmmaker .\n",
      "\n",
      "a [[punchy]] , self-indulgent film about a [[laughable]] , self-indulgent filmmaker .\n",
      "\n",
      "\n",
      "\n",
      "+-------------------------------+--------+\n",
      "| Attack Results                |        |\n",
      "+-------------------------------+--------+\n",
      "| Number of successful attacks: | 7      |\n",
      "| Number of failed attacks:     | 1      |\n",
      "| Number of skipped attacks:    | 2      |\n",
      "| Original accuracy:            | 80.0%  |\n",
      "| Accuracy under attack:        | 10.0%  |\n",
      "| Attack success rate:          | 87.5%  |\n",
      "| Average perturbed word %:     | 15.18% |\n",
      "| Average num. words per input: | 19.4   |\n",
      "| Avg num queries:              | 107.38 |\n",
      "+-------------------------------+--------+"
     ]
    },
    {
     "name": "stderr",
     "output_type": "stream",
     "text": [
      "\n"
     ]
    },
    {
     "name": "stdout",
     "output_type": "stream",
     "text": [
      "\n",
      "Attack(\n",
      "  (search_method): GreedyWordSwapWIR(\n",
      "    (wir_method):  delete\n",
      "  )\n",
      "  (goal_function):  UntargetedClassification\n",
      "  (transformation):  WordSwapEmbedding(\n",
      "    (max_candidates):  50\n",
      "    (embedding):  WordEmbedding\n",
      "  )\n",
      "  (constraints): \n",
      "    (0): WordEmbeddingDistance(\n",
      "        (embedding):  WordEmbedding\n",
      "        (min_cos_sim):  0.5\n",
      "        (cased):  False\n",
      "        (include_unknown_words):  True\n",
      "        (compare_against_original):  True\n",
      "      )\n",
      "    (1): PartOfSpeech(\n",
      "        (tagger_type):  nltk\n",
      "        (tagset):  universal\n",
      "        (allow_verb_noun_swap):  True\n",
      "        (compare_against_original):  True\n",
      "      )\n",
      "    (2): UniversalSentenceEncoder(\n",
      "        (metric):  angular\n",
      "        (threshold):  0.840845057\n",
      "        (window_size):  15\n",
      "        (skip_text_shorter_than_window):  True\n",
      "        (compare_against_original):  False\n",
      "      )\n",
      "    (3): RepeatModification\n",
      "    (4): StopwordModification\n",
      "    (5): InputColumnModification(\n",
      "        (matching_column_labels):  ['premise', 'hypothesis']\n",
      "        (columns_to_ignore):  {'premise'}\n",
      "      )\n",
      "  (is_black_box):  True\n",
      ") \n",
      "\n"
     ]
    },
    {
     "name": "stderr",
     "output_type": "stream",
     "text": [
      "\n",
      "  0%|          | 0/10 [00:00<?, ?it/s]\u001b[A\n",
      " 10%|█         | 1/10 [00:00<00:02,  4.10it/s]\u001b[A\n",
      "[Succeeded / Failed / Skipped / Total] 1 / 0 / 0 / 1:  10%|█         | 1/10 [00:00<00:02,  3.91it/s]\u001b[A"
     ]
    },
    {
     "name": "stdout",
     "output_type": "stream",
     "text": [
      "--------------------------------------------- Result 1 ---------------------------------------------\n",
      "[[0 (94%)]] --> [[1 (84%)]]\n",
      "\n",
      "much-anticipated and finally [[lackluster]] movie .\n",
      "\n",
      "much-anticipated and finally [[lethargic]] movie .\n",
      "\n",
      "\n"
     ]
    },
    {
     "name": "stderr",
     "output_type": "stream",
     "text": [
      "\n",
      "[Succeeded / Failed / Skipped / Total] 1 / 0 / 0 / 1:  20%|██        | 2/10 [00:00<00:02,  3.70it/s]\u001b[A\n",
      "[Succeeded / Failed / Skipped / Total] 2 / 0 / 0 / 2:  20%|██        | 2/10 [00:00<00:02,  3.63it/s]\u001b[A\n",
      "[Succeeded / Failed / Skipped / Total] 2 / 0 / 1 / 3:  30%|███       | 3/10 [00:00<00:01,  5.36it/s]\u001b[A"
     ]
    },
    {
     "name": "stdout",
     "output_type": "stream",
     "text": [
      "--------------------------------------------- Result 2 ---------------------------------------------\n",
      "[[0 (85%)]] --> [[1 (77%)]]\n",
      "\n",
      "it's better suited for the historian or biography channel , but there's no arguing the tone of the film - it leaves a [[mala]] taste in your mouth and questions on your mind .\n",
      "\n",
      "it's better suited for the historian or biography channel , but there's no arguing the tone of the film - it leaves a [[untoward]] taste in your mouth and questions on your mind .\n",
      "\n",
      "\n",
      "--------------------------------------------- Result 3 ---------------------------------------------\n",
      "[[1 (87%)]] --> [[[SKIPPED]]]\n",
      "\n",
      "beautifully dopey .\n",
      "\n",
      "\n"
     ]
    },
    {
     "name": "stderr",
     "output_type": "stream",
     "text": [
      "\n",
      "[Succeeded / Failed / Skipped / Total] 2 / 0 / 1 / 3:  40%|████      | 4/10 [00:01<00:02,  2.96it/s]\u001b[A\n",
      "[Succeeded / Failed / Skipped / Total] 3 / 0 / 1 / 4:  40%|████      | 4/10 [00:01<00:02,  2.92it/s]\u001b[A"
     ]
    },
    {
     "name": "stdout",
     "output_type": "stream",
     "text": [
      "--------------------------------------------- Result 4 ---------------------------------------------\n",
      "[[1 (95%)]] --> [[0 (81%)]]\n",
      "\n",
      "despite its [[frailties]] , crazy as hell [[marks]] an [[encouraging]] new direction for la [[salle]] .\n",
      "\n",
      "despite its [[palaces]] , crazy as hell [[labels]] an [[incite]] new direction for la [[desk]] .\n",
      "\n",
      "\n"
     ]
    },
    {
     "name": "stderr",
     "output_type": "stream",
     "text": [
      "\n",
      "[Succeeded / Failed / Skipped / Total] 4 / 0 / 1 / 5:  50%|█████     | 5/10 [00:01<00:01,  2.80it/s]\u001b[A"
     ]
    },
    {
     "name": "stdout",
     "output_type": "stream",
     "text": [
      "--------------------------------------------- Result 5 ---------------------------------------------\n",
      "[[0 (88%)]] --> [[1 (67%)]]\n",
      "\n",
      "that frenetic show [on the tv exhibition] has [[usually]] been leavened by a charm that's conspicuously [[missing]] from the girls' big-screen blowout .\n",
      "\n",
      "that frenetic show [on the tv exhibition] has [[widely]] been leavened by a charm that's conspicuously [[parti]] from the girls' big-screen blowout .\n",
      "\n",
      "\n"
     ]
    },
    {
     "name": "stderr",
     "output_type": "stream",
     "text": [
      "\n",
      "[Succeeded / Failed / Skipped / Total] 4 / 0 / 1 / 5:  60%|██████    | 6/10 [00:02<00:01,  2.68it/s]\u001b[A\n",
      "[Succeeded / Failed / Skipped / Total] 5 / 0 / 1 / 6:  60%|██████    | 6/10 [00:02<00:01,  2.66it/s]\u001b[A"
     ]
    },
    {
     "name": "stdout",
     "output_type": "stream",
     "text": [
      "--------------------------------------------- Result 6 ---------------------------------------------\n",
      "[[1 (95%)]] --> [[0 (51%)]]\n",
      "\n",
      "kinnear doesn't aim for our sympathy , but rather [[delivers]] a performance of [[striking]] skill and [[depths]] .\n",
      "\n",
      "kinnear doesn't aim for our sympathy , but rather [[prescribes]] a performance of [[whopping]] skill and [[shum]] .\n",
      "\n",
      "\n"
     ]
    },
    {
     "name": "stderr",
     "output_type": "stream",
     "text": [
      "\n",
      "[Succeeded / Failed / Skipped / Total] 6 / 0 / 1 / 7:  70%|███████   | 7/10 [00:02<00:01,  2.67it/s]\u001b[A"
     ]
    },
    {
     "name": "stdout",
     "output_type": "stream",
     "text": [
      "--------------------------------------------- Result 7 ---------------------------------------------\n",
      "[[0 (92%)]] --> [[1 (53%)]]\n",
      "\n",
      "granted too [[much]] time to consider the looseness of the piece , the picture launch to [[resemble]] the [[shapeless]] , grasping actors' workshop that it is .\n",
      "\n",
      "granted too [[quite]] time to consider the looseness of the piece , the picture launch to [[evoke]] the [[poofy]] , grasping actors' workshop that it is .\n",
      "\n",
      "\n"
     ]
    },
    {
     "name": "stderr",
     "output_type": "stream",
     "text": [
      "\n",
      "[Succeeded / Failed / Skipped / Total] 6 / 0 / 1 / 7:  80%|████████  | 8/10 [00:03<00:00,  2.45it/s]\u001b[A\n",
      "[Succeeded / Failed / Skipped / Total] 7 / 0 / 1 / 8:  80%|████████  | 8/10 [00:03<00:00,  2.44it/s]\u001b[A\n",
      "[Succeeded / Failed / Skipped / Total] 7 / 0 / 2 / 9:  90%|█████████ | 9/10 [00:03<00:00,  2.74it/s]\u001b[A"
     ]
    },
    {
     "name": "stdout",
     "output_type": "stream",
     "text": [
      "--------------------------------------------- Result 8 ---------------------------------------------\n",
      "[[1 (95%)]] --> [[0 (85%)]]\n",
      "\n",
      "what bubbles up out of john c . walsh's tubing [[dream]] is the [[distinct]] and very [[welcome]] sense of watching [[intelligent]] people making a filmmaking they might actually wish to watch .\n",
      "\n",
      "what bubbles up out of john c . walsh's tubing [[dreaming]] is the [[dissimilar]] and very [[greet]] sense of watching [[brainy]] people making a filmmaking they might actually wish to watch .\n",
      "\n",
      "\n",
      "--------------------------------------------- Result 9 ---------------------------------------------\n",
      "[[1 (91%)]] --> [[[SKIPPED]]]\n",
      "\n",
      "its message has merit and , in the hands of a mercilessly honest person like prophet jack , might have made a point or two regarding life .\n",
      "\n",
      "\n"
     ]
    },
    {
     "name": "stderr",
     "output_type": "stream",
     "text": [
      "\n",
      "[Succeeded / Failed / Skipped / Total] 7 / 0 / 2 / 9: 100%|██████████| 10/10 [00:03<00:00,  2.74it/s]\u001b[A\n",
      "[Succeeded / Failed / Skipped / Total] 8 / 0 / 2 / 10: 100%|██████████| 10/10 [00:03<00:00,  2.73it/s]\u001b[A"
     ]
    },
    {
     "name": "stdout",
     "output_type": "stream",
     "text": [
      "--------------------------------------------- Result 10 ---------------------------------------------\n",
      "[[0 (93%)]] --> [[1 (56%)]]\n",
      "\n",
      "sunshine state surveys the landscape and assesses the issues with a definite passion for sociology . but the cinematography is [[cloudy]] , the photo [[making]] [[becalmed]] .\n",
      "\n",
      "sunshine state surveys the landscape and assesses the issues with a definite passion for sociology . but the cinematography is [[clouds]] , the photo [[bringing]] [[shipwrecked]] .\n",
      "\n",
      "\n",
      "\n",
      "+-------------------------------+--------+\n",
      "| Attack Results                |        |\n",
      "+-------------------------------+--------+\n",
      "| Number of successful attacks: | 8      |\n",
      "| Number of failed attacks:     | 0      |\n",
      "| Number of skipped attacks:    | 2      |\n",
      "| Original accuracy:            | 80.0%  |\n",
      "| Accuracy under attack:        | 0.0%   |\n",
      "| Attack success rate:          | 100.0% |\n",
      "| Average perturbed word %:     | 14.75% |\n",
      "| Average num. words per input: | 19.3   |\n",
      "| Avg num queries:              | 81.25  |\n",
      "+-------------------------------+--------+"
     ]
    },
    {
     "name": "stderr",
     "output_type": "stream",
     "text": [
      "\n"
     ]
    },
    {
     "name": "stdout",
     "output_type": "stream",
     "text": [
      "\n",
      "Attack(\n",
      "  (search_method): GreedyWordSwapWIR(\n",
      "    (wir_method):  delete\n",
      "  )\n",
      "  (goal_function):  UntargetedClassification\n",
      "  (transformation):  WordSwapEmbedding(\n",
      "    (max_candidates):  50\n",
      "    (embedding):  WordEmbedding\n",
      "  )\n",
      "  (constraints): \n",
      "    (0): WordEmbeddingDistance(\n",
      "        (embedding):  WordEmbedding\n",
      "        (min_cos_sim):  0.5\n",
      "        (cased):  False\n",
      "        (include_unknown_words):  True\n",
      "        (compare_against_original):  True\n",
      "      )\n",
      "    (1): PartOfSpeech(\n",
      "        (tagger_type):  nltk\n",
      "        (tagset):  universal\n",
      "        (allow_verb_noun_swap):  True\n",
      "        (compare_against_original):  True\n",
      "      )\n",
      "    (2): UniversalSentenceEncoder(\n",
      "        (metric):  angular\n",
      "        (threshold):  0.840845057\n",
      "        (window_size):  15\n",
      "        (skip_text_shorter_than_window):  True\n",
      "        (compare_against_original):  False\n",
      "      )\n",
      "    (3): RepeatModification\n",
      "    (4): StopwordModification\n",
      "    (5): InputColumnModification(\n",
      "        (matching_column_labels):  ['premise', 'hypothesis']\n",
      "        (columns_to_ignore):  {'premise'}\n",
      "      )\n",
      "  (is_black_box):  True\n",
      ") \n",
      "\n"
     ]
    },
    {
     "name": "stderr",
     "output_type": "stream",
     "text": [
      "\n",
      "  0%|          | 0/10 [00:00<?, ?it/s]\u001b[A\n",
      " 10%|█         | 1/10 [00:00<00:01,  6.87it/s]\u001b[A\n",
      "[Succeeded / Failed / Skipped / Total] 1 / 0 / 0 / 1:  10%|█         | 1/10 [00:00<00:01,  6.40it/s]\u001b[A"
     ]
    },
    {
     "name": "stdout",
     "output_type": "stream",
     "text": [
      "--------------------------------------------- Result 1 ---------------------------------------------\n",
      "[[0 (68%)]] --> [[1 (63%)]]\n",
      "\n",
      "scary but [[ultimately]] unsatisfying thriller .\n",
      "\n",
      "scary but [[lastly]] unsatisfying thriller .\n",
      "\n",
      "\n"
     ]
    },
    {
     "name": "stderr",
     "output_type": "stream",
     "text": [
      "\n",
      "[Succeeded / Failed / Skipped / Total] 1 / 0 / 0 / 1:  20%|██        | 2/10 [00:00<00:02,  3.30it/s]\u001b[A\n",
      "[Succeeded / Failed / Skipped / Total] 2 / 0 / 0 / 2:  20%|██        | 2/10 [00:00<00:02,  3.24it/s]\u001b[A"
     ]
    },
    {
     "name": "stdout",
     "output_type": "stream",
     "text": [
      "--------------------------------------------- Result 2 ---------------------------------------------\n",
      "[[1 (94%)]] --> [[0 (55%)]]\n",
      "\n",
      "nearly surreal , dabbling in french , this is no [[simpler]] filmmaking , and you'll be taking a risk if you selecting to see it . i [[enjoyed]] the ride ( bumps and all ) , creamy depth , and [[ultimate]] theme .\n",
      "\n",
      "nearly surreal , dabbling in french , this is no [[ease]] filmmaking , and you'll be taking a risk if you selecting to see it . i [[rained]] the ride ( bumps and all ) , creamy depth , and [[last]] theme .\n",
      "\n",
      "\n"
     ]
    },
    {
     "name": "stderr",
     "output_type": "stream",
     "text": [
      "\n",
      "[Succeeded / Failed / Skipped / Total] 2 / 0 / 0 / 2:  30%|███       | 3/10 [00:00<00:01,  3.67it/s]\u001b[A\n",
      "[Succeeded / Failed / Skipped / Total] 3 / 0 / 0 / 3:  30%|███       | 3/10 [00:00<00:01,  3.62it/s]\u001b[A"
     ]
    },
    {
     "name": "stdout",
     "output_type": "stream",
     "text": [
      "--------------------------------------------- Result 3 ---------------------------------------------\n",
      "[[0 (92%)]] --> [[1 (52%)]]\n",
      "\n",
      "just entertaining enough not to hatred , too [[mediocre]] to love .\n",
      "\n",
      "just entertaining enough not to hatred , too [[destitute]] to love .\n",
      "\n",
      "\n"
     ]
    },
    {
     "name": "stderr",
     "output_type": "stream",
     "text": [
      "\n",
      "[Succeeded / Failed / Skipped / Total] 3 / 0 / 0 / 3:  40%|████      | 4/10 [00:01<00:02,  2.51it/s]\u001b[A\n",
      "[Succeeded / Failed / Skipped / Total] 4 / 0 / 0 / 4:  40%|████      | 4/10 [00:01<00:02,  2.49it/s]\u001b[A\n",
      "[Succeeded / Failed / Skipped / Total] 4 / 0 / 1 / 5:  50%|█████     | 5/10 [00:01<00:01,  3.09it/s]\u001b[A\n",
      "[Succeeded / Failed / Skipped / Total] 4 / 0 / 2 / 6:  60%|██████    | 6/10 [00:01<00:01,  3.69it/s]\u001b[A"
     ]
    },
    {
     "name": "stdout",
     "output_type": "stream",
     "text": [
      "--------------------------------------------- Result 4 ---------------------------------------------\n",
      "[[0 (93%)]] --> [[1 (59%)]]\n",
      "\n",
      "[[killings]] and mayhem of this [[sort]] [[quickly]] [[becomes]] [[monotonous]] .\n",
      "\n",
      "[[killing]] and mayhem of this [[genders]] [[swiftly]] [[achieves]] [[uninspiring]] .\n",
      "\n",
      "\n",
      "--------------------------------------------- Result 5 ---------------------------------------------\n",
      "[[0 (94%)]] --> [[[SKIPPED]]]\n",
      "\n",
      "secretary is just too originals to be ignored .\n",
      "\n",
      "\n",
      "--------------------------------------------- Result 6 ---------------------------------------------\n",
      "[[0 (90%)]] --> [[[SKIPPED]]]\n",
      "\n",
      "a miniscule small bleep on the film radar , but one that many more people should check out\n",
      "\n",
      "\n"
     ]
    },
    {
     "name": "stderr",
     "output_type": "stream",
     "text": [
      "\n",
      "[Succeeded / Failed / Skipped / Total] 4 / 0 / 2 / 6:  70%|███████   | 7/10 [00:01<00:00,  3.68it/s]\u001b[A\n",
      "[Succeeded / Failed / Skipped / Total] 5 / 0 / 2 / 7:  70%|███████   | 7/10 [00:01<00:00,  3.66it/s]\u001b[A"
     ]
    },
    {
     "name": "stdout",
     "output_type": "stream",
     "text": [
      "--------------------------------------------- Result 7 ---------------------------------------------\n",
      "[[0 (87%)]] --> [[1 (81%)]]\n",
      "\n",
      "i have to admit that i am [[stumped]] by jason x .\n",
      "\n",
      "i have to admit that i am [[amazed]] by jason x .\n",
      "\n",
      "\n"
     ]
    },
    {
     "name": "stderr",
     "output_type": "stream",
     "text": [
      "\n",
      "[Succeeded / Failed / Skipped / Total] 6 / 0 / 2 / 8:  80%|████████  | 8/10 [00:02<00:00,  3.48it/s]\u001b[A\n",
      "[Succeeded / Failed / Skipped / Total] 7 / 0 / 2 / 9:  90%|█████████ | 9/10 [00:02<00:00,  3.69it/s]\u001b[A"
     ]
    },
    {
     "name": "stdout",
     "output_type": "stream",
     "text": [
      "--------------------------------------------- Result 8 ---------------------------------------------\n",
      "[[1 (87%)]] --> [[0 (55%)]]\n",
      "\n",
      "this isn't a retooled [[genres]] piece , the tale of a guy and his gun , but an amiably idiosyncratic [[work]] .\n",
      "\n",
      "this isn't a retooled [[dudes]] piece , the tale of a guy and his gun , but an amiably idiosyncratic [[labor]] .\n",
      "\n",
      "\n",
      "--------------------------------------------- Result 9 ---------------------------------------------\n",
      "[[0 (88%)]] --> [[1 (82%)]]\n",
      "\n",
      "isn't it a bitten early in his career for director barry sonnenfeld to do a homage to himself ? and it's a [[crummy]] one at that .\n",
      "\n",
      "isn't it a bitten early in his career for director barry sonnenfeld to do a homage to himself ? and it's a [[paltry]] one at that .\n",
      "\n",
      "\n"
     ]
    },
    {
     "name": "stderr",
     "output_type": "stream",
     "text": [
      "\n",
      "[Succeeded / Failed / Skipped / Total] 7 / 0 / 2 / 9: 100%|██████████| 10/10 [00:02<00:00,  3.67it/s]\u001b[A\n",
      "[Succeeded / Failed / Skipped / Total] 8 / 0 / 2 / 10: 100%|██████████| 10/10 [00:02<00:00,  3.65it/s]\u001b[A"
     ]
    },
    {
     "name": "stdout",
     "output_type": "stream",
     "text": [
      "--------------------------------------------- Result 10 ---------------------------------------------\n",
      "[[0 (52%)]] --> [[1 (80%)]]\n",
      "\n",
      "oft-described as the antidote to american pie-type sex comedies , it [[actually]] has a packet in commons with them , as the film diffuses every opportunity for a breakthrough\n",
      "\n",
      "oft-described as the antidote to american pie-type sex comedies , it [[really]] has a packet in commons with them , as the film diffuses every opportunity for a breakthrough\n",
      "\n",
      "\n",
      "\n",
      "+-------------------------------+--------+\n",
      "| Attack Results                |        |\n",
      "+-------------------------------+--------+\n",
      "| Number of successful attacks: | 8      |\n",
      "| Number of failed attacks:     | 0      |\n",
      "| Number of skipped attacks:    | 2      |\n",
      "| Original accuracy:            | 80.0%  |\n",
      "| Accuracy under attack:        | 0.0%   |\n",
      "| Attack success rate:          | 100.0% |\n",
      "| Average perturbed word %:     | 15.21% |\n",
      "| Average num. words per input: | 16.5   |\n",
      "| Avg num queries:              | 60.88  |\n",
      "+-------------------------------+--------+"
     ]
    },
    {
     "name": "stderr",
     "output_type": "stream",
     "text": [
      "\n"
     ]
    },
    {
     "name": "stdout",
     "output_type": "stream",
     "text": [
      "\n",
      "Attack(\n",
      "  (search_method): GreedyWordSwapWIR(\n",
      "    (wir_method):  delete\n",
      "  )\n",
      "  (goal_function):  UntargetedClassification\n",
      "  (transformation):  WordSwapEmbedding(\n",
      "    (max_candidates):  50\n",
      "    (embedding):  WordEmbedding\n",
      "  )\n",
      "  (constraints): \n",
      "    (0): WordEmbeddingDistance(\n",
      "        (embedding):  WordEmbedding\n",
      "        (min_cos_sim):  0.5\n",
      "        (cased):  False\n",
      "        (include_unknown_words):  True\n",
      "        (compare_against_original):  True\n",
      "      )\n",
      "    (1): PartOfSpeech(\n",
      "        (tagger_type):  nltk\n",
      "        (tagset):  universal\n",
      "        (allow_verb_noun_swap):  True\n",
      "        (compare_against_original):  True\n",
      "      )\n",
      "    (2): UniversalSentenceEncoder(\n",
      "        (metric):  angular\n",
      "        (threshold):  0.840845057\n",
      "        (window_size):  15\n",
      "        (skip_text_shorter_than_window):  True\n",
      "        (compare_against_original):  False\n",
      "      )\n",
      "    (3): RepeatModification\n",
      "    (4): StopwordModification\n",
      "    (5): InputColumnModification(\n",
      "        (matching_column_labels):  ['premise', 'hypothesis']\n",
      "        (columns_to_ignore):  {'premise'}\n",
      "      )\n",
      "  (is_black_box):  True\n",
      ") \n",
      "\n"
     ]
    },
    {
     "name": "stderr",
     "output_type": "stream",
     "text": [
      "\n",
      "  0%|          | 0/10 [00:00<?, ?it/s]\u001b[A\n",
      "[Succeeded / Failed / Skipped / Total] 0 / 0 / 1 / 1:  10%|█         | 1/10 [00:00<00:00, 129.39it/s]\u001b[A\n",
      "[Succeeded / Failed / Skipped / Total] 0 / 0 / 1 / 1:  20%|██        | 2/10 [00:00<00:00, 12.28it/s] \u001b[A\n"
     ]
    },
    {
     "name": "stdout",
     "output_type": "stream",
     "text": [
      "--------------------------------------------- Result 1 ---------------------------------------------\n",
      "[[0 (68%)]] --> [[[SKIPPED]]]\n",
      "\n",
      "maybe thomas wolfe was right : you can't go home again .\n",
      "\n",
      "\n",
      "--------------------------------------------- Result 2 ---------------------------------------------\n",
      "[[1 (60%)]] --> [[0 (53%)]]\n",
      "\n",
      "obligada [[para]] impotentes , daneses , camareras italianas , profesores de idiomas , y todo aquel que desee una lengua para expresar su amor .\n",
      "\n",
      "obligada [[paragraph]] impotentes , daneses , camareras italianas , profesores de idiomas , y todo aquel que desee una lengua para expresar su amor .\n",
      "\n",
      "\n"
     ]
    },
    {
     "name": "stderr",
     "output_type": "stream",
     "text": [
      "[Succeeded / Failed / Skipped / Total] 1 / 0 / 1 / 2:  20%|██        | 2/10 [00:00<00:00, 10.85it/s]\u001b[A\n",
      "[Succeeded / Failed / Skipped / Total] 1 / 1 / 1 / 3:  30%|███       | 3/10 [00:01<00:02,  2.84it/s]\u001b[A"
     ]
    },
    {
     "name": "stdout",
     "output_type": "stream",
     "text": [
      "--------------------------------------------- Result 3 ---------------------------------------------\n",
      "[[0 (94%)]] --> [[[FAILED]]]\n",
      "\n",
      "it's a frankenstein-monster of a film that doesn't know what it wants to be .\n",
      "\n",
      "\n"
     ]
    },
    {
     "name": "stderr",
     "output_type": "stream",
     "text": [
      "\n",
      "[Succeeded / Failed / Skipped / Total] 1 / 1 / 1 / 3:  40%|████      | 4/10 [00:01<00:02,  2.98it/s]\u001b[A\n",
      "[Succeeded / Failed / Skipped / Total] 2 / 1 / 1 / 4:  40%|████      | 4/10 [00:01<00:02,  2.95it/s]\u001b[A\n",
      "[Succeeded / Failed / Skipped / Total] 2 / 1 / 2 / 5:  50%|█████     | 5/10 [00:01<00:01,  3.67it/s]\u001b[A"
     ]
    },
    {
     "name": "stdout",
     "output_type": "stream",
     "text": [
      "--------------------------------------------- Result 4 ---------------------------------------------\n",
      "[[1 (90%)]] --> [[0 (70%)]]\n",
      "\n",
      "while guzmán frustratingly refuses to give pinochet's crimes a political context , his distance from the material is mostly [[admirable]] .\n",
      "\n",
      "while guzmán frustratingly refuses to give pinochet's crimes a political context , his distance from the material is mostly [[wondrous]] .\n",
      "\n",
      "\n",
      "--------------------------------------------- Result 5 ---------------------------------------------\n",
      "[[1 (64%)]] --> [[[SKIPPED]]]\n",
      "\n",
      "it is not the first time that director sara sugarman stoops to having characters drop their pants for laughs and not the last time she fails to provoke them .\n",
      "\n",
      "\n"
     ]
    },
    {
     "name": "stderr",
     "output_type": "stream",
     "text": [
      "\n",
      "[Succeeded / Failed / Skipped / Total] 2 / 1 / 2 / 5:  60%|██████    | 6/10 [00:01<00:01,  3.83it/s]\u001b[A\n",
      "[Succeeded / Failed / Skipped / Total] 3 / 1 / 2 / 6:  60%|██████    | 6/10 [00:01<00:01,  3.80it/s]\u001b[A"
     ]
    },
    {
     "name": "stdout",
     "output_type": "stream",
     "text": [
      "--------------------------------------------- Result 6 ---------------------------------------------\n",
      "[[1 (89%)]] --> [[0 (54%)]]\n",
      "\n",
      "after an uncertain start , murder hits and generally sustains a higher plateau with bullock's [[memorable]] first interrogation of gosling .\n",
      "\n",
      "after an uncertain start , murder hits and generally sustains a higher plateau with bullock's [[stupendous]] first interrogation of gosling .\n",
      "\n",
      "\n"
     ]
    },
    {
     "name": "stderr",
     "output_type": "stream",
     "text": [
      "\n",
      "[Succeeded / Failed / Skipped / Total] 3 / 2 / 2 / 7:  70%|███████   | 7/10 [00:02<00:01,  2.48it/s]\u001b[A"
     ]
    },
    {
     "name": "stdout",
     "output_type": "stream",
     "text": [
      "--------------------------------------------- Result 7 ---------------------------------------------\n",
      "[[0 (93%)]] --> [[[FAILED]]]\n",
      "\n",
      "like watching a dress rehearsal the week before the show goes up : everything's in place but something's just a little off-kilter .\n",
      "\n",
      "\n"
     ]
    },
    {
     "name": "stderr",
     "output_type": "stream",
     "text": [
      "\n",
      "[Succeeded / Failed / Skipped / Total] 3 / 2 / 2 / 7:  80%|████████  | 8/10 [00:03<00:00,  2.20it/s]\u001b[A\n",
      "[Succeeded / Failed / Skipped / Total] 4 / 2 / 2 / 8:  80%|████████  | 8/10 [00:03<00:00,  2.19it/s]\u001b[A"
     ]
    },
    {
     "name": "stdout",
     "output_type": "stream",
     "text": [
      "--------------------------------------------- Result 8 ---------------------------------------------\n",
      "[[1 (96%)]] --> [[0 (53%)]]\n",
      "\n",
      "becomes a [[fascinating]] [[study]] of isolation and frustration that [[successfully]] recreates both the physical [[setting]] and [[emotional]] tensions of the papin sisters .\n",
      "\n",
      "becomes a [[enigmatic]] [[analysed]] of isolation and frustration that [[exactly]] recreates both the physical [[parameter]] and [[corny]] tensions of the papin sisters .\n",
      "\n",
      "\n"
     ]
    },
    {
     "name": "stderr",
     "output_type": "stream",
     "text": [
      "\n",
      "[Succeeded / Failed / Skipped / Total] 5 / 2 / 2 / 9:  90%|█████████ | 9/10 [00:04<00:00,  2.16it/s]\u001b[A"
     ]
    },
    {
     "name": "stdout",
     "output_type": "stream",
     "text": [
      "--------------------------------------------- Result 9 ---------------------------------------------\n",
      "[[1 (84%)]] --> [[0 (56%)]]\n",
      "\n",
      "not since japanese filmmaker akira kurosawa's ran have the savagery of combat and the specter of [[death]] been visualized with such operatic [[grandeur]] .\n",
      "\n",
      "not since japanese filmmaker akira kurosawa's ran have the savagery of combat and the specter of [[mort]] been visualized with such operatic [[enormity]] .\n",
      "\n",
      "\n"
     ]
    },
    {
     "name": "stderr",
     "output_type": "stream",
     "text": [
      "\n",
      "[Succeeded / Failed / Skipped / Total] 5 / 2 / 2 / 9: 100%|██████████| 10/10 [00:04<00:00,  2.13it/s]\u001b[A\n",
      "[Succeeded / Failed / Skipped / Total] 6 / 2 / 2 / 10: 100%|██████████| 10/10 [00:04<00:00,  2.12it/s]\u001b[A"
     ]
    },
    {
     "name": "stdout",
     "output_type": "stream",
     "text": [
      "--------------------------------------------- Result 10 ---------------------------------------------\n",
      "[[0 (92%)]] --> [[1 (74%)]]\n",
      "\n",
      "this [[story]] of unrequited love doesn't [[sustain]] [[interest]] beyond the first half-hour .\n",
      "\n",
      "this [[historic]] of unrequited love doesn't [[maintenance]] [[beware]] beyond the first half-hour .\n",
      "\n",
      "\n",
      "\n",
      "+-------------------------------+--------+\n",
      "| Attack Results                |        |\n",
      "+-------------------------------+--------+\n",
      "| Number of successful attacks: | 6      |\n",
      "| Number of failed attacks:     | 2      |\n",
      "| Number of skipped attacks:    | 2      |\n",
      "| Original accuracy:            | 80.0%  |\n",
      "| Accuracy under attack:        | 20.0%  |\n",
      "| Attack success rate:          | 75.0%  |\n",
      "| Average perturbed word %:     | 11.99% |\n",
      "| Average num. words per input: | 18.9   |\n",
      "| Avg num queries:              | 106.5  |\n",
      "+-------------------------------+--------+"
     ]
    },
    {
     "name": "stderr",
     "output_type": "stream",
     "text": [
      "\n"
     ]
    },
    {
     "name": "stdout",
     "output_type": "stream",
     "text": [
      "\n",
      "Attack(\n",
      "  (search_method): GreedyWordSwapWIR(\n",
      "    (wir_method):  delete\n",
      "  )\n",
      "  (goal_function):  UntargetedClassification\n",
      "  (transformation):  WordSwapEmbedding(\n",
      "    (max_candidates):  50\n",
      "    (embedding):  WordEmbedding\n",
      "  )\n",
      "  (constraints): \n",
      "    (0): WordEmbeddingDistance(\n",
      "        (embedding):  WordEmbedding\n",
      "        (min_cos_sim):  0.5\n",
      "        (cased):  False\n",
      "        (include_unknown_words):  True\n",
      "        (compare_against_original):  True\n",
      "      )\n",
      "    (1): PartOfSpeech(\n",
      "        (tagger_type):  nltk\n",
      "        (tagset):  universal\n",
      "        (allow_verb_noun_swap):  True\n",
      "        (compare_against_original):  True\n",
      "      )\n",
      "    (2): UniversalSentenceEncoder(\n",
      "        (metric):  angular\n",
      "        (threshold):  0.840845057\n",
      "        (window_size):  15\n",
      "        (skip_text_shorter_than_window):  True\n",
      "        (compare_against_original):  False\n",
      "      )\n",
      "    (3): RepeatModification\n",
      "    (4): StopwordModification\n",
      "    (5): InputColumnModification(\n",
      "        (matching_column_labels):  ['premise', 'hypothesis']\n",
      "        (columns_to_ignore):  {'premise'}\n",
      "      )\n",
      "  (is_black_box):  True\n",
      ") \n",
      "\n"
     ]
    },
    {
     "name": "stderr",
     "output_type": "stream",
     "text": [
      "\n",
      "  0%|          | 0/10 [00:00<?, ?it/s]\u001b[A\n",
      "[Succeeded / Failed / Skipped / Total] 1 / 0 / 0 / 1:  10%|█         | 1/10 [00:00<00:01,  7.83it/s]\u001b[A"
     ]
    },
    {
     "name": "stdout",
     "output_type": "stream",
     "text": [
      "--------------------------------------------- Result 1 ---------------------------------------------\n",
      "[[1 (89%)]] --> [[0 (66%)]]\n",
      "\n",
      "audacious-impossible yet [[compelling]] . . .\n",
      "\n",
      "audacious-impossible yet [[persuade]] . . .\n",
      "\n",
      "\n"
     ]
    },
    {
     "name": "stderr",
     "output_type": "stream",
     "text": [
      "\n",
      "[Succeeded / Failed / Skipped / Total] 1 / 0 / 0 / 1:  20%|██        | 2/10 [00:00<00:01,  6.07it/s]\u001b[A\n",
      "[Succeeded / Failed / Skipped / Total] 2 / 0 / 0 / 2:  20%|██        | 2/10 [00:00<00:01,  5.75it/s]\u001b[A\n",
      "[Succeeded / Failed / Skipped / Total] 2 / 0 / 1 / 3:  30%|███       | 3/10 [00:00<00:00,  8.42it/s]\u001b[A\n",
      "[Succeeded / Failed / Skipped / Total] 2 / 0 / 2 / 4:  40%|████      | 4/10 [00:00<00:00, 10.97it/s]\u001b[A"
     ]
    },
    {
     "name": "stdout",
     "output_type": "stream",
     "text": [
      "--------------------------------------------- Result 2 ---------------------------------------------\n",
      "[[1 (77%)]] --> [[0 (94%)]]\n",
      "\n",
      "a [[glorious]] mess .\n",
      "\n",
      "a [[leggy]] mess .\n",
      "\n",
      "\n",
      "--------------------------------------------- Result 3 ---------------------------------------------\n",
      "[[1 (58%)]] --> [[[SKIPPED]]]\n",
      "\n",
      "robin williams departs from his fun friendly demeanor in exchange for a darker unnerving role .\n",
      "\n",
      "\n",
      "--------------------------------------------- Result 4 ---------------------------------------------\n",
      "[[1 (86%)]] --> [[[SKIPPED]]]\n",
      "\n",
      "though a bit of a patchwork in script and production , a glossy , rich green , environment almost makes the picture work .\n",
      "\n",
      "\n"
     ]
    },
    {
     "name": "stderr",
     "output_type": "stream",
     "text": [
      "\n",
      "[Succeeded / Failed / Skipped / Total] 2 / 0 / 2 / 4:  50%|█████     | 5/10 [00:00<00:00,  8.41it/s]\u001b[A\n",
      "[Succeeded / Failed / Skipped / Total] 3 / 0 / 2 / 5:  50%|█████     | 5/10 [00:00<00:00,  8.17it/s]\u001b[A"
     ]
    },
    {
     "name": "stdout",
     "output_type": "stream",
     "text": [
      "--------------------------------------------- Result 5 ---------------------------------------------\n",
      "[[0 (94%)]] --> [[1 (76%)]]\n",
      "\n",
      "a [[tv]] [[episode]] [[inflated]] past its natural length .\n",
      "\n",
      "a [[felicity]] [[events]] [[bouncy]] past its natural length .\n",
      "\n",
      "\n"
     ]
    },
    {
     "name": "stderr",
     "output_type": "stream",
     "text": [
      "\n",
      "[Succeeded / Failed / Skipped / Total] 4 / 0 / 2 / 6:  60%|██████    | 6/10 [00:01<00:00,  5.40it/s]\u001b[A\n",
      "[Succeeded / Failed / Skipped / Total] 5 / 0 / 2 / 7:  70%|███████   | 7/10 [00:01<00:00,  5.53it/s]\u001b[A"
     ]
    },
    {
     "name": "stdout",
     "output_type": "stream",
     "text": [
      "--------------------------------------------- Result 6 ---------------------------------------------\n",
      "[[1 (85%)]] --> [[0 (63%)]]\n",
      "\n",
      "the movie is [[beautiful]] to behold and [[engages]] one in a sense of epic struggle -- inner and outer -- that's all too rare in hollywood's hastier productions .\n",
      "\n",
      "the movie is [[super]] to behold and [[engage]] one in a sense of epic struggle -- inner and outer -- that's all too rare in hollywood's hastier productions .\n",
      "\n",
      "\n",
      "--------------------------------------------- Result 7 ---------------------------------------------\n",
      "[[1 (92%)]] --> [[0 (75%)]]\n",
      "\n",
      "for those who are intrigued by politics of the '70s , the film is every bit as [[fascinating]] as it is flawed .\n",
      "\n",
      "for those who are intrigued by politics of the '70s , the film is every bit as [[enigmatic]] as it is flawed .\n",
      "\n",
      "\n"
     ]
    },
    {
     "name": "stderr",
     "output_type": "stream",
     "text": [
      "\n",
      "[Succeeded / Failed / Skipped / Total] 5 / 0 / 2 / 7:  80%|████████  | 8/10 [00:01<00:00,  4.54it/s]\u001b[A\n",
      "[Succeeded / Failed / Skipped / Total] 6 / 0 / 2 / 8:  80%|████████  | 8/10 [00:01<00:00,  4.50it/s]\u001b[A\n",
      "[Succeeded / Failed / Skipped / Total] 7 / 0 / 2 / 9:  90%|█████████ | 9/10 [00:01<00:00,  4.70it/s]\u001b[A\n",
      "[Succeeded / Failed / Skipped / Total] 7 / 0 / 3 / 10: 100%|██████████| 10/10 [00:01<00:00,  5.20it/s]\u001b[A"
     ]
    },
    {
     "name": "stdout",
     "output_type": "stream",
     "text": [
      "--------------------------------------------- Result 8 ---------------------------------------------\n",
      "[[1 (95%)]] --> [[0 (93%)]]\n",
      "\n",
      "a [[pleasant]] romantic [[comedy]] .\n",
      "\n",
      "a [[mignon]] romantic [[pretense]] .\n",
      "\n",
      "\n",
      "--------------------------------------------- Result 9 ---------------------------------------------\n",
      "[[0 (89%)]] --> [[1 (74%)]]\n",
      "\n",
      "flashy , [[pretentious]] and as impenetrable as morvern's thick , working-class scottish accent .\n",
      "\n",
      "flashy , [[pedantic]] and as impenetrable as morvern's thick , working-class scottish accent .\n",
      "\n",
      "\n",
      "--------------------------------------------- Result 10 ---------------------------------------------\n",
      "[[0 (79%)]] --> [[[SKIPPED]]]\n",
      "\n",
      "boisterous and daft documentary .\n",
      "\n",
      "\n",
      "\n",
      "+-------------------------------+--------+\n",
      "| Attack Results                |        |\n",
      "+-------------------------------+--------+\n",
      "| Number of successful attacks: | 7      |\n",
      "| Number of failed attacks:     | 0      |\n",
      "| Number of skipped attacks:    | 3      |\n",
      "| Original accuracy:            | 70.0%  |\n",
      "| Accuracy under attack:        | 0.0%   |\n",
      "| Attack success rate:          | 100.0% |\n",
      "| Average perturbed word %:     | 25.1%  |\n",
      "| Average num. words per input: | 11.5   |\n",
      "| Avg num queries:              | 48.29  |\n",
      "+-------------------------------+--------+"
     ]
    },
    {
     "name": "stderr",
     "output_type": "stream",
     "text": [
      "\n"
     ]
    },
    {
     "name": "stdout",
     "output_type": "stream",
     "text": [
      "\n",
      "Attack(\n",
      "  (search_method): GreedyWordSwapWIR(\n",
      "    (wir_method):  delete\n",
      "  )\n",
      "  (goal_function):  UntargetedClassification\n",
      "  (transformation):  WordSwapEmbedding(\n",
      "    (max_candidates):  50\n",
      "    (embedding):  WordEmbedding\n",
      "  )\n",
      "  (constraints): \n",
      "    (0): WordEmbeddingDistance(\n",
      "        (embedding):  WordEmbedding\n",
      "        (min_cos_sim):  0.5\n",
      "        (cased):  False\n",
      "        (include_unknown_words):  True\n",
      "        (compare_against_original):  True\n",
      "      )\n",
      "    (1): PartOfSpeech(\n",
      "        (tagger_type):  nltk\n",
      "        (tagset):  universal\n",
      "        (allow_verb_noun_swap):  True\n",
      "        (compare_against_original):  True\n",
      "      )\n",
      "    (2): UniversalSentenceEncoder(\n",
      "        (metric):  angular\n",
      "        (threshold):  0.840845057\n",
      "        (window_size):  15\n",
      "        (skip_text_shorter_than_window):  True\n",
      "        (compare_against_original):  False\n",
      "      )\n",
      "    (3): RepeatModification\n",
      "    (4): StopwordModification\n",
      "    (5): InputColumnModification(\n",
      "        (matching_column_labels):  ['premise', 'hypothesis']\n",
      "        (columns_to_ignore):  {'premise'}\n",
      "      )\n",
      "  (is_black_box):  True\n",
      ") \n",
      "\n"
     ]
    },
    {
     "name": "stderr",
     "output_type": "stream",
     "text": [
      "\n",
      "  0%|          | 0/10 [00:00<?, ?it/s]\u001b[A\n",
      " 10%|█         | 1/10 [00:00<00:03,  2.37it/s]\u001b[A\n",
      "[Succeeded / Failed / Skipped / Total] 1 / 0 / 0 / 1:  10%|█         | 1/10 [00:00<00:03,  2.31it/s]\u001b[A"
     ]
    },
    {
     "name": "stdout",
     "output_type": "stream",
     "text": [
      "--------------------------------------------- Result 1 ---------------------------------------------\n",
      "[[0 (90%)]] --> [[1 (51%)]]\n",
      "\n",
      "self-congratulatory , [[misguided]] , and ill-informed , if [[nonetheless]] [[compulsively]] watchable .\n",
      "\n",
      "self-congratulatory , [[inordinate]] , and ill-informed , if [[also]] [[painstakingly]] watchable .\n",
      "\n",
      "\n"
     ]
    },
    {
     "name": "stderr",
     "output_type": "stream",
     "text": [
      "\n",
      "[Succeeded / Failed / Skipped / Total] 1 / 0 / 0 / 1:  20%|██        | 2/10 [00:00<00:02,  2.76it/s]\u001b[A\n",
      "[Succeeded / Failed / Skipped / Total] 2 / 0 / 0 / 2:  20%|██        | 2/10 [00:00<00:02,  2.67it/s]\u001b[A"
     ]
    },
    {
     "name": "stdout",
     "output_type": "stream",
     "text": [
      "--------------------------------------------- Result 2 ---------------------------------------------\n",
      "[[0 (87%)]] --> [[1 (68%)]]\n",
      "\n",
      "it treats women [[like]] [[idiots]] .\n",
      "\n",
      "it treats women [[amore]] [[nincompoops]] .\n",
      "\n",
      "\n"
     ]
    },
    {
     "name": "stderr",
     "output_type": "stream",
     "text": [
      "\n",
      "[Succeeded / Failed / Skipped / Total] 2 / 0 / 0 / 2:  30%|███       | 3/10 [00:01<00:03,  2.10it/s]\u001b[A\n",
      "[Succeeded / Failed / Skipped / Total] 3 / 0 / 0 / 3:  30%|███       | 3/10 [00:01<00:03,  2.09it/s]\u001b[A"
     ]
    },
    {
     "name": "stdout",
     "output_type": "stream",
     "text": [
      "--------------------------------------------- Result 3 ---------------------------------------------\n",
      "[[1 (89%)]] --> [[0 (60%)]]\n",
      "\n",
      "[[contrived]] as this may [[sound]] , [[mr]] . rose's updating [[works]] surprisingly [[well]] .\n",
      "\n",
      "[[manmade]] as this may [[noise]] , [[messrs]] . rose's updating [[functioned]] surprisingly [[too]] .\n",
      "\n",
      "\n"
     ]
    },
    {
     "name": "stderr",
     "output_type": "stream",
     "text": [
      "\n",
      "[Succeeded / Failed / Skipped / Total] 3 / 0 / 0 / 3:  40%|████      | 4/10 [00:02<00:03,  1.80it/s]\u001b[A\n",
      "[Succeeded / Failed / Skipped / Total] 4 / 0 / 0 / 4:  40%|████      | 4/10 [00:02<00:03,  1.79it/s]\u001b[A"
     ]
    },
    {
     "name": "stdout",
     "output_type": "stream",
     "text": [
      "--------------------------------------------- Result 4 ---------------------------------------------\n",
      "[[0 (75%)]] --> [[1 (51%)]]\n",
      "\n",
      "if you [[collected]] all the moments of coherent dialogue , they still wouldn't add up to the [[time]] [[required]] to boil a four- minute egg .\n",
      "\n",
      "if you [[captures]] all the moments of coherent dialogue , they still wouldn't add up to the [[hour]] [[needing]] to boil a four- minute egg .\n",
      "\n",
      "\n"
     ]
    },
    {
     "name": "stderr",
     "output_type": "stream",
     "text": [
      "\n",
      "[Succeeded / Failed / Skipped / Total] 4 / 0 / 0 / 4:  50%|█████     | 5/10 [00:02<00:02,  1.95it/s]\u001b[A\n",
      "[Succeeded / Failed / Skipped / Total] 5 / 0 / 0 / 5:  50%|█████     | 5/10 [00:02<00:02,  1.94it/s]\u001b[A\n",
      "[Succeeded / Failed / Skipped / Total] 5 / 0 / 1 / 6:  60%|██████    | 6/10 [00:02<00:01,  2.32it/s]\u001b[A\n",
      "[Succeeded / Failed / Skipped / Total] 5 / 0 / 2 / 7:  70%|███████   | 7/10 [00:02<00:01,  2.70it/s]\u001b[A"
     ]
    },
    {
     "name": "stdout",
     "output_type": "stream",
     "text": [
      "--------------------------------------------- Result 5 ---------------------------------------------\n",
      "[[1 (88%)]] --> [[0 (67%)]]\n",
      "\n",
      "this familiar rise-and-fall tale is long on glamour and short on larger moralistic consequences , though it's told with [[sharp]] ears and eyes for the [[tenor]] of the times .\n",
      "\n",
      "this familiar rise-and-fall tale is long on glamour and short on larger moralistic consequences , though it's told with [[rough]] ears and eyes for the [[saxophones]] of the times .\n",
      "\n",
      "\n",
      "--------------------------------------------- Result 6 ---------------------------------------------\n",
      "[[1 (82%)]] --> [[[SKIPPED]]]\n",
      "\n",
      "a visually flashy but narratively opaque and emotionally vapid exercise in style and mystification .\n",
      "\n",
      "\n",
      "--------------------------------------------- Result 7 ---------------------------------------------\n",
      "[[0 (50%)]] --> [[[SKIPPED]]]\n",
      "\n",
      "it asks nothing of the audience other than to sit back and enjoy a couple of great actors hamming it up .\n",
      "\n",
      "\n"
     ]
    },
    {
     "name": "stderr",
     "output_type": "stream",
     "text": [
      "\n",
      "[Succeeded / Failed / Skipped / Total] 5 / 0 / 2 / 7:  80%|████████  | 8/10 [00:03<00:00,  2.26it/s]\u001b[A\n",
      "[Succeeded / Failed / Skipped / Total] 6 / 0 / 2 / 8:  80%|████████  | 8/10 [00:03<00:00,  2.26it/s]\u001b[A"
     ]
    },
    {
     "name": "stdout",
     "output_type": "stream",
     "text": [
      "--------------------------------------------- Result 8 ---------------------------------------------\n",
      "[[0 (93%)]] --> [[1 (58%)]]\n",
      "\n",
      "[[suffers]] from over-familiarity [[since]] hit-hungry british filmmakers [[have]] strip-mined the monty [[formula]] [[mercilessly]] [[since]] 1997 .\n",
      "\n",
      "[[hardships]] from over-familiarity [[ago]] hit-hungry british filmmakers [[ont]] strip-mined the monty [[shaping]] [[ferociously]] [[upon]] 1997 .\n",
      "\n",
      "\n"
     ]
    },
    {
     "name": "stderr",
     "output_type": "stream",
     "text": [
      "\n",
      "[Succeeded / Failed / Skipped / Total] 7 / 0 / 2 / 9:  90%|█████████ | 9/10 [00:04<00:00,  2.24it/s]\u001b[A"
     ]
    },
    {
     "name": "stdout",
     "output_type": "stream",
     "text": [
      "--------------------------------------------- Result 9 ---------------------------------------------\n",
      "[[0 (92%)]] --> [[1 (60%)]]\n",
      "\n",
      "the [[things]] this movie tries to get the audience to [[buy]] just won't fly with most intelligent viewers .\n",
      "\n",
      "the [[facets]] this movie tries to get the audience to [[getting]] just won't fly with most intelligent viewers .\n",
      "\n",
      "\n"
     ]
    },
    {
     "name": "stderr",
     "output_type": "stream",
     "text": [
      "\n",
      "[Succeeded / Failed / Skipped / Total] 8 / 0 / 2 / 10: 100%|██████████| 10/10 [00:04<00:00,  2.00it/s]\u001b[A"
     ]
    },
    {
     "name": "stdout",
     "output_type": "stream",
     "text": [
      "--------------------------------------------- Result 10 ---------------------------------------------\n",
      "[[1 (96%)]] --> [[0 (62%)]]\n",
      "\n",
      "filled with honest performances and [[exceptional]] detail , baran is a [[gentle]] [[film]] with dramatic [[punch]] , a [[haunting]] ode to [[humanity]] .\n",
      "\n",
      "filled with honest performances and [[unpaid]] detail , baran is a [[mild]] [[theaters]] with dramatic [[slugged]] , a [[macabre]] ode to [[humanities]] .\n",
      "\n",
      "\n",
      "\n",
      "+-------------------------------+--------+\n",
      "| Attack Results                |        |\n",
      "+-------------------------------+--------+\n",
      "| Number of successful attacks: | 8      |\n",
      "| Number of failed attacks:     | 0      |\n",
      "| Number of skipped attacks:    | 2      |\n",
      "| Original accuracy:            | 80.0%  |\n",
      "| Accuracy under attack:        | 0.0%   |\n",
      "| Attack success rate:          | 100.0% |\n",
      "| Average perturbed word %:     | 27.96% |\n",
      "| Average num. words per input: | 16.4   |\n",
      "| Avg num queries:              | 113.12 |\n",
      "+-------------------------------+--------+"
     ]
    },
    {
     "name": "stderr",
     "output_type": "stream",
     "text": [
      "\n"
     ]
    },
    {
     "name": "stdout",
     "output_type": "stream",
     "text": [
      "\n",
      "Attack(\n",
      "  (search_method): GreedyWordSwapWIR(\n",
      "    (wir_method):  delete\n",
      "  )\n",
      "  (goal_function):  UntargetedClassification\n",
      "  (transformation):  WordSwapEmbedding(\n",
      "    (max_candidates):  50\n",
      "    (embedding):  WordEmbedding\n",
      "  )\n",
      "  (constraints): \n",
      "    (0): WordEmbeddingDistance(\n",
      "        (embedding):  WordEmbedding\n",
      "        (min_cos_sim):  0.5\n",
      "        (cased):  False\n",
      "        (include_unknown_words):  True\n",
      "        (compare_against_original):  True\n",
      "      )\n",
      "    (1): PartOfSpeech(\n",
      "        (tagger_type):  nltk\n",
      "        (tagset):  universal\n",
      "        (allow_verb_noun_swap):  True\n",
      "        (compare_against_original):  True\n",
      "      )\n",
      "    (2): UniversalSentenceEncoder(\n",
      "        (metric):  angular\n",
      "        (threshold):  0.840845057\n",
      "        (window_size):  15\n",
      "        (skip_text_shorter_than_window):  True\n",
      "        (compare_against_original):  False\n",
      "      )\n",
      "    (3): RepeatModification\n",
      "    (4): StopwordModification\n",
      "    (5): InputColumnModification(\n",
      "        (matching_column_labels):  ['premise', 'hypothesis']\n",
      "        (columns_to_ignore):  {'premise'}\n",
      "      )\n",
      "  (is_black_box):  True\n",
      ") \n",
      "\n"
     ]
    },
    {
     "name": "stderr",
     "output_type": "stream",
     "text": [
      "\n",
      "  0%|          | 0/10 [00:00<?, ?it/s]\u001b[A\n",
      " 10%|█         | 1/10 [00:00<00:02,  4.31it/s]\u001b[A\n",
      "[Succeeded / Failed / Skipped / Total] 1 / 0 / 0 / 1:  10%|█         | 1/10 [00:00<00:02,  4.13it/s]\u001b[A"
     ]
    },
    {
     "name": "stdout",
     "output_type": "stream",
     "text": [
      "--------------------------------------------- Result 1 ---------------------------------------------\n",
      "[[1 (87%)]] --> [[0 (85%)]]\n",
      "\n",
      "the combination of lightness and strictness in this instance gives italian for beginners an [[amiable]] aimlessness that keeps it from seeming predictably formulaic .\n",
      "\n",
      "the combination of lightness and strictness in this instance gives italian for beginners an [[unpretentious]] aimlessness that keeps it from seeming predictably formulaic .\n",
      "\n",
      "\n"
     ]
    },
    {
     "name": "stderr",
     "output_type": "stream",
     "text": [
      "\n",
      "[Succeeded / Failed / Skipped / Total] 1 / 0 / 0 / 1:  20%|██        | 2/10 [00:00<00:02,  2.73it/s]\u001b[A\n",
      "[Succeeded / Failed / Skipped / Total] 2 / 0 / 0 / 2:  20%|██        | 2/10 [00:00<00:02,  2.69it/s]\u001b[A"
     ]
    },
    {
     "name": "stdout",
     "output_type": "stream",
     "text": [
      "--------------------------------------------- Result 2 ---------------------------------------------\n",
      "[[0 (91%)]] --> [[1 (75%)]]\n",
      "\n",
      "toward the [[end]] sum of all fears morphs into a [[mundane]] '70s disaster flick .\n",
      "\n",
      "toward the [[completing]] sum of all fears morphs into a [[familiarize]] '70s disaster flick .\n",
      "\n",
      "\n"
     ]
    },
    {
     "name": "stderr",
     "output_type": "stream",
     "text": [
      "\n",
      "[Succeeded / Failed / Skipped / Total] 2 / 0 / 0 / 2:  30%|███       | 3/10 [00:00<00:02,  3.11it/s]\u001b[A\n",
      "[Succeeded / Failed / Skipped / Total] 3 / 0 / 0 / 3:  30%|███       | 3/10 [00:00<00:02,  3.07it/s]\u001b[A"
     ]
    },
    {
     "name": "stdout",
     "output_type": "stream",
     "text": [
      "--------------------------------------------- Result 3 ---------------------------------------------\n",
      "[[0 (50%)]] --> [[1 (56%)]]\n",
      "\n",
      "van wilder doesn't bring anything new to the proverbial table , but it does possess a coherence [[absent]] in recent crass-a-thons like tomcats , freddy got fingered , and slackers .\n",
      "\n",
      "van wilder doesn't bring anything new to the proverbial table , but it does possess a coherence [[lacked]] in recent crass-a-thons like tomcats , freddy got fingered , and slackers .\n",
      "\n",
      "\n"
     ]
    },
    {
     "name": "stderr",
     "output_type": "stream",
     "text": [
      "\n",
      "[Succeeded / Failed / Skipped / Total] 3 / 0 / 0 / 3:  40%|████      | 4/10 [00:01<00:02,  2.65it/s]\u001b[A\n",
      "[Succeeded / Failed / Skipped / Total] 4 / 0 / 0 / 4:  40%|████      | 4/10 [00:01<00:02,  2.63it/s]\u001b[A\n",
      "[Succeeded / Failed / Skipped / Total] 4 / 0 / 0 / 4:  50%|█████     | 5/10 [00:01<00:01,  3.07it/s]\u001b[A\n",
      "[Succeeded / Failed / Skipped / Total] 5 / 0 / 0 / 5:  50%|█████     | 5/10 [00:01<00:01,  3.04it/s]\u001b[A"
     ]
    },
    {
     "name": "stdout",
     "output_type": "stream",
     "text": [
      "--------------------------------------------- Result 4 ---------------------------------------------\n",
      "[[0 (94%)]] --> [[1 (57%)]]\n",
      "\n",
      "plodding , [[poorly]] written , murky and [[weakly]] acted , the picture feels as if everyone [[making]] it lost their movie [[mojo]] .\n",
      "\n",
      "plodding , [[faintly]] written , murky and [[sweetly]] acted , the picture feels as if everyone [[adopts]] it lost their movie [[allure]] .\n",
      "\n",
      "\n",
      "--------------------------------------------- Result 5 ---------------------------------------------\n",
      "[[0 (87%)]] --> [[1 (94%)]]\n",
      "\n",
      "a perplexing example of promise unfulfilled , [[despite]] many charming moments .\n",
      "\n",
      "a perplexing example of promise unfulfilled , [[while]] many charming moments .\n",
      "\n",
      "\n"
     ]
    },
    {
     "name": "stderr",
     "output_type": "stream",
     "text": [
      "\n",
      "[Succeeded / Failed / Skipped / Total] 5 / 0 / 0 / 5:  60%|██████    | 6/10 [00:01<00:01,  3.03it/s]\u001b[A\n",
      "[Succeeded / Failed / Skipped / Total] 6 / 0 / 0 / 6:  60%|██████    | 6/10 [00:01<00:01,  3.02it/s]\u001b[A"
     ]
    },
    {
     "name": "stdout",
     "output_type": "stream",
     "text": [
      "--------------------------------------------- Result 6 ---------------------------------------------\n",
      "[[0 (94%)]] --> [[1 (55%)]]\n",
      "\n",
      "a film that should be relegated to a dark video store corner is somehow making its way [[instead]] to theaters . it's [[hard]] to imagine acting that could be any flatter .\n",
      "\n",
      "a film that should be relegated to a dark video store corner is somehow making its way [[also]] to theaters . it's [[intensively]] to imagine acting that could be any flatter .\n",
      "\n",
      "\n"
     ]
    },
    {
     "name": "stderr",
     "output_type": "stream",
     "text": [
      "\n",
      "[Succeeded / Failed / Skipped / Total] 6 / 0 / 0 / 6:  70%|███████   | 7/10 [00:02<00:01,  2.74it/s]\u001b[A\n",
      "[Succeeded / Failed / Skipped / Total] 7 / 0 / 0 / 7:  70%|███████   | 7/10 [00:02<00:01,  2.73it/s]\u001b[A"
     ]
    },
    {
     "name": "stdout",
     "output_type": "stream",
     "text": [
      "--------------------------------------------- Result 7 ---------------------------------------------\n",
      "[[0 (86%)]] --> [[1 (51%)]]\n",
      "\n",
      "whether jason x is this bad on purpose is never [[clear]] . but one thing's for [[sure]] : it never [[comes]] close to being either [[funny]] or scary .\n",
      "\n",
      "whether jason x is this bad on purpose is never [[unambiguous]] . but one thing's for [[hopeful]] : it never [[permeates]] close to being either [[lighthearted]] or scary .\n",
      "\n",
      "\n"
     ]
    },
    {
     "name": "stderr",
     "output_type": "stream",
     "text": [
      "\n",
      "[Succeeded / Failed / Skipped / Total] 7 / 0 / 0 / 7:  80%|████████  | 8/10 [00:03<00:00,  2.62it/s]\u001b[A\n",
      "[Succeeded / Failed / Skipped / Total] 8 / 0 / 0 / 8:  80%|████████  | 8/10 [00:03<00:00,  2.61it/s]\u001b[A"
     ]
    },
    {
     "name": "stdout",
     "output_type": "stream",
     "text": [
      "--------------------------------------------- Result 8 ---------------------------------------------\n",
      "[[0 (69%)]] --> [[1 (53%)]]\n",
      "\n",
      "we haven't [[seen]] such hilarity since [[say]] it isn't so !\n",
      "\n",
      "we haven't [[faced]] such hilarity since [[affirming]] it isn't so !\n",
      "\n",
      "\n"
     ]
    },
    {
     "name": "stderr",
     "output_type": "stream",
     "text": [
      "\n",
      "[Succeeded / Failed / Skipped / Total] 8 / 0 / 0 / 8:  90%|█████████ | 9/10 [00:03<00:00,  2.55it/s]\u001b[A\n",
      "[Succeeded / Failed / Skipped / Total] 9 / 0 / 0 / 9:  90%|█████████ | 9/10 [00:03<00:00,  2.55it/s]\u001b[A"
     ]
    },
    {
     "name": "stdout",
     "output_type": "stream",
     "text": [
      "--------------------------------------------- Result 9 ---------------------------------------------\n",
      "[[1 (92%)]] --> [[0 (56%)]]\n",
      "\n",
      "even if you don't think [kissinger's] any more guilty of criminal activity than most contemporary statesmen , he'd sure make a courtroom trial [[great]] [[fun]] to watch .\n",
      "\n",
      "even if you don't think [kissinger's] any more guilty of criminal activity than most contemporary statesmen , he'd sure make a courtroom trial [[gargantuan]] [[droll]] to watch .\n",
      "\n",
      "\n"
     ]
    },
    {
     "name": "stderr",
     "output_type": "stream",
     "text": [
      "\n",
      "[Succeeded / Failed / Skipped / Total] 9 / 0 / 0 / 9: 100%|██████████| 10/10 [00:04<00:00,  2.43it/s]\u001b[A\n",
      "[Succeeded / Failed / Skipped / Total] 10 / 0 / 0 / 10: 100%|██████████| 10/10 [00:04<00:00,  2.42it/s]\u001b[A"
     ]
    },
    {
     "name": "stdout",
     "output_type": "stream",
     "text": [
      "--------------------------------------------- Result 10 ---------------------------------------------\n",
      "[[1 (95%)]] --> [[0 (92%)]]\n",
      "\n",
      "westfeldt and juergensen exude a chemistry and [[comfort]] [[level]] that's both [[saucy]] and [[endearing]] .\n",
      "\n",
      "westfeldt and juergensen exude a chemistry and [[placate]] [[ranked]] that's both [[lewd]] and [[attaching]] .\n",
      "\n",
      "\n",
      "\n",
      "+-------------------------------+--------+\n",
      "| Attack Results                |        |\n",
      "+-------------------------------+--------+\n",
      "| Number of successful attacks: | 10     |\n",
      "| Number of failed attacks:     | 0      |\n",
      "| Number of skipped attacks:    | 0      |\n",
      "| Original accuracy:            | 100.0% |\n",
      "| Accuracy under attack:        | 0.0%   |\n",
      "| Attack success rate:          | 100.0% |\n",
      "| Average perturbed word %:     | 13.17% |\n",
      "| Average num. words per input: | 19.9   |\n",
      "| Avg num queries:              | 72.2   |\n",
      "+-------------------------------+--------+"
     ]
    },
    {
     "name": "stderr",
     "output_type": "stream",
     "text": [
      "\n"
     ]
    },
    {
     "name": "stdout",
     "output_type": "stream",
     "text": [
      "\n",
      "Attack(\n",
      "  (search_method): GreedyWordSwapWIR(\n",
      "    (wir_method):  delete\n",
      "  )\n",
      "  (goal_function):  UntargetedClassification\n",
      "  (transformation):  WordSwapEmbedding(\n",
      "    (max_candidates):  50\n",
      "    (embedding):  WordEmbedding\n",
      "  )\n",
      "  (constraints): \n",
      "    (0): WordEmbeddingDistance(\n",
      "        (embedding):  WordEmbedding\n",
      "        (min_cos_sim):  0.5\n",
      "        (cased):  False\n",
      "        (include_unknown_words):  True\n",
      "        (compare_against_original):  True\n",
      "      )\n",
      "    (1): PartOfSpeech(\n",
      "        (tagger_type):  nltk\n",
      "        (tagset):  universal\n",
      "        (allow_verb_noun_swap):  True\n",
      "        (compare_against_original):  True\n",
      "      )\n",
      "    (2): UniversalSentenceEncoder(\n",
      "        (metric):  angular\n",
      "        (threshold):  0.840845057\n",
      "        (window_size):  15\n",
      "        (skip_text_shorter_than_window):  True\n",
      "        (compare_against_original):  False\n",
      "      )\n",
      "    (3): RepeatModification\n",
      "    (4): StopwordModification\n",
      "    (5): InputColumnModification(\n",
      "        (matching_column_labels):  ['premise', 'hypothesis']\n",
      "        (columns_to_ignore):  {'premise'}\n",
      "      )\n",
      "  (is_black_box):  True\n",
      ") \n",
      "\n"
     ]
    },
    {
     "name": "stderr",
     "output_type": "stream",
     "text": [
      "\n",
      "  0%|          | 0/10 [00:00<?, ?it/s]\u001b[A\n",
      " 10%|█         | 1/10 [00:01<00:09,  1.02s/it]\u001b[A\n",
      "[Succeeded / Failed / Skipped / Total] 1 / 0 / 0 / 1:  10%|█         | 1/10 [00:01<00:09,  1.03s/it]\u001b[A"
     ]
    },
    {
     "name": "stdout",
     "output_type": "stream",
     "text": [
      "--------------------------------------------- Result 1 ---------------------------------------------\n",
      "[[0 (89%)]] --> [[1 (52%)]]\n",
      "\n",
      "[[despite]] the evocative aesthetics evincing the [[hollow]] [[state]] of modern love [[life]] , the [[film]] never percolates beyond a [[monotonous]] [[whine]] .\n",
      "\n",
      "[[whilst]] the evocative aesthetics evincing the [[unoccupied]] [[kraj]] of modern love [[lives]] , the [[cinematographers]] never percolates beyond a [[dull]] [[tears]] .\n",
      "\n",
      "\n"
     ]
    },
    {
     "name": "stderr",
     "output_type": "stream",
     "text": [
      "\n",
      "[Succeeded / Failed / Skipped / Total] 1 / 0 / 0 / 1:  20%|██        | 2/10 [00:01<00:07,  1.14it/s]\u001b[A\n",
      "[Succeeded / Failed / Skipped / Total] 2 / 0 / 0 / 2:  20%|██        | 2/10 [00:01<00:07,  1.13it/s]\u001b[A"
     ]
    },
    {
     "name": "stdout",
     "output_type": "stream",
     "text": [
      "--------------------------------------------- Result 2 ---------------------------------------------\n",
      "[[1 (94%)]] --> [[0 (81%)]]\n",
      "\n",
      "it [[celebrates]] the group's playful [[spark]] of nonconformity , glancing [[vividly]] back at what hibiscus grandly called his 'angels of light . '\n",
      "\n",
      "it [[notorious]] the group's playful [[ignites]] of nonconformity , glancing [[evidently]] back at what hibiscus grandly called his 'angels of light . '\n",
      "\n",
      "\n"
     ]
    },
    {
     "name": "stderr",
     "output_type": "stream",
     "text": [
      "\n",
      "[Succeeded / Failed / Skipped / Total] 2 / 0 / 0 / 2:  30%|███       | 3/10 [00:02<00:05,  1.37it/s]\u001b[A\n",
      "[Succeeded / Failed / Skipped / Total] 3 / 0 / 0 / 3:  30%|███       | 3/10 [00:02<00:05,  1.37it/s]\u001b[A"
     ]
    },
    {
     "name": "stdout",
     "output_type": "stream",
     "text": [
      "--------------------------------------------- Result 3 ---------------------------------------------\n",
      "[[1 (90%)]] --> [[0 (91%)]]\n",
      "\n",
      "a [[thriller]] whose style , structure and rhythms are [[so]] integrated with the story , you cannot [[separate]] them .\n",
      "\n",
      "a [[romp]] whose style , structure and rhythms are [[too]] integrated with the story , you cannot [[distinguishing]] them .\n",
      "\n",
      "\n"
     ]
    },
    {
     "name": "stderr",
     "output_type": "stream",
     "text": [
      "\n",
      "[Succeeded / Failed / Skipped / Total] 3 / 0 / 0 / 3:  40%|████      | 4/10 [00:02<00:04,  1.41it/s]\u001b[A\n",
      "[Succeeded / Failed / Skipped / Total] 4 / 0 / 0 / 4:  40%|████      | 4/10 [00:02<00:04,  1.40it/s]\u001b[A"
     ]
    },
    {
     "name": "stdout",
     "output_type": "stream",
     "text": [
      "--------------------------------------------- Result 4 ---------------------------------------------\n",
      "[[1 (95%)]] --> [[0 (61%)]]\n",
      "\n",
      "with a cast that includes some of the top actors working in independent [[film]] , lovely & [[amazing]] involves us because it is so [[incisive]] , so bleakly [[amusing]] about how we go about our lives .\n",
      "\n",
      "with a cast that includes some of the top actors working in independent [[flick]] , lovely & [[whopping]] involves us because it is so [[pithy]] , so bleakly [[droll]] about how we go about our lives .\n",
      "\n",
      "\n"
     ]
    },
    {
     "name": "stderr",
     "output_type": "stream",
     "text": [
      "\n",
      "[Succeeded / Failed / Skipped / Total] 4 / 0 / 0 / 4:  50%|█████     | 5/10 [00:04<00:04,  1.21it/s]\u001b[A\n",
      "[Succeeded / Failed / Skipped / Total] 5 / 0 / 0 / 5:  50%|█████     | 5/10 [00:04<00:04,  1.21it/s]\u001b[A"
     ]
    },
    {
     "name": "stdout",
     "output_type": "stream",
     "text": [
      "--------------------------------------------- Result 5 ---------------------------------------------\n",
      "[[0 (91%)]] --> [[1 (51%)]]\n",
      "\n",
      "in spite of [[featuring]] a [[script]] [[credited]] to no [[fewer]] than [[five]] [[writers]] , [[apparently]] nobody here bothered to [[check]] it twice .\n",
      "\n",
      "in spite of [[idiosyncrasies]] a [[commands]] [[bestowed]] to no [[lesser]] than [[three]] [[novelist]] , [[soberly]] nobody here bothered to [[controlling]] it twice .\n",
      "\n",
      "\n"
     ]
    },
    {
     "name": "stderr",
     "output_type": "stream",
     "text": [
      "\n",
      "[Succeeded / Failed / Skipped / Total] 5 / 0 / 0 / 5:  60%|██████    | 6/10 [00:05<00:03,  1.18it/s]\u001b[A\n",
      "[Succeeded / Failed / Skipped / Total] 6 / 0 / 0 / 6:  60%|██████    | 6/10 [00:05<00:03,  1.17it/s]\u001b[A"
     ]
    },
    {
     "name": "stdout",
     "output_type": "stream",
     "text": [
      "--------------------------------------------- Result 6 ---------------------------------------------\n",
      "[[1 (92%)]] --> [[0 (53%)]]\n",
      "\n",
      "for [[decades]] we've marveled at disney's [[rendering]] of [[water]] , [[snow]] , [[flames]] and [[shadows]] in a hand-drawn [[animated]] [[world]] . prepare to marvel again .\n",
      "\n",
      "for [[olds]] we've marveled at disney's [[stipulation]] of [[vee]] , [[blustery]] , [[scorched]] and [[shadowed]] in a hand-drawn [[prompted]] [[globo]] . prepare to marvel again .\n",
      "\n",
      "\n"
     ]
    },
    {
     "name": "stderr",
     "output_type": "stream",
     "text": [
      "\n",
      "[Succeeded / Failed / Skipped / Total] 6 / 0 / 0 / 6:  70%|███████   | 7/10 [00:05<00:02,  1.21it/s]\u001b[A\n",
      "[Succeeded / Failed / Skipped / Total] 6 / 1 / 0 / 7:  70%|███████   | 7/10 [00:05<00:02,  1.21it/s]\u001b[A"
     ]
    },
    {
     "name": "stdout",
     "output_type": "stream",
     "text": [
      "--------------------------------------------- Result 7 ---------------------------------------------\n",
      "[[0 (93%)]] --> [[[FAILED]]]\n",
      "\n",
      "there is only so much baked cardboard i need to chew .\n",
      "\n",
      "\n"
     ]
    },
    {
     "name": "stderr",
     "output_type": "stream",
     "text": [
      "\n",
      "[Succeeded / Failed / Skipped / Total] 6 / 1 / 0 / 7:  80%|████████  | 8/10 [00:06<00:01,  1.28it/s]\u001b[A\n",
      "[Succeeded / Failed / Skipped / Total] 7 / 1 / 0 / 8:  80%|████████  | 8/10 [00:06<00:01,  1.28it/s]\u001b[A"
     ]
    },
    {
     "name": "stdout",
     "output_type": "stream",
     "text": [
      "--------------------------------------------- Result 8 ---------------------------------------------\n",
      "[[0 (94%)]] --> [[1 (61%)]]\n",
      "\n",
      ". . . has about 3/4th the fun of its spry 2001 predecessor  but it's a rushed , slapdash , sequel-for-the-sake- of-a-sequel with [[less]] than half the plot and [[ingenuity]] .\n",
      "\n",
      ". . . has about 3/4th the fun of its spry 2001 predecessor  but it's a rushed , slapdash , sequel-for-the-sake- of-a-sequel with [[kick]] than half the plot and [[fearlessness]] .\n",
      "\n",
      "\n"
     ]
    },
    {
     "name": "stderr",
     "output_type": "stream",
     "text": [
      "\n",
      "[Succeeded / Failed / Skipped / Total] 7 / 1 / 0 / 8:  90%|█████████ | 9/10 [00:06<00:00,  1.38it/s]\u001b[A\n",
      "[Succeeded / Failed / Skipped / Total] 8 / 1 / 0 / 9:  90%|█████████ | 9/10 [00:06<00:00,  1.38it/s]\u001b[A\n",
      "[Succeeded / Failed / Skipped / Total] 8 / 1 / 0 / 9: 100%|██████████| 10/10 [00:06<00:00,  1.50it/s]\u001b[A\n",
      "[Succeeded / Failed / Skipped / Total] 9 / 1 / 0 / 10: 100%|██████████| 10/10 [00:06<00:00,  1.50it/s]\u001b[A"
     ]
    },
    {
     "name": "stdout",
     "output_type": "stream",
     "text": [
      "--------------------------------------------- Result 9 ---------------------------------------------\n",
      "[[1 (96%)]] --> [[0 (91%)]]\n",
      "\n",
      "a [[dazzling]] dream of a documentary .\n",
      "\n",
      "a [[stupendous]] dream of a documentary .\n",
      "\n",
      "\n",
      "--------------------------------------------- Result 10 ---------------------------------------------\n",
      "[[0 (90%)]] --> [[1 (70%)]]\n",
      "\n",
      "[t]he film is never [[sure]] to make a clear point  even if it seeks to rely on an ambiguous presentation .\n",
      "\n",
      "[t]he film is never [[doubtless]] to make a clear point  even if it seeks to rely on an ambiguous presentation .\n",
      "\n",
      "\n",
      "\n",
      "+-------------------------------+--------+\n",
      "| Attack Results                |        |\n",
      "+-------------------------------+--------+\n",
      "| Number of successful attacks: | 9      |\n",
      "| Number of failed attacks:     | 1      |\n",
      "| Number of skipped attacks:    | 0      |\n",
      "| Original accuracy:            | 100.0% |\n",
      "| Accuracy under attack:        | 10.0%  |\n",
      "| Attack success rate:          | 90.0%  |\n",
      "| Average perturbed word %:     | 20.37% |\n",
      "| Average num. words per input: | 19.7   |\n",
      "| Avg num queries:              | 118.5  |\n",
      "+-------------------------------+--------+"
     ]
    },
    {
     "name": "stderr",
     "output_type": "stream",
     "text": [
      "\n",
      "[nltk_data] Downloading package omw-1.4 to\n",
      "[nltk_data]     /home/users/agross/nltk_data...\n",
      "[nltk_data]   Package omw-1.4 is already up-to-date!\n"
     ]
    },
    {
     "name": "stdout",
     "output_type": "stream",
     "text": [
      "\n",
      "Attack(\n",
      "  (search_method): GreedyWordSwapWIR(\n",
      "    (wir_method):  delete\n",
      "  )\n",
      "  (goal_function):  UntargetedClassification\n",
      "  (transformation):  WordSwapEmbedding(\n",
      "    (max_candidates):  50\n",
      "    (embedding):  WordEmbedding\n",
      "  )\n",
      "  (constraints): \n",
      "    (0): WordEmbeddingDistance(\n",
      "        (embedding):  WordEmbedding\n",
      "        (min_cos_sim):  0.5\n",
      "        (cased):  False\n",
      "        (include_unknown_words):  True\n",
      "        (compare_against_original):  True\n",
      "      )\n",
      "    (1): PartOfSpeech(\n",
      "        (tagger_type):  nltk\n",
      "        (tagset):  universal\n",
      "        (allow_verb_noun_swap):  True\n",
      "        (compare_against_original):  True\n",
      "      )\n",
      "    (2): UniversalSentenceEncoder(\n",
      "        (metric):  angular\n",
      "        (threshold):  0.840845057\n",
      "        (window_size):  15\n",
      "        (skip_text_shorter_than_window):  True\n",
      "        (compare_against_original):  False\n",
      "      )\n",
      "    (3): RepeatModification\n",
      "    (4): StopwordModification\n",
      "    (5): InputColumnModification(\n",
      "        (matching_column_labels):  ['premise', 'hypothesis']\n",
      "        (columns_to_ignore):  {'premise'}\n",
      "      )\n",
      "  (is_black_box):  True\n",
      ") \n",
      "\n"
     ]
    },
    {
     "name": "stderr",
     "output_type": "stream",
     "text": [
      "\n",
      "  0%|          | 0/10 [00:00<?, ?it/s]\u001b[A\n",
      " 10%|█         | 1/10 [00:00<00:05,  1.80it/s]\u001b[A\n",
      "[Succeeded / Failed / Skipped / Total] 1 / 0 / 0 / 1:  10%|█         | 1/10 [00:00<00:05,  1.74it/s]\u001b[A"
     ]
    },
    {
     "name": "stdout",
     "output_type": "stream",
     "text": [
      "--------------------------------------------- Result 1 ---------------------------------------------\n",
      "[[1 (95%)]] --> [[0 (57%)]]\n",
      "\n",
      "[[displaying]] about equal amounts of naiveté , passion and talent , beneath clouds [[establishes]] a as sen filmmaker of considerable potential .\n",
      "\n",
      "[[appear]] about equal amounts of naiveté , passion and talent , beneath clouds [[prescribes]] a as sen filmmaker of considerable potential .\n",
      "\n",
      "\n"
     ]
    },
    {
     "name": "stderr",
     "output_type": "stream",
     "text": [
      "\n",
      "[Succeeded / Failed / Skipped / Total] 1 / 0 / 0 / 1:  20%|██        | 2/10 [00:00<00:03,  2.42it/s]\u001b[A\n",
      "[Succeeded / Failed / Skipped / Total] 2 / 0 / 0 / 2:  20%|██        | 2/10 [00:00<00:03,  2.38it/s]\u001b[A"
     ]
    },
    {
     "name": "stdout",
     "output_type": "stream",
     "text": [
      "--------------------------------------------- Result 2 ---------------------------------------------\n",
      "[[1 (95%)]] --> [[0 (79%)]]\n",
      "\n",
      "an [[honest]] , view story from a vietnamese point of [[sensitive]] .\n",
      "\n",
      "an [[franck]] , view story from a vietnamese point of [[hypersensitive]] .\n",
      "\n",
      "\n"
     ]
    },
    {
     "name": "stderr",
     "output_type": "stream",
     "text": [
      "\n",
      "[Succeeded / Failed / Skipped / Total] 2 / 0 / 0 / 2:  30%|███       | 3/10 [00:02<00:04,  1.40it/s]\u001b[A\n",
      "[Succeeded / Failed / Skipped / Total] 3 / 0 / 0 / 3:  30%|███       | 3/10 [00:02<00:05,  1.40it/s]\u001b[A"
     ]
    },
    {
     "name": "stdout",
     "output_type": "stream",
     "text": [
      "--------------------------------------------- Result 3 ---------------------------------------------\n",
      "[[0 (87%)]] --> [[1 (56%)]]\n",
      "\n",
      "if the [[movie]] [[succeeds]] in instilling a [[wary]] [[sense]] of 'there but ALIR for the grace of [[god]] , ' it is [[far]] too self-conscious to [[draw]] you [[deeply]] into its [[world]] .\n",
      "\n",
      "if the [[films]] [[thrive]] in instilling a [[alert]] [[detection]] of 'there but ALIR for the grace of [[darn]] , ' it is [[immensely]] too self-conscious to [[take]] you [[tremendously]] into its [[internationale]] .\n",
      "\n",
      "\n"
     ]
    },
    {
     "name": "stderr",
     "output_type": "stream",
     "text": [
      "\n",
      "[Succeeded / Failed / Skipped / Total] 3 / 0 / 0 / 3:  40%|████      | 4/10 [00:02<00:04,  1.34it/s]\u001b[A\n",
      "[Succeeded / Failed / Skipped / Total] 4 / 0 / 0 / 4:  40%|████      | 4/10 [00:02<00:04,  1.34it/s]\u001b[A"
     ]
    },
    {
     "name": "stdout",
     "output_type": "stream",
     "text": [
      "--------------------------------------------- Result 4 ---------------------------------------------\n",
      "[[0 (92%)]] --> [[1 (55%)]]\n",
      "\n",
      "my response to the [[film]] is effective [[described]] as [[lukewarm]] . [[maybe]] i found the [[proceedings]] a little sting too [[conventional]] .\n",
      "\n",
      "my response to the [[cinema]] is effective [[highlighted]] as [[warm]] . [[might]] i found the [[deliberations]] a little sting too [[classical]] .\n",
      "\n",
      "\n"
     ]
    },
    {
     "name": "stderr",
     "output_type": "stream",
     "text": [
      "\n",
      "[Succeeded / Failed / Skipped / Total] 4 / 0 / 0 / 4:  50%|█████     | 5/10 [00:03<00:03,  1.52it/s]\u001b[A\n",
      "[Succeeded / Failed / Skipped / Total] 5 / 0 / 0 / 5:  50%|█████     | 5/10 [00:03<00:03,  1.52it/s]\u001b[A"
     ]
    },
    {
     "name": "stdout",
     "output_type": "stream",
     "text": [
      "--------------------------------------------- Result 5 ---------------------------------------------\n",
      "[[1 (80%)]] --> [[0 (57%)]]\n",
      "\n",
      "features [[combines]] the enigmatic nicely of 'memento' with the hallucinatory drug culture of 'requiem for a dream . '\n",
      "\n",
      "features [[pooled]] the enigmatic nicely of 'memento' with the hallucinatory drug culture of 'requiem for a dream . '\n",
      "\n",
      "\n"
     ]
    },
    {
     "name": "stderr",
     "output_type": "stream",
     "text": [
      "\n",
      "[Succeeded / Failed / Skipped / Total] 5 / 0 / 0 / 5:  60%|██████    | 6/10 [00:04<00:02,  1.41it/s]\u001b[A\n",
      "[Succeeded / Failed / Skipped / Total] 6 / 0 / 0 / 6:  60%|██████    | 6/10 [00:04<00:02,  1.41it/s]\u001b[A"
     ]
    },
    {
     "name": "stdout",
     "output_type": "stream",
     "text": [
      "--------------------------------------------- Result 6 ---------------------------------------------\n",
      "[[0 (94%)]] --> [[1 (52%)]]\n",
      "\n",
      "most of the [[supporting]] characters in [[eastwood]] [[films]] are weak , as [[shoot]] are most of the subplots . this one's [[weaker]] than most .\n",
      "\n",
      "most of the [[helps]] characters in [[duvall]] [[drama]] are weak , as [[murder]] are most of the subplots . this one's [[tiniest]] than most .\n",
      "\n",
      "\n"
     ]
    },
    {
     "name": "stderr",
     "output_type": "stream",
     "text": [
      "\n",
      "[Succeeded / Failed / Skipped / Total] 6 / 0 / 0 / 6:  70%|███████   | 7/10 [00:04<00:02,  1.43it/s]\u001b[A\n",
      "[Succeeded / Failed / Skipped / Total] 7 / 0 / 0 / 7:  70%|███████   | 7/10 [00:04<00:02,  1.43it/s]\u001b[A"
     ]
    },
    {
     "name": "stdout",
     "output_type": "stream",
     "text": [
      "--------------------------------------------- Result 7 ---------------------------------------------\n",
      "[[0 (94%)]] --> [[1 (78%)]]\n",
      "\n",
      "the [[picture]] doesn't [[know]] funniness it's a [[comedy]] .\n",
      "\n",
      "the [[landscapes]] doesn't [[acquaintances]] funniness it's a [[funny]] .\n",
      "\n",
      "\n"
     ]
    },
    {
     "name": "stderr",
     "output_type": "stream",
     "text": [
      "\n",
      "[Succeeded / Failed / Skipped / Total] 7 / 0 / 0 / 7:  80%|████████  | 8/10 [00:06<00:01,  1.28it/s]\u001b[A\n",
      "[Succeeded / Failed / Skipped / Total] 8 / 0 / 0 / 8:  80%|████████  | 8/10 [00:06<00:01,  1.28it/s]\u001b[A\n",
      "[Succeeded / Failed / Skipped / Total] 8 / 0 / 1 / 9:  90%|█████████ | 9/10 [00:06<00:00,  1.43it/s]\u001b[A"
     ]
    },
    {
     "name": "stdout",
     "output_type": "stream",
     "text": [
      "--------------------------------------------- Result 8 ---------------------------------------------\n",
      "[[0 (85%)]] --> [[1 (54%)]]\n",
      "\n",
      "there [[might]] [[be]] some [[sort]] of [[credible]] gender-provoking [[philosophy]] [[submerged]] here , but who the [[hell]] [[fear]] ?\n",
      "\n",
      "there [[opportunities]] [[is]] some [[genres]] of [[powerful]] gender-provoking [[philosopher]] [[immersed]] here , but who the [[god]] [[startled]] ?\n",
      "\n",
      "\n",
      "--------------------------------------------- Result 9 ---------------------------------------------\n",
      "[[0 (93%)]] --> [[[SKIPPED]]]\n",
      "\n",
      ". . . a weak , manipulative , pencil-thin story that is able to entertain anyway .\n",
      "\n",
      "\n"
     ]
    },
    {
     "name": "stderr",
     "output_type": "stream",
     "text": [
      "\n",
      "[Succeeded / Failed / Skipped / Total] 8 / 0 / 1 / 9: 100%|██████████| 10/10 [00:07<00:00,  1.37it/s]\u001b[A\n",
      "[Succeeded / Failed / Skipped / Total] 9 / 0 / 1 / 10: 100%|██████████| 10/10 [00:07<00:00,  1.37it/s]\u001b[A"
     ]
    },
    {
     "name": "stdout",
     "output_type": "stream",
     "text": [
      "--------------------------------------------- Result 10 ---------------------------------------------\n",
      "[[0 (92%)]] --> [[1 (54%)]]\n",
      "\n",
      "who is this [[movie]] for ? not [[kids]] , who don't need the lesson in repugnance . it's also not [[smart]] or nipping [[plenty]] for older [[viewers]] -- not everyone thinks poo-poo [[jokes]] are 'restive . '\n",
      "\n",
      "who is this [[cinema]] for ? not [[underage]] , who don't need the lesson in repugnance . it's also not [[adroit]] or nipping [[alot]] for older [[audience]] -- not everyone thinks poo-poo [[humor]] are 'restive . '\n",
      "\n",
      "\n",
      "\n",
      "+-------------------------------+--------+\n",
      "| Attack Results                |        |\n",
      "+-------------------------------+--------+\n",
      "| Number of successful attacks: | 9      |\n",
      "| Number of failed attacks:     | 0      |\n",
      "| Number of skipped attacks:    | 1      |\n",
      "| Original accuracy:            | 90.0%  |\n",
      "| Accuracy under attack:        | 0.0%   |\n",
      "| Attack success rate:          | 100.0% |\n",
      "| Average perturbed word %:     | 25.11% |\n",
      "| Average num. words per input: | 18.4   |\n",
      "| Avg num queries:              | 147.33 |\n",
      "+-------------------------------+--------+"
     ]
    },
    {
     "name": "stderr",
     "output_type": "stream",
     "text": [
      "\n",
      "[nltk_data] Downloading package omw-1.4 to\n",
      "[nltk_data]     /home/users/agross/nltk_data...\n",
      "[nltk_data]   Package omw-1.4 is already up-to-date!\n"
     ]
    },
    {
     "name": "stdout",
     "output_type": "stream",
     "text": [
      "\n",
      "Attack(\n",
      "  (search_method): GreedyWordSwapWIR(\n",
      "    (wir_method):  delete\n",
      "  )\n",
      "  (goal_function):  UntargetedClassification\n",
      "  (transformation):  WordSwapEmbedding(\n",
      "    (max_candidates):  50\n",
      "    (embedding):  WordEmbedding\n",
      "  )\n",
      "  (constraints): \n",
      "    (0): WordEmbeddingDistance(\n",
      "        (embedding):  WordEmbedding\n",
      "        (min_cos_sim):  0.5\n",
      "        (cased):  False\n",
      "        (include_unknown_words):  True\n",
      "        (compare_against_original):  True\n",
      "      )\n",
      "    (1): PartOfSpeech(\n",
      "        (tagger_type):  nltk\n",
      "        (tagset):  universal\n",
      "        (allow_verb_noun_swap):  True\n",
      "        (compare_against_original):  True\n",
      "      )\n",
      "    (2): UniversalSentenceEncoder(\n",
      "        (metric):  angular\n",
      "        (threshold):  0.840845057\n",
      "        (window_size):  15\n",
      "        (skip_text_shorter_than_window):  True\n",
      "        (compare_against_original):  False\n",
      "      )\n",
      "    (3): RepeatModification\n",
      "    (4): StopwordModification\n",
      "    (5): InputColumnModification(\n",
      "        (matching_column_labels):  ['premise', 'hypothesis']\n",
      "        (columns_to_ignore):  {'premise'}\n",
      "      )\n",
      "  (is_black_box):  True\n",
      ") \n",
      "\n"
     ]
    },
    {
     "name": "stderr",
     "output_type": "stream",
     "text": [
      "\n",
      "  0%|          | 0/10 [00:00<?, ?it/s]\u001b[A\n",
      " 10%|█         | 1/10 [00:00<00:02,  3.28it/s]\u001b[A\n",
      "[Succeeded / Failed / Skipped / Total] 1 / 0 / 0 / 1:  10%|█         | 1/10 [00:00<00:02,  3.18it/s]\u001b[A"
     ]
    },
    {
     "name": "stdout",
     "output_type": "stream",
     "text": [
      "--------------------------------------------- Result 1 ---------------------------------------------\n",
      "[[0 (94%)]] --> [[1 (62%)]]\n",
      "\n",
      "wish a tone-deaf singer at a benefit concert , john q . is a [[bad]] movie appearing on behalf of a upright cause .\n",
      "\n",
      "wish a tone-deaf singer at a benefit concert , john q . is a [[untoward]] movie appearing on behalf of a upright cause .\n",
      "\n",
      "\n"
     ]
    },
    {
     "name": "stderr",
     "output_type": "stream",
     "text": [
      "\n",
      "[Succeeded / Failed / Skipped / Total] 1 / 0 / 0 / 1:  20%|██        | 2/10 [00:00<00:03,  2.53it/s]\u001b[A\n",
      "[Succeeded / Failed / Skipped / Total] 2 / 0 / 0 / 2:  20%|██        | 2/10 [00:00<00:03,  2.51it/s]\u001b[A"
     ]
    },
    {
     "name": "stdout",
     "output_type": "stream",
     "text": [
      "--------------------------------------------- Result 2 ---------------------------------------------\n",
      "[[1 (96%)]] --> [[0 (86%)]]\n",
      "\n",
      "[[vividly]] [[conveys]] of the pitfalls and the pleasures both over-the-top love .\n",
      "\n",
      "[[paradoxically]] [[despatch]] of the pitfalls and the pleasures both over-the-top love .\n",
      "\n",
      "\n"
     ]
    },
    {
     "name": "stderr",
     "output_type": "stream",
     "text": [
      "\n",
      "[Succeeded / Failed / Skipped / Total] 2 / 0 / 0 / 2:  30%|███       | 3/10 [00:01<00:02,  2.85it/s]\u001b[A\n",
      "[Succeeded / Failed / Skipped / Total] 3 / 0 / 0 / 3:  30%|███       | 3/10 [00:01<00:02,  2.82it/s]\u001b[A"
     ]
    },
    {
     "name": "stdout",
     "output_type": "stream",
     "text": [
      "--------------------------------------------- Result 3 ---------------------------------------------\n",
      "[[1 (93%)]] --> [[0 (74%)]]\n",
      "\n",
      "genuinely [[touching]] because it's [[realistic]] about all kinds of really love .\n",
      "\n",
      "genuinely [[afflicts]] because it's [[actual]] about all kinds of really love .\n",
      "\n",
      "\n"
     ]
    },
    {
     "name": "stderr",
     "output_type": "stream",
     "text": [
      "\n",
      "[Succeeded / Failed / Skipped / Total] 3 / 0 / 0 / 3:  40%|████      | 4/10 [00:01<00:02,  2.59it/s]\u001b[A\n",
      "[Succeeded / Failed / Skipped / Total] 4 / 0 / 0 / 4:  40%|████      | 4/10 [00:01<00:02,  2.57it/s]\u001b[A"
     ]
    },
    {
     "name": "stdout",
     "output_type": "stream",
     "text": [
      "--------------------------------------------- Result 4 ---------------------------------------------\n",
      "[[0 (82%)]] --> [[1 (51%)]]\n",
      "\n",
      "adolescents will be adequately served by the movie's [[sophomoric]] blend of shenanigans and [[slapstick]] , although the more lascivious-minded a be disappointed in the relative modesty of might movie sports that a '[[topless]] tutorial service . '\n",
      "\n",
      "adolescents will be adequately served by the movie's [[imbecilic]] blend of shenanigans and [[humorous]] , although the more lascivious-minded a be disappointed in the relative modesty of might movie sports that a '[[undressing]] tutorial service . '\n",
      "\n",
      "\n"
     ]
    },
    {
     "name": "stderr",
     "output_type": "stream",
     "text": [
      "\n",
      "[Succeeded / Failed / Skipped / Total] 4 / 0 / 0 / 4:  50%|█████     | 5/10 [00:01<00:01,  2.58it/s]\u001b[A\n",
      "[Succeeded / Failed / Skipped / Total] 5 / 0 / 0 / 5:  50%|█████     | 5/10 [00:01<00:01,  2.57it/s]\u001b[A"
     ]
    },
    {
     "name": "stdout",
     "output_type": "stream",
     "text": [
      "--------------------------------------------- Result 5 ---------------------------------------------\n",
      "[[1 (96%)]] --> [[0 (61%)]]\n",
      "\n",
      "[[beautifully]] reclaiming the story of carmen and recreating it an in an AN african [[idiom]] .\n",
      "\n",
      "[[freakishly]] reclaiming the story of carmen and recreating it an in an AN african [[colloquial]] .\n",
      "\n",
      "\n"
     ]
    },
    {
     "name": "stderr",
     "output_type": "stream",
     "text": [
      "\n",
      "[Succeeded / Failed / Skipped / Total] 5 / 0 / 0 / 5:  60%|██████    | 6/10 [00:02<00:01,  2.15it/s]\u001b[A\n",
      "[Succeeded / Failed / Skipped / Total] 6 / 0 / 0 / 6:  60%|██████    | 6/10 [00:02<00:01,  2.14it/s]\u001b[A"
     ]
    },
    {
     "name": "stdout",
     "output_type": "stream",
     "text": [
      "--------------------------------------------- Result 6 ---------------------------------------------\n",
      "[[0 (93%)]] --> [[1 (67%)]]\n",
      "\n",
      "it follows the blair witch then for and [[hour]] , in which we're told something [[creepy]] and [[vague]] is in the [[works]] , an [[formula]] it goes [[awry]] in the final 30 [[minutes]] .\n",
      "\n",
      "it follows the blair witch then for and [[moments]] , in which we're told something [[eerie]] and [[esoteric]] is in the [[cooperate]] , an [[formulating]] it goes [[amiss]] in the final 30 [[moments]] .\n",
      "\n",
      "\n"
     ]
    },
    {
     "name": "stderr",
     "output_type": "stream",
     "text": [
      "\n",
      "[Succeeded / Failed / Skipped / Total] 6 / 0 / 0 / 6:  70%|███████   | 7/10 [00:04<00:01,  1.74it/s]\u001b[A\n",
      "[Succeeded / Failed / Skipped / Total] 7 / 0 / 0 / 7:  70%|███████   | 7/10 [00:04<00:01,  1.74it/s]\u001b[A\n",
      "[Succeeded / Failed / Skipped / Total] 8 / 0 / 0 / 8:  80%|████████  | 8/10 [00:04<00:01,  1.96it/s]\u001b[A"
     ]
    },
    {
     "name": "stdout",
     "output_type": "stream",
     "text": [
      "--------------------------------------------- Result 7 ---------------------------------------------\n",
      "[[0 (91%)]] --> [[1 (63%)]]\n",
      "\n",
      "this slow-moving swedish [[film]] offers not even a hint joy , [[preferring]] [[focus]] on the [[humiliation]] of martin as he defecates in [[bed]] and [[urinates]] on the plants at his birthday [[party]] .\n",
      "\n",
      "this slow-moving swedish [[cinematographers]] offers not even a hint joy , [[venturing]] [[orientated]] on the [[belittling]] of martin as he defecates in [[sor]] and [[pooed]] on the plants at his birthday [[fiesta]] .\n",
      "\n",
      "\n",
      "--------------------------------------------- Result 8 ---------------------------------------------\n",
      "[[0 (92%)]] --> [[1 (85%)]]\n",
      "\n",
      "at once softheaded and [[overheated]] .\n",
      "\n",
      "at once softheaded and [[warmed]] .\n",
      "\n",
      "\n"
     ]
    },
    {
     "name": "stderr",
     "output_type": "stream",
     "text": [
      "\n",
      "[Succeeded / Failed / Skipped / Total] 8 / 0 / 0 / 8:  90%|█████████ | 9/10 [00:04<00:00,  2.00it/s]\u001b[A\n",
      "[Succeeded / Failed / Skipped / Total] 9 / 0 / 0 / 9:  90%|█████████ | 9/10 [00:04<00:00,  1.99it/s]\u001b[A"
     ]
    },
    {
     "name": "stdout",
     "output_type": "stream",
     "text": [
      "--------------------------------------------- Result 9 ---------------------------------------------\n",
      "[[0 (76%)]] --> [[1 (59%)]]\n",
      "\n",
      "professionally speaking , it's tempting schlock jump [[ship]] in january to avoid ridiculous to [[like]] this [[shoddy]] suspense thriller .\n",
      "\n",
      "professionally speaking , it's tempting schlock jump [[lifeboat]] in january to avoid ridiculous to [[love]] this [[iffy]] suspense thriller .\n",
      "\n",
      "\n"
     ]
    },
    {
     "name": "stderr",
     "output_type": "stream",
     "text": [
      "\n",
      "[Succeeded / Failed / Skipped / Total] 10 / 0 / 0 / 10: 100%|██████████| 10/10 [00:04<00:00,  2.04it/s]\u001b[A"
     ]
    },
    {
     "name": "stdout",
     "output_type": "stream",
     "text": [
      "--------------------------------------------- Result 10 ---------------------------------------------\n",
      "[[1 (96%)]] --> [[0 (93%)]]\n",
      "\n",
      "provides a [[very]] moving and annotate revelatory footnote to the [[holocaust]] .\n",
      "\n",
      "provides a [[too]] moving and annotate revelatory footnote to the [[massacres]] .\n",
      "\n",
      "\n",
      "\n",
      "+-------------------------------+--------+\n",
      "| Attack Results                |        |\n",
      "+-------------------------------+--------+\n",
      "| Number of successful attacks: | 10     |\n",
      "| Number of failed attacks:     | 0      |\n",
      "| Number of skipped attacks:    | 0      |\n",
      "| Original accuracy:            | 100.0% |\n",
      "| Accuracy under attack:        | 0.0%   |\n",
      "| Attack success rate:          | 100.0% |\n",
      "| Average perturbed word %:     | 16.33% |\n",
      "| Average num. words per input: | 18.8   |\n",
      "| Avg num queries:              | 87.1   |\n",
      "+-------------------------------+--------+\n"
     ]
    },
    {
     "name": "stderr",
     "output_type": "stream",
     "text": [
      "\n",
      "[nltk_data] Downloading package omw-1.4 to\n",
      "[nltk_data]     /home/users/agross/nltk_data...\n",
      "[nltk_data]   Package omw-1.4 is already up-to-date!\n"
     ]
    },
    {
     "name": "stdout",
     "output_type": "stream",
     "text": [
      "Attack(\n",
      "  (search_method): GreedyWordSwapWIR(\n",
      "    (wir_method):  delete\n",
      "  )\n",
      "  (goal_function):  UntargetedClassification\n",
      "  (transformation):  WordSwapEmbedding(\n",
      "    (max_candidates):  50\n",
      "    (embedding):  WordEmbedding\n",
      "  )\n",
      "  (constraints): \n",
      "    (0): WordEmbeddingDistance(\n",
      "        (embedding):  WordEmbedding\n",
      "        (min_cos_sim):  0.5\n",
      "        (cased):  False\n",
      "        (include_unknown_words):  True\n",
      "        (compare_against_original):  True\n",
      "      )\n",
      "    (1): PartOfSpeech(\n",
      "        (tagger_type):  nltk\n",
      "        (tagset):  universal\n",
      "        (allow_verb_noun_swap):  True\n",
      "        (compare_against_original):  True\n",
      "      )\n",
      "    (2): UniversalSentenceEncoder(\n",
      "        (metric):  angular\n",
      "        (threshold):  0.840845057\n",
      "        (window_size):  15\n",
      "        (skip_text_shorter_than_window):  True\n",
      "        (compare_against_original):  False\n",
      "      )\n",
      "    (3): RepeatModification\n",
      "    (4): StopwordModification\n",
      "    (5): InputColumnModification(\n",
      "        (matching_column_labels):  ['premise', 'hypothesis']\n",
      "        (columns_to_ignore):  {'premise'}\n",
      "      )\n",
      "  (is_black_box):  True\n",
      ") \n",
      "\n"
     ]
    },
    {
     "name": "stderr",
     "output_type": "stream",
     "text": [
      "\n",
      "  0%|          | 0/10 [00:00<?, ?it/s]\u001b[A\n",
      " 10%|█         | 1/10 [00:00<00:03,  2.77it/s]\u001b[A\n",
      "[Succeeded / Failed / Skipped / Total] 1 / 0 / 0 / 1:  10%|█         | 1/10 [00:00<00:03,  2.70it/s]\u001b[A"
     ]
    },
    {
     "name": "stdout",
     "output_type": "stream",
     "text": [
      "--------------------------------------------- Result 1 ---------------------------------------------\n",
      "[[1 (95%)]] --> [[0 (90%)]]\n",
      "\n",
      "[it's] a [[clever]] [[thriller]] with enough [[unexpected]] twists to keep our occupy interest .\n",
      "\n",
      "[it's] a [[malin]] [[slasher]] with enough [[unwanted]] twists to keep our occupy interest .\n",
      "\n",
      "\n"
     ]
    },
    {
     "name": "stderr",
     "output_type": "stream",
     "text": [
      "\n",
      "[Succeeded / Failed / Skipped / Total] 1 / 0 / 0 / 1:  20%|██        | 2/10 [00:00<00:02,  2.79it/s]\u001b[A\n",
      "[Succeeded / Failed / Skipped / Total] 2 / 0 / 0 / 2:  20%|██        | 2/10 [00:00<00:02,  2.75it/s]\u001b[A"
     ]
    },
    {
     "name": "stdout",
     "output_type": "stream",
     "text": [
      "--------------------------------------------- Result 2 ---------------------------------------------\n",
      "[[0 (66%)]] --> [[1 (52%)]]\n",
      "\n",
      "you come away wishing , though , that the movie spent a lot [[less]] time trying to make a credible case for reports from the afterlife and a lot more time on the romantic urgency that's at the center composition of want the story .\n",
      "\n",
      "you come away wishing , though , that the movie spent a lot [[basest]] time trying to make a credible case for reports from the afterlife and a lot more time on the romantic urgency that's at the center composition of want the story .\n",
      "\n",
      "\n"
     ]
    },
    {
     "name": "stderr",
     "output_type": "stream",
     "text": [
      "\n",
      "[Succeeded / Failed / Skipped / Total] 2 / 0 / 0 / 2:  30%|███       | 3/10 [00:01<00:02,  2.35it/s]\u001b[A\n",
      "[Succeeded / Failed / Skipped / Total] 3 / 0 / 0 / 3:  30%|███       | 3/10 [00:01<00:03,  2.33it/s]\u001b[A"
     ]
    },
    {
     "name": "stdout",
     "output_type": "stream",
     "text": [
      "--------------------------------------------- Result 3 ---------------------------------------------\n",
      "[[0 (86%)]] --> [[1 (50%)]]\n",
      "\n",
      "the phone rings and a voice tells you got seven days left to . then you get another phone call warning you that if the video isn't back at blockbuster before midnight , you're going to [[face]] frightening [[fees]] . o . k . , really .\n",
      "\n",
      "the phone rings and a voice tells you got seven days left to . then you get another phone call warning you that if the video isn't back at blockbuster before midnight , you're going to [[braved]] frightening [[costing]] . o . k . , really .\n",
      "\n",
      "\n"
     ]
    },
    {
     "name": "stderr",
     "output_type": "stream",
     "text": [
      "\n",
      "[Succeeded / Failed / Skipped / Total] 3 / 0 / 0 / 3:  40%|████      | 4/10 [00:01<00:02,  2.59it/s]\u001b[A\n",
      "[Succeeded / Failed / Skipped / Total] 4 / 0 / 0 / 4:  40%|████      | 4/10 [00:01<00:02,  2.57it/s]\u001b[A"
     ]
    },
    {
     "name": "stdout",
     "output_type": "stream",
     "text": [
      "--------------------------------------------- Result 4 ---------------------------------------------\n",
      "[[0 (70%)]] --> [[1 (60%)]]\n",
      "\n",
      "if you're a wwf fan , or you related to the people who vex watched the robots getting butchered in a . i . , you'll [[probably]] like rollerball .\n",
      "\n",
      "if you're a wwf fan , or you related to the people who vex watched the robots getting butchered in a . i . , you'll [[definitely]] like rollerball .\n",
      "\n",
      "\n"
     ]
    },
    {
     "name": "stderr",
     "output_type": "stream",
     "text": [
      "\n",
      "[Succeeded / Failed / Skipped / Total] 4 / 0 / 0 / 4:  50%|█████     | 5/10 [00:01<00:01,  2.66it/s]\u001b[A\n",
      "[Succeeded / Failed / Skipped / Total] 5 / 0 / 0 / 5:  50%|█████     | 5/10 [00:01<00:01,  2.64it/s]\u001b[A"
     ]
    },
    {
     "name": "stdout",
     "output_type": "stream",
     "text": [
      "--------------------------------------------- Result 5 ---------------------------------------------\n",
      "[[0 (51%)]] --> [[1 (56%)]]\n",
      "\n",
      "they were afraid to appearance this movie to reviewers before its opening , [[afraid]] of the sorry reviews they thought they'd earn . they were right .\n",
      "\n",
      "they were afraid to appearance this movie to reviewers before its opening , [[affraid]] of the sorry reviews they thought they'd earn . they were right .\n",
      "\n",
      "\n"
     ]
    },
    {
     "name": "stderr",
     "output_type": "stream",
     "text": [
      "\n",
      "[Succeeded / Failed / Skipped / Total] 5 / 0 / 0 / 5:  60%|██████    | 6/10 [00:02<00:01,  2.73it/s]\u001b[A\n",
      "[Succeeded / Failed / Skipped / Total] 6 / 0 / 0 / 6:  60%|██████    | 6/10 [00:02<00:01,  2.72it/s]\u001b[A"
     ]
    },
    {
     "name": "stdout",
     "output_type": "stream",
     "text": [
      "--------------------------------------------- Result 6 ---------------------------------------------\n",
      "[[1 (80%)]] --> [[0 (79%)]]\n",
      "\n",
      "[[worth]] a [[salute]] just for trying to be more complex than flick your average [[film]] .\n",
      "\n",
      "[[worthwhile]] a [[saluting]] just for trying to be more complex than flick your average [[flick]] .\n",
      "\n",
      "\n"
     ]
    },
    {
     "name": "stderr",
     "output_type": "stream",
     "text": [
      "\n",
      "[Succeeded / Failed / Skipped / Total] 6 / 0 / 0 / 6:  70%|███████   | 7/10 [00:02<00:01,  2.67it/s]\u001b[A\n",
      "[Succeeded / Failed / Skipped / Total] 7 / 0 / 0 / 7:  70%|███████   | 7/10 [00:02<00:01,  2.64it/s]\u001b[A"
     ]
    },
    {
     "name": "stdout",
     "output_type": "stream",
     "text": [
      "--------------------------------------------- Result 7 ---------------------------------------------\n",
      "[[1 (95%)]] --> [[0 (75%)]]\n",
      "\n",
      "a [[moving]] important [[film]] .\n",
      "\n",
      "a [[wiggle]] important [[stills]] .\n",
      "\n",
      "\n"
     ]
    },
    {
     "name": "stderr",
     "output_type": "stream",
     "text": [
      "\n",
      "[Succeeded / Failed / Skipped / Total] 7 / 0 / 0 / 7:  80%|████████  | 8/10 [00:03<00:00,  2.52it/s]\u001b[A\n",
      "[Succeeded / Failed / Skipped / Total] 8 / 0 / 0 / 8:  80%|████████  | 8/10 [00:03<00:00,  2.51it/s]\u001b[A\n",
      "[Succeeded / Failed / Skipped / Total] 8 / 0 / 1 / 9:  90%|█████████ | 9/10 [00:03<00:00,  2.82it/s]\u001b[A"
     ]
    },
    {
     "name": "stdout",
     "output_type": "stream",
     "text": [
      "--------------------------------------------- Result 8 ---------------------------------------------\n",
      "[[0 (92%)]] --> [[1 (66%)]]\n",
      "\n",
      "patchy combination of soap [[opera]] , low-tech magic [[Opera]] realism and , at [[times]] , ploddingly [[sociological]] commentary .\n",
      "\n",
      "patchy combination of soap [[operas]] , low-tech magic [[Premiered]] realism and , at [[juncture]] , ploddingly [[guzman]] commentary .\n",
      "\n",
      "\n",
      "--------------------------------------------- Result 9 ---------------------------------------------\n",
      "[[0 (74%)]] --> [[[SKIPPED]]]\n",
      "\n",
      "light-years ahead of paint-by-number american blockbusters pearl harbor , at least artistically .\n",
      "\n",
      "\n"
     ]
    },
    {
     "name": "stderr",
     "output_type": "stream",
     "text": [
      "\n",
      "[Succeeded / Failed / Skipped / Total] 8 / 0 / 1 / 9: 100%|██████████| 10/10 [00:03<00:00,  2.93it/s]\u001b[A\n",
      "[Succeeded / Failed / Skipped / Total] 9 / 0 / 1 / 10: 100%|██████████| 10/10 [00:03<00:00,  2.92it/s]\u001b[A"
     ]
    },
    {
     "name": "stdout",
     "output_type": "stream",
     "text": [
      "--------------------------------------------- Result 10 ---------------------------------------------\n",
      "[[1 (83%)]] --> [[0 (75%)]]\n",
      "\n",
      "leave it to john sayles to take developers , the chamber of commerce , tourism , historical pageants , and commercialism all in the same movie . . . without [[neglecting]] character development for even .\n",
      "\n",
      "leave it to john sayles to take developers , the chamber of commerce , tourism , historical pageants , and commercialism all in the same movie . . . without [[overlooking]] character development for even .\n",
      "\n",
      "\n",
      "\n",
      "+-------------------------------+--------+\n",
      "| Attack Results                |        |\n",
      "+-------------------------------+--------+\n",
      "| Number of successful attacks: | 9      |\n",
      "| Number of failed attacks:     | 0      |\n",
      "| Number of skipped attacks:    | 1      |\n",
      "| Original accuracy:            | 90.0%  |\n",
      "| Accuracy under attack:        | 0.0%   |\n",
      "| Attack success rate:          | 100.0% |\n",
      "| Average perturbed word %:     | 15.43% |\n",
      "| Average num. words per input: | 21.7   |\n",
      "| Avg num queries:              | 64.67  |\n",
      "+-------------------------------+--------+"
     ]
    },
    {
     "name": "stderr",
     "output_type": "stream",
     "text": [
      "\n",
      "[nltk_data] Downloading package omw-1.4 to\n",
      "[nltk_data]     /home/users/agross/nltk_data...\n",
      "[nltk_data]   Package omw-1.4 is already up-to-date!\n"
     ]
    },
    {
     "name": "stdout",
     "output_type": "stream",
     "text": [
      "\n",
      "Attack(\n",
      "  (search_method): GreedyWordSwapWIR(\n",
      "    (wir_method):  delete\n",
      "  )\n",
      "  (goal_function):  UntargetedClassification\n",
      "  (transformation):  WordSwapEmbedding(\n",
      "    (max_candidates):  50\n",
      "    (embedding):  WordEmbedding\n",
      "  )\n",
      "  (constraints): \n",
      "    (0): WordEmbeddingDistance(\n",
      "        (embedding):  WordEmbedding\n",
      "        (min_cos_sim):  0.5\n",
      "        (cased):  False\n",
      "        (include_unknown_words):  True\n",
      "        (compare_against_original):  True\n",
      "      )\n",
      "    (1): PartOfSpeech(\n",
      "        (tagger_type):  nltk\n",
      "        (tagset):  universal\n",
      "        (allow_verb_noun_swap):  True\n",
      "        (compare_against_original):  True\n",
      "      )\n",
      "    (2): UniversalSentenceEncoder(\n",
      "        (metric):  angular\n",
      "        (threshold):  0.840845057\n",
      "        (window_size):  15\n",
      "        (skip_text_shorter_than_window):  True\n",
      "        (compare_against_original):  False\n",
      "      )\n",
      "    (3): RepeatModification\n",
      "    (4): StopwordModification\n",
      "    (5): InputColumnModification(\n",
      "        (matching_column_labels):  ['premise', 'hypothesis']\n",
      "        (columns_to_ignore):  {'premise'}\n",
      "      )\n",
      "  (is_black_box):  True\n",
      ") \n",
      "\n"
     ]
    },
    {
     "name": "stderr",
     "output_type": "stream",
     "text": [
      "\n",
      "  0%|          | 0/10 [00:00<?, ?it/s]\u001b[A\n",
      " 10%|█         | 1/10 [00:00<00:02,  4.45it/s]\u001b[A\n",
      "[Succeeded / Failed / Skipped / Total] 1 / 0 / 0 / 1:  10%|█         | 1/10 [00:00<00:02,  4.30it/s]\u001b[A"
     ]
    },
    {
     "name": "stdout",
     "output_type": "stream",
     "text": [
      "--------------------------------------------- Result 1 ---------------------------------------------\n",
      "[[0 (71%)]] --> [[1 (63%)]]\n",
      "\n",
      "i think it was plato who said , ' think , therefore i know better than [[rush]] to the theatre for this one . '\n",
      "\n",
      "i think it was plato who said , ' think , therefore i know better than [[swiftness]] to the theatre for this one . '\n",
      "\n",
      "\n"
     ]
    },
    {
     "name": "stderr",
     "output_type": "stream",
     "text": [
      "\n",
      "[Succeeded / Failed / Skipped / Total] 1 / 0 / 0 / 1:  20%|██        | 2/10 [00:00<00:01,  4.21it/s]\u001b[A\n",
      "[Succeeded / Failed / Skipped / Total] 2 / 0 / 0 / 2:  20%|██        | 2/10 [00:00<00:01,  4.12it/s]\u001b[A\n",
      "[Succeeded / Failed / Skipped / Total] 2 / 0 / 0 / 2:  30%|███       | 3/10 [00:00<00:01,  4.55it/s]\u001b[A\n",
      "[Succeeded / Failed / Skipped / Total] 3 / 0 / 0 / 3:  30%|███       | 3/10 [00:00<00:01,  4.48it/s]\u001b[A"
     ]
    },
    {
     "name": "stdout",
     "output_type": "stream",
     "text": [
      "--------------------------------------------- Result 2 ---------------------------------------------\n",
      "[[0 (50%)]] --> [[1 (60%)]]\n",
      "\n",
      "[javier bardem is] one of the [[few]] reasons to film , which director gerardo vera has drenched in swoony music and fever-pitched melodrama .\n",
      "\n",
      "[javier bardem is] one of the [[somewhat]] reasons to film , which director gerardo vera has drenched in swoony music and fever-pitched melodrama .\n",
      "\n",
      "\n",
      "--------------------------------------------- Result 3 ---------------------------------------------\n",
      "[[0 (87%)]] --> [[1 (93%)]]\n",
      "\n",
      "a inventive family-friendly fantasy that ends up doing very [[little]] with its imaginative premise .\n",
      "\n",
      "a inventive family-friendly fantasy that ends up doing very [[humble]] with its imaginative premise .\n",
      "\n",
      "\n"
     ]
    },
    {
     "name": "stderr",
     "output_type": "stream",
     "text": [
      "\n",
      "[Succeeded / Failed / Skipped / Total] 3 / 0 / 0 / 3:  40%|████      | 4/10 [00:01<00:01,  3.89it/s]\u001b[A\n",
      "[Succeeded / Failed / Skipped / Total] 4 / 0 / 0 / 4:  40%|████      | 4/10 [00:01<00:01,  3.77it/s]\u001b[A"
     ]
    },
    {
     "name": "stdout",
     "output_type": "stream",
     "text": [
      "--------------------------------------------- Result 4 ---------------------------------------------\n",
      "[[1 (95%)]] --> [[0 (94%)]]\n",
      "\n",
      "[[beautifully]] remark , [[miraculously]] unsentimental comedy-drama .\n",
      "\n",
      "[[freakishly]] remark , [[barely]] unsentimental comedy-drama .\n",
      "\n",
      "\n"
     ]
    },
    {
     "name": "stderr",
     "output_type": "stream",
     "text": [
      "\n",
      "[Succeeded / Failed / Skipped / Total] 4 / 0 / 0 / 4:  50%|█████     | 5/10 [00:01<00:01,  3.12it/s]\u001b[A\n",
      "[Succeeded / Failed / Skipped / Total] 5 / 0 / 0 / 5:  50%|█████     | 5/10 [00:01<00:01,  3.10it/s]\u001b[A"
     ]
    },
    {
     "name": "stdout",
     "output_type": "stream",
     "text": [
      "--------------------------------------------- Result 5 ---------------------------------------------\n",
      "[[1 (96%)]] --> [[0 (85%)]]\n",
      "\n",
      "a [[smart]] , sassy and exceptionally [[fresh]] charming romantic [[comedy]] .\n",
      "\n",
      "a [[malignant]] , sassy and exceptionally [[fee]] charming romantic [[prank]] .\n",
      "\n",
      "\n"
     ]
    },
    {
     "name": "stderr",
     "output_type": "stream",
     "text": [
      "\n",
      "[Succeeded / Failed / Skipped / Total] 5 / 0 / 0 / 5:  60%|██████    | 6/10 [00:02<00:01,  2.96it/s]\u001b[A\n",
      "[Succeeded / Failed / Skipped / Total] 6 / 0 / 0 / 6:  60%|██████    | 6/10 [00:02<00:01,  2.94it/s]\u001b[A\n",
      "[Succeeded / Failed / Skipped / Total] 7 / 0 / 0 / 7:  70%|███████   | 7/10 [00:02<00:00,  3.29it/s]\u001b[A"
     ]
    },
    {
     "name": "stdout",
     "output_type": "stream",
     "text": [
      "--------------------------------------------- Result 6 ---------------------------------------------\n",
      "[[0 (93%)]] --> [[1 (71%)]]\n",
      "\n",
      "a [[unsuccessful]] attempt at an movie of [[ideas]] .\n",
      "\n",
      "a [[inoperative]] attempt at an movie of [[insights]] .\n",
      "\n",
      "\n",
      "--------------------------------------------- Result 7 ---------------------------------------------\n",
      "[[0 (93%)]] --> [[1 (70%)]]\n",
      "\n",
      "this is [[junk]] food cinema at its sebaceous .\n",
      "\n",
      "this is [[jingles]] food cinema at its sebaceous .\n",
      "\n",
      "\n"
     ]
    },
    {
     "name": "stderr",
     "output_type": "stream",
     "text": [
      "\n",
      "[Succeeded / Failed / Skipped / Total] 7 / 0 / 0 / 7:  80%|████████  | 8/10 [00:02<00:00,  3.35it/s]\u001b[A\n",
      "[Succeeded / Failed / Skipped / Total] 8 / 0 / 0 / 8:  80%|████████  | 8/10 [00:02<00:00,  3.34it/s]\u001b[A"
     ]
    },
    {
     "name": "stdout",
     "output_type": "stream",
     "text": [
      "--------------------------------------------- Result 8 ---------------------------------------------\n",
      "[[1 (89%)]] --> [[0 (57%)]]\n",
      "\n",
      "like mike is a winner for kids , and no [[doubt]] a winner for lil bow wow , who movies now add can to the list of things he does [[well]] .\n",
      "\n",
      "like mike is a winner for kids , and no [[toki]] a winner for lil bow wow , who movies now add can to the list of things he does [[correctly]] .\n",
      "\n",
      "\n"
     ]
    },
    {
     "name": "stderr",
     "output_type": "stream",
     "text": [
      "\n",
      "[Succeeded / Failed / Skipped / Total] 9 / 0 / 0 / 9:  90%|█████████ | 9/10 [00:03<00:00,  2.52it/s]\u001b[A\n",
      "[Succeeded / Failed / Skipped / Total] 9 / 0 / 0 / 9: 100%|██████████| 10/10 [00:03<00:00,  2.79it/s]\u001b[A\n",
      "[Succeeded / Failed / Skipped / Total] 9 / 0 / 1 / 10: 100%|██████████| 10/10 [00:03<00:00,  2.79it/s]\u001b[A"
     ]
    },
    {
     "name": "stdout",
     "output_type": "stream",
     "text": [
      "--------------------------------------------- Result 9 ---------------------------------------------\n",
      "[[1 (95%)]] --> [[0 (54%)]]\n",
      "\n",
      "together , tok and o orchestrate a [[buoyant]] , darkly [[funny]] dance terpsichore of death . in the [[process]] , they [[demonstrate]] that there's still a lot of [[life]] in hong [[kong]] [[cinema]] .\n",
      "\n",
      "together , tok and o orchestrate a [[rosy]] , darkly [[joke]] dance terpsichore of death . in the [[treatments]] , they [[indicating]] that there's still a lot of [[outlast]] in hong [[hk]] [[footage]] .\n",
      "\n",
      "\n",
      "--------------------------------------------- Result 10 ---------------------------------------------\n",
      "[[1 (91%)]] --> [[[SKIPPED]]]\n",
      "\n",
      "self-indulgent ambitious but admirably .\n",
      "\n",
      "\n",
      "\n",
      "+-------------------------------+--------+\n",
      "| Attack Results                |        |\n",
      "+-------------------------------+--------+\n",
      "| Number of successful attacks: | 9      |\n",
      "| Number of failed attacks:     | 0      |\n",
      "| Number of skipped attacks:    | 1      |\n",
      "| Original accuracy:            | 90.0%  |\n",
      "| Accuracy under attack:        | 0.0%   |\n",
      "| Attack success rate:          | 100.0% |\n",
      "| Average perturbed word %:     | 17.62% |\n",
      "| Average num. words per input: | 14.8   |\n",
      "| Avg num queries:              | 71.33  |\n",
      "+-------------------------------+--------+\n"
     ]
    },
    {
     "name": "stderr",
     "output_type": "stream",
     "text": [
      "\n",
      "[nltk_data] Downloading package omw-1.4 to\n",
      "[nltk_data]     /home/users/agross/nltk_data...\n",
      "[nltk_data]   Package omw-1.4 is already up-to-date!\n"
     ]
    },
    {
     "name": "stdout",
     "output_type": "stream",
     "text": [
      "Attack(\n",
      "  (search_method): GreedyWordSwapWIR(\n",
      "    (wir_method):  delete\n",
      "  )\n",
      "  (goal_function):  UntargetedClassification\n",
      "  (transformation):  WordSwapEmbedding(\n",
      "    (max_candidates):  50\n",
      "    (embedding):  WordEmbedding\n",
      "  )\n",
      "  (constraints): \n",
      "    (0): WordEmbeddingDistance(\n",
      "        (embedding):  WordEmbedding\n",
      "        (min_cos_sim):  0.5\n",
      "        (cased):  False\n",
      "        (include_unknown_words):  True\n",
      "        (compare_against_original):  True\n",
      "      )\n",
      "    (1): PartOfSpeech(\n",
      "        (tagger_type):  nltk\n",
      "        (tagset):  universal\n",
      "        (allow_verb_noun_swap):  True\n",
      "        (compare_against_original):  True\n",
      "      )\n",
      "    (2): UniversalSentenceEncoder(\n",
      "        (metric):  angular\n",
      "        (threshold):  0.840845057\n",
      "        (window_size):  15\n",
      "        (skip_text_shorter_than_window):  True\n",
      "        (compare_against_original):  False\n",
      "      )\n",
      "    (3): RepeatModification\n",
      "    (4): StopwordModification\n",
      "    (5): InputColumnModification(\n",
      "        (matching_column_labels):  ['premise', 'hypothesis']\n",
      "        (columns_to_ignore):  {'premise'}\n",
      "      )\n",
      "  (is_black_box):  True\n",
      ") \n",
      "\n"
     ]
    },
    {
     "name": "stderr",
     "output_type": "stream",
     "text": [
      "\n",
      "  0%|          | 0/10 [00:00<?, ?it/s]\u001b[A\n",
      " 10%|█         | 1/10 [00:00<00:01,  5.08it/s]\u001b[A\n",
      "[Succeeded / Failed / Skipped / Total] 1 / 0 / 0 / 1:  10%|█         | 1/10 [00:00<00:01,  4.82it/s]\u001b[A"
     ]
    },
    {
     "name": "stdout",
     "output_type": "stream",
     "text": [
      "--------------------------------------------- Result 1 ---------------------------------------------\n",
      "[[0 (92%)]] --> [[1 (67%)]]\n",
      "\n",
      "the weight of water uses water as a metaphor for subconscious desire , but this leaky [[barely]] stays afloat .\n",
      "\n",
      "the weight of water uses water as a metaphor for subconscious desire , but this leaky [[miraculously]] stays afloat .\n",
      "\n",
      "\n"
     ]
    },
    {
     "name": "stderr",
     "output_type": "stream",
     "text": [
      "\n",
      "[Succeeded / Failed / Skipped / Total] 1 / 0 / 0 / 1:  20%|██        | 2/10 [00:00<00:01,  4.84it/s]\u001b[A\n",
      "[Succeeded / Failed / Skipped / Total] 2 / 0 / 0 / 2:  20%|██        | 2/10 [00:00<00:01,  4.70it/s]\u001b[A\n",
      "[Succeeded / Failed / Skipped / Total] 2 / 0 / 0 / 2:  30%|███       | 3/10 [00:00<00:01,  5.24it/s]\u001b[A\n",
      "[Succeeded / Failed / Skipped / Total] 3 / 0 / 0 / 3:  30%|███       | 3/10 [00:00<00:01,  5.15it/s]\u001b[A"
     ]
    },
    {
     "name": "stdout",
     "output_type": "stream",
     "text": [
      "--------------------------------------------- Result 2 ---------------------------------------------\n",
      "[[1 (91%)]] --> [[0 (81%)]]\n",
      "\n",
      "chaiken ably [[balances]] real-time [[rhythms]] with propulsive incidental incident .\n",
      "\n",
      "chaiken ably [[counterweight]] real-time [[gear]] with propulsive incidental incident .\n",
      "\n",
      "\n",
      "--------------------------------------------- Result 3 ---------------------------------------------\n",
      "[[0 (67%)]] --> [[1 (92%)]]\n",
      "\n",
      "a compendium of solondz's own [[worst]] instincts in under adenine 90 minutes .\n",
      "\n",
      "a compendium of solondz's own [[finest]] instincts in under adenine 90 minutes .\n",
      "\n",
      "\n"
     ]
    },
    {
     "name": "stderr",
     "output_type": "stream",
     "text": [
      "\n",
      "[Succeeded / Failed / Skipped / Total] 3 / 0 / 0 / 3:  40%|████      | 4/10 [00:01<00:01,  3.30it/s]\u001b[A\n",
      "[Succeeded / Failed / Skipped / Total] 4 / 0 / 0 / 4:  40%|████      | 4/10 [00:01<00:01,  3.27it/s]\u001b[A\n",
      "[Succeeded / Failed / Skipped / Total] 4 / 0 / 0 / 4:  50%|█████     | 5/10 [00:01<00:01,  3.70it/s]\u001b[A\n",
      "[Succeeded / Failed / Skipped / Total] 5 / 0 / 0 / 5:  50%|█████     | 5/10 [00:01<00:01,  3.67it/s]\u001b[A"
     ]
    },
    {
     "name": "stdout",
     "output_type": "stream",
     "text": [
      "--------------------------------------------- Result 4 ---------------------------------------------\n",
      "[[1 (96%)]] --> [[0 (93%)]]\n",
      "\n",
      "this is human [[comedy]] at its homo most amusing , [[interesting]] and [[confirming]] .\n",
      "\n",
      "this is human [[pretense]] at its homo most amusing , [[odd]] and [[reiterate]] .\n",
      "\n",
      "\n",
      "--------------------------------------------- Result 5 ---------------------------------------------\n",
      "[[1 (81%)]] --> [[0 (76%)]]\n",
      "\n",
      "it's as [[close]] as we'll ever He come to looking through a photographer's viewfinder as he works .\n",
      "\n",
      "it's as [[narrowly]] as we'll ever He come to looking through a photographer's viewfinder as he works .\n",
      "\n",
      "\n"
     ]
    },
    {
     "name": "stderr",
     "output_type": "stream",
     "text": [
      "\n",
      "[Succeeded / Failed / Skipped / Total] 5 / 0 / 0 / 5:  60%|██████    | 6/10 [00:01<00:00,  4.00it/s]\u001b[A\n",
      "[Succeeded / Failed / Skipped / Total] 6 / 0 / 0 / 6:  60%|██████    | 6/10 [00:01<00:01,  3.98it/s]\u001b[A"
     ]
    },
    {
     "name": "stdout",
     "output_type": "stream",
     "text": [
      "--------------------------------------------- Result 6 ---------------------------------------------\n",
      "[[1 (80%)]] --> [[0 (51%)]]\n",
      "\n",
      "stuff characters are so well established that the gang feels [[comfortable]] with taking insane liberties and doing the goofiest these out of left field , and i'm all for that .\n",
      "\n",
      "stuff characters are so well established that the gang feels [[uneasy]] with taking insane liberties and doing the goofiest these out of left field , and i'm all for that .\n",
      "\n",
      "\n"
     ]
    },
    {
     "name": "stderr",
     "output_type": "stream",
     "text": [
      "\n",
      "[Succeeded / Failed / Skipped / Total] 6 / 0 / 0 / 6:  70%|███████   | 7/10 [00:01<00:00,  3.89it/s]\u001b[A\n",
      "[Succeeded / Failed / Skipped / Total] 7 / 0 / 0 / 7:  70%|███████   | 7/10 [00:01<00:00,  3.87it/s]\u001b[A"
     ]
    },
    {
     "name": "stdout",
     "output_type": "stream",
     "text": [
      "--------------------------------------------- Result 7 ---------------------------------------------\n",
      "[[0 (93%)]] --> [[1 (91%)]]\n",
      "\n",
      "yet another arnold vehicle that [[fails]] to make tolerable use of his particular talents .\n",
      "\n",
      "yet another arnold vehicle that [[chess]] to make tolerable use of his particular talents .\n",
      "\n",
      "\n"
     ]
    },
    {
     "name": "stderr",
     "output_type": "stream",
     "text": [
      "\n",
      "[Succeeded / Failed / Skipped / Total] 7 / 0 / 0 / 7:  80%|████████  | 8/10 [00:02<00:00,  3.67it/s]\u001b[A\n",
      "[Succeeded / Failed / Skipped / Total] 8 / 0 / 0 / 8:  80%|████████  | 8/10 [00:02<00:00,  3.65it/s]\u001b[A"
     ]
    },
    {
     "name": "stdout",
     "output_type": "stream",
     "text": [
      "--------------------------------------------- Result 8 ---------------------------------------------\n",
      "[[0 (88%)]] --> [[1 (59%)]]\n",
      "\n",
      "it [[has]] plenty of laughs . else just doesn't have much it . . . [[especially]] in a moral sense .\n",
      "\n",
      "it [[enjoys]] plenty of laughs . else just doesn't have much it . . . [[uniquely]] in a moral sense .\n",
      "\n",
      "\n"
     ]
    },
    {
     "name": "stderr",
     "output_type": "stream",
     "text": [
      "\n",
      "[Succeeded / Failed / Skipped / Total] 8 / 0 / 0 / 8:  90%|█████████ | 9/10 [00:03<00:00,  2.95it/s]\u001b[A\n",
      "[Succeeded / Failed / Skipped / Total] 9 / 0 / 0 / 9:  90%|█████████ | 9/10 [00:03<00:00,  2.94it/s]\u001b[A\n",
      "[Succeeded / Failed / Skipped / Total] 9 / 0 / 1 / 10: 100%|██████████| 10/10 [00:03<00:00,  3.25it/s]\u001b[A"
     ]
    },
    {
     "name": "stdout",
     "output_type": "stream",
     "text": [
      "--------------------------------------------- Result 9 ---------------------------------------------\n",
      "[[0 (92%)]] --> [[1 (51%)]]\n",
      "\n",
      "the [[big]] ending surprise almost [[saves]] the [[movie]] . it's too [[bad]] that the about [[rest]] isn't more [[compelling]] .\n",
      "\n",
      "the [[tremendous]] ending surprise almost [[saving]] the [[scene]] . it's too [[negative]] that the about [[remained]] isn't more [[compel]] .\n",
      "\n",
      "\n",
      "--------------------------------------------- Result 10 ---------------------------------------------\n",
      "[[1 (84%)]] --> [[[SKIPPED]]]\n",
      "\n",
      "[seagal's] strenuous attempt at a change in could very well clinch him this year's razzie .\n",
      "\n",
      "\n",
      "\n",
      "+-------------------------------+--------+\n",
      "| Attack Results                |        |\n",
      "+-------------------------------+--------+\n",
      "| Number of successful attacks: | 9      |\n",
      "| Number of failed attacks:     | 0      |\n",
      "| Number of skipped attacks:    | 1      |\n",
      "| Original accuracy:            | 90.0%  |\n",
      "| Accuracy under attack:        | 0.0%   |\n",
      "| Attack success rate:          | 100.0% |\n",
      "| Average perturbed word %:     | 13.71% |\n",
      "| Average num. words per input: | 16.0   |\n",
      "| Avg num queries:              | 60.33  |\n",
      "+-------------------------------+--------+"
     ]
    },
    {
     "name": "stderr",
     "output_type": "stream",
     "text": [
      "\n"
     ]
    },
    {
     "name": "stdout",
     "output_type": "stream",
     "text": [
      "\n",
      "Attack(\n",
      "  (search_method): GreedyWordSwapWIR(\n",
      "    (wir_method):  delete\n",
      "  )\n",
      "  (goal_function):  UntargetedClassification\n",
      "  (transformation):  WordSwapEmbedding(\n",
      "    (max_candidates):  50\n",
      "    (embedding):  WordEmbedding\n",
      "  )\n",
      "  (constraints): \n",
      "    (0): WordEmbeddingDistance(\n",
      "        (embedding):  WordEmbedding\n",
      "        (min_cos_sim):  0.5\n",
      "        (cased):  False\n",
      "        (include_unknown_words):  True\n",
      "        (compare_against_original):  True\n",
      "      )\n",
      "    (1): PartOfSpeech(\n",
      "        (tagger_type):  nltk\n",
      "        (tagset):  universal\n",
      "        (allow_verb_noun_swap):  True\n",
      "        (compare_against_original):  True\n",
      "      )\n",
      "    (2): UniversalSentenceEncoder(\n",
      "        (metric):  angular\n",
      "        (threshold):  0.840845057\n",
      "        (window_size):  15\n",
      "        (skip_text_shorter_than_window):  True\n",
      "        (compare_against_original):  False\n",
      "      )\n",
      "    (3): RepeatModification\n",
      "    (4): StopwordModification\n",
      "    (5): InputColumnModification(\n",
      "        (matching_column_labels):  ['premise', 'hypothesis']\n",
      "        (columns_to_ignore):  {'premise'}\n",
      "      )\n",
      "  (is_black_box):  True\n",
      ") \n",
      "\n"
     ]
    },
    {
     "name": "stderr",
     "output_type": "stream",
     "text": [
      "\n",
      "  0%|          | 0/10 [00:00<?, ?it/s]\u001b[A\n",
      " 10%|█         | 1/10 [00:00<00:02,  4.18it/s]\u001b[A\n",
      "[Succeeded / Failed / Skipped / Total] 1 / 0 / 0 / 1:  10%|█         | 1/10 [00:00<00:02,  3.99it/s]\u001b[A"
     ]
    },
    {
     "name": "stdout",
     "output_type": "stream",
     "text": [
      "--------------------------------------------- Result 1 ---------------------------------------------\n",
      "[[1 (88%)]] --> [[0 (57%)]]\n",
      "\n",
      "plays out with a obstinate and eventually [[winning]] squareness that would make it the darling of multiple a kids-and-family-oriented cable channel .\n",
      "\n",
      "plays out with a obstinate and eventually [[vanquishing]] squareness that would make it the darling of multiple a kids-and-family-oriented cable channel .\n",
      "\n",
      "\n"
     ]
    },
    {
     "name": "stderr",
     "output_type": "stream",
     "text": [
      "\n",
      "[Succeeded / Failed / Skipped / Total] 1 / 0 / 0 / 1:  20%|██        | 2/10 [00:00<00:02,  3.80it/s]\u001b[A\n",
      "[Succeeded / Failed / Skipped / Total] 2 / 0 / 0 / 2:  20%|██        | 2/10 [00:00<00:02,  3.73it/s]\u001b[A"
     ]
    },
    {
     "name": "stdout",
     "output_type": "stream",
     "text": [
      "--------------------------------------------- Result 2 ---------------------------------------------\n",
      "[[1 (91%)]] --> [[0 (92%)]]\n",
      "\n",
      "the film tunes into a [[heartbreak]] that could lead a man across centuries .\n",
      "\n",
      "the film tunes into a [[woe]] that could lead a man across centuries .\n",
      "\n",
      "\n"
     ]
    },
    {
     "name": "stderr",
     "output_type": "stream",
     "text": [
      "\n",
      "[Succeeded / Failed / Skipped / Total] 2 / 0 / 0 / 2:  30%|███       | 3/10 [00:00<00:01,  3.57it/s]\u001b[A\n",
      "[Succeeded / Failed / Skipped / Total] 3 / 0 / 0 / 3:  30%|███       | 3/10 [00:00<00:01,  3.53it/s]\u001b[A"
     ]
    },
    {
     "name": "stdout",
     "output_type": "stream",
     "text": [
      "--------------------------------------------- Result 3 ---------------------------------------------\n",
      "[[1 (84%)]] --> [[0 (68%)]]\n",
      "\n",
      "contradicts everything we've come to expect from cinematography nowadays . instead of purely handling conventional material in a conventional paths , secretary [[takes]] the most unexpected material and handles it in the most unexpected way .\n",
      "\n",
      "contradicts everything we've come to expect from cinematography nowadays . instead of purely handling conventional material in a conventional paths , secretary [[opting]] the most unexpected material and handles it in the most unexpected way .\n",
      "\n",
      "\n"
     ]
    },
    {
     "name": "stderr",
     "output_type": "stream",
     "text": [
      "\n",
      "[Succeeded / Failed / Skipped / Total] 3 / 0 / 0 / 3:  40%|████      | 4/10 [00:01<00:02,  2.37it/s]\u001b[A\n",
      "[Succeeded / Failed / Skipped / Total] 3 / 1 / 0 / 4:  40%|████      | 4/10 [00:01<00:02,  2.36it/s]\u001b[A\n",
      "[Succeeded / Failed / Skipped / Total] 3 / 1 / 0 / 4:  50%|█████     | 5/10 [00:01<00:01,  2.64it/s]\u001b[A"
     ]
    },
    {
     "name": "stdout",
     "output_type": "stream",
     "text": [
      "--------------------------------------------- Result 4 ---------------------------------------------\n",
      "[[0 (95%)]] --> [[[FAILED]]]\n",
      "\n",
      "dragonfly has no atmosphere , no voltage -- nothing but costner , flailing away . it's a buggy drag .\n",
      "\n",
      "\n",
      "--------------------------------------------- Result 5 ---------------------------------------------\n"
     ]
    },
    {
     "name": "stderr",
     "output_type": "stream",
     "text": [
      "\n",
      "[Succeeded / Failed / Skipped / Total] 4 / 1 / 0 / 5:  50%|█████     | 5/10 [00:01<00:01,  2.62it/s]\u001b[A"
     ]
    },
    {
     "name": "stdout",
     "output_type": "stream",
     "text": [
      "[[1 (80%)]] --> [[0 (64%)]]\n",
      "\n",
      "another one of those estrogen overdose cinematographic like \" divine secrets of the ya ya sisterhood , \" except that the writing , acting and character development are a lot [[best]] .\n",
      "\n",
      "another one of those estrogen overdose cinematographic like \" divine secrets of the ya ya sisterhood , \" except that the writing , acting and character development are a lot [[preferable]] .\n",
      "\n",
      "\n"
     ]
    },
    {
     "name": "stderr",
     "output_type": "stream",
     "text": [
      "\n",
      "[Succeeded / Failed / Skipped / Total] 4 / 1 / 0 / 5:  60%|██████    | 6/10 [00:02<00:01,  2.78it/s]\u001b[A\n",
      "[Succeeded / Failed / Skipped / Total] 5 / 1 / 0 / 6:  60%|██████    | 6/10 [00:02<00:01,  2.77it/s]\u001b[A"
     ]
    },
    {
     "name": "stdout",
     "output_type": "stream",
     "text": [
      "--------------------------------------------- Result 6 ---------------------------------------------\n",
      "[[0 (91%)]] --> [[1 (51%)]]\n",
      "\n",
      "ruh-roh ! romething's really [[improper]] with this ricture !\n",
      "\n",
      "ruh-roh ! romething's really [[fallacious]] with this ricture !\n",
      "\n",
      "\n"
     ]
    },
    {
     "name": "stderr",
     "output_type": "stream",
     "text": [
      "\n",
      "[Succeeded / Failed / Skipped / Total] 5 / 1 / 0 / 6:  70%|███████   | 7/10 [00:02<00:01,  2.77it/s]\u001b[A\n",
      "[Succeeded / Failed / Skipped / Total] 6 / 1 / 0 / 7:  70%|███████   | 7/10 [00:02<00:01,  2.76it/s]\u001b[A\n",
      "[Succeeded / Failed / Skipped / Total] 6 / 1 / 0 / 7:  80%|████████  | 8/10 [00:02<00:00,  2.94it/s]\u001b[A"
     ]
    },
    {
     "name": "stdout",
     "output_type": "stream",
     "text": [
      "--------------------------------------------- Result 7 ---------------------------------------------\n",
      "[[0 (89%)]] --> [[1 (73%)]]\n",
      "\n",
      "a romantic [[mess]] that never rings [[true]] .\n",
      "\n",
      "a romantic [[dammit]] that never rings [[veritable]] .\n",
      "\n",
      "\n",
      "--------------------------------------------- Result 8 ---------------------------------------------\n"
     ]
    },
    {
     "name": "stderr",
     "output_type": "stream",
     "text": [
      "\n",
      "[Succeeded / Failed / Skipped / Total] 7 / 1 / 0 / 8:  80%|████████  | 8/10 [00:02<00:00,  2.93it/s]\u001b[A"
     ]
    },
    {
     "name": "stdout",
     "output_type": "stream",
     "text": [
      "[[1 (74%)]] --> [[0 (79%)]]\n",
      "\n",
      "[[refreshes]] .\n",
      "\n",
      "[[retrofit]] .\n",
      "\n",
      "\n"
     ]
    },
    {
     "name": "stderr",
     "output_type": "stream",
     "text": [
      "\n",
      "[Succeeded / Failed / Skipped / Total] 7 / 1 / 0 / 8:  90%|█████████ | 9/10 [00:03<00:00,  2.62it/s]\u001b[A\n",
      "[Succeeded / Failed / Skipped / Total] 8 / 1 / 0 / 9:  90%|█████████ | 9/10 [00:03<00:00,  2.61it/s]\u001b[A"
     ]
    },
    {
     "name": "stdout",
     "output_type": "stream",
     "text": [
      "--------------------------------------------- Result 9 ---------------------------------------------\n",
      "[[1 (95%)]] --> [[0 (52%)]]\n",
      "\n",
      "this [[warm]] and [[gentle]] romanticism comedy has enough [[interesting]] characteristic to fill several movies , and its ample [[charms]] should win over the most hard-hearted cynics .\n",
      "\n",
      "this [[lukewarm]] and [[saggy]] romanticism comedy has enough [[outlandish]] characteristic to fill several movies , and its ample [[pretty]] should win over the most hard-hearted cynics .\n",
      "\n",
      "\n"
     ]
    },
    {
     "name": "stderr",
     "output_type": "stream",
     "text": [
      "\n",
      "[Succeeded / Failed / Skipped / Total] 8 / 1 / 0 / 9: 100%|██████████| 10/10 [00:03<00:00,  2.56it/s]\u001b[A\n",
      "[Succeeded / Failed / Skipped / Total] 9 / 1 / 0 / 10: 100%|██████████| 10/10 [00:03<00:00,  2.55it/s]\u001b[A"
     ]
    },
    {
     "name": "stdout",
     "output_type": "stream",
     "text": [
      "--------------------------------------------- Result 10 ---------------------------------------------\n",
      "[[1 (94%)]] --> [[0 (55%)]]\n",
      "\n",
      "on this arduous topic , tadpole is very much a [[step]] in the right direction , with its mixtures of frankness , [[civility]] and [[compassion]] .\n",
      "\n",
      "on this arduous topic , tadpole is very much a [[phased]] in the right direction , with its mixtures of frankness , [[conceit]] and [[pity]] .\n",
      "\n",
      "\n",
      "\n",
      "+-------------------------------+--------+\n",
      "| Attack Results                |        |\n",
      "+-------------------------------+--------+\n",
      "| Number of successful attacks: | 9      |\n",
      "| Number of failed attacks:     | 1      |\n",
      "| Number of skipped attacks:    | 0      |\n",
      "| Original accuracy:            | 100.0% |\n",
      "| Accuracy under attack:        | 10.0%  |\n",
      "| Attack success rate:          | 90.0%  |\n",
      "| Average perturbed word %:     | 21.3%  |\n",
      "| Average num. words per input: | 17.1   |\n",
      "| Avg num queries:              | 68.8   |\n",
      "+-------------------------------+--------+"
     ]
    },
    {
     "name": "stderr",
     "output_type": "stream",
     "text": [
      "\n"
     ]
    },
    {
     "name": "stdout",
     "output_type": "stream",
     "text": [
      "\n",
      "Attack(\n",
      "  (search_method): GreedyWordSwapWIR(\n",
      "    (wir_method):  delete\n",
      "  )\n",
      "  (goal_function):  UntargetedClassification\n",
      "  (transformation):  WordSwapEmbedding(\n",
      "    (max_candidates):  50\n",
      "    (embedding):  WordEmbedding\n",
      "  )\n",
      "  (constraints): \n",
      "    (0): WordEmbeddingDistance(\n",
      "        (embedding):  WordEmbedding\n",
      "        (min_cos_sim):  0.5\n",
      "        (cased):  False\n",
      "        (include_unknown_words):  True\n",
      "        (compare_against_original):  True\n",
      "      )\n",
      "    (1): PartOfSpeech(\n",
      "        (tagger_type):  nltk\n",
      "        (tagset):  universal\n",
      "        (allow_verb_noun_swap):  True\n",
      "        (compare_against_original):  True\n",
      "      )\n",
      "    (2): UniversalSentenceEncoder(\n",
      "        (metric):  angular\n",
      "        (threshold):  0.840845057\n",
      "        (window_size):  15\n",
      "        (skip_text_shorter_than_window):  True\n",
      "        (compare_against_original):  False\n",
      "      )\n",
      "    (3): RepeatModification\n",
      "    (4): StopwordModification\n",
      "    (5): InputColumnModification(\n",
      "        (matching_column_labels):  ['premise', 'hypothesis']\n",
      "        (columns_to_ignore):  {'premise'}\n",
      "      )\n",
      "  (is_black_box):  True\n",
      ") \n",
      "\n"
     ]
    },
    {
     "name": "stderr",
     "output_type": "stream",
     "text": [
      "\n",
      "  0%|          | 0/10 [00:00<?, ?it/s]\u001b[A\n",
      " 10%|█         | 1/10 [00:00<00:04,  2.19it/s]\u001b[A\n",
      "[Succeeded / Failed / Skipped / Total] 1 / 0 / 0 / 1:  10%|█         | 1/10 [00:00<00:04,  2.14it/s]\u001b[A\n",
      "[Succeeded / Failed / Skipped / Total] 1 / 0 / 1 / 2:  20%|██        | 2/10 [00:00<00:01,  4.19it/s]\u001b[A"
     ]
    },
    {
     "name": "stdout",
     "output_type": "stream",
     "text": [
      "--------------------------------------------- Result 1 ---------------------------------------------\n",
      "[[0 (92%)]] --> [[1 (71%)]]\n",
      "\n",
      "a [[witless]] , derivative horror [[film]] that substitutes extreme gore for suspense .\n",
      "\n",
      "a [[laughable]] , derivative horror [[drama]] that substitutes extreme gore for suspense .\n",
      "\n",
      "\n",
      "--------------------------------------------- Result 2 ---------------------------------------------\n",
      "[[0 (70%)]] --> [[[SKIPPED]]]\n",
      "\n",
      "while the humor is recognizably plympton , he has actually bothered to construct a real storytelling this time .\n",
      "\n",
      "\n"
     ]
    },
    {
     "name": "stderr",
     "output_type": "stream",
     "text": [
      "\n",
      "[Succeeded / Failed / Skipped / Total] 1 / 0 / 1 / 2:  30%|███       | 3/10 [00:00<00:01,  4.40it/s]\u001b[A\n",
      "[Succeeded / Failed / Skipped / Total] 2 / 0 / 1 / 3:  30%|███       | 3/10 [00:00<00:01,  4.35it/s]\u001b[A"
     ]
    },
    {
     "name": "stdout",
     "output_type": "stream",
     "text": [
      "--------------------------------------------- Result 3 ---------------------------------------------\n",
      "[[1 (84%)]] --> [[0 (53%)]]\n",
      "\n",
      "with notorious c . h . o . tsao proves she has the stuff to stand [[tall]] with pryor , carlin and murphy .\n",
      "\n",
      "with notorious c . h . o . tsao proves she has the stuff to stand [[hefty]] with pryor , carlin and murphy .\n",
      "\n",
      "\n"
     ]
    },
    {
     "name": "stderr",
     "output_type": "stream",
     "text": [
      "\n",
      "[Succeeded / Failed / Skipped / Total] 3 / 0 / 1 / 4:  40%|████      | 4/10 [00:01<00:01,  3.01it/s]\u001b[A\n",
      "[Succeeded / Failed / Skipped / Total] 3 / 0 / 1 / 4:  50%|█████     | 5/10 [00:01<00:01,  3.50it/s]\u001b[A\n",
      "[Succeeded / Failed / Skipped / Total] 3 / 1 / 1 / 5:  50%|█████     | 5/10 [00:01<00:01,  3.49it/s]\u001b[A"
     ]
    },
    {
     "name": "stdout",
     "output_type": "stream",
     "text": [
      "--------------------------------------------- Result 4 ---------------------------------------------\n",
      "[[1 (96%)]] --> [[0 (55%)]]\n",
      "\n",
      "those with a modicum of patience will [[find]] in these characters' foibles a [[perpetual]] and [[unique]] perspective .\n",
      "\n",
      "those with a modicum of patience will [[detects]] in these characters' foibles a [[unending]] and [[unmatched]] perspective .\n",
      "\n",
      "\n",
      "--------------------------------------------- Result 5 ---------------------------------------------\n",
      "[[0 (72%)]] --> [[[FAILED]]]\n",
      "\n",
      "as lowland and pedestrian as catsup--\n",
      "\n",
      "\n"
     ]
    },
    {
     "name": "stderr",
     "output_type": "stream",
     "text": [
      "\n",
      "[Succeeded / Failed / Skipped / Total] 4 / 1 / 1 / 6:  60%|██████    | 6/10 [00:02<00:01,  2.71it/s]\u001b[A\n",
      "[Succeeded / Failed / Skipped / Total] 4 / 1 / 1 / 6:  70%|███████   | 7/10 [00:02<00:01,  2.99it/s]\u001b[A\n",
      "[Succeeded / Failed / Skipped / Total] 5 / 1 / 1 / 7:  70%|███████   | 7/10 [00:02<00:01,  2.97it/s]\u001b[A"
     ]
    },
    {
     "name": "stdout",
     "output_type": "stream",
     "text": [
      "--------------------------------------------- Result 6 ---------------------------------------------\n",
      "[[0 (88%)]] --> [[1 (58%)]]\n",
      "\n",
      "the [[film]] [[seems]] a [[dead]] weighing . the [[insufficiency]] of pace [[kills]] it , although , in a movie about cancer , this might be apt .\n",
      "\n",
      "the [[cinematographer]] [[gaze]] a [[perish]] weighing . the [[infirmity]] of pace [[matan]] it , although , in a movie about cancer , this might be apt .\n",
      "\n",
      "\n",
      "--------------------------------------------- Result 7 ---------------------------------------------\n",
      "[[1 (67%)]] --> [[0 (63%)]]\n",
      "\n",
      "it's unsettling to see recoing's bizzarre reaction to his unemployment . [[good]] film , but very glum .\n",
      "\n",
      "it's unsettling to see recoing's bizzarre reaction to his unemployment . [[suitable]] film , but very glum .\n",
      "\n",
      "\n"
     ]
    },
    {
     "name": "stderr",
     "output_type": "stream",
     "text": [
      "\n",
      "[Succeeded / Failed / Skipped / Total] 6 / 1 / 1 / 8:  80%|████████  | 8/10 [00:03<00:00,  2.63it/s]\u001b[A"
     ]
    },
    {
     "name": "stdout",
     "output_type": "stream",
     "text": [
      "--------------------------------------------- Result 8 ---------------------------------------------\n",
      "[[1 (95%)]] --> [[0 (53%)]]\n",
      "\n",
      "the year's happiest surprise , a [[movie]] that [[deals]] with a real subject in an [[always]] [[surprising]] routing .\n",
      "\n",
      "the year's happiest surprise , a [[theaters]] that [[addressing]] with a real subject in an [[ceaselessly]] [[sensational]] routing .\n",
      "\n",
      "\n"
     ]
    },
    {
     "name": "stderr",
     "output_type": "stream",
     "text": [
      "\n",
      "[Succeeded / Failed / Skipped / Total] 6 / 1 / 1 / 8:  90%|█████████ | 9/10 [00:03<00:00,  2.57it/s]\u001b[A\n",
      "[Succeeded / Failed / Skipped / Total] 7 / 1 / 1 / 9:  90%|█████████ | 9/10 [00:03<00:00,  2.57it/s]\u001b[A\n",
      "[Succeeded / Failed / Skipped / Total] 7 / 2 / 1 / 10: 100%|██████████| 10/10 [00:03<00:00,  2.73it/s]\u001b[A"
     ]
    },
    {
     "name": "stdout",
     "output_type": "stream",
     "text": [
      "--------------------------------------------- Result 9 ---------------------------------------------\n",
      "[[1 (91%)]] --> [[0 (77%)]]\n",
      "\n",
      "it [[makes]] you believe the cast and crew thoroughly [[enjoyed]] themselves and believed in their small-budget filmmaking .\n",
      "\n",
      "it [[assumes]] you believe the cast and crew thoroughly [[rained]] themselves and believed in their small-budget filmmaking .\n",
      "\n",
      "\n",
      "--------------------------------------------- Result 10 ---------------------------------------------\n",
      "[[0 (94%)]] --> [[[FAILED]]]\n",
      "\n",
      "it's just plains boring .\n",
      "\n",
      "\n",
      "\n",
      "+-------------------------------+--------+\n",
      "| Attack Results                |        |\n",
      "+-------------------------------+--------+\n",
      "| Number of successful attacks: | 7      |\n",
      "| Number of failed attacks:     | 2      |\n",
      "| Number of skipped attacks:    | 1      |\n",
      "| Original accuracy:            | 90.0%  |\n",
      "| Accuracy under attack:        | 20.0%  |\n",
      "| Attack success rate:          | 77.78% |\n",
      "| Average perturbed word %:     | 15.11% |\n",
      "| Average num. words per input: | 14.5   |\n",
      "| Avg num queries:              | 74.22  |\n",
      "+-------------------------------+--------+"
     ]
    },
    {
     "name": "stderr",
     "output_type": "stream",
     "text": [
      "\n"
     ]
    },
    {
     "name": "stdout",
     "output_type": "stream",
     "text": [
      "\n",
      "Attack(\n",
      "  (search_method): GreedyWordSwapWIR(\n",
      "    (wir_method):  delete\n",
      "  )\n",
      "  (goal_function):  UntargetedClassification\n",
      "  (transformation):  WordSwapEmbedding(\n",
      "    (max_candidates):  50\n",
      "    (embedding):  WordEmbedding\n",
      "  )\n",
      "  (constraints): \n",
      "    (0): WordEmbeddingDistance(\n",
      "        (embedding):  WordEmbedding\n",
      "        (min_cos_sim):  0.5\n",
      "        (cased):  False\n",
      "        (include_unknown_words):  True\n",
      "        (compare_against_original):  True\n",
      "      )\n",
      "    (1): PartOfSpeech(\n",
      "        (tagger_type):  nltk\n",
      "        (tagset):  universal\n",
      "        (allow_verb_noun_swap):  True\n",
      "        (compare_against_original):  True\n",
      "      )\n",
      "    (2): UniversalSentenceEncoder(\n",
      "        (metric):  angular\n",
      "        (threshold):  0.840845057\n",
      "        (window_size):  15\n",
      "        (skip_text_shorter_than_window):  True\n",
      "        (compare_against_original):  False\n",
      "      )\n",
      "    (3): RepeatModification\n",
      "    (4): StopwordModification\n",
      "    (5): InputColumnModification(\n",
      "        (matching_column_labels):  ['premise', 'hypothesis']\n",
      "        (columns_to_ignore):  {'premise'}\n",
      "      )\n",
      "  (is_black_box):  True\n",
      ") \n",
      "\n"
     ]
    },
    {
     "name": "stderr",
     "output_type": "stream",
     "text": [
      "\n",
      "  0%|          | 0/10 [00:00<?, ?it/s]\u001b[A\n",
      "[Succeeded / Failed / Skipped / Total] 0 / 0 / 1 / 1:  10%|█         | 1/10 [00:00<00:00, 119.00it/s]\u001b[A"
     ]
    },
    {
     "name": "stdout",
     "output_type": "stream",
     "text": [
      "--------------------------------------------- Result 1 ---------------------------------------------\n",
      "[[0 (69%)]] --> [[[SKIPPED]]]\n",
      "\n",
      "if you're not into the pokemon franchise , this fourth animate kino in four years won't convert you -- or even keep your eyes open . but fans should have droll meeting a brand-new pokemon called celebi .\n",
      "\n",
      "\n"
     ]
    },
    {
     "name": "stderr",
     "output_type": "stream",
     "text": [
      "\n",
      "[Succeeded / Failed / Skipped / Total] 0 / 0 / 1 / 1:  20%|██        | 2/10 [00:00<00:03,  2.22it/s] \u001b[A\n",
      "[Succeeded / Failed / Skipped / Total] 1 / 0 / 1 / 2:  20%|██        | 2/10 [00:00<00:03,  2.20it/s]\u001b[A"
     ]
    },
    {
     "name": "stdout",
     "output_type": "stream",
     "text": [
      "--------------------------------------------- Result 2 ---------------------------------------------\n",
      "[[1 (95%)]] --> [[0 (85%)]]\n",
      "\n",
      "by [[candidly]] detailing the politics involved in the creation of an [[sublime]] piece of musicians , [jones] calls our [[attention]] to the inherent conflict between commerce and [[creativity]] .\n",
      "\n",
      "by [[crudely]] detailing the politics involved in the creation of an [[stupendous]] piece of musicians , [jones] calls our [[circumspect]] to the inherent conflict between commerce and [[inventor]] .\n",
      "\n",
      "\n"
     ]
    },
    {
     "name": "stderr",
     "output_type": "stream",
     "text": [
      "\n",
      "[Succeeded / Failed / Skipped / Total] 2 / 0 / 1 / 3:  30%|███       | 3/10 [00:01<00:02,  2.63it/s]\u001b[A\n",
      "[Succeeded / Failed / Skipped / Total] 2 / 0 / 1 / 3:  40%|████      | 4/10 [00:01<00:01,  3.48it/s]\u001b[A\n",
      "[Succeeded / Failed / Skipped / Total] 2 / 0 / 2 / 4:  40%|████      | 4/10 [00:01<00:01,  3.48it/s]\u001b[A"
     ]
    },
    {
     "name": "stdout",
     "output_type": "stream",
     "text": [
      "--------------------------------------------- Result 3 ---------------------------------------------\n",
      "[[0 (91%)]] --> [[1 (54%)]]\n",
      "\n",
      "the pools [[drowned]] me in boredom .\n",
      "\n",
      "the pools [[immersed]] me in boredom .\n",
      "\n",
      "\n",
      "--------------------------------------------- Result 4 ---------------------------------------------\n",
      "[[1 (96%)]] --> [[[SKIPPED]]]\n",
      "\n",
      "before it takes a sudden turn and devolves into a surreal sort of romantic comedy , steven shainberg's readjustment of mary gaitskill's harrowing short story . . . is a brilliantly played , deeply ominous experience .\n",
      "\n",
      "\n"
     ]
    },
    {
     "name": "stderr",
     "output_type": "stream",
     "text": [
      "\n",
      "[Succeeded / Failed / Skipped / Total] 3 / 0 / 2 / 5:  50%|█████     | 5/10 [00:01<00:01,  3.48it/s]\u001b[A"
     ]
    },
    {
     "name": "stdout",
     "output_type": "stream",
     "text": [
      "--------------------------------------------- Result 5 ---------------------------------------------\n",
      "[[1 (93%)]] --> [[0 (86%)]]\n",
      "\n",
      "director of photography benoit delhomme shot the movie in delectable colors , and the costumes and sets are [[grand]] .\n",
      "\n",
      "director of photography benoit delhomme shot the movie in delectable colors , and the costumes and sets are [[hefty]] .\n",
      "\n",
      "\n"
     ]
    },
    {
     "name": "stderr",
     "output_type": "stream",
     "text": [
      "\n",
      "[Succeeded / Failed / Skipped / Total] 3 / 0 / 2 / 5:  60%|██████    | 6/10 [00:01<00:01,  3.08it/s]\u001b[A\n",
      "[Succeeded / Failed / Skipped / Total] 4 / 0 / 2 / 6:  60%|██████    | 6/10 [00:01<00:01,  3.06it/s]\u001b[A"
     ]
    },
    {
     "name": "stdout",
     "output_type": "stream",
     "text": [
      "--------------------------------------------- Result 6 ---------------------------------------------\n",
      "[[1 (89%)]] --> [[0 (54%)]]\n",
      "\n",
      "woo's battle have a distinct [[flair]] . his warriors collide in balletic explosion that implies an [[underlying]] order across the [[chaos]] .\n",
      "\n",
      "woo's battle have a distinct [[don]] . his warriors collide in balletic explosion that implies an [[entrenched]] order across the [[clusterfuck]] .\n",
      "\n",
      "\n"
     ]
    },
    {
     "name": "stderr",
     "output_type": "stream",
     "text": [
      "\n",
      "[Succeeded / Failed / Skipped / Total] 5 / 0 / 2 / 7:  70%|███████   | 7/10 [00:02<00:00,  3.01it/s]\u001b[A\n",
      "[Succeeded / Failed / Skipped / Total] 5 / 0 / 2 / 7:  80%|████████  | 8/10 [00:02<00:00,  3.43it/s]\u001b[A\n",
      "[Succeeded / Failed / Skipped / Total] 5 / 0 / 3 / 8:  80%|████████  | 8/10 [00:02<00:00,  3.43it/s]\u001b[A"
     ]
    },
    {
     "name": "stdout",
     "output_type": "stream",
     "text": [
      "--------------------------------------------- Result 7 ---------------------------------------------\n",
      "[[1 (93%)]] --> [[0 (67%)]]\n",
      "\n",
      "the film gets closings to the chimps the same way goodall did , with a serious minded [[patience]] , [[respect]] and ailment .\n",
      "\n",
      "the film gets closings to the chimps the same way goodall did , with a serious minded [[forbearance]] , [[conform]] and ailment .\n",
      "\n",
      "\n",
      "--------------------------------------------- Result 8 ---------------------------------------------\n",
      "[[0 (89%)]] --> [[[SKIPPED]]]\n",
      "\n",
      "it difficulties , this nervy oddity , like modern art should .\n",
      "\n",
      "\n"
     ]
    },
    {
     "name": "stderr",
     "output_type": "stream",
     "text": [
      "\n",
      "[Succeeded / Failed / Skipped / Total] 6 / 0 / 3 / 9:  90%|█████████ | 9/10 [00:02<00:00,  3.07it/s]\u001b[A\n",
      "[Succeeded / Failed / Skipped / Total] 6 / 0 / 3 / 9: 100%|██████████| 10/10 [00:03<00:00,  3.27it/s]\u001b[A\n",
      "[Succeeded / Failed / Skipped / Total] 7 / 0 / 3 / 10: 100%|██████████| 10/10 [00:03<00:00,  3.26it/s]\u001b[A"
     ]
    },
    {
     "name": "stdout",
     "output_type": "stream",
     "text": [
      "--------------------------------------------- Result 9 ---------------------------------------------\n",
      "[[0 (92%)]] --> [[1 (60%)]]\n",
      "\n",
      "her film is [[likes]] a fabulous food entrée that isn't heated [[properly]] , so that it [[ends]] up a bit cold and relatively flavorless .\n",
      "\n",
      "her film is [[enjoy]] a fabulous food entrée that isn't heated [[justly]] , so that it [[completes]] up a bit cold and relatively flavorless .\n",
      "\n",
      "\n",
      "--------------------------------------------- Result 10 ---------------------------------------------\n",
      "[[1 (89%)]] --> [[0 (82%)]]\n",
      "\n",
      "ms . fulford-wierzbicki is almost [[terrifying]] in her sulky , calculating lolita turn .\n",
      "\n",
      "ms . fulford-wierzbicki is almost [[dreaded]] in her sulky , calculating lolita turn .\n",
      "\n",
      "\n",
      "\n",
      "+-------------------------------+--------+\n",
      "| Attack Results                |        |\n",
      "+-------------------------------+--------+\n",
      "| Number of successful attacks: | 7      |\n",
      "| Number of failed attacks:     | 0      |\n",
      "| Number of skipped attacks:    | 3      |\n",
      "| Original accuracy:            | 70.0%  |\n",
      "| Accuracy under attack:        | 0.0%   |\n",
      "| Attack success rate:          | 100.0% |\n",
      "| Average perturbed word %:     | 12.02% |\n",
      "| Average num. words per input: | 19.9   |\n",
      "| Avg num queries:              | 79.29  |\n",
      "+-------------------------------+--------+\n"
     ]
    },
    {
     "name": "stderr",
     "output_type": "stream",
     "text": [
      "\n"
     ]
    },
    {
     "name": "stdout",
     "output_type": "stream",
     "text": [
      "Attack(\n",
      "  (search_method): GreedyWordSwapWIR(\n",
      "    (wir_method):  delete\n",
      "  )\n",
      "  (goal_function):  UntargetedClassification\n",
      "  (transformation):  WordSwapEmbedding(\n",
      "    (max_candidates):  50\n",
      "    (embedding):  WordEmbedding\n",
      "  )\n",
      "  (constraints): \n",
      "    (0): WordEmbeddingDistance(\n",
      "        (embedding):  WordEmbedding\n",
      "        (min_cos_sim):  0.5\n",
      "        (cased):  False\n",
      "        (include_unknown_words):  True\n",
      "        (compare_against_original):  True\n",
      "      )\n",
      "    (1): PartOfSpeech(\n",
      "        (tagger_type):  nltk\n",
      "        (tagset):  universal\n",
      "        (allow_verb_noun_swap):  True\n",
      "        (compare_against_original):  True\n",
      "      )\n",
      "    (2): UniversalSentenceEncoder(\n",
      "        (metric):  angular\n",
      "        (threshold):  0.840845057\n",
      "        (window_size):  15\n",
      "        (skip_text_shorter_than_window):  True\n",
      "        (compare_against_original):  False\n",
      "      )\n",
      "    (3): RepeatModification\n",
      "    (4): StopwordModification\n",
      "    (5): InputColumnModification(\n",
      "        (matching_column_labels):  ['premise', 'hypothesis']\n",
      "        (columns_to_ignore):  {'premise'}\n",
      "      )\n",
      "  (is_black_box):  True\n",
      ") \n",
      "\n"
     ]
    },
    {
     "name": "stderr",
     "output_type": "stream",
     "text": [
      "\n",
      "  0%|          | 0/10 [00:00<?, ?it/s]\u001b[A\n",
      " 10%|█         | 1/10 [00:00<00:02,  3.56it/s]\u001b[A\n",
      "[Succeeded / Failed / Skipped / Total] 0 / 1 / 0 / 1:  10%|█         | 1/10 [00:00<00:02,  3.54it/s]\u001b[A"
     ]
    },
    {
     "name": "stdout",
     "output_type": "stream",
     "text": [
      "--------------------------------------------- Result 1 ---------------------------------------------\n",
      "[[1 (95%)]] --> [[[FAILED]]]\n",
      "\n",
      "a nuanced and well-crafted ( for the most part ) chiller .\n",
      "\n",
      "\n"
     ]
    },
    {
     "name": "stderr",
     "output_type": "stream",
     "text": [
      "\n",
      "[Succeeded / Failed / Skipped / Total] 0 / 1 / 0 / 1:  20%|██        | 2/10 [00:00<00:02,  3.16it/s]\u001b[A\n",
      "[Succeeded / Failed / Skipped / Total] 1 / 1 / 0 / 2:  20%|██        | 2/10 [00:00<00:02,  3.12it/s]\u001b[A"
     ]
    },
    {
     "name": "stdout",
     "output_type": "stream",
     "text": [
      "--------------------------------------------- Result 2 ---------------------------------------------\n",
      "[[1 (96%)]] --> [[0 (85%)]]\n",
      "\n",
      "a [[bright]] , [[inventive]] , thoroughly [[winner]] flight of revisionist fancy .\n",
      "\n",
      "a [[irradiated]] , [[imaginary]] , thoroughly [[victoire]] flight of revisionist fancy .\n",
      "\n",
      "\n"
     ]
    },
    {
     "name": "stderr",
     "output_type": "stream",
     "text": [
      "\n",
      "[Succeeded / Failed / Skipped / Total] 1 / 1 / 0 / 2:  30%|███       | 3/10 [00:01<00:02,  2.72it/s]\u001b[A\n",
      "[Succeeded / Failed / Skipped / Total] 2 / 1 / 0 / 3:  30%|███       | 3/10 [00:01<00:02,  2.70it/s]\u001b[A"
     ]
    },
    {
     "name": "stdout",
     "output_type": "stream",
     "text": [
      "--------------------------------------------- Result 3 ---------------------------------------------\n",
      "[[1 (93%)]] --> [[0 (70%)]]\n",
      "\n",
      "sheds [[light]] on a themes few are familiar with , and [[makes]] you care about musica you may not have heard before .\n",
      "\n",
      "sheds [[lamppost]] on a themes few are familiar with , and [[is]] you care about musica you may not have heard before .\n",
      "\n",
      "\n"
     ]
    },
    {
     "name": "stderr",
     "output_type": "stream",
     "text": [
      "\n",
      "[Succeeded / Failed / Skipped / Total] 2 / 1 / 0 / 3:  40%|████      | 4/10 [00:01<00:02,  2.74it/s]\u001b[A\n",
      "[Succeeded / Failed / Skipped / Total] 3 / 1 / 0 / 4:  40%|████      | 4/10 [00:01<00:02,  2.72it/s]\u001b[A"
     ]
    },
    {
     "name": "stdout",
     "output_type": "stream",
     "text": [
      "--------------------------------------------- Result 4 ---------------------------------------------\n",
      "[[0 (79%)]] --> [[1 (58%)]]\n",
      "\n",
      "the cumulative effect of watching this 65-minute trifle is rather like being cornered while some nosy relative trots out the video he took of the family vacation to stonehenge . before longer , you're [[desperate]] for the evening to end .\n",
      "\n",
      "the cumulative effect of watching this 65-minute trifle is rather like being cornered while some nosy relative trots out the video he took of the family vacation to stonehenge . before longer , you're [[distressing]] for the evening to end .\n",
      "\n",
      "\n"
     ]
    },
    {
     "name": "stderr",
     "output_type": "stream",
     "text": [
      "\n",
      "[Succeeded / Failed / Skipped / Total] 3 / 1 / 0 / 4:  50%|█████     | 5/10 [00:01<00:01,  2.71it/s]\u001b[A\n",
      "[Succeeded / Failed / Skipped / Total] 4 / 1 / 0 / 5:  50%|█████     | 5/10 [00:01<00:01,  2.69it/s]\u001b[A"
     ]
    },
    {
     "name": "stdout",
     "output_type": "stream",
     "text": [
      "--------------------------------------------- Result 5 ---------------------------------------------\n",
      "[[1 (87%)]] --> [[0 (68%)]]\n",
      "\n",
      "as literary desecrations go , this makes for perfectly acceptable , occasionally very pleasant children's entertainment . you'll forget about it by monday , though , and if they're old enough to have crafted some taste , [[so]] [[will]] your youths .\n",
      "\n",
      "as literary desecrations go , this makes for perfectly acceptable , occasionally very pleasant children's entertainment . you'll forget about it by monday , though , and if they're old enough to have crafted some taste , [[too]] [[desiring]] your youths .\n",
      "\n",
      "\n"
     ]
    },
    {
     "name": "stderr",
     "output_type": "stream",
     "text": [
      "\n",
      "[Succeeded / Failed / Skipped / Total] 4 / 1 / 0 / 5:  60%|██████    | 6/10 [00:02<00:01,  2.47it/s]\u001b[A\n",
      "[Succeeded / Failed / Skipped / Total] 5 / 1 / 0 / 6:  60%|██████    | 6/10 [00:02<00:01,  2.46it/s]\u001b[A"
     ]
    },
    {
     "name": "stdout",
     "output_type": "stream",
     "text": [
      "--------------------------------------------- Result 6 ---------------------------------------------\n",
      "[[0 (91%)]] --> [[1 (55%)]]\n",
      "\n",
      "[[attempting]] to add some spice to its quirky sentiments but the [[taste]] is all too [[familiar]] .\n",
      "\n",
      "[[tends]] to add some spice to its quirky sentiments but the [[deliciousness]] is all too [[renowned]] .\n",
      "\n",
      "\n"
     ]
    },
    {
     "name": "stderr",
     "output_type": "stream",
     "text": [
      "\n",
      "[Succeeded / Failed / Skipped / Total] 5 / 1 / 0 / 6:  70%|███████   | 7/10 [00:03<00:01,  1.88it/s]\u001b[A\n",
      "[Succeeded / Failed / Skipped / Total] 6 / 1 / 0 / 7:  70%|███████   | 7/10 [00:03<00:01,  1.87it/s]\u001b[A\n",
      "[Succeeded / Failed / Skipped / Total] 6 / 1 / 0 / 7:  80%|████████  | 8/10 [00:03<00:00,  2.07it/s]\u001b[A\n",
      "[Succeeded / Failed / Skipped / Total] 7 / 1 / 0 / 8:  80%|████████  | 8/10 [00:03<00:00,  2.06it/s]\u001b[A"
     ]
    },
    {
     "name": "stdout",
     "output_type": "stream",
     "text": [
      "--------------------------------------------- Result 7 ---------------------------------------------\n",
      "[[1 (93%)]] --> [[0 (52%)]]\n",
      "\n",
      "stephan rea , [[aidan]] [[quinn]] , and alan bates play desmond's legal [[eagles]] , and when [[joined]] by brosnan , the [[eyesight]] of this grandiloquent quartet lolling in pretty irish [[settings]] is a [[nice]] enough thing , 'tis .\n",
      "\n",
      "stephan rea , [[aiden]] [[queen]] , and alan bates play desmond's legal [[buzzards]] , and when [[subscribe]] by brosnan , the [[farsighted]] of this grandiloquent quartet lolling in pretty irish [[fixing]] is a [[groovy]] enough thing , 'tis .\n",
      "\n",
      "\n",
      "--------------------------------------------- Result 8 ---------------------------------------------\n",
      "[[1 (53%)]] --> [[0 (65%)]]\n",
      "\n",
      "yeah , these flicks are just that geez [[good]] . isn't it great ?\n",
      "\n",
      "yeah , these flicks are just that geez [[super]] . isn't it great ?\n",
      "\n",
      "\n"
     ]
    },
    {
     "name": "stderr",
     "output_type": "stream",
     "text": [
      "\n",
      "[Succeeded / Failed / Skipped / Total] 7 / 1 / 0 / 8:  90%|█████████ | 9/10 [00:04<00:00,  2.13it/s]\u001b[A\n",
      "[Succeeded / Failed / Skipped / Total] 8 / 1 / 0 / 9:  90%|█████████ | 9/10 [00:04<00:00,  2.13it/s]\u001b[A"
     ]
    },
    {
     "name": "stdout",
     "output_type": "stream",
     "text": [
      "--------------------------------------------- Result 9 ---------------------------------------------\n",
      "[[0 (83%)]] --> [[1 (91%)]]\n",
      "\n",
      "your stomach for heaven [[depends]] [[essentially]] on your appetite for canned corn .\n",
      "\n",
      "your stomach for heaven [[belongs]] [[importantly]] on your appetite for canned corn .\n",
      "\n",
      "\n"
     ]
    },
    {
     "name": "stderr",
     "output_type": "stream",
     "text": [
      "\n",
      "[Succeeded / Failed / Skipped / Total] 8 / 1 / 0 / 9: 100%|██████████| 10/10 [00:04<00:00,  2.22it/s]\u001b[A\n",
      "[Succeeded / Failed / Skipped / Total] 9 / 1 / 0 / 10: 100%|██████████| 10/10 [00:04<00:00,  2.21it/s]\u001b[A"
     ]
    },
    {
     "name": "stdout",
     "output_type": "stream",
     "text": [
      "--------------------------------------------- Result 10 ---------------------------------------------\n",
      "[[1 (75%)]] --> [[0 (53%)]]\n",
      "\n",
      "originality ain't on the menu , but there's never a [[dull]] moment in the colossus spider invasion comic chiller .\n",
      "\n",
      "originality ain't on the menu , but there's never a [[monotonous]] moment in the colossus spider invasion comic chiller .\n",
      "\n",
      "\n",
      "\n",
      "+-------------------------------+--------+\n",
      "| Attack Results                |        |\n",
      "+-------------------------------+--------+\n",
      "| Number of successful attacks: | 9      |\n",
      "| Number of failed attacks:     | 1      |\n",
      "| Number of skipped attacks:    | 0      |\n",
      "| Original accuracy:            | 100.0% |\n",
      "| Accuracy under attack:        | 10.0%  |\n",
      "| Attack success rate:          | 90.0%  |\n",
      "| Average perturbed word %:     | 13.61% |\n",
      "| Average num. words per input: | 20.2   |\n",
      "| Avg num queries:              | 81.7   |\n",
      "+-------------------------------+--------+"
     ]
    },
    {
     "name": "stderr",
     "output_type": "stream",
     "text": [
      "\n"
     ]
    },
    {
     "name": "stdout",
     "output_type": "stream",
     "text": [
      "\n",
      "Attack(\n",
      "  (search_method): GreedyWordSwapWIR(\n",
      "    (wir_method):  delete\n",
      "  )\n",
      "  (goal_function):  UntargetedClassification\n",
      "  (transformation):  WordSwapEmbedding(\n",
      "    (max_candidates):  50\n",
      "    (embedding):  WordEmbedding\n",
      "  )\n",
      "  (constraints): \n",
      "    (0): WordEmbeddingDistance(\n",
      "        (embedding):  WordEmbedding\n",
      "        (min_cos_sim):  0.5\n",
      "        (cased):  False\n",
      "        (include_unknown_words):  True\n",
      "        (compare_against_original):  True\n",
      "      )\n",
      "    (1): PartOfSpeech(\n",
      "        (tagger_type):  nltk\n",
      "        (tagset):  universal\n",
      "        (allow_verb_noun_swap):  True\n",
      "        (compare_against_original):  True\n",
      "      )\n",
      "    (2): UniversalSentenceEncoder(\n",
      "        (metric):  angular\n",
      "        (threshold):  0.840845057\n",
      "        (window_size):  15\n",
      "        (skip_text_shorter_than_window):  True\n",
      "        (compare_against_original):  False\n",
      "      )\n",
      "    (3): RepeatModification\n",
      "    (4): StopwordModification\n",
      "    (5): InputColumnModification(\n",
      "        (matching_column_labels):  ['premise', 'hypothesis']\n",
      "        (columns_to_ignore):  {'premise'}\n",
      "      )\n",
      "  (is_black_box):  True\n",
      ") \n",
      "\n"
     ]
    },
    {
     "name": "stderr",
     "output_type": "stream",
     "text": [
      "\n",
      "  0%|          | 0/10 [00:00<?, ?it/s]\u001b[A\n",
      " 10%|█         | 1/10 [00:00<00:05,  1.52it/s]\u001b[A\n",
      "[Succeeded / Failed / Skipped / Total] 1 / 0 / 0 / 1:  10%|█         | 1/10 [00:00<00:05,  1.50it/s]\u001b[A"
     ]
    },
    {
     "name": "stdout",
     "output_type": "stream",
     "text": [
      "--------------------------------------------- Result 1 ---------------------------------------------\n",
      "[[0 (93%)]] --> [[1 (51%)]]\n",
      "\n",
      ". . . the [[suma]] of the [[parts]] [[equals]] largely a [[confused]] [[mediocrity]] .\n",
      "\n",
      ". . . the [[somme]] of the [[districts]] [[equal]] largely a [[intrigued]] [[isamu]] .\n",
      "\n",
      "\n"
     ]
    },
    {
     "name": "stderr",
     "output_type": "stream",
     "text": [
      "\n",
      "[Succeeded / Failed / Skipped / Total] 1 / 0 / 0 / 1:  20%|██        | 2/10 [00:00<00:03,  2.10it/s]\u001b[A\n",
      "[Succeeded / Failed / Skipped / Total] 2 / 0 / 0 / 2:  20%|██        | 2/10 [00:00<00:03,  2.08it/s]\u001b[A\n",
      "[Succeeded / Failed / Skipped / Total] 2 / 0 / 1 / 3:  30%|███       | 3/10 [00:00<00:02,  3.09it/s]\u001b[A\n",
      "[Succeeded / Failed / Skipped / Total] 2 / 0 / 1 / 3:  40%|████      | 4/10 [00:01<00:01,  3.53it/s]\u001b[A\n",
      "[Succeeded / Failed / Skipped / Total] 3 / 0 / 1 / 4:  40%|████      | 4/10 [00:01<00:01,  3.49it/s]\u001b[A\n",
      "[Succeeded / Failed / Skipped / Total] 3 / 0 / 2 / 5:  50%|█████     | 5/10 [00:01<00:01,  4.33it/s]\u001b[A"
     ]
    },
    {
     "name": "stdout",
     "output_type": "stream",
     "text": [
      "--------------------------------------------- Result 2 ---------------------------------------------\n",
      "[[0 (74%)]] --> [[1 (51%)]]\n",
      "\n",
      "who are 'they' ? well , they're 'they' . they're the [[unnamed]] , easily substitutable forces that serve as whatever terror the heroic of horror movies seek to forestall . they exist for hushed lines like \" they're back ! \" , \" they're out there ! \" and \" they're coming ! \"\n",
      "\n",
      "who are 'they' ? well , they're 'they' . they're the [[unknowing]] , easily substitutable forces that serve as whatever terror the heroic of horror movies seek to forestall . they exist for hushed lines like \" they're back ! \" , \" they're out there ! \" and \" they're coming ! \"\n",
      "\n",
      "\n",
      "--------------------------------------------- Result 3 ---------------------------------------------\n",
      "[[1 (83%)]] --> [[[SKIPPED]]]\n",
      "\n",
      "the filmmaker ascends , literally , to the olympus of the art world , but he would have accomplished good to end this flawed , breathtaking series with the raising of something other than his own cremaster .\n",
      "\n",
      "\n",
      "--------------------------------------------- Result 4 ---------------------------------------------\n",
      "[[1 (89%)]] --> [[0 (92%)]]\n",
      "\n",
      "nicol kidman makes it a party [[worth]] attending .\n",
      "\n",
      "nicol kidman makes it a party [[priceless]] attending .\n",
      "\n",
      "\n",
      "--------------------------------------------- Result 5 ---------------------------------------------\n",
      "[[1 (90%)]] --> [[[SKIPPED]]]\n",
      "\n",
      "a solid film . . . but more observant than it is truly stirring .\n",
      "\n",
      "\n"
     ]
    },
    {
     "name": "stderr",
     "output_type": "stream",
     "text": [
      "\n",
      "[Succeeded / Failed / Skipped / Total] 3 / 0 / 2 / 5:  60%|██████    | 6/10 [00:01<00:00,  4.48it/s]\u001b[A\n",
      "[Succeeded / Failed / Skipped / Total] 4 / 0 / 2 / 6:  60%|██████    | 6/10 [00:01<00:00,  4.44it/s]\u001b[A"
     ]
    },
    {
     "name": "stdout",
     "output_type": "stream",
     "text": [
      "--------------------------------------------- Result 6 ---------------------------------------------\n",
      "[[1 (78%)]] --> [[0 (63%)]]\n",
      "\n",
      "instead of hit the audience over the head with a moral , schrader [[relies]] on subtle ironies and visual devices to convey point of opinions .\n",
      "\n",
      "instead of hit the audience over the head with a moral , schrader [[using]] on subtle ironies and visual devices to convey point of opinions .\n",
      "\n",
      "\n"
     ]
    },
    {
     "name": "stderr",
     "output_type": "stream",
     "text": [
      "\n",
      "[Succeeded / Failed / Skipped / Total] 5 / 0 / 2 / 7:  70%|███████   | 7/10 [00:01<00:00,  3.76it/s]\u001b[A"
     ]
    },
    {
     "name": "stdout",
     "output_type": "stream",
     "text": [
      "--------------------------------------------- Result 7 ---------------------------------------------\n",
      "[[0 (82%)]] --> [[1 (50%)]]\n",
      "\n",
      "what you [[expect]] is just what you get . . . assuming the bar of predictions hasn't been [[raised]] above sixth-grade height .\n",
      "\n",
      "what you [[desired]] is just what you get . . . assuming the bar of predictions hasn't been [[surging]] above sixth-grade height .\n",
      "\n",
      "\n"
     ]
    },
    {
     "name": "stderr",
     "output_type": "stream",
     "text": [
      "\n",
      "[Succeeded / Failed / Skipped / Total] 5 / 0 / 2 / 7:  80%|████████  | 8/10 [00:02<00:00,  3.14it/s]\u001b[A\n",
      "[Succeeded / Failed / Skipped / Total] 6 / 0 / 2 / 8:  80%|████████  | 8/10 [00:02<00:00,  3.13it/s]\u001b[A"
     ]
    },
    {
     "name": "stdout",
     "output_type": "stream",
     "text": [
      "--------------------------------------------- Result 8 ---------------------------------------------\n",
      "[[1 (95%)]] --> [[0 (55%)]]\n",
      "\n",
      "the [[drama]] is played out with such aching [[beauty]] and truth that it [[puts]] tears to your [[eyes]] .\n",
      "\n",
      "the [[dramas]] is played out with such aching [[cutie]] and truth that it [[throws]] tears to your [[beady]] .\n",
      "\n",
      "\n"
     ]
    },
    {
     "name": "stderr",
     "output_type": "stream",
     "text": [
      "\n",
      "[Succeeded / Failed / Skipped / Total] 7 / 0 / 2 / 9:  90%|█████████ | 9/10 [00:02<00:00,  3.21it/s]\u001b[A"
     ]
    },
    {
     "name": "stdout",
     "output_type": "stream",
     "text": [
      "--------------------------------------------- Result 9 ---------------------------------------------\n",
      "[[1 (73%)]] --> [[0 (66%)]]\n",
      "\n",
      "the movies occasionally threat to become didactic , but it's too grounded in the reality of its character to go over the edge . a touch of humor or an unexpected plot twist always [[pulls]] it back .\n",
      "\n",
      "the movies occasionally threat to become didactic , but it's too grounded in the reality of its character to go over the edge . a touch of humor or an unexpected plot twist always [[pulling]] it back .\n",
      "\n",
      "\n"
     ]
    },
    {
     "name": "stderr",
     "output_type": "stream",
     "text": [
      "\n",
      "[Succeeded / Failed / Skipped / Total] 7 / 0 / 2 / 9: 100%|██████████| 10/10 [00:03<00:00,  3.06it/s]\u001b[A\n",
      "[Succeeded / Failed / Skipped / Total] 8 / 0 / 2 / 10: 100%|██████████| 10/10 [00:03<00:00,  3.05it/s]\u001b[A"
     ]
    },
    {
     "name": "stdout",
     "output_type": "stream",
     "text": [
      "--------------------------------------------- Result 10 ---------------------------------------------\n",
      "[[1 (95%)]] --> [[0 (65%)]]\n",
      "\n",
      "may not have generated several arouses , but with his affection for astoria and its people he [[has]] given his tale a [[warm]] [[glow]] .\n",
      "\n",
      "may not have generated several arouses , but with his affection for astoria and its people he [[hague]] given his tale a [[lukewarm]] [[luster]] .\n",
      "\n",
      "\n",
      "\n",
      "+-------------------------------+--------+\n",
      "| Attack Results                |        |\n",
      "+-------------------------------+--------+\n",
      "| Number of successful attacks: | 8      |\n",
      "| Number of failed attacks:     | 0      |\n",
      "| Number of skipped attacks:    | 2      |\n",
      "| Original accuracy:            | 80.0%  |\n",
      "| Accuracy under attack:        | 0.0%   |\n",
      "| Attack success rate:          | 100.0% |\n",
      "| Average perturbed word %:     | 14.73% |\n",
      "| Average num. words per input: | 22.0   |\n",
      "| Avg num queries:              | 72.0   |\n",
      "+-------------------------------+--------+"
     ]
    },
    {
     "name": "stderr",
     "output_type": "stream",
     "text": [
      "\n"
     ]
    },
    {
     "name": "stdout",
     "output_type": "stream",
     "text": [
      "\n",
      "Attack(\n",
      "  (search_method): GreedyWordSwapWIR(\n",
      "    (wir_method):  delete\n",
      "  )\n",
      "  (goal_function):  UntargetedClassification\n",
      "  (transformation):  WordSwapEmbedding(\n",
      "    (max_candidates):  50\n",
      "    (embedding):  WordEmbedding\n",
      "  )\n",
      "  (constraints): \n",
      "    (0): WordEmbeddingDistance(\n",
      "        (embedding):  WordEmbedding\n",
      "        (min_cos_sim):  0.5\n",
      "        (cased):  False\n",
      "        (include_unknown_words):  True\n",
      "        (compare_against_original):  True\n",
      "      )\n",
      "    (1): PartOfSpeech(\n",
      "        (tagger_type):  nltk\n",
      "        (tagset):  universal\n",
      "        (allow_verb_noun_swap):  True\n",
      "        (compare_against_original):  True\n",
      "      )\n",
      "    (2): UniversalSentenceEncoder(\n",
      "        (metric):  angular\n",
      "        (threshold):  0.840845057\n",
      "        (window_size):  15\n",
      "        (skip_text_shorter_than_window):  True\n",
      "        (compare_against_original):  False\n",
      "      )\n",
      "    (3): RepeatModification\n",
      "    (4): StopwordModification\n",
      "    (5): InputColumnModification(\n",
      "        (matching_column_labels):  ['premise', 'hypothesis']\n",
      "        (columns_to_ignore):  {'premise'}\n",
      "      )\n",
      "  (is_black_box):  True\n",
      ") \n",
      "\n"
     ]
    },
    {
     "name": "stderr",
     "output_type": "stream",
     "text": [
      "\n",
      "  0%|          | 0/10 [00:00<?, ?it/s]\u001b[A\n",
      " 10%|█         | 1/10 [00:00<00:06,  1.29it/s]\u001b[A\n",
      "[Succeeded / Failed / Skipped / Total] 1 / 0 / 0 / 1:  10%|█         | 1/10 [00:00<00:07,  1.27it/s]\u001b[A"
     ]
    },
    {
     "name": "stdout",
     "output_type": "stream",
     "text": [
      "--------------------------------------------- Result 1 ---------------------------------------------\n",
      "[[0 (94%)]] --> [[1 (57%)]]\n",
      "\n",
      "boll uses a lot of quick cutting and blurry step-printing to goose things up , but [[dopey]] dialogue and sometimes [[inadequate]] performances [[kill]] the effect .\n",
      "\n",
      "boll uses a lot of quick cutting and blurry step-printing to goose things up , but [[beast]] dialogue and sometimes [[infirm]] performances [[reaps]] the effect .\n",
      "\n",
      "\n"
     ]
    },
    {
     "name": "stderr",
     "output_type": "stream",
     "text": [
      "\n",
      "[Succeeded / Failed / Skipped / Total] 1 / 0 / 0 / 1:  20%|██        | 2/10 [00:01<00:04,  1.89it/s]\u001b[A\n",
      "[Succeeded / Failed / Skipped / Total] 2 / 0 / 0 / 2:  20%|██        | 2/10 [00:01<00:04,  1.87it/s]\u001b[A"
     ]
    },
    {
     "name": "stdout",
     "output_type": "stream",
     "text": [
      "--------------------------------------------- Result 2 ---------------------------------------------\n",
      "[[0 (70%)]] --> [[1 (59%)]]\n",
      "\n",
      "visually rather stunning , but ultimately a handsome-looking bore , the true creativity would have been to [[hide]] treasure planet entirely and completely reimagine it .\n",
      "\n",
      "visually rather stunning , but ultimately a handsome-looking bore , the true creativity would have been to [[mendacity]] treasure planet entirely and completely reimagine it .\n",
      "\n",
      "\n"
     ]
    },
    {
     "name": "stderr",
     "output_type": "stream",
     "text": [
      "\n",
      "[Succeeded / Failed / Skipped / Total] 2 / 0 / 0 / 2:  30%|███       | 3/10 [00:01<00:04,  1.66it/s]\u001b[A\n",
      "[Succeeded / Failed / Skipped / Total] 3 / 0 / 0 / 3:  30%|███       | 3/10 [00:01<00:04,  1.65it/s]\u001b[A"
     ]
    },
    {
     "name": "stdout",
     "output_type": "stream",
     "text": [
      "--------------------------------------------- Result 3 ---------------------------------------------\n",
      "[[0 (75%)]] --> [[1 (55%)]]\n",
      "\n",
      "instead of kicking off the intrigue and suspense and mystery of the whole [[thing]] , hart's [[war]] , like the st . louis rams in the super bowl , waits until after [[halftime]] to [[get]] started .\n",
      "\n",
      "instead of kicking off the intrigue and suspense and mystery of the whole [[elements]] , hart's [[combating]] , like the st . louis rams in the super bowl , waits until after [[intermission]] to [[come]] started .\n",
      "\n",
      "\n"
     ]
    },
    {
     "name": "stderr",
     "output_type": "stream",
     "text": [
      "\n",
      "[Succeeded / Failed / Skipped / Total] 3 / 0 / 0 / 3:  40%|████      | 4/10 [00:02<00:03,  1.98it/s]\u001b[A\n",
      "[Succeeded / Failed / Skipped / Total] 4 / 0 / 0 / 4:  40%|████      | 4/10 [00:02<00:03,  1.97it/s]\u001b[A"
     ]
    },
    {
     "name": "stdout",
     "output_type": "stream",
     "text": [
      "--------------------------------------------- Result 4 ---------------------------------------------\n",
      "[[0 (75%)]] --> [[1 (53%)]]\n",
      "\n",
      "it makes me feel [[weird]] / thinking about all the bad things in the world / like puppies with broken legs / and butterflies that die / and movies starring pop queens\n",
      "\n",
      "it makes me feel [[curious]] / thinking about all the bad things in the world / like puppies with broken legs / and butterflies that die / and movies starring pop queens\n",
      "\n",
      "\n"
     ]
    },
    {
     "name": "stderr",
     "output_type": "stream",
     "text": [
      "\n",
      "[Succeeded / Failed / Skipped / Total] 4 / 0 / 0 / 4:  50%|█████     | 5/10 [00:02<00:02,  2.09it/s]\u001b[A\n",
      "[Succeeded / Failed / Skipped / Total] 5 / 0 / 0 / 5:  50%|█████     | 5/10 [00:02<00:02,  2.08it/s]\u001b[A"
     ]
    },
    {
     "name": "stdout",
     "output_type": "stream",
     "text": [
      "--------------------------------------------- Result 5 ---------------------------------------------\n",
      "[[1 (90%)]] --> [[0 (68%)]]\n",
      "\n",
      "the mothman prophecies is [[best]] when [[illustrating]] the demons bedevilling the modern masculine journey .\n",
      "\n",
      "the mothman prophecies is [[preferably]] when [[demo]] the demons bedevilling the modern masculine journey .\n",
      "\n",
      "\n"
     ]
    },
    {
     "name": "stderr",
     "output_type": "stream",
     "text": [
      "\n",
      "[Succeeded / Failed / Skipped / Total] 5 / 0 / 0 / 5:  60%|██████    | 6/10 [00:02<00:01,  2.07it/s]\u001b[A\n",
      "[Succeeded / Failed / Skipped / Total] 6 / 0 / 0 / 6:  60%|██████    | 6/10 [00:02<00:01,  2.06it/s]\u001b[A"
     ]
    },
    {
     "name": "stdout",
     "output_type": "stream",
     "text": [
      "--------------------------------------------- Result 6 ---------------------------------------------\n",
      "[[0 (86%)]] --> [[1 (53%)]]\n",
      "\n",
      "if swimfan [[does]] catch on , it may be [[because]] [[teens]] are looking for something to [[make]] them laugh .\n",
      "\n",
      "if swimfan [[es]] catch on , it may be [[for]] [[adolescence]] are looking for something to [[brings]] them laugh .\n",
      "\n",
      "\n"
     ]
    },
    {
     "name": "stderr",
     "output_type": "stream",
     "text": [
      "\n",
      "[Succeeded / Failed / Skipped / Total] 6 / 0 / 0 / 6:  70%|███████   | 7/10 [00:03<00:01,  1.86it/s]\u001b[A\n",
      "[Succeeded / Failed / Skipped / Total] 7 / 0 / 0 / 7:  70%|███████   | 7/10 [00:03<00:01,  1.86it/s]\u001b[A"
     ]
    },
    {
     "name": "stdout",
     "output_type": "stream",
     "text": [
      "--------------------------------------------- Result 7 ---------------------------------------------\n",
      "[[0 (93%)]] --> [[1 (84%)]]\n",
      "\n",
      "plotless [[collection]] of [[moronic]] stunts is by [[far]] the [[worst]] movie of the [[year]] .\n",
      "\n",
      "plotless [[harvested]] of [[laughable]] stunts is by [[tremendously]] the [[finest]] movie of the [[leto]] .\n",
      "\n",
      "\n"
     ]
    },
    {
     "name": "stderr",
     "output_type": "stream",
     "text": [
      "\n",
      "[Succeeded / Failed / Skipped / Total] 7 / 0 / 0 / 7:  80%|████████  | 8/10 [00:04<00:01,  1.96it/s]\u001b[A\n",
      "[Succeeded / Failed / Skipped / Total] 8 / 0 / 0 / 8:  80%|████████  | 8/10 [00:04<00:01,  1.96it/s]\u001b[A"
     ]
    },
    {
     "name": "stdout",
     "output_type": "stream",
     "text": [
      "--------------------------------------------- Result 8 ---------------------------------------------\n",
      "[[1 (94%)]] --> [[0 (86%)]]\n",
      "\n",
      "a fairly [[enjoyable]] mixture of longest yard . . . and the 1999 guy ritchie caper lock stock and two smoking barrels .\n",
      "\n",
      "a fairly [[droll]] mixture of longest yard . . . and the 1999 guy ritchie caper lock stock and two smoking barrels .\n",
      "\n",
      "\n"
     ]
    },
    {
     "name": "stderr",
     "output_type": "stream",
     "text": [
      "\n",
      "[Succeeded / Failed / Skipped / Total] 8 / 0 / 0 / 8:  90%|█████████ | 9/10 [00:04<00:00,  2.08it/s]\u001b[A\n",
      "[Succeeded / Failed / Skipped / Total] 9 / 0 / 0 / 9:  90%|█████████ | 9/10 [00:04<00:00,  2.07it/s]\u001b[A\n",
      "[Succeeded / Failed / Skipped / Total] 9 / 0 / 1 / 10: 100%|██████████| 10/10 [00:04<00:00,  2.30it/s]\u001b[A"
     ]
    },
    {
     "name": "stdout",
     "output_type": "stream",
     "text": [
      "--------------------------------------------- Result 9 ---------------------------------------------\n",
      "[[1 (89%)]] --> [[0 (61%)]]\n",
      "\n",
      "the film is faithful to what one presumes are the book's twin premises -- that we become who we are on the backs of our parents , but we have no idea who they were at our age ; and that time is a fleeting and [[precious]] commodity no matter how old you are .\n",
      "\n",
      "the film is faithful to what one presumes are the book's twin premises -- that we become who we are on the backs of our parents , but we have no idea who they were at our age ; and that time is a fleeting and [[priceless]] commodity no matter how old you are .\n",
      "\n",
      "\n",
      "--------------------------------------------- Result 10 ---------------------------------------------\n",
      "[[0 (70%)]] --> [[[SKIPPED]]]\n",
      "\n",
      "the volatile dynamics of female friendship is the subject of this unhurried , low-key film that is so off-hollywood that it seems positively french in its rhythms and resonance .\n",
      "\n",
      "\n",
      "\n",
      "+-------------------------------+--------+\n",
      "| Attack Results                |        |\n",
      "+-------------------------------+--------+\n",
      "| Number of successful attacks: | 9      |\n",
      "| Number of failed attacks:     | 0      |\n",
      "| Number of skipped attacks:    | 1      |\n",
      "| Original accuracy:            | 90.0%  |\n",
      "| Accuracy under attack:        | 0.0%   |\n",
      "| Attack success rate:          | 100.0% |\n",
      "| Average perturbed word %:     | 12.49% |\n",
      "| Average num. words per input: | 25.1   |\n",
      "| Avg num queries:              | 89.89  |\n",
      "+-------------------------------+--------+"
     ]
    },
    {
     "name": "stderr",
     "output_type": "stream",
     "text": [
      "\n"
     ]
    },
    {
     "name": "stdout",
     "output_type": "stream",
     "text": [
      "\n",
      "Attack(\n",
      "  (search_method): GreedyWordSwapWIR(\n",
      "    (wir_method):  delete\n",
      "  )\n",
      "  (goal_function):  UntargetedClassification\n",
      "  (transformation):  WordSwapEmbedding(\n",
      "    (max_candidates):  50\n",
      "    (embedding):  WordEmbedding\n",
      "  )\n",
      "  (constraints): \n",
      "    (0): WordEmbeddingDistance(\n",
      "        (embedding):  WordEmbedding\n",
      "        (min_cos_sim):  0.5\n",
      "        (cased):  False\n",
      "        (include_unknown_words):  True\n",
      "        (compare_against_original):  True\n",
      "      )\n",
      "    (1): PartOfSpeech(\n",
      "        (tagger_type):  nltk\n",
      "        (tagset):  universal\n",
      "        (allow_verb_noun_swap):  True\n",
      "        (compare_against_original):  True\n",
      "      )\n",
      "    (2): UniversalSentenceEncoder(\n",
      "        (metric):  angular\n",
      "        (threshold):  0.840845057\n",
      "        (window_size):  15\n",
      "        (skip_text_shorter_than_window):  True\n",
      "        (compare_against_original):  False\n",
      "      )\n",
      "    (3): RepeatModification\n",
      "    (4): StopwordModification\n",
      "    (5): InputColumnModification(\n",
      "        (matching_column_labels):  ['premise', 'hypothesis']\n",
      "        (columns_to_ignore):  {'premise'}\n",
      "      )\n",
      "  (is_black_box):  True\n",
      ") \n",
      "\n"
     ]
    },
    {
     "name": "stderr",
     "output_type": "stream",
     "text": [
      "\n",
      "  0%|          | 0/10 [00:00<?, ?it/s]\u001b[A\n",
      " 10%|█         | 1/10 [00:00<00:07,  1.21it/s]\u001b[A\n",
      "[Succeeded / Failed / Skipped / Total] 1 / 0 / 0 / 1:  10%|█         | 1/10 [00:00<00:07,  1.19it/s]\u001b[A\n",
      "[Succeeded / Failed / Skipped / Total] 1 / 0 / 0 / 1:  20%|██        | 2/10 [00:00<00:03,  2.03it/s]\u001b[A\n",
      "[Succeeded / Failed / Skipped / Total] 2 / 0 / 0 / 2:  20%|██        | 2/10 [00:01<00:04,  1.94it/s]"
     ]
    },
    {
     "name": "stdout",
     "output_type": "stream",
     "text": [
      "--------------------------------------------- Result 1 ---------------------------------------------\n",
      "[[1 (96%)]] --> [[0 (55%)]]\n",
      "\n",
      "this is a [[winning]] [[ensemble]] comedy that shows canadians can put [[gentle]] laughs and equally [[gentle]] [[sentiments]] on the button , just as easily as their counterparts anywhere else in the [[world]] .\n",
      "\n",
      "this is a [[finalists]] [[aggregate]] comedy that shows canadians can put [[saggy]] laughs and equally [[slight]] [[perceptions]] on the button , just as easily as their counterparts anywhere else in the [[worid]] .\n",
      "\n",
      "\n",
      "--------------------------------------------- Result 2 ---------------------------------------------\n",
      "[[0 (92%)]] --> [[1 (92%)]]\n",
      "\n",
      "storytelling feels [[slight]] .\n",
      "\n",
      "storytelling feels [[light]] .\n",
      "\n",
      "\n"
     ]
    },
    {
     "name": "stderr",
     "output_type": "stream",
     "text": [
      "\u001b[A\n",
      "[Succeeded / Failed / Skipped / Total] 2 / 0 / 0 / 2:  30%|███       | 3/10 [00:02<00:04,  1.41it/s]\u001b[A\n",
      "[Succeeded / Failed / Skipped / Total] 3 / 0 / 0 / 3:  30%|███       | 3/10 [00:02<00:05,  1.40it/s]\u001b[A"
     ]
    },
    {
     "name": "stdout",
     "output_type": "stream",
     "text": [
      "--------------------------------------------- Result 3 ---------------------------------------------\n",
      "[[0 (92%)]] --> [[1 (51%)]]\n",
      "\n",
      "like the chelsea's denizens . . . burdette's collage-form [[scenario]] [[tends]] to over-romanticize the spiritual [[desolation]] of the [[struggling]] [[artiste]] .\n",
      "\n",
      "like the chelsea's denizens . . . burdette's collage-form [[storyline]] [[aspiration]] to over-romanticize the spiritual [[hopelessness]] of the [[struggles]] [[artists]] .\n",
      "\n",
      "\n"
     ]
    },
    {
     "name": "stderr",
     "output_type": "stream",
     "text": [
      "\n",
      "[Succeeded / Failed / Skipped / Total] 3 / 0 / 0 / 3:  40%|████      | 4/10 [00:03<00:05,  1.14it/s]\u001b[A\n",
      "[Succeeded / Failed / Skipped / Total] 4 / 0 / 0 / 4:  40%|████      | 4/10 [00:03<00:05,  1.14it/s]\u001b[A"
     ]
    },
    {
     "name": "stdout",
     "output_type": "stream",
     "text": [
      "--------------------------------------------- Result 4 ---------------------------------------------\n",
      "[[0 (94%)]] --> [[1 (58%)]]\n",
      "\n",
      "not [[sweet]] enough to [[liven]] up its [[predictable]] [[story]] and will [[leave]] even [[fans]] of hip-hop [[sorely]] [[disappointed]] .\n",
      "\n",
      "not [[sugary]] enough to [[energize]] up its [[awaited]] [[anecdote]] and will [[enables]] even [[admirers]] of hip-hop [[pitifully]] [[indignant]] .\n",
      "\n",
      "\n"
     ]
    },
    {
     "name": "stderr",
     "output_type": "stream",
     "text": [
      "\n",
      "[Succeeded / Failed / Skipped / Total] 4 / 0 / 0 / 4:  50%|█████     | 5/10 [00:03<00:03,  1.33it/s]\u001b[A\n",
      "[Succeeded / Failed / Skipped / Total] 5 / 0 / 0 / 5:  50%|█████     | 5/10 [00:03<00:03,  1.32it/s]\u001b[A\n",
      "[Succeeded / Failed / Skipped / Total] 5 / 1 / 0 / 6:  60%|██████    | 6/10 [00:03<00:02,  1.57it/s]\u001b[A"
     ]
    },
    {
     "name": "stdout",
     "output_type": "stream",
     "text": [
      "--------------------------------------------- Result 5 ---------------------------------------------\n",
      "[[0 (75%)]] --> [[1 (85%)]]\n",
      "\n",
      "now here's a [[sadistic]] bike flick that would have made vittorio de sica proud .\n",
      "\n",
      "now here's a [[bestial]] bike flick that would have made vittorio de sica proud .\n",
      "\n",
      "\n",
      "--------------------------------------------- Result 6 ---------------------------------------------\n",
      "[[0 (89%)]] --> [[[FAILED]]]\n",
      "\n",
      ". . . silly humbuggery . . .\n",
      "\n",
      "\n"
     ]
    },
    {
     "name": "stderr",
     "output_type": "stream",
     "text": [
      "\n",
      "[Succeeded / Failed / Skipped / Total] 5 / 1 / 0 / 6:  70%|███████   | 7/10 [00:04<00:01,  1.64it/s]\u001b[A\n",
      "[Succeeded / Failed / Skipped / Total] 6 / 1 / 0 / 7:  70%|███████   | 7/10 [00:04<00:01,  1.64it/s]\u001b[A"
     ]
    },
    {
     "name": "stdout",
     "output_type": "stream",
     "text": [
      "--------------------------------------------- Result 7 ---------------------------------------------\n",
      "[[1 (92%)]] --> [[0 (56%)]]\n",
      "\n",
      "it's a demented kitsch mess ( although the smeary digital video does match the muddled narrative ) , but it's [[savvy]] about celebrity and [[has]] more guts and energy than [[much]] of what will open this year .\n",
      "\n",
      "it's a demented kitsch mess ( although the smeary digital video does match the muddled narrative ) , but it's [[canny]] about celebrity and [[ha]] more guts and energy than [[sizable]] of what will open this year .\n",
      "\n",
      "\n"
     ]
    },
    {
     "name": "stderr",
     "output_type": "stream",
     "text": [
      "\n",
      "[Succeeded / Failed / Skipped / Total] 7 / 1 / 0 / 8:  80%|████████  | 8/10 [00:04<00:01,  1.62it/s]\u001b[A\n",
      "[Succeeded / Failed / Skipped / Total] 7 / 1 / 0 / 8:  90%|█████████ | 9/10 [00:04<00:00,  1.82it/s]\u001b[A\n",
      "[Succeeded / Failed / Skipped / Total] 7 / 1 / 1 / 9:  90%|█████████ | 9/10 [00:04<00:00,  1.82it/s]\u001b[A"
     ]
    },
    {
     "name": "stdout",
     "output_type": "stream",
     "text": [
      "--------------------------------------------- Result 8 ---------------------------------------------\n",
      "[[1 (95%)]] --> [[0 (52%)]]\n",
      "\n",
      "it's a [[compelling]] and horrifying [[story]] , and the laramie project is worthwhile for [[reminding]] [[us]] that this sort of thing [[does]] , in fact , still happen in [[america]] .\n",
      "\n",
      "it's a [[compel]] and horrifying [[floors]] , and the laramie project is worthwhile for [[mention]] [[we]] that this sort of thing [[do]] , in fact , still happen in [[estados]] .\n",
      "\n",
      "\n",
      "--------------------------------------------- Result 9 ---------------------------------------------\n",
      "[[0 (54%)]] --> [[[SKIPPED]]]\n",
      "\n",
      "'moore is like a progressive bull in a china shop , a provocateur crashing into ideas and special-interest groups as he slaps together his own brand of liberalism . '\n",
      "\n",
      "\n"
     ]
    },
    {
     "name": "stderr",
     "output_type": "stream",
     "text": [
      "\n",
      "[Succeeded / Failed / Skipped / Total] 8 / 1 / 1 / 10: 100%|██████████| 10/10 [00:05<00:00,  1.74it/s]\u001b[A"
     ]
    },
    {
     "name": "stdout",
     "output_type": "stream",
     "text": [
      "--------------------------------------------- Result 10 ---------------------------------------------\n",
      "[[0 (94%)]] --> [[1 (51%)]]\n",
      "\n",
      "the movie [[fails]] to portray its literarily talented and notorious subject as anything [[much]] more than a [[dirty]] [[old]] man .\n",
      "\n",
      "the movie [[overlooking]] to portray its literarily talented and notorious subject as anything [[quite]] more than a [[decadent]] [[longtime]] man .\n",
      "\n",
      "\n",
      "\n",
      "+-------------------------------+--------+\n",
      "| Attack Results                |        |\n",
      "+-------------------------------+--------+\n",
      "| Number of successful attacks: | 8      |\n",
      "| Number of failed attacks:     | 1      |\n",
      "| Number of skipped attacks:    | 1      |\n",
      "| Original accuracy:            | 90.0%  |\n",
      "| Accuracy under attack:        | 10.0%  |\n",
      "| Attack success rate:          | 88.89% |\n",
      "| Average perturbed word %:     | 23.09% |\n",
      "| Average num. words per input: | 19.3   |\n",
      "| Avg num queries:              | 111.11 |\n",
      "+-------------------------------+--------+"
     ]
    },
    {
     "name": "stderr",
     "output_type": "stream",
     "text": [
      "\n"
     ]
    },
    {
     "name": "stdout",
     "output_type": "stream",
     "text": [
      "\n",
      "Attack(\n",
      "  (search_method): GreedyWordSwapWIR(\n",
      "    (wir_method):  delete\n",
      "  )\n",
      "  (goal_function):  UntargetedClassification\n",
      "  (transformation):  WordSwapEmbedding(\n",
      "    (max_candidates):  50\n",
      "    (embedding):  WordEmbedding\n",
      "  )\n",
      "  (constraints): \n",
      "    (0): WordEmbeddingDistance(\n",
      "        (embedding):  WordEmbedding\n",
      "        (min_cos_sim):  0.5\n",
      "        (cased):  False\n",
      "        (include_unknown_words):  True\n",
      "        (compare_against_original):  True\n",
      "      )\n",
      "    (1): PartOfSpeech(\n",
      "        (tagger_type):  nltk\n",
      "        (tagset):  universal\n",
      "        (allow_verb_noun_swap):  True\n",
      "        (compare_against_original):  True\n",
      "      )\n",
      "    (2): UniversalSentenceEncoder(\n",
      "        (metric):  angular\n",
      "        (threshold):  0.840845057\n",
      "        (window_size):  15\n",
      "        (skip_text_shorter_than_window):  True\n",
      "        (compare_against_original):  False\n",
      "      )\n",
      "    (3): RepeatModification\n",
      "    (4): StopwordModification\n",
      "    (5): InputColumnModification(\n",
      "        (matching_column_labels):  ['premise', 'hypothesis']\n",
      "        (columns_to_ignore):  {'premise'}\n",
      "      )\n",
      "  (is_black_box):  True\n",
      ") \n",
      "\n"
     ]
    },
    {
     "name": "stderr",
     "output_type": "stream",
     "text": [
      "\n",
      "  0%|          | 0/10 [00:00<?, ?it/s]\u001b[A\n",
      " 10%|█         | 1/10 [00:01<00:12,  1.37s/it]\u001b[A\n",
      "[Succeeded / Failed / Skipped / Total] 1 / 0 / 0 / 1:  10%|█         | 1/10 [00:01<00:12,  1.38s/it]\u001b[A\n",
      "[Succeeded / Failed / Skipped / Total] 1 / 0 / 1 / 2:  20%|██        | 2/10 [00:01<00:05,  1.44it/s]\u001b[A\n",
      "[Succeeded / Failed / Skipped / Total] 1 / 0 / 1 / 2:  30%|███       | 3/10 [00:01<00:03,  1.97it/s]\u001b[A\n",
      "[Succeeded / Failed / Skipped / Total] 2 / 0 / 1 / 3:  30%|███       | 3/10 [00:01<00:03,  1.95it/s]\u001b[A"
     ]
    },
    {
     "name": "stdout",
     "output_type": "stream",
     "text": [
      "--------------------------------------------- Result 1 ---------------------------------------------\n",
      "[[1 (96%)]] --> [[0 (61%)]]\n",
      "\n",
      "a [[strong]] script , [[powerful]] direction and [[splendid]] production design [[allows]] us to [[be]] transported into the [[life]] of wladyslaw szpilman , who is not only a [[pianist]] , but a good human being .\n",
      "\n",
      "a [[tough]] script , [[pompous]] direction and [[super]] production design [[authorised]] us to [[ai]] transported into the [[iive]] of wladyslaw szpilman , who is not only a [[cellist]] , but a good human being .\n",
      "\n",
      "\n",
      "--------------------------------------------- Result 2 ---------------------------------------------\n",
      "[[0 (67%)]] --> [[[SKIPPED]]]\n",
      "\n",
      "diane lane works nothing short of a minor miracle in unfaithful .\n",
      "\n",
      "\n",
      "--------------------------------------------- Result 3 ---------------------------------------------\n",
      "[[0 (59%)]] --> [[1 (60%)]]\n",
      "\n",
      "though this rude and [[crude]] film does deliver a few gut-busting laughs , its digs at modern society are all things we've seen before .\n",
      "\n",
      "though this rude and [[crass]] film does deliver a few gut-busting laughs , its digs at modern society are all things we've seen before .\n",
      "\n",
      "\n"
     ]
    },
    {
     "name": "stderr",
     "output_type": "stream",
     "text": [
      "\n",
      "[Succeeded / Failed / Skipped / Total] 3 / 0 / 1 / 4:  40%|████      | 4/10 [00:01<00:02,  2.23it/s]\u001b[A"
     ]
    },
    {
     "name": "stdout",
     "output_type": "stream",
     "text": [
      "--------------------------------------------- Result 4 ---------------------------------------------\n",
      "[[1 (55%)]] --> [[0 (51%)]]\n",
      "\n",
      "the movie is well crafted , and well executed . if you're paying attention , the \" big twists \" are pretty easy to guess - but that doesn't make the movie any [[less]] entertaining .\n",
      "\n",
      "the movie is well crafted , and well executed . if you're paying attention , the \" big twists \" are pretty easy to guess - but that doesn't make the movie any [[slightest]] entertaining .\n",
      "\n",
      "\n"
     ]
    },
    {
     "name": "stderr",
     "output_type": "stream",
     "text": [
      "\n",
      "[Succeeded / Failed / Skipped / Total] 3 / 0 / 1 / 4:  50%|█████     | 5/10 [00:02<00:02,  2.38it/s]\u001b[A\n",
      "[Succeeded / Failed / Skipped / Total] 4 / 0 / 1 / 5:  50%|█████     | 5/10 [00:02<00:02,  2.37it/s]\u001b[A"
     ]
    },
    {
     "name": "stdout",
     "output_type": "stream",
     "text": [
      "--------------------------------------------- Result 5 ---------------------------------------------\n",
      "[[0 (71%)]] --> [[1 (57%)]]\n",
      "\n",
      "they kept much of the plot but [[jettisoned]] the stuff that would make this a moving experience for people who haven't read the book .\n",
      "\n",
      "they kept much of the plot but [[plunged]] the stuff that would make this a moving experience for people who haven't read the book .\n",
      "\n",
      "\n"
     ]
    },
    {
     "name": "stderr",
     "output_type": "stream",
     "text": [
      "\n",
      "[Succeeded / Failed / Skipped / Total] 4 / 1 / 1 / 6:  60%|██████    | 6/10 [00:03<00:02,  1.80it/s]\u001b[A"
     ]
    },
    {
     "name": "stdout",
     "output_type": "stream",
     "text": [
      "--------------------------------------------- Result 6 ---------------------------------------------\n",
      "[[0 (94%)]] --> [[[FAILED]]]\n",
      "\n",
      "the pacing is glacial , the screenplay is stiff as a board , and things heat up only in the movie's final scenes .\n",
      "\n",
      "\n"
     ]
    },
    {
     "name": "stderr",
     "output_type": "stream",
     "text": [
      "\n",
      "[Succeeded / Failed / Skipped / Total] 4 / 1 / 1 / 6:  70%|███████   | 7/10 [00:03<00:01,  1.96it/s]\u001b[A\n",
      "[Succeeded / Failed / Skipped / Total] 5 / 1 / 1 / 7:  70%|███████   | 7/10 [00:03<00:01,  1.96it/s]\u001b[A"
     ]
    },
    {
     "name": "stdout",
     "output_type": "stream",
     "text": [
      "--------------------------------------------- Result 7 ---------------------------------------------\n",
      "[[0 (93%)]] --> [[1 (54%)]]\n",
      "\n",
      "suffocated at conception by its munchausen-by-proxy [[mum]] . [[punish]] the vehicle to adore the star .\n",
      "\n",
      "suffocated at conception by its munchausen-by-proxy [[maternal]] . [[stifles]] the vehicle to adore the star .\n",
      "\n",
      "\n"
     ]
    },
    {
     "name": "stderr",
     "output_type": "stream",
     "text": [
      "\n",
      "[Succeeded / Failed / Skipped / Total] 6 / 1 / 1 / 8:  80%|████████  | 8/10 [00:03<00:00,  2.02it/s]\u001b[A"
     ]
    },
    {
     "name": "stdout",
     "output_type": "stream",
     "text": [
      "--------------------------------------------- Result 8 ---------------------------------------------\n",
      "[[0 (84%)]] --> [[1 (54%)]]\n",
      "\n",
      "liman , of swingers and go , makes his big-budget action film debut something of a [[clunker]] as he delivers a long , low-heat chase , [[interrupted]] by a middling car chase .\n",
      "\n",
      "liman , of swingers and go , makes his big-budget action film debut something of a [[jalopy]] as he delivers a long , low-heat chase , [[adjournment]] by a middling car chase .\n",
      "\n",
      "\n"
     ]
    },
    {
     "name": "stderr",
     "output_type": "stream",
     "text": [
      "\n",
      "[Succeeded / Failed / Skipped / Total] 6 / 1 / 1 / 8:  90%|█████████ | 9/10 [00:04<00:00,  2.05it/s]\u001b[A\n",
      "[Succeeded / Failed / Skipped / Total] 7 / 1 / 1 / 9:  90%|█████████ | 9/10 [00:04<00:00,  2.05it/s]\u001b[A\n",
      "[Succeeded / Failed / Skipped / Total] 8 / 1 / 1 / 10: 100%|██████████| 10/10 [00:04<00:00,  2.22it/s]\u001b[A"
     ]
    },
    {
     "name": "stdout",
     "output_type": "stream",
     "text": [
      "--------------------------------------------- Result 9 ---------------------------------------------\n",
      "[[1 (91%)]] --> [[0 (55%)]]\n",
      "\n",
      "a [[highly]] personal [[look]] at the effects of living a dysfunctionally privileged lifestyle , and by the end , we only wish we could have spent more time in its world .\n",
      "\n",
      "a [[drastically]] personal [[see]] at the effects of living a dysfunctionally privileged lifestyle , and by the end , we only wish we could have spent more time in its world .\n",
      "\n",
      "\n",
      "--------------------------------------------- Result 10 ---------------------------------------------\n",
      "[[1 (90%)]] --> [[0 (65%)]]\n",
      "\n",
      "it is [[amusing]] , and that's all it needs to be .\n",
      "\n",
      "it is [[distracting]] , and that's all it needs to be .\n",
      "\n",
      "\n",
      "\n",
      "+-------------------------------+--------+\n",
      "| Attack Results                |        |\n",
      "+-------------------------------+--------+\n",
      "| Number of successful attacks: | 8      |\n",
      "| Number of failed attacks:     | 1      |\n",
      "| Number of skipped attacks:    | 1      |\n",
      "| Original accuracy:            | 90.0%  |\n",
      "| Accuracy under attack:        | 10.0%  |\n",
      "| Attack success rate:          | 88.89% |\n",
      "| Average perturbed word %:     | 9.11%  |\n",
      "| Average num. words per input: | 22.0   |\n",
      "| Avg num queries:              | 89.67  |\n",
      "+-------------------------------+--------+"
     ]
    },
    {
     "name": "stderr",
     "output_type": "stream",
     "text": [
      "\n"
     ]
    },
    {
     "name": "stdout",
     "output_type": "stream",
     "text": [
      "\n",
      "Attack(\n",
      "  (search_method): GreedyWordSwapWIR(\n",
      "    (wir_method):  delete\n",
      "  )\n",
      "  (goal_function):  UntargetedClassification\n",
      "  (transformation):  WordSwapEmbedding(\n",
      "    (max_candidates):  50\n",
      "    (embedding):  WordEmbedding\n",
      "  )\n",
      "  (constraints): \n",
      "    (0): WordEmbeddingDistance(\n",
      "        (embedding):  WordEmbedding\n",
      "        (min_cos_sim):  0.5\n",
      "        (cased):  False\n",
      "        (include_unknown_words):  True\n",
      "        (compare_against_original):  True\n",
      "      )\n",
      "    (1): PartOfSpeech(\n",
      "        (tagger_type):  nltk\n",
      "        (tagset):  universal\n",
      "        (allow_verb_noun_swap):  True\n",
      "        (compare_against_original):  True\n",
      "      )\n",
      "    (2): UniversalSentenceEncoder(\n",
      "        (metric):  angular\n",
      "        (threshold):  0.840845057\n",
      "        (window_size):  15\n",
      "        (skip_text_shorter_than_window):  True\n",
      "        (compare_against_original):  False\n",
      "      )\n",
      "    (3): RepeatModification\n",
      "    (4): StopwordModification\n",
      "    (5): InputColumnModification(\n",
      "        (matching_column_labels):  ['premise', 'hypothesis']\n",
      "        (columns_to_ignore):  {'premise'}\n",
      "      )\n",
      "  (is_black_box):  True\n",
      ") \n",
      "\n"
     ]
    },
    {
     "name": "stderr",
     "output_type": "stream",
     "text": [
      "\n",
      "  0%|          | 0/10 [00:00<?, ?it/s]\u001b[A\n",
      " 10%|█         | 1/10 [00:00<00:05,  1.59it/s]\u001b[A\n",
      "[Succeeded / Failed / Skipped / Total] 1 / 0 / 0 / 1:  10%|█         | 1/10 [00:00<00:05,  1.57it/s]\u001b[A\n",
      "[Succeeded / Failed / Skipped / Total] 1 / 0 / 0 / 1:  20%|██        | 2/10 [00:00<00:03,  2.65it/s]\u001b[A\n",
      "[Succeeded / Failed / Skipped / Total] 1 / 1 / 0 / 2:  20%|██        | 2/10 [00:00<00:03,  2.65it/s]\u001b[A"
     ]
    },
    {
     "name": "stdout",
     "output_type": "stream",
     "text": [
      "--------------------------------------------- Result 1 ---------------------------------------------\n",
      "[[1 (95%)]] --> [[0 (90%)]]\n",
      "\n",
      "[[invigorating]] , surreal , and [[resonant]] with a [[rainbow]] of [[emotion]] .\n",
      "\n",
      "[[relaunch]] , surreal , and [[rowdy]] with a [[rayed]] of [[spasm]] .\n",
      "\n",
      "\n",
      "--------------------------------------------- Result 2 ---------------------------------------------\n",
      "[[0 (94%)]] --> [[[FAILED]]]\n",
      "\n",
      "anemic , pretentious .\n",
      "\n",
      "\n"
     ]
    },
    {
     "name": "stderr",
     "output_type": "stream",
     "text": [
      "\n",
      "[Succeeded / Failed / Skipped / Total] 1 / 1 / 0 / 2:  30%|███       | 3/10 [00:01<00:03,  2.03it/s]\u001b[A\n",
      "[Succeeded / Failed / Skipped / Total] 2 / 1 / 0 / 3:  30%|███       | 3/10 [00:01<00:03,  1.99it/s]\u001b[A"
     ]
    },
    {
     "name": "stdout",
     "output_type": "stream",
     "text": [
      "--------------------------------------------- Result 3 ---------------------------------------------\n",
      "[[0 (87%)]] --> [[1 (59%)]]\n",
      "\n",
      "[[made]] by [[jackasses]] for [[jackasses]] .\n",
      "\n",
      "[[conducted]] by [[bozos]] for [[bozos]] .\n",
      "\n",
      "\n"
     ]
    },
    {
     "name": "stderr",
     "output_type": "stream",
     "text": [
      "\n",
      "[Succeeded / Failed / Skipped / Total] 2 / 1 / 0 / 3:  40%|████      | 4/10 [00:01<00:02,  2.21it/s]\u001b[A\n",
      "[Succeeded / Failed / Skipped / Total] 3 / 1 / 0 / 4:  40%|████      | 4/10 [00:01<00:02,  2.20it/s]\u001b[A"
     ]
    },
    {
     "name": "stdout",
     "output_type": "stream",
     "text": [
      "--------------------------------------------- Result 4 ---------------------------------------------\n",
      "[[1 (73%)]] --> [[0 (66%)]]\n",
      "\n",
      "most consumers of lo mein and general tso's chicken barely give a thought to the folks who prepare and deliver it , [[so]] , hopefully , this film will attach a human face to all those little steaming cartons .\n",
      "\n",
      "most consumers of lo mein and general tso's chicken barely give a thought to the folks who prepare and deliver it , [[even]] , hopefully , this film will attach a human face to all those little steaming cartons .\n",
      "\n",
      "\n"
     ]
    },
    {
     "name": "stderr",
     "output_type": "stream",
     "text": [
      "\n",
      "[Succeeded / Failed / Skipped / Total] 3 / 1 / 0 / 4:  50%|█████     | 5/10 [00:02<00:02,  1.97it/s]\u001b[A\n",
      "[Succeeded / Failed / Skipped / Total] 4 / 1 / 0 / 5:  50%|█████     | 5/10 [00:02<00:02,  1.96it/s]\u001b[A"
     ]
    },
    {
     "name": "stdout",
     "output_type": "stream",
     "text": [
      "--------------------------------------------- Result 5 ---------------------------------------------\n",
      "[[1 (94%)]] --> [[0 (70%)]]\n",
      "\n",
      "a [[blessed]] [[gift]] to film geeks and historians . if the '70's were your idea of a good time at the movies , this will [[make]] you [[very]] happy .\n",
      "\n",
      "a [[sacrosanct]] [[dons]] to film geeks and historians . if the '70's were your idea of a good time at the movies , this will [[exert]] you [[drastically]] happy .\n",
      "\n",
      "\n"
     ]
    },
    {
     "name": "stderr",
     "output_type": "stream",
     "text": [
      "\n",
      "[Succeeded / Failed / Skipped / Total] 4 / 1 / 0 / 5:  60%|██████    | 6/10 [00:03<00:02,  1.75it/s]\u001b[A\n",
      "[Succeeded / Failed / Skipped / Total] 5 / 1 / 0 / 6:  60%|██████    | 6/10 [00:03<00:02,  1.74it/s]\u001b[A"
     ]
    },
    {
     "name": "stdout",
     "output_type": "stream",
     "text": [
      "--------------------------------------------- Result 6 ---------------------------------------------\n",
      "[[1 (95%)]] --> [[0 (59%)]]\n",
      "\n",
      "the [[urban]] [[landscapes]] are [[detailed]] down to the signs on the kiosks , and the [[color]] [[palette]] , with lots of [[somber]] [[blues]] and pinks , is dreamy and [[evocative]] .\n",
      "\n",
      "the [[municipal]] [[scene]] are [[clarification]] down to the signs on the kiosks , and the [[smudged]] [[paddling]] , with lots of [[dim]] [[bruising]] and pinks , is dreamy and [[metaphorical]] .\n",
      "\n",
      "\n"
     ]
    },
    {
     "name": "stderr",
     "output_type": "stream",
     "text": [
      "\n",
      "[Succeeded / Failed / Skipped / Total] 5 / 1 / 0 / 6:  70%|███████   | 7/10 [00:03<00:01,  1.91it/s]\u001b[A\n",
      "[Succeeded / Failed / Skipped / Total] 6 / 1 / 0 / 7:  70%|███████   | 7/10 [00:03<00:01,  1.90it/s]\u001b[A"
     ]
    },
    {
     "name": "stdout",
     "output_type": "stream",
     "text": [
      "--------------------------------------------- Result 7 ---------------------------------------------\n",
      "[[0 (94%)]] --> [[1 (64%)]]\n",
      "\n",
      "cold and scattered , minority report commands interest almost solely as an exercise in gorgeous visuals . that's not vintage spielberg and that , finally , is [[minimally]] satisfying .\n",
      "\n",
      "cold and scattered , minority report commands interest almost solely as an exercise in gorgeous visuals . that's not vintage spielberg and that , finally , is [[slightly]] satisfying .\n",
      "\n",
      "\n"
     ]
    },
    {
     "name": "stderr",
     "output_type": "stream",
     "text": [
      "\n",
      "[Succeeded / Failed / Skipped / Total] 6 / 1 / 0 / 7:  80%|████████  | 8/10 [00:04<00:01,  1.83it/s]\u001b[A\n",
      "[Succeeded / Failed / Skipped / Total] 7 / 1 / 0 / 8:  80%|████████  | 8/10 [00:04<00:01,  1.82it/s]\u001b[A\n",
      "[Succeeded / Failed / Skipped / Total] 7 / 1 / 0 / 8:  90%|█████████ | 9/10 [00:04<00:00,  1.97it/s]\u001b[A"
     ]
    },
    {
     "name": "stdout",
     "output_type": "stream",
     "text": [
      "--------------------------------------------- Result 8 ---------------------------------------------\n",
      "[[1 (93%)]] --> [[0 (60%)]]\n",
      "\n",
      "not quite as miraculous as its dreamworks makers would have you believe , but it more than [[adequately]] [[fills]] the eyes and [[stirs]] the emotions .\n",
      "\n",
      "not quite as miraculous as its dreamworks makers would have you believe , but it more than [[rather]] [[filling]] the eyes and [[crea]] the emotions .\n",
      "\n",
      "\n",
      "--------------------------------------------- Result 9 ---------------------------------------------\n"
     ]
    },
    {
     "name": "stderr",
     "output_type": "stream",
     "text": [
      "\n",
      "[Succeeded / Failed / Skipped / Total] 8 / 1 / 0 / 9:  90%|█████████ | 9/10 [00:04<00:00,  1.96it/s]\u001b[A\n",
      "[Succeeded / Failed / Skipped / Total] 8 / 1 / 0 / 9: 100%|██████████| 10/10 [00:04<00:00,  2.10it/s]\u001b[A\n",
      "[Succeeded / Failed / Skipped / Total] 9 / 1 / 0 / 10: 100%|██████████| 10/10 [00:04<00:00,  2.10it/s]\u001b[A"
     ]
    },
    {
     "name": "stdout",
     "output_type": "stream",
     "text": [
      "[[0 (89%)]] --> [[1 (74%)]]\n",
      "\n",
      "it's both sitcomishly [[predictable]] and cloying in its attempts to be poignant .\n",
      "\n",
      "it's both sitcomishly [[anticipation]] and cloying in its attempts to be poignant .\n",
      "\n",
      "\n",
      "--------------------------------------------- Result 10 ---------------------------------------------\n",
      "[[0 (89%)]] --> [[1 (56%)]]\n",
      "\n",
      "a backhanded ode to female camaraderie penned by a man who has [[little]] [[clue]] about either the nature of women or of friendship .\n",
      "\n",
      "a backhanded ode to female camaraderie penned by a man who has [[shortly]] [[forefinger]] about either the nature of women or of friendship .\n",
      "\n",
      "\n",
      "\n",
      "+-------------------------------+--------+\n",
      "| Attack Results                |        |\n",
      "+-------------------------------+--------+\n",
      "| Number of successful attacks: | 9      |\n",
      "| Number of failed attacks:     | 1      |\n",
      "| Number of skipped attacks:    | 0      |\n",
      "| Original accuracy:            | 100.0% |\n",
      "| Accuracy under attack:        | 10.0%  |\n",
      "| Attack success rate:          | 90.0%  |\n",
      "| Average perturbed word %:     | 20.58% |\n",
      "| Average num. words per input: | 19.0   |\n",
      "| Avg num queries:              | 85.9   |\n",
      "+-------------------------------+--------+"
     ]
    },
    {
     "name": "stderr",
     "output_type": "stream",
     "text": [
      "\n"
     ]
    },
    {
     "name": "stdout",
     "output_type": "stream",
     "text": [
      "\n",
      "Attack(\n",
      "  (search_method): GreedyWordSwapWIR(\n",
      "    (wir_method):  delete\n",
      "  )\n",
      "  (goal_function):  UntargetedClassification\n",
      "  (transformation):  WordSwapEmbedding(\n",
      "    (max_candidates):  50\n",
      "    (embedding):  WordEmbedding\n",
      "  )\n",
      "  (constraints): \n",
      "    (0): WordEmbeddingDistance(\n",
      "        (embedding):  WordEmbedding\n",
      "        (min_cos_sim):  0.5\n",
      "        (cased):  False\n",
      "        (include_unknown_words):  True\n",
      "        (compare_against_original):  True\n",
      "      )\n",
      "    (1): PartOfSpeech(\n",
      "        (tagger_type):  nltk\n",
      "        (tagset):  universal\n",
      "        (allow_verb_noun_swap):  True\n",
      "        (compare_against_original):  True\n",
      "      )\n",
      "    (2): UniversalSentenceEncoder(\n",
      "        (metric):  angular\n",
      "        (threshold):  0.840845057\n",
      "        (window_size):  15\n",
      "        (skip_text_shorter_than_window):  True\n",
      "        (compare_against_original):  False\n",
      "      )\n",
      "    (3): RepeatModification\n",
      "    (4): StopwordModification\n",
      "    (5): InputColumnModification(\n",
      "        (matching_column_labels):  ['premise', 'hypothesis']\n",
      "        (columns_to_ignore):  {'premise'}\n",
      "      )\n",
      "  (is_black_box):  True\n",
      ") \n",
      "\n"
     ]
    },
    {
     "name": "stderr",
     "output_type": "stream",
     "text": [
      "\n",
      "  0%|          | 0/10 [00:00<?, ?it/s]\u001b[A\n",
      " 10%|█         | 1/10 [00:00<00:03,  2.74it/s]\u001b[A\n",
      "[Succeeded / Failed / Skipped / Total] 1 / 0 / 0 / 1:  10%|█         | 1/10 [00:00<00:03,  2.68it/s]\u001b[A"
     ]
    },
    {
     "name": "stdout",
     "output_type": "stream",
     "text": [
      "--------------------------------------------- Result 1 ---------------------------------------------\n",
      "[[0 (95%)]] --> [[1 (65%)]]\n",
      "\n",
      "the story is [[bogus]] and its [[characters]] tissue-thin .\n",
      "\n",
      "the story is [[disingenuous]] and its [[qualities]] tissue-thin .\n",
      "\n",
      "\n"
     ]
    },
    {
     "name": "stderr",
     "output_type": "stream",
     "text": [
      "\n",
      "[Succeeded / Failed / Skipped / Total] 1 / 0 / 0 / 1:  20%|██        | 2/10 [00:00<00:02,  3.45it/s]\u001b[A\n",
      "[Succeeded / Failed / Skipped / Total] 2 / 0 / 0 / 2:  20%|██        | 2/10 [00:00<00:02,  3.40it/s]\u001b[A"
     ]
    },
    {
     "name": "stdout",
     "output_type": "stream",
     "text": [
      "--------------------------------------------- Result 2 ---------------------------------------------\n",
      "[[1 (69%)]] --> [[0 (87%)]]\n",
      "\n",
      "renner [[carries]] much of the film with a creepy and dead-on performance .\n",
      "\n",
      "renner [[assumes]] much of the film with a creepy and dead-on performance .\n",
      "\n",
      "\n"
     ]
    },
    {
     "name": "stderr",
     "output_type": "stream",
     "text": [
      "\n",
      "[Succeeded / Failed / Skipped / Total] 2 / 0 / 0 / 2:  30%|███       | 3/10 [00:02<00:05,  1.38it/s]\u001b[A\n",
      "[Succeeded / Failed / Skipped / Total] 3 / 0 / 0 / 3:  30%|███       | 3/10 [00:02<00:05,  1.37it/s]\u001b[A\n",
      "[Succeeded / Failed / Skipped / Total] 3 / 0 / 0 / 3:  40%|████      | 4/10 [00:02<00:03,  1.72it/s]\u001b[A\n",
      "[Succeeded / Failed / Skipped / Total] 4 / 0 / 0 / 4:  40%|████      | 4/10 [00:02<00:03,  1.71it/s]\u001b[A"
     ]
    },
    {
     "name": "stdout",
     "output_type": "stream",
     "text": [
      "--------------------------------------------- Result 3 ---------------------------------------------\n",
      "[[1 (95%)]] --> [[0 (51%)]]\n",
      "\n",
      "a [[splendid]] [[entertainment]] , young in [[spirit]] but [[accomplished]] in all [[aspects]] with the fullness of [[spirit]] and [[sense]] of [[ease]] that [[comes]] only with experience .\n",
      "\n",
      "a [[illustrious]] [[pastimes]] , young in [[liquors]] but [[ended]] in all [[issues]] with the fullness of [[psychotropic]] and [[vena]] of [[lessen]] that [[gets]] only with experience .\n",
      "\n",
      "\n",
      "--------------------------------------------- Result 4 ---------------------------------------------\n",
      "[[0 (92%)]] --> [[1 (52%)]]\n",
      "\n",
      "this film is so slick , [[superficial]] and trend-hoppy , that it's easy to imagine that a new software program spit out the screenplay .\n",
      "\n",
      "this film is so slick , [[discernible]] and trend-hoppy , that it's easy to imagine that a new software program spit out the screenplay .\n",
      "\n",
      "\n"
     ]
    },
    {
     "name": "stderr",
     "output_type": "stream",
     "text": [
      "\n",
      "[Succeeded / Failed / Skipped / Total] 4 / 0 / 0 / 4:  50%|█████     | 5/10 [00:02<00:02,  1.70it/s]\u001b[A\n",
      "[Succeeded / Failed / Skipped / Total] 5 / 0 / 0 / 5:  50%|█████     | 5/10 [00:02<00:02,  1.69it/s]\u001b[A"
     ]
    },
    {
     "name": "stdout",
     "output_type": "stream",
     "text": [
      "--------------------------------------------- Result 5 ---------------------------------------------\n",
      "[[1 (96%)]] --> [[0 (81%)]]\n",
      "\n",
      "an [[irresistible]] combination of a rousing [[good]] story set on a [[truly]] grand scale .\n",
      "\n",
      "an [[remorseless]] combination of a rousing [[suitable]] story set on a [[actual]] grand scale .\n",
      "\n",
      "\n"
     ]
    },
    {
     "name": "stderr",
     "output_type": "stream",
     "text": [
      "\n",
      "[Succeeded / Failed / Skipped / Total] 5 / 0 / 0 / 5:  60%|██████    | 6/10 [00:03<00:02,  1.90it/s]\u001b[A\n",
      "[Succeeded / Failed / Skipped / Total] 6 / 0 / 0 / 6:  60%|██████    | 6/10 [00:03<00:02,  1.90it/s]\u001b[A"
     ]
    },
    {
     "name": "stdout",
     "output_type": "stream",
     "text": [
      "--------------------------------------------- Result 6 ---------------------------------------------\n",
      "[[0 (63%)]] --> [[1 (55%)]]\n",
      "\n",
      "only about as sexy and dangerous as an [[actress]] in a role that reminds at every turn of elizabeth berkley's [[flopping]] dolphin-gasm .\n",
      "\n",
      "only about as sexy and dangerous as an [[publicist]] in a role that reminds at every turn of elizabeth berkley's [[wriggling]] dolphin-gasm .\n",
      "\n",
      "\n"
     ]
    },
    {
     "name": "stderr",
     "output_type": "stream",
     "text": [
      "\n",
      "[Succeeded / Failed / Skipped / Total] 6 / 0 / 0 / 6:  70%|███████   | 7/10 [00:03<00:01,  1.79it/s]\u001b[A\n",
      "[Succeeded / Failed / Skipped / Total] 7 / 0 / 0 / 7:  70%|███████   | 7/10 [00:03<00:01,  1.79it/s]\u001b[A\n",
      "[Succeeded / Failed / Skipped / Total] 7 / 0 / 0 / 7:  80%|████████  | 8/10 [00:04<00:01,  1.95it/s]\u001b[A\n",
      "[Succeeded / Failed / Skipped / Total] 8 / 0 / 0 / 8:  80%|████████  | 8/10 [00:04<00:01,  1.95it/s]\u001b[A"
     ]
    },
    {
     "name": "stdout",
     "output_type": "stream",
     "text": [
      "--------------------------------------------- Result 7 ---------------------------------------------\n",
      "[[0 (94%)]] --> [[1 (53%)]]\n",
      "\n",
      "there's just no [[currency]] in deriding [[james]] bond for being a [[clichéd]] , [[doddering]] , [[misogynistic]] boy's [[club]] .\n",
      "\n",
      "there's just no [[barter]] in deriding [[jacque]] bond for being a [[cutesy]] , [[senility]] , [[unkind]] boy's [[nadi]] .\n",
      "\n",
      "\n",
      "--------------------------------------------- Result 8 ---------------------------------------------\n",
      "[[1 (53%)]] --> [[0 (88%)]]\n",
      "\n",
      "a portrait of hell so [[shattering]] it's impossible to shake .\n",
      "\n",
      "a portrait of hell so [[bombarded]] it's impossible to shake .\n",
      "\n",
      "\n"
     ]
    },
    {
     "name": "stderr",
     "output_type": "stream",
     "text": [
      "\n",
      "[Succeeded / Failed / Skipped / Total] 8 / 0 / 0 / 8:  90%|█████████ | 9/10 [00:04<00:00,  1.96it/s]\u001b[A\n",
      "[Succeeded / Failed / Skipped / Total] 9 / 0 / 0 / 9:  90%|█████████ | 9/10 [00:04<00:00,  1.96it/s]\u001b[A"
     ]
    },
    {
     "name": "stdout",
     "output_type": "stream",
     "text": [
      "--------------------------------------------- Result 9 ---------------------------------------------\n",
      "[[0 (94%)]] --> [[1 (57%)]]\n",
      "\n",
      "a [[waterlogged]] version of 'fatal attraction' for the teeny-bopper set . . . a sad , [[soggy]] potboiler that [[wastes]] the talents of its attractive young leads .\n",
      "\n",
      "a [[submerged]] version of 'fatal attraction' for the teeny-bopper set . . . a sad , [[soppy]] potboiler that [[jingles]] the talents of its attractive young leads .\n",
      "\n",
      "\n"
     ]
    },
    {
     "name": "stderr",
     "output_type": "stream",
     "text": [
      "\n",
      "[Succeeded / Failed / Skipped / Total] 9 / 0 / 0 / 9: 100%|██████████| 10/10 [00:05<00:00,  1.96it/s]\u001b[A\n",
      "[Succeeded / Failed / Skipped / Total] 10 / 0 / 0 / 10: 100%|██████████| 10/10 [00:05<00:00,  1.96it/s]\u001b[A"
     ]
    },
    {
     "name": "stdout",
     "output_type": "stream",
     "text": [
      "--------------------------------------------- Result 10 ---------------------------------------------\n",
      "[[1 (84%)]] --> [[0 (56%)]]\n",
      "\n",
      "what [[makes]] the movie a comedy is the [[way]] it avoids the more serious emotions involved .\n",
      "\n",
      "what [[make]] the movie a comedy is the [[lanes]] it avoids the more serious emotions involved .\n",
      "\n",
      "\n",
      "\n",
      "+-------------------------------+--------+\n",
      "| Attack Results                |        |\n",
      "+-------------------------------+--------+\n",
      "| Number of successful attacks: | 10     |\n",
      "| Number of failed attacks:     | 0      |\n",
      "| Number of skipped attacks:    | 0      |\n",
      "| Original accuracy:            | 100.0% |\n",
      "| Accuracy under attack:        | 0.0%   |\n",
      "| Attack success rate:          | 100.0% |\n",
      "| Average perturbed word %:     | 17.74% |\n",
      "| Average num. words per input: | 16.8   |\n",
      "| Avg num queries:              | 91.4   |\n",
      "+-------------------------------+--------+"
     ]
    },
    {
     "name": "stderr",
     "output_type": "stream",
     "text": [
      "\n",
      "[nltk_data] Downloading package omw-1.4 to\n",
      "[nltk_data]     /home/users/agross/nltk_data...\n",
      "[nltk_data]   Package omw-1.4 is already up-to-date!\n"
     ]
    },
    {
     "name": "stdout",
     "output_type": "stream",
     "text": [
      "\n",
      "Attack(\n",
      "  (search_method): GreedyWordSwapWIR(\n",
      "    (wir_method):  delete\n",
      "  )\n",
      "  (goal_function):  UntargetedClassification\n",
      "  (transformation):  WordSwapEmbedding(\n",
      "    (max_candidates):  50\n",
      "    (embedding):  WordEmbedding\n",
      "  )\n",
      "  (constraints): \n",
      "    (0): WordEmbeddingDistance(\n",
      "        (embedding):  WordEmbedding\n",
      "        (min_cos_sim):  0.5\n",
      "        (cased):  False\n",
      "        (include_unknown_words):  True\n",
      "        (compare_against_original):  True\n",
      "      )\n",
      "    (1): PartOfSpeech(\n",
      "        (tagger_type):  nltk\n",
      "        (tagset):  universal\n",
      "        (allow_verb_noun_swap):  True\n",
      "        (compare_against_original):  True\n",
      "      )\n",
      "    (2): UniversalSentenceEncoder(\n",
      "        (metric):  angular\n",
      "        (threshold):  0.840845057\n",
      "        (window_size):  15\n",
      "        (skip_text_shorter_than_window):  True\n",
      "        (compare_against_original):  False\n",
      "      )\n",
      "    (3): RepeatModification\n",
      "    (4): StopwordModification\n",
      "    (5): InputColumnModification(\n",
      "        (matching_column_labels):  ['premise', 'hypothesis']\n",
      "        (columns_to_ignore):  {'premise'}\n",
      "      )\n",
      "  (is_black_box):  True\n",
      ") \n",
      "\n"
     ]
    },
    {
     "name": "stderr",
     "output_type": "stream",
     "text": [
      "\n",
      "  0%|          | 0/10 [00:00<?, ?it/s]\u001b[A\n",
      " 10%|█         | 1/10 [00:00<00:06,  1.35it/s]\u001b[A\n",
      "[Succeeded / Failed / Skipped / Total] 1 / 0 / 0 / 1:  10%|█         | 1/10 [00:00<00:06,  1.33it/s]\u001b[A"
     ]
    },
    {
     "name": "stdout",
     "output_type": "stream",
     "text": [
      "--------------------------------------------- Result 1 ---------------------------------------------\n",
      "[[0 (93%)]] --> [[1 (59%)]]\n",
      "\n",
      "this [[toothless]] [[dog]] , already on cable , [[loses]] [[bite]] on the [[big]] [[screen]] .\n",
      "\n",
      "this [[fruitless]] [[labrador]] , already on cable , [[loosing]] [[hooked]] on the [[tremendous]] [[filtered]] .\n",
      "\n",
      "\n"
     ]
    },
    {
     "name": "stderr",
     "output_type": "stream",
     "text": [
      "\n",
      "[Succeeded / Failed / Skipped / Total] 1 / 0 / 0 / 1:  20%|██        | 2/10 [00:01<00:06,  1.31it/s]\u001b[A\n",
      "[Succeeded / Failed / Skipped / Total] 2 / 0 / 0 / 2:  20%|██        | 2/10 [00:01<00:06,  1.30it/s]\u001b[A"
     ]
    },
    {
     "name": "stdout",
     "output_type": "stream",
     "text": [
      "--------------------------------------------- Result 2 ---------------------------------------------\n",
      "[[0 (89%)]] --> [[1 (52%)]]\n",
      "\n",
      "it does nothing new with the old [[story]] , except to show [[fisticuffs]] in this sort of stop-go [[retard]] motion that [[makes]] the gang rumbles await corresponding they're being streamed over a 28k modem .\n",
      "\n",
      "it does nothing new with the old [[tale]] , except to show [[swordplay]] in this sort of stop-go [[punchy]] motion that [[allows]] the gang rumbles await corresponding they're being streamed over a 28k modem .\n",
      "\n",
      "\n"
     ]
    },
    {
     "name": "stderr",
     "output_type": "stream",
     "text": [
      "\n",
      "[Succeeded / Failed / Skipped / Total] 2 / 0 / 0 / 2:  30%|███       | 3/10 [00:02<00:04,  1.46it/s]\u001b[A\n",
      "[Succeeded / Failed / Skipped / Total] 3 / 0 / 0 / 3:  30%|███       | 3/10 [00:02<00:04,  1.46it/s]\u001b[A"
     ]
    },
    {
     "name": "stdout",
     "output_type": "stream",
     "text": [
      "--------------------------------------------- Result 3 ---------------------------------------------\n",
      "[[1 (96%)]] --> [[0 (91%)]]\n",
      "\n",
      "a [[triumph]] pure [[craft]] and [[passionate]] [[heart]] .\n",
      "\n",
      "a [[sieg]] pure [[skiff]] and [[fevered]] [[node]] .\n",
      "\n",
      "\n"
     ]
    },
    {
     "name": "stderr",
     "output_type": "stream",
     "text": [
      "\n",
      "[Succeeded / Failed / Skipped / Total] 3 / 0 / 0 / 3:  40%|████      | 4/10 [00:03<00:04,  1.24it/s]\u001b[A\n",
      "[Succeeded / Failed / Skipped / Total] 4 / 0 / 0 / 4:  40%|████      | 4/10 [00:03<00:04,  1.24it/s]\u001b[A"
     ]
    },
    {
     "name": "stdout",
     "output_type": "stream",
     "text": [
      "--------------------------------------------- Result 4 ---------------------------------------------\n",
      "[[0 (94%)]] --> [[1 (56%)]]\n",
      "\n",
      "there's too much falseness to the second [[half]] , and what at as an intriguing look at [[youth]] [[fizzles]] into a [[dull]] , [[ridiculous]] [[attempt]] [[began]] heart-tugging .\n",
      "\n",
      "there's too much falseness to the second [[midst]] , and what at as an intriguing look at [[youthfulness]] [[sizzles]] into a [[bleak]] , [[contemptuous]] [[searching]] [[commenced]] heart-tugging .\n",
      "\n",
      "\n"
     ]
    },
    {
     "name": "stderr",
     "output_type": "stream",
     "text": [
      "\n",
      "[Succeeded / Failed / Skipped / Total] 4 / 0 / 0 / 4:  50%|█████     | 5/10 [00:03<00:03,  1.30it/s]\u001b[A\n",
      "[Succeeded / Failed / Skipped / Total] 5 / 0 / 0 / 5:  50%|█████     | 5/10 [00:03<00:03,  1.29it/s]\u001b[A"
     ]
    },
    {
     "name": "stdout",
     "output_type": "stream",
     "text": [
      "--------------------------------------------- Result 5 ---------------------------------------------\n",
      "[[0 (90%)]] --> [[1 (56%)]]\n",
      "\n",
      "[[directed]] without the expected flair or imagination by hong kong primary john woo , codetalker airs just about every [[cliche]] in the war [[movie]] compendium across its indulgent two-hour-and-fifteen-minute length .\n",
      "\n",
      "[[orientated]] without the expected flair or imagination by hong kong primary john woo , codetalker airs just about every [[hernan]] in the war [[scene]] compendium across its indulgent two-hour-and-fifteen-minute length .\n",
      "\n",
      "\n"
     ]
    },
    {
     "name": "stderr",
     "output_type": "stream",
     "text": [
      "\n",
      "[Succeeded / Failed / Skipped / Total] 5 / 0 / 0 / 5:  60%|██████    | 6/10 [00:04<00:02,  1.41it/s]\u001b[A\n",
      "[Succeeded / Failed / Skipped / Total] 6 / 0 / 0 / 6:  60%|██████    | 6/10 [00:04<00:02,  1.41it/s]\u001b[A"
     ]
    },
    {
     "name": "stdout",
     "output_type": "stream",
     "text": [
      "--------------------------------------------- Result 6 ---------------------------------------------\n",
      "[[1 (92%)]] --> [[0 (55%)]]\n",
      "\n",
      "a time machine , a journey back to your childhood , astonish cares melted away in the dark theater , and films had the [[ability]] to mesmerize , when and [[entertain]] .\n",
      "\n",
      "a time machine , a journey back to your childhood , astonish cares melted away in the dark theater , and films had the [[prerogatives]] to mesmerize , when and [[droll]] .\n",
      "\n",
      "\n"
     ]
    },
    {
     "name": "stderr",
     "output_type": "stream",
     "text": [
      "\n",
      "[Succeeded / Failed / Skipped / Total] 6 / 0 / 0 / 6:  70%|███████   | 7/10 [00:04<00:01,  1.56it/s]\u001b[A\n",
      "[Succeeded / Failed / Skipped / Total] 7 / 0 / 0 / 7:  70%|███████   | 7/10 [00:04<00:01,  1.55it/s]\u001b[A"
     ]
    },
    {
     "name": "stdout",
     "output_type": "stream",
     "text": [
      "--------------------------------------------- Result 7 ---------------------------------------------\n",
      "[[1 (94%)]] --> [[0 (63%)]]\n",
      "\n",
      "has an [[unmistakable]] , joie de vivre .\n",
      "\n",
      "has an [[overt]] , joie de vivre .\n",
      "\n",
      "\n"
     ]
    },
    {
     "name": "stderr",
     "output_type": "stream",
     "text": [
      "\n",
      "[Succeeded / Failed / Skipped / Total] 7 / 0 / 0 / 7:  80%|████████  | 8/10 [00:05<00:01,  1.55it/s]\u001b[A\n",
      "[Succeeded / Failed / Skipped / Total] 8 / 0 / 0 / 8:  80%|████████  | 8/10 [00:05<00:01,  1.55it/s]\u001b[A"
     ]
    },
    {
     "name": "stdout",
     "output_type": "stream",
     "text": [
      "--------------------------------------------- Result 8 ---------------------------------------------\n",
      "[[1 (93%)]] --> [[0 (59%)]]\n",
      "\n",
      "( procession ) above its oh-so-hollywood rejiggering and its conventional direction to [[contribute]] the [[film]] a [[soul]] and an unabashed sense of [[good]] old-fashioned escapism .\n",
      "\n",
      "( procession ) above its oh-so-hollywood rejiggering and its conventional direction to [[supporting]] the [[movie]] a [[ame]] and an unabashed sense of [[bonne]] old-fashioned escapism .\n",
      "\n",
      "\n"
     ]
    },
    {
     "name": "stderr",
     "output_type": "stream",
     "text": [
      "\n",
      "[Succeeded / Failed / Skipped / Total] 8 / 0 / 0 / 8:  90%|█████████ | 9/10 [00:05<00:00,  1.62it/s]\u001b[A\n",
      "[Succeeded / Failed / Skipped / Total] 9 / 0 / 0 / 9:  90%|█████████ | 9/10 [00:05<00:00,  1.62it/s]\u001b[A"
     ]
    },
    {
     "name": "stdout",
     "output_type": "stream",
     "text": [
      "--------------------------------------------- Result 9 ---------------------------------------------\n",
      "[[0 (91%)]] --> [[1 (60%)]]\n",
      "\n",
      "murphy and wilson actually the a pretty good team . . . but [[make]] project surrounding them is distressingly [[rote]] .\n",
      "\n",
      "murphy and wilson actually the a pretty good team . . . but [[give]] project surrounding them is distressingly [[croix]] .\n",
      "\n",
      "\n"
     ]
    },
    {
     "name": "stderr",
     "output_type": "stream",
     "text": [
      "\n",
      "[Succeeded / Failed / Skipped / Total] 9 / 0 / 0 / 9: 100%|██████████| 10/10 [00:06<00:00,  1.63it/s]\u001b[A\n",
      "[Succeeded / Failed / Skipped / Total] 10 / 0 / 0 / 10: 100%|██████████| 10/10 [00:06<00:00,  1.63it/s]\u001b[A"
     ]
    },
    {
     "name": "stdout",
     "output_type": "stream",
     "text": [
      "--------------------------------------------- Result 10 ---------------------------------------------\n",
      "[[0 (89%)]] --> [[1 (66%)]]\n",
      "\n",
      "as i may , i can't think a single good reason to see this movie , even though everyone in my group extemporaneously shouted , 'thank you ! ' when leguizamo finally [[plugged]] an [[irritating]] character late in movie .\n",
      "\n",
      "as i may , i can't think a single good reason to see this movie , even though everyone in my group extemporaneously shouted , 'thank you ! ' when leguizamo finally [[herewith]] an [[unnerving]] character late in movie .\n",
      "\n",
      "\n",
      "\n",
      "+-------------------------------+--------+\n",
      "| Attack Results                |        |\n",
      "+-------------------------------+--------+\n",
      "| Number of successful attacks: | 10     |\n",
      "| Number of failed attacks:     | 0      |\n",
      "| Number of skipped attacks:    | 0      |\n",
      "| Original accuracy:            | 100.0% |\n",
      "| Accuracy under attack:        | 0.0%   |\n",
      "| Attack success rate:          | 100.0% |\n",
      "| Average perturbed word %:     | 21.67% |\n",
      "| Average num. words per input: | 21.3   |\n",
      "| Avg num queries:              | 111.1  |\n",
      "+-------------------------------+--------+"
     ]
    },
    {
     "name": "stderr",
     "output_type": "stream",
     "text": [
      "\n",
      "[nltk_data] Downloading package omw-1.4 to\n",
      "[nltk_data]     /home/users/agross/nltk_data...\n",
      "[nltk_data]   Package omw-1.4 is already up-to-date!\n"
     ]
    },
    {
     "name": "stdout",
     "output_type": "stream",
     "text": [
      "\n",
      "Attack(\n",
      "  (search_method): GreedyWordSwapWIR(\n",
      "    (wir_method):  delete\n",
      "  )\n",
      "  (goal_function):  UntargetedClassification\n",
      "  (transformation):  WordSwapEmbedding(\n",
      "    (max_candidates):  50\n",
      "    (embedding):  WordEmbedding\n",
      "  )\n",
      "  (constraints): \n",
      "    (0): WordEmbeddingDistance(\n",
      "        (embedding):  WordEmbedding\n",
      "        (min_cos_sim):  0.5\n",
      "        (cased):  False\n",
      "        (include_unknown_words):  True\n",
      "        (compare_against_original):  True\n",
      "      )\n",
      "    (1): PartOfSpeech(\n",
      "        (tagger_type):  nltk\n",
      "        (tagset):  universal\n",
      "        (allow_verb_noun_swap):  True\n",
      "        (compare_against_original):  True\n",
      "      )\n",
      "    (2): UniversalSentenceEncoder(\n",
      "        (metric):  angular\n",
      "        (threshold):  0.840845057\n",
      "        (window_size):  15\n",
      "        (skip_text_shorter_than_window):  True\n",
      "        (compare_against_original):  False\n",
      "      )\n",
      "    (3): RepeatModification\n",
      "    (4): StopwordModification\n",
      "    (5): InputColumnModification(\n",
      "        (matching_column_labels):  ['premise', 'hypothesis']\n",
      "        (columns_to_ignore):  {'premise'}\n",
      "      )\n",
      "  (is_black_box):  True\n",
      ") \n",
      "\n"
     ]
    },
    {
     "name": "stderr",
     "output_type": "stream",
     "text": [
      "\n",
      "  0%|          | 0/10 [00:00<?, ?it/s]\u001b[A\n",
      " 10%|█         | 1/10 [00:00<00:04,  2.19it/s]\u001b[A\n",
      "[Succeeded / Failed / Skipped / Total] 1 / 0 / 0 / 1:  10%|█         | 1/10 [00:00<00:04,  2.15it/s]\u001b[A"
     ]
    },
    {
     "name": "stdout",
     "output_type": "stream",
     "text": [
      "--------------------------------------------- Result 1 ---------------------------------------------\n",
      "[[1 (95%)]] --> [[0 (52%)]]\n",
      "\n",
      "still a surprisingly [[charming]] and even [[witty]] match for the [[best]] of hollywood's comic-book adaptations .\n",
      "\n",
      "still a surprisingly [[cutie]] and even [[psychiatric]] match for the [[better]] of hollywood's comic-book adaptations .\n",
      "\n",
      "\n"
     ]
    },
    {
     "name": "stderr",
     "output_type": "stream",
     "text": [
      "\n",
      "[Succeeded / Failed / Skipped / Total] 1 / 0 / 0 / 1:  20%|██        | 2/10 [00:00<00:02,  2.83it/s]\u001b[A\n",
      "[Succeeded / Failed / Skipped / Total] 2 / 0 / 0 / 2:  20%|██        | 2/10 [00:00<00:02,  2.80it/s]\u001b[A"
     ]
    },
    {
     "name": "stdout",
     "output_type": "stream",
     "text": [
      "--------------------------------------------- Result 2 ---------------------------------------------\n",
      "[[1 (93%)]] --> [[0 (93%)]]\n",
      "\n",
      "drumline ably [[captures]] relationships complicated the in a marching band .\n",
      "\n",
      "drumline ably [[nabbed]] relationships complicated the in a marching band .\n",
      "\n",
      "\n"
     ]
    },
    {
     "name": "stderr",
     "output_type": "stream",
     "text": [
      "\n",
      "[Succeeded / Failed / Skipped / Total] 2 / 0 / 0 / 2:  30%|███       | 3/10 [00:01<00:02,  2.80it/s]\u001b[A\n",
      "[Succeeded / Failed / Skipped / Total] 3 / 0 / 0 / 3:  30%|███       | 3/10 [00:01<00:02,  2.77it/s]\u001b[A"
     ]
    },
    {
     "name": "stdout",
     "output_type": "stream",
     "text": [
      "--------------------------------------------- Result 3 ---------------------------------------------\n",
      "[[1 (96%)]] --> [[0 (64%)]]\n",
      "\n",
      "[[sensitive]] ensemble performances and good period add up to a [[moving]] tragedy with some buoyant human moments .\n",
      "\n",
      "[[problematic]] ensemble performances and good period add up to a [[moved]] tragedy with some buoyant human moments .\n",
      "\n",
      "\n"
     ]
    },
    {
     "name": "stderr",
     "output_type": "stream",
     "text": [
      "\n",
      "[Succeeded / Failed / Skipped / Total] 3 / 0 / 0 / 3:  40%|████      | 4/10 [00:02<00:03,  1.91it/s]\u001b[A\n",
      "[Succeeded / Failed / Skipped / Total] 4 / 0 / 0 / 4:  40%|████      | 4/10 [00:02<00:03,  1.90it/s]\u001b[A"
     ]
    },
    {
     "name": "stdout",
     "output_type": "stream",
     "text": [
      "--------------------------------------------- Result 4 ---------------------------------------------\n",
      "[[0 (94%)]] --> [[1 (54%)]]\n",
      "\n",
      "a [[dreary]] , incoherent , self-indulgent muss of a [[movie]] in which a [[bunch]] of [[pompous]] windbags drone on inanely for [[two]] [[hours]] . . . a cacophony of pretentious , [[meaningless]] chatter .\n",
      "\n",
      "a [[sorrowful]] , incoherent , self-indulgent muss of a [[scorsese]] in which a [[orchestra]] of [[emphatic]] windbags drone on inanely for [[three]] [[moments]] . . . a cacophony of pretentious , [[absurdity]] chatter .\n",
      "\n",
      "\n"
     ]
    },
    {
     "name": "stderr",
     "output_type": "stream",
     "text": [
      "\n",
      "[Succeeded / Failed / Skipped / Total] 4 / 0 / 0 / 4:  50%|█████     | 5/10 [00:02<00:02,  2.15it/s]\u001b[A\n",
      "[Succeeded / Failed / Skipped / Total] 5 / 0 / 0 / 5:  50%|█████     | 5/10 [00:02<00:02,  2.14it/s]\u001b[A\n",
      "[Succeeded / Failed / Skipped / Total] 5 / 0 / 0 / 5:  60%|██████    | 6/10 [00:02<00:01,  2.45it/s]\u001b[A\n",
      "[Succeeded / Failed / Skipped / Total] 5 / 1 / 0 / 6:  60%|██████    | 6/10 [00:02<00:01,  2.45it/s]\u001b[A\n",
      "[Succeeded / Failed / Skipped / Total] 5 / 2 / 0 / 7:  70%|███████   | 7/10 [00:02<00:01,  2.84it/s]\u001b[A"
     ]
    },
    {
     "name": "stdout",
     "output_type": "stream",
     "text": [
      "--------------------------------------------- Result 5 ---------------------------------------------\n",
      "[[0 (91%)]] --> [[1 (63%)]]\n",
      "\n",
      "the director's many dodges turns add up to [[little]] more than a screenful of gamesmanship that's on both suspense and [[payoff]] .\n",
      "\n",
      "the director's many dodges turns add up to [[slightly]] more than a screenful of gamesmanship that's on both suspense and [[rewarding]] .\n",
      "\n",
      "\n",
      "--------------------------------------------- Result 6 ---------------------------------------------\n",
      "[[0 (94%)]] --> [[[FAILED]]]\n",
      "\n",
      "slaphappy just plain silly .\n",
      "\n",
      "\n",
      "--------------------------------------------- Result 7 ---------------------------------------------\n",
      "[[0 (88%)]] --> [[[FAILED]]]\n",
      "\n",
      "schindler's it ain't .\n",
      "\n",
      "\n"
     ]
    },
    {
     "name": "stderr",
     "output_type": "stream",
     "text": [
      "\n",
      "[Succeeded / Failed / Skipped / Total] 5 / 2 / 0 / 7:  80%|████████  | 8/10 [00:02<00:00,  2.93it/s]\u001b[A\n",
      "[Succeeded / Failed / Skipped / Total] 6 / 2 / 0 / 8:  80%|████████  | 8/10 [00:02<00:00,  2.92it/s]\u001b[A"
     ]
    },
    {
     "name": "stdout",
     "output_type": "stream",
     "text": [
      "--------------------------------------------- Result 8 ---------------------------------------------\n",
      "[[1 (90%)]] --> [[0 (58%)]]\n",
      "\n",
      "an overly familiar scenario is made [[fresh]] by an intelligent screenplay and [[gripping]] performances functioning in this low-budget , video-shot , debut indie effort .\n",
      "\n",
      "an overly familiar scenario is made [[soft]] by an intelligent screenplay and [[gripped]] performances functioning in this low-budget , video-shot , debut indie effort .\n",
      "\n",
      "\n"
     ]
    },
    {
     "name": "stderr",
     "output_type": "stream",
     "text": [
      "\n",
      "[Succeeded / Failed / Skipped / Total] 7 / 2 / 0 / 9:  90%|█████████ | 9/10 [00:02<00:00,  3.02it/s]\u001b[A"
     ]
    },
    {
     "name": "stdout",
     "output_type": "stream",
     "text": [
      "--------------------------------------------- Result 9 ---------------------------------------------\n",
      "[[1 (84%)]] --> [[0 (90%)]]\n",
      "\n",
      "daily struggles simple pleasures usurp the preaching message so that , by the time the credits roll across the pat ending , [[warm]] , fuzzy feeling prevails .\n",
      "\n",
      "daily struggles simple pleasures usurp the preaching message so that , by the time the credits roll across the pat ending , [[lukewarm]] , fuzzy feeling prevails .\n",
      "\n",
      "\n"
     ]
    },
    {
     "name": "stderr",
     "output_type": "stream",
     "text": [
      "\n",
      "[Succeeded / Failed / Skipped / Total] 7 / 2 / 0 / 9: 100%|██████████| 10/10 [00:04<00:00,  2.35it/s]\u001b[A\n",
      "[Succeeded / Failed / Skipped / Total] 7 / 3 / 0 / 10: 100%|██████████| 10/10 [00:04<00:00,  2.35it/s]\u001b[A"
     ]
    },
    {
     "name": "stdout",
     "output_type": "stream",
     "text": [
      "--------------------------------------------- Result 10 ---------------------------------------------\n",
      "[[0 (93%)]] --> [[[FAILED]]]\n",
      "\n",
      "too intensely focused on the travails nonetheless of being hal hartley to function as pastiche , no such thing is hartley's least accessible screed yet .\n",
      "\n",
      "\n",
      "\n",
      "+-------------------------------+--------+\n",
      "| Attack Results                |        |\n",
      "+-------------------------------+--------+\n",
      "| Number of successful attacks: | 7      |\n",
      "| Number of failed attacks:     | 3      |\n",
      "| Number of skipped attacks:    | 0      |\n",
      "| Original accuracy:            | 100.0% |\n",
      "| Accuracy under attack:        | 30.0%  |\n",
      "| Attack success rate:          | 70.0%  |\n",
      "| Average perturbed word %:     | 12.92% |\n",
      "| Average num. words per input: | 16.7   |\n",
      "| Avg num queries:              | 73.0   |\n",
      "+-------------------------------+--------+"
     ]
    },
    {
     "name": "stderr",
     "output_type": "stream",
     "text": [
      "\n",
      "[nltk_data] Downloading package omw-1.4 to\n",
      "[nltk_data]     /home/users/agross/nltk_data...\n",
      "[nltk_data]   Package omw-1.4 is already up-to-date!\n"
     ]
    },
    {
     "name": "stdout",
     "output_type": "stream",
     "text": [
      "\n",
      "Attack(\n",
      "  (search_method): GreedyWordSwapWIR(\n",
      "    (wir_method):  delete\n",
      "  )\n",
      "  (goal_function):  UntargetedClassification\n",
      "  (transformation):  WordSwapEmbedding(\n",
      "    (max_candidates):  50\n",
      "    (embedding):  WordEmbedding\n",
      "  )\n",
      "  (constraints): \n",
      "    (0): WordEmbeddingDistance(\n",
      "        (embedding):  WordEmbedding\n",
      "        (min_cos_sim):  0.5\n",
      "        (cased):  False\n",
      "        (include_unknown_words):  True\n",
      "        (compare_against_original):  True\n",
      "      )\n",
      "    (1): PartOfSpeech(\n",
      "        (tagger_type):  nltk\n",
      "        (tagset):  universal\n",
      "        (allow_verb_noun_swap):  True\n",
      "        (compare_against_original):  True\n",
      "      )\n",
      "    (2): UniversalSentenceEncoder(\n",
      "        (metric):  angular\n",
      "        (threshold):  0.840845057\n",
      "        (window_size):  15\n",
      "        (skip_text_shorter_than_window):  True\n",
      "        (compare_against_original):  False\n",
      "      )\n",
      "    (3): RepeatModification\n",
      "    (4): StopwordModification\n",
      "    (5): InputColumnModification(\n",
      "        (matching_column_labels):  ['premise', 'hypothesis']\n",
      "        (columns_to_ignore):  {'premise'}\n",
      "      )\n",
      "  (is_black_box):  True\n",
      ") \n",
      "\n"
     ]
    },
    {
     "name": "stderr",
     "output_type": "stream",
     "text": [
      "\n",
      "  0%|          | 0/10 [00:00<?, ?it/s]\u001b[A\n",
      " 10%|█         | 1/10 [00:00<00:02,  3.96it/s]\u001b[A\n",
      "[Succeeded / Failed / Skipped / Total] 1 / 0 / 0 / 1:  10%|█         | 1/10 [00:00<00:02,  3.84it/s]\u001b[A\n",
      "[Succeeded / Failed / Skipped / Total] 1 / 0 / 0 / 1:  20%|██        | 2/10 [00:00<00:01,  4.53it/s]\u001b[A\n",
      "[Succeeded / Failed / Skipped / Total] 2 / 0 / 0 / 2:  20%|██        | 2/10 [00:00<00:01,  4.44it/s]\u001b[A"
     ]
    },
    {
     "name": "stdout",
     "output_type": "stream",
     "text": [
      "--------------------------------------------- Result 1 ---------------------------------------------\n",
      "[[1 (91%)]] --> [[0 (91%)]]\n",
      "\n",
      "really [[touching]] because it's [[realistic]] about all kinds of love .\n",
      "\n",
      "really [[plaguing]] because it's [[factual]] about all kinds of love .\n",
      "\n",
      "\n",
      "--------------------------------------------- Result 2 ---------------------------------------------\n",
      "[[0 (91%)]] --> [[1 (70%)]]\n",
      "\n",
      "pompous and [[confused]] .\n",
      "\n",
      "pompous and [[bemused]] .\n",
      "\n",
      "\n"
     ]
    },
    {
     "name": "stderr",
     "output_type": "stream",
     "text": [
      "\n",
      "[Succeeded / Failed / Skipped / Total] 2 / 0 / 0 / 2:  30%|███       | 3/10 [00:00<00:02,  3.02it/s]\u001b[A\n",
      "[Succeeded / Failed / Skipped / Total] 3 / 0 / 0 / 3:  30%|███       | 3/10 [00:01<00:02,  3.00it/s]\u001b[A"
     ]
    },
    {
     "name": "stdout",
     "output_type": "stream",
     "text": [
      "--------------------------------------------- Result 3 ---------------------------------------------\n",
      "[[1 (95%)]] --> [[0 (53%)]]\n",
      "\n",
      "confessions isn't always sharply , but it's coherent comic and [[surprisingly]] [[touching]] , so hold the [[gong]] .\n",
      "\n",
      "confessions isn't always sharply , but it's coherent comic and [[suspiciously]] [[plaguing]] , so hold the [[kung]] .\n",
      "\n",
      "\n"
     ]
    },
    {
     "name": "stderr",
     "output_type": "stream",
     "text": [
      "\n",
      "[Succeeded / Failed / Skipped / Total] 3 / 0 / 0 / 3:  40%|████      | 4/10 [00:01<00:02,  2.86it/s]\u001b[A\n",
      "[Succeeded / Failed / Skipped / Total] 4 / 0 / 0 / 4:  40%|████      | 4/10 [00:01<00:02,  2.85it/s]\u001b[A"
     ]
    },
    {
     "name": "stdout",
     "output_type": "stream",
     "text": [
      "--------------------------------------------- Result 4 ---------------------------------------------\n",
      "[[1 (96%)]] --> [[0 (67%)]]\n",
      "\n",
      "a [[fascinating]] [[documentary]] about the long and eventful journey of the guru who helped launch the new [[age]] .\n",
      "\n",
      "a [[hallucinatory]] [[written]] about the long and eventful journey of the guru who helped launch the new [[older]] .\n",
      "\n",
      "\n"
     ]
    },
    {
     "name": "stderr",
     "output_type": "stream",
     "text": [
      "\n",
      "[Succeeded / Failed / Skipped / Total] 4 / 0 / 0 / 4:  50%|█████     | 5/10 [00:01<00:01,  3.12it/s]\u001b[A\n",
      "[Succeeded / Failed / Skipped / Total] 5 / 0 / 0 / 5:  50%|█████     | 5/10 [00:01<00:01,  3.10it/s]\u001b[A"
     ]
    },
    {
     "name": "stdout",
     "output_type": "stream",
     "text": [
      "--------------------------------------------- Result 5 ---------------------------------------------\n",
      "[[1 (94%)]] --> [[0 (84%)]]\n",
      "\n",
      "gently [[touching]] and [[humorous]] .\n",
      "\n",
      "gently [[poked]] and [[travesty]] .\n",
      "\n",
      "\n"
     ]
    },
    {
     "name": "stderr",
     "output_type": "stream",
     "text": [
      "\n",
      "[Succeeded / Failed / Skipped / Total] 5 / 0 / 0 / 5:  60%|██████    | 6/10 [00:02<00:01,  2.74it/s]\u001b[A\n",
      "[Succeeded / Failed / Skipped / Total] 5 / 1 / 0 / 6:  60%|██████    | 6/10 [00:02<00:01,  2.74it/s]\u001b[A\n",
      "[Succeeded / Failed / Skipped / Total] 5 / 1 / 1 / 7:  70%|███████   | 7/10 [00:02<00:00,  3.19it/s]\u001b[A"
     ]
    },
    {
     "name": "stdout",
     "output_type": "stream",
     "text": [
      "--------------------------------------------- Result 6 ---------------------------------------------\n",
      "[[0 (89%)]] --> [[[FAILED]]]\n",
      "\n",
      "not so much farcical as dark .\n",
      "\n",
      "\n",
      "--------------------------------------------- Result 7 ---------------------------------------------\n",
      "[[0 (70%)]] --> [[[SKIPPED]]]\n",
      "\n",
      "as any creature-feature fan knows , when you cross toxic chemicals with a bunch of exotic creatures , you get a lot of running around , screaming and death . on that score , the cluster film certainly bunch doesn't disappoint .\n",
      "\n",
      "\n"
     ]
    },
    {
     "name": "stderr",
     "output_type": "stream",
     "text": [
      "\n",
      "[Succeeded / Failed / Skipped / Total] 5 / 1 / 1 / 7:  80%|████████  | 8/10 [00:02<00:00,  2.87it/s]\u001b[A\n",
      "[Succeeded / Failed / Skipped / Total] 6 / 1 / 1 / 8:  80%|████████  | 8/10 [00:02<00:00,  2.86it/s]\u001b[A"
     ]
    },
    {
     "name": "stdout",
     "output_type": "stream",
     "text": [
      "--------------------------------------------- Result 8 ---------------------------------------------\n",
      "[[0 (91%)]] --> [[1 (64%)]]\n",
      "\n",
      "the narrator and the other characters try storyteller to convince us that acting transfigures esther , but she's never seen speaking on stage ; one feels [[cheated]] , and esther [[seems]] to remain an early unchanged [[dullard]] .\n",
      "\n",
      "the narrator and the other characters try storyteller to convince us that acting transfigures esther , but she's never seen speaking on stage ; one feels [[beguiled]] , and esther [[emerge]] to remain an early unchanged [[oaf]] .\n",
      "\n",
      "\n"
     ]
    },
    {
     "name": "stderr",
     "output_type": "stream",
     "text": [
      "\n",
      "[Succeeded / Failed / Skipped / Total] 7 / 1 / 1 / 9:  90%|█████████ | 9/10 [00:03<00:00,  2.74it/s]\u001b[A"
     ]
    },
    {
     "name": "stdout",
     "output_type": "stream",
     "text": [
      "--------------------------------------------- Result 9 ---------------------------------------------\n",
      "[[0 (94%)]] --> [[1 (60%)]]\n",
      "\n",
      "contrived , awkward and filled with unintended laughs , the film [[demo]] [[signs]] that someone other than the director dumbfound into the editing room and taste to improve things by making the movie go faster .\n",
      "\n",
      "contrived , awkward and filled with unintended laughs , the film [[demonstrates]] [[marking]] that someone other than the director dumbfound into the editing room and taste to improve things by making the movie go faster .\n",
      "\n",
      "\n"
     ]
    },
    {
     "name": "stderr",
     "output_type": "stream",
     "text": [
      "\n",
      "[Succeeded / Failed / Skipped / Total] 7 / 1 / 1 / 9: 100%|██████████| 10/10 [00:03<00:00,  2.83it/s]\u001b[A\n",
      "[Succeeded / Failed / Skipped / Total] 8 / 1 / 1 / 10: 100%|██████████| 10/10 [00:03<00:00,  2.82it/s]\u001b[A"
     ]
    },
    {
     "name": "stdout",
     "output_type": "stream",
     "text": [
      "--------------------------------------------- Result 10 ---------------------------------------------\n",
      "[[1 (79%)]] --> [[0 (52%)]]\n",
      "\n",
      "rodriguez has chops of a smart-aleck film school brat and the [[imagination]] of a big kid . . .\n",
      "\n",
      "rodriguez has chops of a smart-aleck film school brat and the [[imaginings]] of a big kid . . .\n",
      "\n",
      "\n",
      "\n",
      "+-------------------------------+--------+\n",
      "| Attack Results                |        |\n",
      "+-------------------------------+--------+\n",
      "| Number of successful attacks: | 8      |\n",
      "| Number of failed attacks:     | 1      |\n",
      "| Number of skipped attacks:    | 1      |\n",
      "| Original accuracy:            | 90.0%  |\n",
      "| Accuracy under attack:        | 10.0%  |\n",
      "| Attack success rate:          | 88.89% |\n",
      "| Average perturbed word %:     | 20.14% |\n",
      "| Average num. words per input: | 17.5   |\n",
      "| Avg num queries:              | 70.67  |\n",
      "+-------------------------------+--------+"
     ]
    },
    {
     "name": "stderr",
     "output_type": "stream",
     "text": [
      "\n",
      "[nltk_data] Downloading package omw-1.4 to\n",
      "[nltk_data]     /home/users/agross/nltk_data...\n",
      "[nltk_data]   Package omw-1.4 is already up-to-date!\n"
     ]
    },
    {
     "name": "stdout",
     "output_type": "stream",
     "text": [
      "\n",
      "Attack(\n",
      "  (search_method): GreedyWordSwapWIR(\n",
      "    (wir_method):  delete\n",
      "  )\n",
      "  (goal_function):  UntargetedClassification\n",
      "  (transformation):  WordSwapEmbedding(\n",
      "    (max_candidates):  50\n",
      "    (embedding):  WordEmbedding\n",
      "  )\n",
      "  (constraints): \n",
      "    (0): WordEmbeddingDistance(\n",
      "        (embedding):  WordEmbedding\n",
      "        (min_cos_sim):  0.5\n",
      "        (cased):  False\n",
      "        (include_unknown_words):  True\n",
      "        (compare_against_original):  True\n",
      "      )\n",
      "    (1): PartOfSpeech(\n",
      "        (tagger_type):  nltk\n",
      "        (tagset):  universal\n",
      "        (allow_verb_noun_swap):  True\n",
      "        (compare_against_original):  True\n",
      "      )\n",
      "    (2): UniversalSentenceEncoder(\n",
      "        (metric):  angular\n",
      "        (threshold):  0.840845057\n",
      "        (window_size):  15\n",
      "        (skip_text_shorter_than_window):  True\n",
      "        (compare_against_original):  False\n",
      "      )\n",
      "    (3): RepeatModification\n",
      "    (4): StopwordModification\n",
      "    (5): InputColumnModification(\n",
      "        (matching_column_labels):  ['premise', 'hypothesis']\n",
      "        (columns_to_ignore):  {'premise'}\n",
      "      )\n",
      "  (is_black_box):  True\n",
      ") \n",
      "\n"
     ]
    },
    {
     "name": "stderr",
     "output_type": "stream",
     "text": [
      "\n",
      "  0%|          | 0/10 [00:00<?, ?it/s]\u001b[A\n",
      " 10%|█         | 1/10 [00:00<00:04,  1.90it/s]\u001b[A\n",
      "[Succeeded / Failed / Skipped / Total] 1 / 0 / 0 / 1:  10%|█         | 1/10 [00:00<00:04,  1.87it/s]\u001b[A\n",
      "[Succeeded / Failed / Skipped / Total] 1 / 0 / 0 / 1:  20%|██        | 2/10 [00:00<00:02,  2.77it/s]\u001b[A\n",
      "[Succeeded / Failed / Skipped / Total] 1 / 1 / 0 / 2:  20%|██        | 2/10 [00:00<00:02,  2.76it/s]\u001b[A"
     ]
    },
    {
     "name": "stdout",
     "output_type": "stream",
     "text": [
      "--------------------------------------------- Result 1 ---------------------------------------------\n",
      "[[0 (93%)]] --> [[1 (52%)]]\n",
      "\n",
      "at the one-hour mark , herzog [[simply]] runs of ideas and the pace turns [[leaden]] as the movie [[sputters]] to its inevitable tragic conclusion .\n",
      "\n",
      "at the one-hour mark , herzog [[exactly]] runs of ideas and the pace turns [[mournful]] as the movie [[sizzles]] to its inevitable tragic conclusion .\n",
      "\n",
      "\n",
      "--------------------------------------------- Result 2 ---------------------------------------------\n",
      "[[0 (92%)]] --> [[[FAILED]]]\n",
      "\n",
      "the film's tone almost pacing are off and from the get-go .\n",
      "\n",
      "\n"
     ]
    },
    {
     "name": "stderr",
     "output_type": "stream",
     "text": [
      "\n",
      "[Succeeded / Failed / Skipped / Total] 1 / 1 / 0 / 2:  30%|███       | 3/10 [00:00<00:02,  3.00it/s]\u001b[A\n",
      "[Succeeded / Failed / Skipped / Total] 2 / 1 / 0 / 3:  30%|███       | 3/10 [00:01<00:02,  2.93it/s]\u001b[A\n",
      "[Succeeded / Failed / Skipped / Total] 3 / 1 / 0 / 4:  40%|████      | 4/10 [00:01<00:01,  3.66it/s]\u001b[A"
     ]
    },
    {
     "name": "stdout",
     "output_type": "stream",
     "text": [
      "--------------------------------------------- Result 3 ---------------------------------------------\n",
      "[[1 (90%)]] --> [[0 (93%)]]\n",
      "\n",
      "majidi gets uniformly [[engaging]] performances his largely amateur cast .\n",
      "\n",
      "majidi gets uniformly [[incur]] performances his largely amateur cast .\n",
      "\n",
      "\n",
      "--------------------------------------------- Result 4 ---------------------------------------------\n",
      "[[1 (91%)]] --> [[0 (83%)]]\n",
      "\n",
      "the minor figures mosaic [bobby] . . . form a [[gritty]] urban surrounding .\n",
      "\n",
      "the minor figures mosaic [bobby] . . . form a [[grimy]] urban surrounding .\n",
      "\n",
      "\n"
     ]
    },
    {
     "name": "stderr",
     "output_type": "stream",
     "text": [
      "\n",
      "[Succeeded / Failed / Skipped / Total] 3 / 1 / 0 / 4:  50%|█████     | 5/10 [00:01<00:01,  4.07it/s]\u001b[A\n",
      "[Succeeded / Failed / Skipped / Total] 4 / 1 / 0 / 5:  50%|█████     | 5/10 [00:01<00:01,  4.03it/s]\u001b[A\n",
      "[Succeeded / Failed / Skipped / Total] 5 / 1 / 0 / 6:  60%|██████    | 6/10 [00:01<00:00,  4.36it/s]\u001b[A"
     ]
    },
    {
     "name": "stdout",
     "output_type": "stream",
     "text": [
      "--------------------------------------------- Result 5 ---------------------------------------------\n",
      "[[0 (87%)]] --> [[1 (77%)]]\n",
      "\n",
      "[[leaks]] treacle from every .\n",
      "\n",
      "[[elope]] treacle from every .\n",
      "\n",
      "\n",
      "--------------------------------------------- Result 6 ---------------------------------------------\n",
      "[[0 (65%)]] --> [[1 (71%)]]\n",
      "\n",
      "this rather [[superficial]] arthouse middle-brow film how to please a crowd , and that's about all it does well .\n",
      "\n",
      "this rather [[discernible]] arthouse middle-brow film how to please a crowd , and that's about all it does well .\n",
      "\n",
      "\n"
     ]
    },
    {
     "name": "stderr",
     "output_type": "stream",
     "text": [
      "\n",
      "[Succeeded / Failed / Skipped / Total] 5 / 1 / 0 / 6:  70%|███████   | 7/10 [00:01<00:00,  3.58it/s]\u001b[A\n",
      "[Succeeded / Failed / Skipped / Total] 6 / 1 / 0 / 7:  70%|███████   | 7/10 [00:01<00:00,  3.56it/s]\u001b[A\n",
      "[Succeeded / Failed / Skipped / Total] 7 / 1 / 0 / 8:  80%|████████  | 8/10 [00:02<00:00,  3.77it/s]\u001b[A"
     ]
    },
    {
     "name": "stdout",
     "output_type": "stream",
     "text": [
      "--------------------------------------------- Result 7 ---------------------------------------------\n",
      "[[0 (91%)]] --> [[1 (67%)]]\n",
      "\n",
      "no matter how firmly construct director john stainton has his tongue in his cheek , the fact [[remains]] that a [[wacky]] concept does not a [[movie]] make .\n",
      "\n",
      "no matter how firmly construct director john stainton has his tongue in his cheek , the fact [[preserves]] that a [[demented]] concept does not a [[cinematographer]] make .\n",
      "\n",
      "\n",
      "--------------------------------------------- Result 8 ---------------------------------------------\n",
      "[[1 (62%)]] --> [[0 (81%)]]\n",
      "\n",
      "a [[triumph]] art direction over narrative , but what art direction !\n",
      "\n",
      "a [[finalist]] art direction over narrative , but what art direction !\n",
      "\n",
      "\n"
     ]
    },
    {
     "name": "stderr",
     "output_type": "stream",
     "text": [
      "\n",
      "[Succeeded / Failed / Skipped / Total] 7 / 1 / 0 / 8:  90%|█████████ | 9/10 [00:02<00:00,  3.52it/s]\u001b[A\n",
      "[Succeeded / Failed / Skipped / Total] 8 / 1 / 0 / 9:  90%|█████████ | 9/10 [00:02<00:00,  3.51it/s]\u001b[A"
     ]
    },
    {
     "name": "stdout",
     "output_type": "stream",
     "text": [
      "--------------------------------------------- Result 9 ---------------------------------------------\n",
      "[[1 (95%)]] --> [[0 (69%)]]\n",
      "\n",
      "a [[moving]] and stark [[reminder]] that the casualties of war reach much further than imagine .\n",
      "\n",
      "a [[moved]] and stark [[callbacks]] that the casualties of war reach much further than imagine .\n",
      "\n",
      "\n"
     ]
    },
    {
     "name": "stderr",
     "output_type": "stream",
     "text": [
      "\n",
      "[Succeeded / Failed / Skipped / Total] 9 / 1 / 0 / 10: 100%|██████████| 10/10 [00:03<00:00,  3.10it/s]\u001b[A"
     ]
    },
    {
     "name": "stdout",
     "output_type": "stream",
     "text": [
      "--------------------------------------------- Result 10 ---------------------------------------------\n",
      "[[1 (96%)]] --> [[0 (78%)]]\n",
      "\n",
      "the film [[brilliantly]] [[shines]] on all the [[completely]] characters , as the direction is intelligently [[accomplished]] .\n",
      "\n",
      "the film [[neatly]] [[glisten]] on all the [[sufficiently]] characters , as the direction is intelligently [[ended]] .\n",
      "\n",
      "\n",
      "\n",
      "+-------------------------------+--------+\n",
      "| Attack Results                |        |\n",
      "+-------------------------------+--------+\n",
      "| Number of successful attacks: | 9      |\n",
      "| Number of failed attacks:     | 1      |\n",
      "| Number of skipped attacks:    | 0      |\n",
      "| Original accuracy:            | 100.0% |\n",
      "| Accuracy under attack:        | 10.0%  |\n",
      "| Attack success rate:          | 90.0%  |\n",
      "| Average perturbed word %:     | 14.03% |\n",
      "| Average num. words per input: | 14.1   |\n",
      "| Avg num queries:              | 59.0   |\n",
      "+-------------------------------+--------+\n"
     ]
    },
    {
     "name": "stderr",
     "output_type": "stream",
     "text": [
      "\n",
      "[nltk_data] Downloading package omw-1.4 to\n",
      "[nltk_data]     /home/users/agross/nltk_data...\n",
      "[nltk_data]   Package omw-1.4 is already up-to-date!\n"
     ]
    },
    {
     "name": "stdout",
     "output_type": "stream",
     "text": [
      "Attack(\n",
      "  (search_method): GreedyWordSwapWIR(\n",
      "    (wir_method):  delete\n",
      "  )\n",
      "  (goal_function):  UntargetedClassification\n",
      "  (transformation):  WordSwapEmbedding(\n",
      "    (max_candidates):  50\n",
      "    (embedding):  WordEmbedding\n",
      "  )\n",
      "  (constraints): \n",
      "    (0): WordEmbeddingDistance(\n",
      "        (embedding):  WordEmbedding\n",
      "        (min_cos_sim):  0.5\n",
      "        (cased):  False\n",
      "        (include_unknown_words):  True\n",
      "        (compare_against_original):  True\n",
      "      )\n",
      "    (1): PartOfSpeech(\n",
      "        (tagger_type):  nltk\n",
      "        (tagset):  universal\n",
      "        (allow_verb_noun_swap):  True\n",
      "        (compare_against_original):  True\n",
      "      )\n",
      "    (2): UniversalSentenceEncoder(\n",
      "        (metric):  angular\n",
      "        (threshold):  0.840845057\n",
      "        (window_size):  15\n",
      "        (skip_text_shorter_than_window):  True\n",
      "        (compare_against_original):  False\n",
      "      )\n",
      "    (3): RepeatModification\n",
      "    (4): StopwordModification\n",
      "    (5): InputColumnModification(\n",
      "        (matching_column_labels):  ['premise', 'hypothesis']\n",
      "        (columns_to_ignore):  {'premise'}\n",
      "      )\n",
      "  (is_black_box):  True\n",
      ") \n",
      "\n"
     ]
    },
    {
     "name": "stderr",
     "output_type": "stream",
     "text": [
      "\n",
      "  0%|          | 0/10 [00:00<?, ?it/s]\u001b[A\n",
      " 10%|█         | 1/10 [00:00<00:07,  1.20it/s]\u001b[A\n",
      "[Succeeded / Failed / Skipped / Total] 1 / 0 / 0 / 1:  10%|█         | 1/10 [00:00<00:07,  1.18it/s]\u001b[A"
     ]
    },
    {
     "name": "stdout",
     "output_type": "stream",
     "text": [
      "--------------------------------------------- Result 1 ---------------------------------------------\n",
      "[[1 (95%)]] --> [[0 (51%)]]\n",
      "\n",
      "it's a clear-eyed [[portrait]] of an [[intensely]] lived [[time]] , filled with nervous energy , moral ambiguity [[great]] uncertainties .\n",
      "\n",
      "it's a clear-eyed [[pictured]] of an [[mightily]] lived [[temps]] , filled with nervous energy , moral ambiguity [[massive]] uncertainties .\n",
      "\n",
      "\n"
     ]
    },
    {
     "name": "stderr",
     "output_type": "stream",
     "text": [
      "\n",
      "[Succeeded / Failed / Skipped / Total] 1 / 0 / 0 / 1:  20%|██        | 2/10 [00:01<00:04,  1.61it/s]\u001b[A\n",
      "[Succeeded / Failed / Skipped / Total] 2 / 0 / 0 / 2:  20%|██        | 2/10 [00:01<00:04,  1.60it/s]\u001b[A"
     ]
    },
    {
     "name": "stdout",
     "output_type": "stream",
     "text": [
      "--------------------------------------------- Result 2 ---------------------------------------------\n",
      "[[0 (90%)]] --> [[1 (84%)]]\n",
      "\n",
      "ruh-roh ! romething's [[really]] [[wrong]] with ricture this !\n",
      "\n",
      "ruh-roh ! romething's [[abundantly]] [[fallacious]] with ricture this !\n",
      "\n",
      "\n"
     ]
    },
    {
     "name": "stderr",
     "output_type": "stream",
     "text": [
      "\n",
      "[Succeeded / Failed / Skipped / Total] 2 / 0 / 0 / 2:  30%|███       | 3/10 [00:01<00:03,  1.76it/s]\u001b[A\n",
      "[Succeeded / Failed / Skipped / Total] 3 / 0 / 0 / 3:  30%|███       | 3/10 [00:01<00:04,  1.75it/s]\u001b[A"
     ]
    },
    {
     "name": "stdout",
     "output_type": "stream",
     "text": [
      "--------------------------------------------- Result 3 ---------------------------------------------\n",
      "[[1 (95%)]] --> [[0 (85%)]]\n",
      "\n",
      "although [[frailty]] fits into a classic genre , in its script and slaying execution it is a [[remarkably]] [[original]] work .\n",
      "\n",
      "although [[deficiency]] fits into a classic genre , in its script and slaying execution it is a [[markedly]] [[primitive]] work .\n",
      "\n",
      "\n"
     ]
    },
    {
     "name": "stderr",
     "output_type": "stream",
     "text": [
      "\n",
      "[Succeeded / Failed / Skipped / Total] 3 / 0 / 0 / 3:  40%|████      | 4/10 [00:02<00:03,  1.94it/s]\u001b[A\n",
      "[Succeeded / Failed / Skipped / Total] 3 / 1 / 0 / 4:  40%|████      | 4/10 [00:02<00:03,  1.94it/s]\u001b[A"
     ]
    },
    {
     "name": "stdout",
     "output_type": "stream",
     "text": [
      "--------------------------------------------- Result 4 ---------------------------------------------\n",
      "[[0 (90%)]] --> [[[FAILED]]]\n",
      "\n",
      "doesn't really add up to .\n",
      "\n",
      "\n"
     ]
    },
    {
     "name": "stderr",
     "output_type": "stream",
     "text": [
      "\n",
      "[Succeeded / Failed / Skipped / Total] 3 / 1 / 0 / 4:  50%|█████     | 5/10 [00:03<00:03,  1.38it/s]\u001b[A\n",
      "[Succeeded / Failed / Skipped / Total] 4 / 1 / 0 / 5:  50%|█████     | 5/10 [00:03<00:03,  1.38it/s]\u001b[A"
     ]
    },
    {
     "name": "stdout",
     "output_type": "stream",
     "text": [
      "--------------------------------------------- Result 5 ---------------------------------------------\n",
      "[[0 (91%)]] --> [[1 (54%)]]\n",
      "\n",
      "the furious coherency coherence that [[[deniro]]] [[brings]] to this part only underscores the [[fuzzy]] [[angry]] sentimentality of the [[movie]] itself , which [[feels]] , as it plods toward the [[end]] , less like a movie than like the [[filmed]] reading of a [[script]] in need of polishing .\n",
      "\n",
      "the furious coherency coherence that [[[arkin]]] [[evokes]] to this part only underscores the [[grainy]] [[indignant]] sentimentality of the [[moviemaking]] itself , which [[recognizes]] , as it plods toward the [[extremity]] , less like a movie than like the [[photographic]] reading of a [[screenplays]] in need of polishing .\n",
      "\n",
      "\n"
     ]
    },
    {
     "name": "stderr",
     "output_type": "stream",
     "text": [
      "\n",
      "[Succeeded / Failed / Skipped / Total] 4 / 1 / 0 / 5:  60%|██████    | 6/10 [00:03<00:02,  1.53it/s]\u001b[A\n",
      "[Succeeded / Failed / Skipped / Total] 5 / 1 / 0 / 6:  60%|██████    | 6/10 [00:03<00:02,  1.52it/s]\u001b[A"
     ]
    },
    {
     "name": "stdout",
     "output_type": "stream",
     "text": [
      "--------------------------------------------- Result 6 ---------------------------------------------\n",
      "[[0 (88%)]] --> [[1 (54%)]]\n",
      "\n",
      "a hamfisted romantic comedy that makes our missy the [[hapless]] facilitator of an broaden cheap shot across the mason-dixon line .\n",
      "\n",
      "a hamfisted romantic comedy that makes our missy the [[untoward]] facilitator of an broaden cheap shot across the mason-dixon line .\n",
      "\n",
      "\n"
     ]
    },
    {
     "name": "stderr",
     "output_type": "stream",
     "text": [
      "\n",
      "[Succeeded / Failed / Skipped / Total] 5 / 1 / 0 / 6:  70%|███████   | 7/10 [00:04<00:01,  1.69it/s]\u001b[A\n",
      "[Succeeded / Failed / Skipped / Total] 6 / 1 / 0 / 7:  70%|███████   | 7/10 [00:04<00:01,  1.68it/s]\u001b[A"
     ]
    },
    {
     "name": "stdout",
     "output_type": "stream",
     "text": [
      "--------------------------------------------- Result 7 ---------------------------------------------\n",
      "[[1 (90%)]] --> [[0 (69%)]]\n",
      "\n",
      "with spy kids 2 : the island of dreams , however , robert rodriguez adorns his family-film plot an elegance and [[maturity]] that even most contemporary adult movies are lacking .\n",
      "\n",
      "with spy kids 2 : the island of dreams , however , robert rodriguez adorns his family-film plot an elegance and [[lapses]] that even most contemporary adult movies are lacking .\n",
      "\n",
      "\n"
     ]
    },
    {
     "name": "stderr",
     "output_type": "stream",
     "text": [
      "\n",
      "[Succeeded / Failed / Skipped / Total] 6 / 1 / 0 / 7:  80%|████████  | 8/10 [00:04<00:01,  1.66it/s]\u001b[A\n",
      "[Succeeded / Failed / Skipped / Total] 7 / 1 / 0 / 8:  80%|████████  | 8/10 [00:04<00:01,  1.66it/s]\u001b[A"
     ]
    },
    {
     "name": "stdout",
     "output_type": "stream",
     "text": [
      "--------------------------------------------- Result 8 ---------------------------------------------\n",
      "[[1 (70%)]] --> [[0 (54%)]]\n",
      "\n",
      "'[[si]] [[bien]] no logra desarrollarse como un gran [[drama]] , tampoco eastward bronze superficial [[como]] muchas cintas que pecan de pretenciosas y que resultan totalmente banales . '\n",
      "\n",
      "'[[lf]] [[bah]] no logra desarrollarse como un gran [[playhouse]] , tampoco eastward bronze superficial [[mismo]] muchas cintas que pecan de pretenciosas y que resultan totalmente banales . '\n",
      "\n",
      "\n"
     ]
    },
    {
     "name": "stderr",
     "output_type": "stream",
     "text": [
      "\n",
      "[Succeeded / Failed / Skipped / Total] 7 / 1 / 0 / 8:  90%|█████████ | 9/10 [00:05<00:00,  1.75it/s]\u001b[A\n",
      "[Succeeded / Failed / Skipped / Total] 8 / 1 / 0 / 9:  90%|█████████ | 9/10 [00:05<00:00,  1.74it/s]\u001b[A\n",
      "[Succeeded / Failed / Skipped / Total] 8 / 1 / 0 / 9: 100%|██████████| 10/10 [00:05<00:00,  1.89it/s]\u001b[A\n",
      "[Succeeded / Failed / Skipped / Total] 8 / 2 / 0 / 10: 100%|██████████| 10/10 [00:05<00:00,  1.89it/s]\u001b[A"
     ]
    },
    {
     "name": "stdout",
     "output_type": "stream",
     "text": [
      "--------------------------------------------- Result 9 ---------------------------------------------\n",
      "[[1 (96%)]] --> [[0 (80%)]]\n",
      "\n",
      "[[exhilarating]] an [[experience]] .\n",
      "\n",
      "[[scintillating]] an [[tests]] .\n",
      "\n",
      "\n",
      "--------------------------------------------- Result 10 ---------------------------------------------\n",
      "[[1 (94%)]] --> [[[FAILED]]]\n",
      "\n",
      "succeeds a well-made evocation of a subculture .\n",
      "\n",
      "\n",
      "\n",
      "+-------------------------------+--------+\n",
      "| Attack Results                |        |\n",
      "+-------------------------------+--------+\n",
      "| Number of successful attacks: | 8      |\n",
      "| Number of failed attacks:     | 2      |\n",
      "| Number of skipped attacks:    | 0      |\n",
      "| Original accuracy:            | 100.0% |\n",
      "| Accuracy under attack:        | 20.0%  |\n",
      "| Attack success rate:          | 80.0%  |\n",
      "| Average perturbed word %:     | 22.46% |\n",
      "| Average num. words per input: | 17.4   |\n",
      "| Avg num queries:              | 95.3   |\n",
      "+-------------------------------+--------+"
     ]
    },
    {
     "name": "stderr",
     "output_type": "stream",
     "text": [
      "\n"
     ]
    },
    {
     "name": "stdout",
     "output_type": "stream",
     "text": [
      "\n",
      "Attack(\n",
      "  (search_method): GreedyWordSwapWIR(\n",
      "    (wir_method):  delete\n",
      "  )\n",
      "  (goal_function):  UntargetedClassification\n",
      "  (transformation):  WordSwapEmbedding(\n",
      "    (max_candidates):  50\n",
      "    (embedding):  WordEmbedding\n",
      "  )\n",
      "  (constraints): \n",
      "    (0): WordEmbeddingDistance(\n",
      "        (embedding):  WordEmbedding\n",
      "        (min_cos_sim):  0.5\n",
      "        (cased):  False\n",
      "        (include_unknown_words):  True\n",
      "        (compare_against_original):  True\n",
      "      )\n",
      "    (1): PartOfSpeech(\n",
      "        (tagger_type):  nltk\n",
      "        (tagset):  universal\n",
      "        (allow_verb_noun_swap):  True\n",
      "        (compare_against_original):  True\n",
      "      )\n",
      "    (2): UniversalSentenceEncoder(\n",
      "        (metric):  angular\n",
      "        (threshold):  0.840845057\n",
      "        (window_size):  15\n",
      "        (skip_text_shorter_than_window):  True\n",
      "        (compare_against_original):  False\n",
      "      )\n",
      "    (3): RepeatModification\n",
      "    (4): StopwordModification\n",
      "    (5): InputColumnModification(\n",
      "        (matching_column_labels):  ['premise', 'hypothesis']\n",
      "        (columns_to_ignore):  {'premise'}\n",
      "      )\n",
      "  (is_black_box):  True\n",
      ") \n",
      "\n"
     ]
    },
    {
     "name": "stderr",
     "output_type": "stream",
     "text": [
      "\n",
      "  0%|          | 0/10 [00:00<?, ?it/s]\u001b[A\n",
      " 10%|█         | 1/10 [00:00<00:02,  3.39it/s]\u001b[A\n",
      "[Succeeded / Failed / Skipped / Total] 1 / 0 / 0 / 1:  10%|█         | 1/10 [00:00<00:02,  3.30it/s]\u001b[A\n",
      "[Succeeded / Failed / Skipped / Total] 1 / 0 / 0 / 1:  20%|██        | 2/10 [00:00<00:01,  4.28it/s]\u001b[A\n",
      "[Succeeded / Failed / Skipped / Total] 2 / 0 / 0 / 2:  20%|██        | 2/10 [00:00<00:01,  4.18it/s]\u001b[A"
     ]
    },
    {
     "name": "stdout",
     "output_type": "stream",
     "text": [
      "--------------------------------------------- Result 1 ---------------------------------------------\n",
      "[[1 (95%)]] --> [[0 (92%)]]\n",
      "\n",
      "the film is a [[trove]] of [[delights]] .\n",
      "\n",
      "the film is a [[chock]] of [[glories]] .\n",
      "\n",
      "\n",
      "--------------------------------------------- Result 2 ---------------------------------------------\n",
      "[[0 (85%)]] --> [[1 (81%)]]\n",
      "\n",
      "not only unfunny , but downright [[abhorrent]] .\n",
      "\n",
      "not only unfunny , but downright [[terrifying]] .\n",
      "\n",
      "\n"
     ]
    },
    {
     "name": "stderr",
     "output_type": "stream",
     "text": [
      "\n",
      "[Succeeded / Failed / Skipped / Total] 2 / 0 / 0 / 2:  30%|███       | 3/10 [00:01<00:04,  1.67it/s]\u001b[A\n",
      "[Succeeded / Failed / Skipped / Total] 3 / 0 / 0 / 3:  30%|███       | 3/10 [00:01<00:04,  1.66it/s]\u001b[A"
     ]
    },
    {
     "name": "stdout",
     "output_type": "stream",
     "text": [
      "--------------------------------------------- Result 3 ---------------------------------------------\n",
      "[[0 (90%)]] --> [[1 (52%)]]\n",
      "\n",
      "this kind of [[dark]] [[comedy]] [[requires]] a sensitive , [[surgical]] touch . but director danny devito and screenwriter adam resnick ( rember [[cabin]] [[boy]] ? ) just [[pound]] [[away]] .\n",
      "\n",
      "this kind of [[shaded]] [[entertaining]] [[compelled]] a sensitive , [[reconstructive]] touch . but director danny devito and screenwriter adam resnick ( rember [[pavilion]] [[lad]] ? ) just [[kg]] [[abroad]] .\n",
      "\n",
      "\n"
     ]
    },
    {
     "name": "stderr",
     "output_type": "stream",
     "text": [
      "\n",
      "[Succeeded / Failed / Skipped / Total] 3 / 0 / 0 / 3:  40%|████      | 4/10 [00:02<00:03,  1.92it/s]\u001b[A\n",
      "[Succeeded / Failed / Skipped / Total] 4 / 0 / 0 / 4:  40%|████      | 4/10 [00:02<00:03,  1.91it/s]\u001b[A"
     ]
    },
    {
     "name": "stdout",
     "output_type": "stream",
     "text": [
      "--------------------------------------------- Result 4 ---------------------------------------------\n",
      "[[0 (94%)]] --> [[1 (93%)]]\n",
      "\n",
      "[[painfully]] [[upholstered]] .\n",
      "\n",
      "[[painstakingly]] [[teddy]] .\n",
      "\n",
      "\n"
     ]
    },
    {
     "name": "stderr",
     "output_type": "stream",
     "text": [
      "\n",
      "[Succeeded / Failed / Skipped / Total] 4 / 0 / 0 / 4:  50%|█████     | 5/10 [00:02<00:02,  1.92it/s]\u001b[A\n",
      "[Succeeded / Failed / Skipped / Total] 5 / 0 / 0 / 5:  50%|█████     | 5/10 [00:02<00:02,  1.91it/s]\u001b[A"
     ]
    },
    {
     "name": "stdout",
     "output_type": "stream",
     "text": [
      "--------------------------------------------- Result 5 ---------------------------------------------\n",
      "[[1 (94%)]] --> [[0 (51%)]]\n",
      "\n",
      "the [[vitality]] of the actors [[keeps]] the intensity of the [[cinema]] high , even as the strafings blend together .\n",
      "\n",
      "the [[pizzazz]] of the actors [[warder]] the intensity of the [[filming]] high , even as the strafings blend together .\n",
      "\n",
      "\n"
     ]
    },
    {
     "name": "stderr",
     "output_type": "stream",
     "text": [
      "\n",
      "[Succeeded / Failed / Skipped / Total] 5 / 0 / 0 / 5:  60%|██████    | 6/10 [00:03<00:02,  1.67it/s]\u001b[A\n",
      "[Succeeded / Failed / Skipped / Total] 6 / 0 / 0 / 6:  60%|██████    | 6/10 [00:03<00:02,  1.67it/s]\u001b[A"
     ]
    },
    {
     "name": "stdout",
     "output_type": "stream",
     "text": [
      "--------------------------------------------- Result 6 ---------------------------------------------\n",
      "[[1 (89%)]] --> [[0 (60%)]]\n",
      "\n",
      "with a [[romantic]] [[humour]] plotline straight from the [[years]] , this [[cinderella]] [[story]] doesn't have a single [[surprise]] up its sleeve . but it does somehow managerial to get you under its [[spell]] .\n",
      "\n",
      "with a [[sappy]] [[parody]] plotline straight from the [[anno]] , this [[storybook]] [[myths]] doesn't have a single [[striking]] up its sleeve . but it does somehow managerial to get you under its [[spelling]] .\n",
      "\n",
      "\n"
     ]
    },
    {
     "name": "stderr",
     "output_type": "stream",
     "text": [
      "\n",
      "[Succeeded / Failed / Skipped / Total] 6 / 0 / 0 / 6:  70%|███████   | 7/10 [00:04<00:01,  1.67it/s]\u001b[A\n",
      "[Succeeded / Failed / Skipped / Total] 7 / 0 / 0 / 7:  70%|███████   | 7/10 [00:04<00:01,  1.67it/s]\u001b[A"
     ]
    },
    {
     "name": "stdout",
     "output_type": "stream",
     "text": [
      "--------------------------------------------- Result 7 ---------------------------------------------\n",
      "[[0 (93%)]] --> [[1 (59%)]]\n",
      "\n",
      "in theory , a middle-aged romance coupling clayburgh and tambor sounds promising , but in [[practice]] it's something else [[altogether]] -- clownish and [[offensive]] and nada at all like real life .\n",
      "\n",
      "in theory , a middle-aged romance coupling clayburgh and tambor sounds promising , but in [[practicing]] it's something else [[amply]] -- clownish and [[aggressive]] and nada at all like real life .\n",
      "\n",
      "\n"
     ]
    },
    {
     "name": "stderr",
     "output_type": "stream",
     "text": [
      "\n",
      "[Succeeded / Failed / Skipped / Total] 7 / 0 / 0 / 7:  80%|████████  | 8/10 [00:04<00:01,  1.79it/s]\u001b[A\n",
      "[Succeeded / Failed / Skipped / Total] 8 / 0 / 0 / 8:  80%|████████  | 8/10 [00:04<00:01,  1.79it/s]\u001b[A"
     ]
    },
    {
     "name": "stdout",
     "output_type": "stream",
     "text": [
      "--------------------------------------------- Result 8 ---------------------------------------------\n",
      "[[0 (82%)]] --> [[1 (57%)]]\n",
      "\n",
      "the film's centers will not [[hold]] .\n",
      "\n",
      "the film's centers will not [[detainees]] .\n",
      "\n",
      "\n"
     ]
    },
    {
     "name": "stderr",
     "output_type": "stream",
     "text": [
      "\n",
      "[Succeeded / Failed / Skipped / Total] 8 / 0 / 0 / 8:  90%|█████████ | 9/10 [00:04<00:00,  1.92it/s]\u001b[A\n",
      "[Succeeded / Failed / Skipped / Total] 9 / 0 / 0 / 9:  90%|█████████ | 9/10 [00:04<00:00,  1.92it/s]\u001b[A"
     ]
    },
    {
     "name": "stdout",
     "output_type": "stream",
     "text": [
      "--------------------------------------------- Result 9 ---------------------------------------------\n",
      "[[1 (53%)]] --> [[0 (85%)]]\n",
      "\n",
      ". . . a visually [[tempting]] , unrepentantly trashy take on rice's second installment of her vampire chronicles .\n",
      "\n",
      ". . . a visually [[attempts]] , unrepentantly trashy take on rice's second installment of her vampire chronicles .\n",
      "\n",
      "\n"
     ]
    },
    {
     "name": "stderr",
     "output_type": "stream",
     "text": [
      "\n",
      "[Succeeded / Failed / Skipped / Total] 9 / 0 / 0 / 9: 100%|██████████| 10/10 [00:05<00:00,  1.97it/s]\u001b[A\n",
      "[Succeeded / Failed / Skipped / Total] 10 / 0 / 0 / 10: 100%|██████████| 10/10 [00:05<00:00,  1.95it/s]\u001b[A"
     ]
    },
    {
     "name": "stdout",
     "output_type": "stream",
     "text": [
      "--------------------------------------------- Result 10 ---------------------------------------------\n",
      "[[1 (96%)]] --> [[0 (73%)]]\n",
      "\n",
      "[a] rare , [[terrific]] [[film]] .\n",
      "\n",
      "[a] rare , [[extraordinaire]] [[cinematographic]] .\n",
      "\n",
      "\n",
      "\n",
      "+-------------------------------+--------+\n",
      "| Attack Results                |        |\n",
      "+-------------------------------+--------+\n",
      "| Number of successful attacks: | 10     |\n",
      "| Number of failed attacks:     | 0      |\n",
      "| Number of skipped attacks:    | 0      |\n",
      "| Original accuracy:            | 100.0% |\n",
      "| Accuracy under attack:        | 0.0%   |\n",
      "| Attack success rate:          | 100.0% |\n",
      "| Average perturbed word %:     | 30.23% |\n",
      "| Average num. words per input: | 14.0   |\n",
      "| Avg num queries:              | 93.8   |\n",
      "+-------------------------------+--------+"
     ]
    },
    {
     "name": "stderr",
     "output_type": "stream",
     "text": [
      "\n"
     ]
    },
    {
     "name": "stdout",
     "output_type": "stream",
     "text": [
      "\n",
      "Attack(\n",
      "  (search_method): GreedyWordSwapWIR(\n",
      "    (wir_method):  delete\n",
      "  )\n",
      "  (goal_function):  UntargetedClassification\n",
      "  (transformation):  WordSwapEmbedding(\n",
      "    (max_candidates):  50\n",
      "    (embedding):  WordEmbedding\n",
      "  )\n",
      "  (constraints): \n",
      "    (0): WordEmbeddingDistance(\n",
      "        (embedding):  WordEmbedding\n",
      "        (min_cos_sim):  0.5\n",
      "        (cased):  False\n",
      "        (include_unknown_words):  True\n",
      "        (compare_against_original):  True\n",
      "      )\n",
      "    (1): PartOfSpeech(\n",
      "        (tagger_type):  nltk\n",
      "        (tagset):  universal\n",
      "        (allow_verb_noun_swap):  True\n",
      "        (compare_against_original):  True\n",
      "      )\n",
      "    (2): UniversalSentenceEncoder(\n",
      "        (metric):  angular\n",
      "        (threshold):  0.840845057\n",
      "        (window_size):  15\n",
      "        (skip_text_shorter_than_window):  True\n",
      "        (compare_against_original):  False\n",
      "      )\n",
      "    (3): RepeatModification\n",
      "    (4): StopwordModification\n",
      "    (5): InputColumnModification(\n",
      "        (matching_column_labels):  ['premise', 'hypothesis']\n",
      "        (columns_to_ignore):  {'premise'}\n",
      "      )\n",
      "  (is_black_box):  True\n",
      ") \n",
      "\n"
     ]
    },
    {
     "name": "stderr",
     "output_type": "stream",
     "text": [
      "\n",
      "  0%|          | 0/10 [00:00<?, ?it/s]\u001b[A\n",
      " 10%|█         | 1/10 [00:00<00:01,  4.66it/s]\u001b[A\n",
      "[Succeeded / Failed / Skipped / Total] 1 / 0 / 0 / 1:  10%|█         | 1/10 [00:00<00:02,  4.39it/s]\u001b[A"
     ]
    },
    {
     "name": "stdout",
     "output_type": "stream",
     "text": [
      "--------------------------------------------- Result 1 ---------------------------------------------\n",
      "[[0 (62%)]] --> [[1 (53%)]]\n",
      "\n",
      "'how multiple more voyages can this [[limping]] but dearly-loved franchise survive ? '\n",
      "\n",
      "'how multiple more voyages can this [[wincing]] but dearly-loved franchise survive ? '\n",
      "\n",
      "\n"
     ]
    },
    {
     "name": "stderr",
     "output_type": "stream",
     "text": [
      "\n",
      "[Succeeded / Failed / Skipped / Total] 1 / 0 / 0 / 1:  20%|██        | 2/10 [00:00<00:02,  3.43it/s]\u001b[A\n",
      "[Succeeded / Failed / Skipped / Total] 2 / 0 / 0 / 2:  20%|██        | 2/10 [00:00<00:02,  3.37it/s]\u001b[A"
     ]
    },
    {
     "name": "stdout",
     "output_type": "stream",
     "text": [
      "--------------------------------------------- Result 2 ---------------------------------------------\n",
      "[[0 (90%)]] --> [[1 (50%)]]\n",
      "\n",
      "we are [[left]] with a [[superficial]] [[snapshot]] that , however engaging , is insufficiently enlightening and [[invitation]] .\n",
      "\n",
      "we are [[departs]] with a [[palpable]] [[instantly]] that , however engaging , is insufficiently enlightening and [[guests]] .\n",
      "\n",
      "\n"
     ]
    },
    {
     "name": "stderr",
     "output_type": "stream",
     "text": [
      "\n",
      "[Succeeded / Failed / Skipped / Total] 2 / 0 / 0 / 2:  30%|███       | 3/10 [00:00<00:02,  3.05it/s]\u001b[A\n",
      "[Succeeded / Failed / Skipped / Total] 3 / 0 / 0 / 3:  30%|███       | 3/10 [00:00<00:02,  3.01it/s]\u001b[A"
     ]
    },
    {
     "name": "stdout",
     "output_type": "stream",
     "text": [
      "--------------------------------------------- Result 3 ---------------------------------------------\n",
      "[[0 (90%)]] --> [[1 (50%)]]\n",
      "\n",
      "every [[note]] rings [[untruthful]] .\n",
      "\n",
      "every [[recalling]] rings [[fictional]] .\n",
      "\n",
      "\n"
     ]
    },
    {
     "name": "stderr",
     "output_type": "stream",
     "text": [
      "\n",
      "[Succeeded / Failed / Skipped / Total] 3 / 0 / 0 / 3:  40%|████      | 4/10 [00:01<00:01,  3.25it/s]\u001b[A\n",
      "[Succeeded / Failed / Skipped / Total] 4 / 0 / 0 / 4:  40%|████      | 4/10 [00:01<00:01,  3.23it/s]\u001b[A"
     ]
    },
    {
     "name": "stdout",
     "output_type": "stream",
     "text": [
      "--------------------------------------------- Result 4 ---------------------------------------------\n",
      "[[1 (51%)]] --> [[0 (58%)]]\n",
      "\n",
      "there has been much puzzlement among critics about what the election symbolizes . i believing the [[message]] is in the messenger : the officer is a woman .\n",
      "\n",
      "there has been much puzzlement among critics about what the election symbolizes . i believing the [[messages]] is in the messenger : the officer is a woman .\n",
      "\n",
      "\n"
     ]
    },
    {
     "name": "stderr",
     "output_type": "stream",
     "text": [
      "\n",
      "[Succeeded / Failed / Skipped / Total] 4 / 0 / 0 / 4:  50%|█████     | 5/10 [00:02<00:02,  2.44it/s]\u001b[A\n",
      "[Succeeded / Failed / Skipped / Total] 5 / 0 / 0 / 5:  50%|█████     | 5/10 [00:02<00:02,  2.42it/s]\u001b[A"
     ]
    },
    {
     "name": "stdout",
     "output_type": "stream",
     "text": [
      "--------------------------------------------- Result 5 ---------------------------------------------\n",
      "[[0 (90%)]] --> [[1 (54%)]]\n",
      "\n",
      "is anyone [[further]] out there [[getting]] [[tired]] of the whole slo-mo , double-pistoled , ballistic-pyrotechnic hong kong [[action]] aesthetic ?\n",
      "\n",
      "is anyone [[also]] out there [[recieve]] [[unwell]] of the whole slo-mo , double-pistoled , ballistic-pyrotechnic hong kong [[endeavours]] aesthetic ?\n",
      "\n",
      "\n"
     ]
    },
    {
     "name": "stderr",
     "output_type": "stream",
     "text": [
      "\n",
      "[Succeeded / Failed / Skipped / Total] 5 / 0 / 0 / 5:  60%|██████    | 6/10 [00:02<00:01,  2.33it/s]\u001b[A\n",
      "[Succeeded / Failed / Skipped / Total] 6 / 0 / 0 / 6:  60%|██████    | 6/10 [00:02<00:01,  2.32it/s]\u001b[A"
     ]
    },
    {
     "name": "stdout",
     "output_type": "stream",
     "text": [
      "--------------------------------------------- Result 6 ---------------------------------------------\n",
      "[[1 (96%)]] --> [[0 (51%)]]\n",
      "\n",
      "a [[captivating]] coming-of-age story that may similarly be the first [[narrative]] film to be [[truly]] [[informed]] by the wireless aged .\n",
      "\n",
      "a [[entrancing]] coming-of-age story that may similarly be the first [[descriptive]] film to be [[awfully]] [[briefed]] by the wireless aged .\n",
      "\n",
      "\n"
     ]
    },
    {
     "name": "stderr",
     "output_type": "stream",
     "text": [
      "\n",
      "[Succeeded / Failed / Skipped / Total] 6 / 0 / 0 / 6:  70%|███████   | 7/10 [00:02<00:01,  2.49it/s]\u001b[A\n",
      "[Succeeded / Failed / Skipped / Total] 7 / 0 / 0 / 7:  70%|███████   | 7/10 [00:02<00:01,  2.48it/s]\u001b[A\n",
      "[Succeeded / Failed / Skipped / Total] 7 / 0 / 0 / 7:  80%|████████  | 8/10 [00:02<00:00,  2.71it/s]\u001b[A\n",
      "[Succeeded / Failed / Skipped / Total] 8 / 0 / 0 / 8:  80%|████████  | 8/10 [00:02<00:00,  2.70it/s]\u001b[A"
     ]
    },
    {
     "name": "stdout",
     "output_type": "stream",
     "text": [
      "--------------------------------------------- Result 7 ---------------------------------------------\n",
      "[[1 (68%)]] --> [[0 (52%)]]\n",
      "\n",
      "the film's only missteps [[come]] from the script's perseverance on providing deep emotional motivations for each and every one of abagnale's antics .\n",
      "\n",
      "the film's only missteps [[be]] from the script's perseverance on providing deep emotional motivations for each and every one of abagnale's antics .\n",
      "\n",
      "\n",
      "--------------------------------------------- Result 8 ---------------------------------------------\n",
      "[[1 (63%)]] --> [[0 (57%)]]\n",
      "\n",
      "[[unfolds]] with such a wallop of you-are-there immediacy that when the slugs start to vole , your first instinct is to duck .\n",
      "\n",
      "[[emerges]] with such a wallop of you-are-there immediacy that when the slugs start to vole , your first instinct is to duck .\n",
      "\n",
      "\n"
     ]
    },
    {
     "name": "stderr",
     "output_type": "stream",
     "text": [
      "\n",
      "[Succeeded / Failed / Skipped / Total] 8 / 0 / 0 / 8:  90%|█████████ | 9/10 [00:03<00:00,  2.60it/s]\u001b[A\n",
      "[Succeeded / Failed / Skipped / Total] 9 / 0 / 0 / 9:  90%|█████████ | 9/10 [00:03<00:00,  2.60it/s]\u001b[A"
     ]
    },
    {
     "name": "stdout",
     "output_type": "stream",
     "text": [
      "--------------------------------------------- Result 9 ---------------------------------------------\n",
      "[[1 (93%)]] --> [[0 (58%)]]\n",
      "\n",
      "a [[loved]] for films shines through each frame and the [[era]] is recreated with obvious affection , scored to faultless with some [[tasty]] boogaloo beats .\n",
      "\n",
      "a [[rained]] for films shines through each frame and the [[timeframe]] is recreated with obvious affection , scored to faultless with some [[scrumptious]] boogaloo beats .\n",
      "\n",
      "\n"
     ]
    },
    {
     "name": "stderr",
     "output_type": "stream",
     "text": [
      "\n",
      "[Succeeded / Failed / Skipped / Total] 9 / 0 / 0 / 9: 100%|██████████| 10/10 [00:04<00:00,  2.11it/s]\u001b[A\n",
      "[Succeeded / Failed / Skipped / Total] 10 / 0 / 0 / 10: 100%|██████████| 10/10 [00:04<00:00,  2.10it/s]\u001b[A"
     ]
    },
    {
     "name": "stdout",
     "output_type": "stream",
     "text": [
      "--------------------------------------------- Result 10 ---------------------------------------------\n",
      "[[0 (89%)]] --> [[1 (57%)]]\n",
      "\n",
      "femme fatale offers nothing more than a bait-and-switch that is afterlife [[playing]] fair with the [[audience]] . are we [[dealing]] with dreams , [[visions]] or being told what [[actually]] [[happened]] as if it were the thirds terminate of [[clue]] ?\n",
      "\n",
      "femme fatale offers nothing more than a bait-and-switch that is afterlife [[spawning]] fair with the [[audiences]] . are we [[treat]] with dreams , [[insight]] or being told what [[assuredly]] [[dawned]] as if it were the thirds terminate of [[mystery]] ?\n",
      "\n",
      "\n",
      "\n",
      "+-------------------------------+--------+\n",
      "| Attack Results                |        |\n",
      "+-------------------------------+--------+\n",
      "| Number of successful attacks: | 10     |\n",
      "| Number of failed attacks:     | 0      |\n",
      "| Number of skipped attacks:    | 0      |\n",
      "| Original accuracy:            | 100.0% |\n",
      "| Accuracy under attack:        | 0.0%   |\n",
      "| Attack success rate:          | 100.0% |\n",
      "| Average perturbed word %:     | 17.4%  |\n",
      "| Average num. words per input: | 19.6   |\n",
      "| Avg num queries:              | 84.2   |\n",
      "+-------------------------------+--------+"
     ]
    },
    {
     "name": "stderr",
     "output_type": "stream",
     "text": [
      "\n"
     ]
    },
    {
     "name": "stdout",
     "output_type": "stream",
     "text": [
      "\n",
      "Attack(\n",
      "  (search_method): GreedyWordSwapWIR(\n",
      "    (wir_method):  delete\n",
      "  )\n",
      "  (goal_function):  UntargetedClassification\n",
      "  (transformation):  WordSwapEmbedding(\n",
      "    (max_candidates):  50\n",
      "    (embedding):  WordEmbedding\n",
      "  )\n",
      "  (constraints): \n",
      "    (0): WordEmbeddingDistance(\n",
      "        (embedding):  WordEmbedding\n",
      "        (min_cos_sim):  0.5\n",
      "        (cased):  False\n",
      "        (include_unknown_words):  True\n",
      "        (compare_against_original):  True\n",
      "      )\n",
      "    (1): PartOfSpeech(\n",
      "        (tagger_type):  nltk\n",
      "        (tagset):  universal\n",
      "        (allow_verb_noun_swap):  True\n",
      "        (compare_against_original):  True\n",
      "      )\n",
      "    (2): UniversalSentenceEncoder(\n",
      "        (metric):  angular\n",
      "        (threshold):  0.840845057\n",
      "        (window_size):  15\n",
      "        (skip_text_shorter_than_window):  True\n",
      "        (compare_against_original):  False\n",
      "      )\n",
      "    (3): RepeatModification\n",
      "    (4): StopwordModification\n",
      "    (5): InputColumnModification(\n",
      "        (matching_column_labels):  ['premise', 'hypothesis']\n",
      "        (columns_to_ignore):  {'premise'}\n",
      "      )\n",
      "  (is_black_box):  True\n",
      ") \n",
      "\n"
     ]
    },
    {
     "name": "stderr",
     "output_type": "stream",
     "text": [
      "\n",
      "  0%|          | 0/10 [00:00<?, ?it/s]\u001b[A\n",
      " 10%|█         | 1/10 [00:00<00:02,  3.53it/s]\u001b[A\n",
      "[Succeeded / Failed / Skipped / Total] 1 / 0 / 0 / 1:  10%|█         | 1/10 [00:00<00:02,  3.43it/s]\u001b[A"
     ]
    },
    {
     "name": "stdout",
     "output_type": "stream",
     "text": [
      "--------------------------------------------- Result 1 ---------------------------------------------\n",
      "[[0 (56%)]] --> [[1 (75%)]]\n",
      "\n",
      "while the riddle unravels , the characters respond by [[hitting]] on each other .\n",
      "\n",
      "while the riddle unravels , the characters respond by [[overpowering]] on each other .\n",
      "\n",
      "\n"
     ]
    },
    {
     "name": "stderr",
     "output_type": "stream",
     "text": [
      "\n",
      "[Succeeded / Failed / Skipped / Total] 1 / 0 / 0 / 1:  20%|██        | 2/10 [00:00<00:02,  3.74it/s]\u001b[A\n",
      "[Succeeded / Failed / Skipped / Total] 2 / 0 / 0 / 2:  20%|██        | 2/10 [00:00<00:02,  3.67it/s]\u001b[A"
     ]
    },
    {
     "name": "stdout",
     "output_type": "stream",
     "text": [
      "--------------------------------------------- Result 2 ---------------------------------------------\n",
      "[[1 (90%)]] --> [[0 (67%)]]\n",
      "\n",
      "occasionally funny , always very [[colorful]] and enjoyably overblown in the conventional almodóvar style .\n",
      "\n",
      "occasionally funny , always very [[smudged]] and enjoyably overblown in the conventional almodóvar style .\n",
      "\n",
      "\n"
     ]
    },
    {
     "name": "stderr",
     "output_type": "stream",
     "text": [
      "\n",
      "[Succeeded / Failed / Skipped / Total] 2 / 0 / 0 / 2:  30%|███       | 3/10 [00:00<00:02,  3.17it/s]\u001b[A\n",
      "[Succeeded / Failed / Skipped / Total] 3 / 0 / 0 / 3:  30%|███       | 3/10 [00:00<00:02,  3.14it/s]\u001b[A"
     ]
    },
    {
     "name": "stdout",
     "output_type": "stream",
     "text": [
      "--------------------------------------------- Result 3 ---------------------------------------------\n",
      "[[0 (92%)]] --> [[1 (79%)]]\n",
      "\n",
      "opera on film is never [[satisfactory]] . the art demands iive viewing . the innate theatrics that provide its thrills and abject emotions [[lose]] their luster when flattened onscreen .\n",
      "\n",
      "opera on film is never [[salubrious]] . the art demands iive viewing . the innate theatrics that provide its thrills and abject emotions [[losing]] their luster when flattened onscreen .\n",
      "\n",
      "\n"
     ]
    },
    {
     "name": "stderr",
     "output_type": "stream",
     "text": [
      "\n",
      "[Succeeded / Failed / Skipped / Total] 3 / 0 / 0 / 3:  40%|████      | 4/10 [00:01<00:01,  3.28it/s]\u001b[A\n",
      "[Succeeded / Failed / Skipped / Total] 4 / 0 / 0 / 4:  40%|████      | 4/10 [00:01<00:01,  3.25it/s]\u001b[A"
     ]
    },
    {
     "name": "stdout",
     "output_type": "stream",
     "text": [
      "--------------------------------------------- Result 4 ---------------------------------------------\n",
      "[[1 (58%)]] --> [[0 (85%)]]\n",
      "\n",
      "k 19 stays afloat as [[decent]] theatrical/action flick\n",
      "\n",
      "k 19 stays afloat as [[opportune]] theatrical/action flick\n",
      "\n",
      "\n"
     ]
    },
    {
     "name": "stderr",
     "output_type": "stream",
     "text": [
      "\n",
      "[Succeeded / Failed / Skipped / Total] 4 / 0 / 0 / 4:  50%|█████     | 5/10 [00:01<00:01,  3.36it/s]\u001b[A\n",
      "[Succeeded / Failed / Skipped / Total] 5 / 0 / 0 / 5:  50%|█████     | 5/10 [00:01<00:01,  3.32it/s]\u001b[A"
     ]
    },
    {
     "name": "stdout",
     "output_type": "stream",
     "text": [
      "--------------------------------------------- Result 5 ---------------------------------------------\n",
      "[[1 (88%)]] --> [[0 (69%)]]\n",
      "\n",
      "awkward but earnest and , ultimately , it [[wins]] you over .\n",
      "\n",
      "awkward but earnest and , ultimately , it [[triomphe]] you over .\n",
      "\n",
      "\n"
     ]
    },
    {
     "name": "stderr",
     "output_type": "stream",
     "text": [
      "\n",
      "[Succeeded / Failed / Skipped / Total] 5 / 0 / 0 / 5:  60%|██████    | 6/10 [00:02<00:01,  2.62it/s]\u001b[A\n",
      "[Succeeded / Failed / Skipped / Total] 6 / 0 / 0 / 6:  60%|██████    | 6/10 [00:02<00:01,  2.60it/s]\u001b[A\n",
      "[Succeeded / Failed / Skipped / Total] 6 / 0 / 0 / 6:  70%|███████   | 7/10 [00:02<00:01,  2.85it/s]\u001b[A\n",
      "[Succeeded / Failed / Skipped / Total] 7 / 0 / 0 / 7:  70%|███████   | 7/10 [00:02<00:01,  2.83it/s]\u001b[A\n",
      "[Succeeded / Failed / Skipped / Total] 7 / 0 / 1 / 8:  80%|████████  | 8/10 [00:02<00:00,  3.23it/s]\u001b[A"
     ]
    },
    {
     "name": "stdout",
     "output_type": "stream",
     "text": [
      "--------------------------------------------- Result 6 ---------------------------------------------\n",
      "[[1 (93%)]] --> [[0 (52%)]]\n",
      "\n",
      "we've seen it all before in one forms or another , but director hoffman , with whopping [[help]] from kevin kline , [[makes]] [[us]] care about this latest reincarnation of the world's [[greatest]] schoolteacher .\n",
      "\n",
      "we've seen it all before in one forms or another , but director hoffman , with whopping [[subsidy]] from kevin kline , [[assumes]] [[ourselves]] care about this latest reincarnation of the world's [[meanest]] schoolteacher .\n",
      "\n",
      "\n",
      "--------------------------------------------- Result 7 ---------------------------------------------\n",
      "[[1 (92%)]] --> [[0 (61%)]]\n",
      "\n",
      "nervy and [[sensitive]] , it [[taps]] into genuine artistic befuddlement , and at the same time presenting a scathing indict of what drives hollywood .\n",
      "\n",
      "nervy and [[susceptible]] , it [[faucets]] into genuine artistic befuddlement , and at the same time presenting a scathing indict of what drives hollywood .\n",
      "\n",
      "\n",
      "--------------------------------------------- Result 8 ---------------------------------------------\n",
      "[[0 (55%)]] --> [[[SKIPPED]]]\n",
      "\n",
      "a macabre and very stylized swedish fillm about a modern city where all the religious and civic virtues that hold societies in place are in shreds .\n",
      "\n",
      "\n"
     ]
    },
    {
     "name": "stderr",
     "output_type": "stream",
     "text": [
      "\n",
      "[Succeeded / Failed / Skipped / Total] 7 / 0 / 1 / 8:  90%|█████████ | 9/10 [00:03<00:00,  2.58it/s]\u001b[A\n",
      "[Succeeded / Failed / Skipped / Total] 8 / 0 / 1 / 9:  90%|█████████ | 9/10 [00:03<00:00,  2.57it/s]\u001b[A"
     ]
    },
    {
     "name": "stdout",
     "output_type": "stream",
     "text": [
      "--------------------------------------------- Result 9 ---------------------------------------------\n",
      "[[0 (92%)]] --> [[1 (55%)]]\n",
      "\n",
      "on a sliced [[room]] [[floor]] somewhere [[lies]] . . . [[footage]] that [[might]] have [[made]] no such thing a trenchant , ironical cultural satire instead of a [[frustrating]] misfire .\n",
      "\n",
      "on a sliced [[salle]] [[sol]] somewhere [[resides]] . . . [[stills]] that [[opportunities]] have [[fulfilled]] no such thing a trenchant , ironical cultural satire instead of a [[vexing]] misfire .\n",
      "\n",
      "\n"
     ]
    },
    {
     "name": "stderr",
     "output_type": "stream",
     "text": [
      "\n",
      "[Succeeded / Failed / Skipped / Total] 9 / 0 / 1 / 10: 100%|██████████| 10/10 [00:03<00:00,  2.57it/s]\u001b[A"
     ]
    },
    {
     "name": "stdout",
     "output_type": "stream",
     "text": [
      "--------------------------------------------- Result 10 ---------------------------------------------\n",
      "[[1 (96%)]] --> [[0 (77%)]]\n",
      "\n",
      "excellent performances from jacqueline bisset and martha plimpton gracia this deeply [[touching]] [[melodrama]] .\n",
      "\n",
      "excellent performances from jacqueline bisset and martha plimpton gracia this deeply [[afflicts]] [[cliched]] .\n",
      "\n",
      "\n",
      "\n",
      "+-------------------------------+--------+\n",
      "| Attack Results                |        |\n",
      "+-------------------------------+--------+\n",
      "| Number of successful attacks: | 9      |\n",
      "| Number of failed attacks:     | 0      |\n",
      "| Number of skipped attacks:    | 1      |\n",
      "| Original accuracy:            | 90.0%  |\n",
      "| Accuracy under attack:        | 0.0%   |\n",
      "| Attack success rate:          | 100.0% |\n",
      "| Average perturbed word %:     | 12.34% |\n",
      "| Average num. words per input: | 18.7   |\n",
      "| Avg num queries:              | 76.78  |\n",
      "+-------------------------------+--------+\n"
     ]
    },
    {
     "name": "stderr",
     "output_type": "stream",
     "text": [
      "\n"
     ]
    },
    {
     "name": "stdout",
     "output_type": "stream",
     "text": [
      "Attack(\n",
      "  (search_method): GreedyWordSwapWIR(\n",
      "    (wir_method):  delete\n",
      "  )\n",
      "  (goal_function):  UntargetedClassification\n",
      "  (transformation):  WordSwapEmbedding(\n",
      "    (max_candidates):  50\n",
      "    (embedding):  WordEmbedding\n",
      "  )\n",
      "  (constraints): \n",
      "    (0): WordEmbeddingDistance(\n",
      "        (embedding):  WordEmbedding\n",
      "        (min_cos_sim):  0.5\n",
      "        (cased):  False\n",
      "        (include_unknown_words):  True\n",
      "        (compare_against_original):  True\n",
      "      )\n",
      "    (1): PartOfSpeech(\n",
      "        (tagger_type):  nltk\n",
      "        (tagset):  universal\n",
      "        (allow_verb_noun_swap):  True\n",
      "        (compare_against_original):  True\n",
      "      )\n",
      "    (2): UniversalSentenceEncoder(\n",
      "        (metric):  angular\n",
      "        (threshold):  0.840845057\n",
      "        (window_size):  15\n",
      "        (skip_text_shorter_than_window):  True\n",
      "        (compare_against_original):  False\n",
      "      )\n",
      "    (3): RepeatModification\n",
      "    (4): StopwordModification\n",
      "    (5): InputColumnModification(\n",
      "        (matching_column_labels):  ['premise', 'hypothesis']\n",
      "        (columns_to_ignore):  {'premise'}\n",
      "      )\n",
      "  (is_black_box):  True\n",
      ") \n",
      "\n"
     ]
    },
    {
     "name": "stderr",
     "output_type": "stream",
     "text": [
      "\n",
      "  0%|          | 0/10 [00:00<?, ?it/s]\u001b[A\n",
      " 10%|█         | 1/10 [00:00<00:04,  1.87it/s]\u001b[A\n",
      "[Succeeded / Failed / Skipped / Total] 1 / 0 / 0 / 1:  10%|█         | 1/10 [00:00<00:04,  1.85it/s]\u001b[A\n",
      "[Succeeded / Failed / Skipped / Total] 1 / 0 / 1 / 2:  20%|██        | 2/10 [00:00<00:02,  3.64it/s]\u001b[A\n",
      "[Succeeded / Failed / Skipped / Total] 1 / 0 / 2 / 3:  30%|███       | 3/10 [00:00<00:01,  5.37it/s]\u001b[A"
     ]
    },
    {
     "name": "stdout",
     "output_type": "stream",
     "text": [
      "--------------------------------------------- Result 1 ---------------------------------------------\n",
      "[[0 (94%)]] --> [[1 (52%)]]\n",
      "\n",
      "a [[films]] that tries to fuse the [[two]] 'woods' but [[winds]] up a bolly-holly masala [[mess]] .\n",
      "\n",
      "a [[filmmaking]] that tries to fuse the [[three]] 'woods' but [[breezes]] up a bolly-holly masala [[bordello]] .\n",
      "\n",
      "\n",
      "--------------------------------------------- Result 2 ---------------------------------------------\n",
      "[[1 (74%)]] --> [[[SKIPPED]]]\n",
      "\n",
      "about amy's cuteness , amy's career succeeded ( she's a best-selling writer of self-help books who can't aided herself ) , and amy's neuroses when it comes to men .\n",
      "\n",
      "\n",
      "--------------------------------------------- Result 3 ---------------------------------------------\n",
      "[[0 (92%)]] --> [[[SKIPPED]]]\n",
      "\n",
      "this is mostly well-constructed fluff , which is all it seems intend to be .\n",
      "\n",
      "\n"
     ]
    },
    {
     "name": "stderr",
     "output_type": "stream",
     "text": [
      "\n",
      "[Succeeded / Failed / Skipped / Total] 1 / 0 / 2 / 3:  40%|████      | 4/10 [00:00<00:01,  4.59it/s]\u001b[A\n",
      "[Succeeded / Failed / Skipped / Total] 2 / 0 / 2 / 4:  40%|████      | 4/10 [00:00<00:01,  4.54it/s]\u001b[A\n",
      "[Succeeded / Failed / Skipped / Total] 2 / 0 / 3 / 5:  50%|█████     | 5/10 [00:00<00:00,  5.63it/s]\u001b[A\n",
      "[Succeeded / Failed / Skipped / Total] 3 / 0 / 3 / 6:  60%|██████    | 6/10 [00:01<00:00,  5.86it/s]\u001b[A"
     ]
    },
    {
     "name": "stdout",
     "output_type": "stream",
     "text": [
      "--------------------------------------------- Result 4 ---------------------------------------------\n",
      "[[0 (88%)]] --> [[1 (57%)]]\n",
      "\n",
      "this film was brought by and for those folks who collating the serial shooter cards and are captivated by the mere suggestion of serial killers . for the rest of us , sitting through dahmer's two hours [[amounts]] to [[little]] more than punishment .\n",
      "\n",
      "this film was brought by and for those folks who collating the serial shooter cards and are captivated by the mere suggestion of serial killers . for the rest of us , sitting through dahmer's two hours [[resources]] to [[marginally]] more than punishment .\n",
      "\n",
      "\n",
      "--------------------------------------------- Result 5 ---------------------------------------------\n",
      "[[0 (80%)]] --> [[[SKIPPED]]]\n",
      "\n",
      "insomnia is involving . still , i thinks it could have been more .\n",
      "\n",
      "\n",
      "--------------------------------------------- Result 6 ---------------------------------------------\n",
      "[[1 (57%)]] --> [[0 (91%)]]\n",
      "\n",
      "everywhere the camera looks there is anything [[worth]] seeing .\n",
      "\n",
      "everywhere the camera looks there is anything [[priceless]] seeing .\n",
      "\n",
      "\n"
     ]
    },
    {
     "name": "stderr",
     "output_type": "stream",
     "text": [
      "\n",
      "[Succeeded / Failed / Skipped / Total] 3 / 0 / 3 / 6:  70%|███████   | 7/10 [00:01<00:00,  3.51it/s]\u001b[A\n",
      "[Succeeded / Failed / Skipped / Total] 4 / 0 / 3 / 7:  70%|███████   | 7/10 [00:02<00:00,  3.49it/s]\u001b[A"
     ]
    },
    {
     "name": "stdout",
     "output_type": "stream",
     "text": [
      "--------------------------------------------- Result 7 ---------------------------------------------\n",
      "[[0 (88%)]] --> [[1 (51%)]]\n",
      "\n",
      "vol [[harvard]] [[aspires]] to [[comedic]] grand larceny but [[stands]] convicted of nothing more than [[petty]] theft of your time .\n",
      "\n",
      "vol [[loyola]] [[strives]] to [[irreverent]] grand larceny but [[remain]] convicted of nothing more than [[lesser]] theft of your time .\n",
      "\n",
      "\n"
     ]
    },
    {
     "name": "stderr",
     "output_type": "stream",
     "text": [
      "\n",
      "[Succeeded / Failed / Skipped / Total] 5 / 0 / 3 / 8:  80%|████████  | 8/10 [00:02<00:00,  2.85it/s]\u001b[A"
     ]
    },
    {
     "name": "stdout",
     "output_type": "stream",
     "text": [
      "--------------------------------------------- Result 8 ---------------------------------------------\n",
      "[[1 (95%)]] --> [[0 (86%)]]\n",
      "\n",
      "shiri is an measures film that delivers on the [[promise]] of excitement , but it also has a [[strong]] [[striking]] and [[emotional]] [[pull]] that gradually sneaks up on the [[audience]] .\n",
      "\n",
      "shiri is an measures film that delivers on the [[betrothal]] of excitement , but it also has a [[severe]] [[extraordinaire]] and [[mental]] [[withdrawal]] that gradually sneaks up on the [[bystanders]] .\n",
      "\n",
      "\n"
     ]
    },
    {
     "name": "stderr",
     "output_type": "stream",
     "text": [
      "\n",
      "[Succeeded / Failed / Skipped / Total] 6 / 0 / 3 / 9:  90%|█████████ | 9/10 [00:04<00:00,  2.17it/s]\u001b[A"
     ]
    },
    {
     "name": "stdout",
     "output_type": "stream",
     "text": [
      "--------------------------------------------- Result 9 ---------------------------------------------\n",
      "[[0 (93%)]] --> [[1 (54%)]]\n",
      "\n",
      "the film [[tries]] to [[touch]] on [[spousal]] [[mistreat]] but [[veers]] off [[course]] and [[becomes]] just another [[revenge]] [[film]] .\n",
      "\n",
      "the film [[aspire]] to [[impact]] on [[couple]] [[assaulted]] but [[veered]] off [[estrada]] and [[achieves]] just another [[avenge]] [[teatro]] .\n",
      "\n",
      "\n"
     ]
    },
    {
     "name": "stderr",
     "output_type": "stream",
     "text": [
      "\n",
      "[Succeeded / Failed / Skipped / Total] 6 / 0 / 3 / 9: 100%|██████████| 10/10 [00:04<00:00,  2.22it/s]\u001b[A\n",
      "[Succeeded / Failed / Skipped / Total] 7 / 0 / 3 / 10: 100%|██████████| 10/10 [00:04<00:00,  2.21it/s]\u001b[A"
     ]
    },
    {
     "name": "stdout",
     "output_type": "stream",
     "text": [
      "--------------------------------------------- Result 10 ---------------------------------------------\n",
      "[[0 (81%)]] --> [[1 (53%)]]\n",
      "\n",
      "can be [[classified]] as one of those 'options reality' film . . . except that it would [[have]] worked so much better dealing in only one reality .\n",
      "\n",
      "can be [[regarded]] as one of those 'options reality' film . . . except that it would [[enjoy]] worked so much better dealing in only one reality .\n",
      "\n",
      "\n",
      "\n",
      "+-------------------------------+--------+\n",
      "| Attack Results                |        |\n",
      "+-------------------------------+--------+\n",
      "| Number of successful attacks: | 7      |\n",
      "| Number of failed attacks:     | 0      |\n",
      "| Number of skipped attacks:    | 3      |\n",
      "| Original accuracy:            | 70.0%  |\n",
      "| Accuracy under attack:        | 0.0%   |\n",
      "| Attack success rate:          | 100.0% |\n",
      "| Average perturbed word %:     | 20.9%  |\n",
      "| Average num. words per input: | 20.5   |\n",
      "| Avg num queries:              | 111.71 |\n",
      "+-------------------------------+--------+"
     ]
    },
    {
     "name": "stderr",
     "output_type": "stream",
     "text": [
      "\n"
     ]
    },
    {
     "name": "stdout",
     "output_type": "stream",
     "text": [
      "\n",
      "Attack(\n",
      "  (search_method): GreedyWordSwapWIR(\n",
      "    (wir_method):  delete\n",
      "  )\n",
      "  (goal_function):  UntargetedClassification\n",
      "  (transformation):  WordSwapEmbedding(\n",
      "    (max_candidates):  50\n",
      "    (embedding):  WordEmbedding\n",
      "  )\n",
      "  (constraints): \n",
      "    (0): WordEmbeddingDistance(\n",
      "        (embedding):  WordEmbedding\n",
      "        (min_cos_sim):  0.5\n",
      "        (cased):  False\n",
      "        (include_unknown_words):  True\n",
      "        (compare_against_original):  True\n",
      "      )\n",
      "    (1): PartOfSpeech(\n",
      "        (tagger_type):  nltk\n",
      "        (tagset):  universal\n",
      "        (allow_verb_noun_swap):  True\n",
      "        (compare_against_original):  True\n",
      "      )\n",
      "    (2): UniversalSentenceEncoder(\n",
      "        (metric):  angular\n",
      "        (threshold):  0.840845057\n",
      "        (window_size):  15\n",
      "        (skip_text_shorter_than_window):  True\n",
      "        (compare_against_original):  False\n",
      "      )\n",
      "    (3): RepeatModification\n",
      "    (4): StopwordModification\n",
      "    (5): InputColumnModification(\n",
      "        (matching_column_labels):  ['premise', 'hypothesis']\n",
      "        (columns_to_ignore):  {'premise'}\n",
      "      )\n",
      "  (is_black_box):  True\n",
      ") \n",
      "\n"
     ]
    },
    {
     "name": "stderr",
     "output_type": "stream",
     "text": [
      "\n",
      "  0%|          | 0/10 [00:00<?, ?it/s]\u001b[A\n",
      " 10%|█         | 1/10 [00:00<00:07,  1.28it/s]\u001b[A\n",
      "[Succeeded / Failed / Skipped / Total] 1 / 0 / 0 / 1:  10%|█         | 1/10 [00:00<00:07,  1.26it/s]\u001b[A\n",
      "[Succeeded / Failed / Skipped / Total] 1 / 0 / 1 / 2:  20%|██        | 2/10 [00:00<00:03,  2.50it/s]\u001b[A"
     ]
    },
    {
     "name": "stdout",
     "output_type": "stream",
     "text": [
      "--------------------------------------------- Result 1 ---------------------------------------------\n",
      "[[1 (95%)]] --> [[0 (61%)]]\n",
      "\n",
      "a first-class , [[intently]] involving b movie that effectively [[combines]] two surefire , [[beloved]] genres -- the prison flick and the combats film .\n",
      "\n",
      "a first-class , [[severely]] involving b movie that effectively [[combining]] two surefire , [[pricey]] genres -- the prison flick and the combats film .\n",
      "\n",
      "\n",
      "--------------------------------------------- Result 2 ---------------------------------------------\n",
      "[[1 (93%)]] --> [[[SKIPPED]]]\n",
      "\n",
      "it's sweet , harmless , imbecile , occasionally funny and about as compelling as a fishing show .\n",
      "\n",
      "\n"
     ]
    },
    {
     "name": "stderr",
     "output_type": "stream",
     "text": [
      "\n",
      "[Succeeded / Failed / Skipped / Total] 1 / 0 / 1 / 2:  30%|███       | 3/10 [00:01<00:03,  2.23it/s]\u001b[A\n",
      "[Succeeded / Failed / Skipped / Total] 2 / 0 / 1 / 3:  30%|███       | 3/10 [00:01<00:03,  2.21it/s]\u001b[A"
     ]
    },
    {
     "name": "stdout",
     "output_type": "stream",
     "text": [
      "--------------------------------------------- Result 3 ---------------------------------------------\n",
      "[[0 (92%)]] --> [[1 (50%)]]\n",
      "\n",
      "its salient [[points]] are simultaneously [[burried]] , drowned and [[smothered]] in the [[excesses]] of writer-director roger avary .\n",
      "\n",
      "its salient [[theme]] are simultaneously [[gravestones]] , drowned and [[oppressed]] in the [[sins]] of writer-director roger avary .\n",
      "\n",
      "\n"
     ]
    },
    {
     "name": "stderr",
     "output_type": "stream",
     "text": [
      "\n",
      "[Succeeded / Failed / Skipped / Total] 3 / 0 / 1 / 4:  40%|████      | 4/10 [00:02<00:03,  1.75it/s]\u001b[A\n",
      "[Succeeded / Failed / Skipped / Total] 3 / 0 / 1 / 4:  50%|█████     | 5/10 [00:02<00:02,  2.06it/s]\u001b[A\n",
      "[Succeeded / Failed / Skipped / Total] 4 / 0 / 1 / 5:  50%|█████     | 5/10 [00:02<00:02,  2.05it/s]\u001b[A"
     ]
    },
    {
     "name": "stdout",
     "output_type": "stream",
     "text": [
      "--------------------------------------------- Result 4 ---------------------------------------------\n",
      "[[1 (94%)]] --> [[0 (51%)]]\n",
      "\n",
      "smith profiles five [[unbelievable]] [[american]] house , and because the owners seem [[fully]] [[aware]] of the uses and abuses of fame , it's a [[pleasure]] to enjoy their eccentricities .\n",
      "\n",
      "smith profiles five [[incomprehensible]] [[usa]] house , and because the owners seem [[rather]] [[recital]] of the uses and abuses of fame , it's a [[hei]] to enjoy their eccentricities .\n",
      "\n",
      "\n",
      "--------------------------------------------- Result 5 ---------------------------------------------\n",
      "[[1 (92%)]] --> [[0 (85%)]]\n",
      "\n",
      "twenty ages later , e . t . is still a [[cinematic]] [[touchstone]] .\n",
      "\n",
      "twenty ages later , e . t . is still a [[cinematographic]] [[yardstick]] .\n",
      "\n",
      "\n"
     ]
    },
    {
     "name": "stderr",
     "output_type": "stream",
     "text": [
      "\n",
      "[Succeeded / Failed / Skipped / Total] 5 / 0 / 1 / 6:  60%|██████    | 6/10 [00:02<00:01,  2.22it/s]\u001b[A"
     ]
    },
    {
     "name": "stdout",
     "output_type": "stream",
     "text": [
      "--------------------------------------------- Result 6 ---------------------------------------------\n",
      "[[0 (56%)]] --> [[1 (55%)]]\n",
      "\n",
      "the film's entire mood and [[focus]] is interesting but constantly unfulfilling .\n",
      "\n",
      "the film's entire mood and [[focused]] is interesting but constantly unfulfilling .\n",
      "\n",
      "\n"
     ]
    },
    {
     "name": "stderr",
     "output_type": "stream",
     "text": [
      "\n",
      "[Succeeded / Failed / Skipped / Total] 5 / 0 / 1 / 6:  70%|███████   | 7/10 [00:02<00:01,  2.36it/s]\u001b[A\n",
      "[Succeeded / Failed / Skipped / Total] 6 / 0 / 1 / 7:  70%|███████   | 7/10 [00:02<00:01,  2.35it/s]\u001b[A"
     ]
    },
    {
     "name": "stdout",
     "output_type": "stream",
     "text": [
      "--------------------------------------------- Result 7 ---------------------------------------------\n",
      "[[1 (93%)]] --> [[0 (83%)]]\n",
      "\n",
      "a slick , well-oiled machine , [[finely]] [[polished]] and upholstered .\n",
      "\n",
      "a slick , well-oiled machine , [[skilfully]] [[scrubbed]] and upholstered .\n",
      "\n",
      "\n"
     ]
    },
    {
     "name": "stderr",
     "output_type": "stream",
     "text": [
      "\n",
      "[Succeeded / Failed / Skipped / Total] 7 / 0 / 1 / 8:  80%|████████  | 8/10 [00:03<00:00,  2.49it/s]\u001b[A"
     ]
    },
    {
     "name": "stdout",
     "output_type": "stream",
     "text": [
      "--------------------------------------------- Result 8 ---------------------------------------------\n",
      "[[1 (71%)]] --> [[0 (53%)]]\n",
      "\n",
      "many a parent and their teen ( or preteen ) kid could bond while watching a walk to recollect . so could young romantics out on a [[dates]] .\n",
      "\n",
      "many a parent and their teen ( or preteen ) kid could bond while watching a walk to recollect . so could young romantics out on a [[deadlines]] .\n",
      "\n",
      "\n"
     ]
    },
    {
     "name": "stderr",
     "output_type": "stream",
     "text": [
      "\n",
      "[Succeeded / Failed / Skipped / Total] 7 / 0 / 1 / 8:  90%|█████████ | 9/10 [00:04<00:00,  2.12it/s]\u001b[A\n",
      "[Succeeded / Failed / Skipped / Total] 8 / 0 / 1 / 9:  90%|█████████ | 9/10 [00:04<00:00,  2.11it/s]\u001b[A\n",
      "[Succeeded / Failed / Skipped / Total] 9 / 0 / 1 / 10: 100%|██████████| 10/10 [00:04<00:00,  2.26it/s]\u001b[A"
     ]
    },
    {
     "name": "stdout",
     "output_type": "stream",
     "text": [
      "--------------------------------------------- Result 9 ---------------------------------------------\n",
      "[[0 (93%)]] --> [[1 (56%)]]\n",
      "\n",
      "due to stodgy , soap opera-ish [[dialogue]] , the [[rest]] of the [[cast]] [[comes]] across as [[stick]] [[numerals]] [[reading]] [[lines]] from a [[prompter]] .\n",
      "\n",
      "due to stodgy , soap opera-ish [[speaks]] , the [[stayed]] of the [[molded]] [[reaches]] across as [[rod]] [[numbers]] [[reader]] [[pathways]] from a [[midshipman]] .\n",
      "\n",
      "\n",
      "--------------------------------------------- Result 10 ---------------------------------------------\n",
      "[[0 (91%)]] --> [[1 (64%)]]\n",
      "\n",
      "it's sorted of a 21st century morality play with a latino hip hop beat . but the seconds half of the movie really goes [[downhill]] .\n",
      "\n",
      "it's sorted of a 21st century morality play with a latino hip hop beat . but the seconds half of the movie really goes [[lineage]] .\n",
      "\n",
      "\n",
      "\n",
      "+-------------------------------+--------+\n",
      "| Attack Results                |        |\n",
      "+-------------------------------+--------+\n",
      "| Number of successful attacks: | 9      |\n",
      "| Number of failed attacks:     | 0      |\n",
      "| Number of skipped attacks:    | 1      |\n",
      "| Original accuracy:            | 90.0%  |\n",
      "| Accuracy under attack:        | 0.0%   |\n",
      "| Attack success rate:          | 100.0% |\n",
      "| Average perturbed word %:     | 18.18% |\n",
      "| Average num. words per input: | 17.6   |\n",
      "| Avg num queries:              | 84.89  |\n",
      "+-------------------------------+--------+"
     ]
    },
    {
     "name": "stderr",
     "output_type": "stream",
     "text": [
      "\n"
     ]
    },
    {
     "name": "stdout",
     "output_type": "stream",
     "text": [
      "\n"
     ]
    },
    {
     "data": {
      "image/png": "[encoded data removed]",
      "text/plain": [
       "<Figure size 1000x600 with 1 Axes>"
      ]
     },
     "metadata": {},
     "output_type": "display_data"
    }
   ],
   "source": [
    "import numpy as np\n",
    "import textattack\n",
    "from textattack.models.wrappers import HuggingFaceModelWrapper\n",
    "from textattack.attack_recipes import TextFoolerJin2019\n",
    "from textattack.datasets import Dataset\n",
    "from textattack.augmentation import EasyDataAugmenter, EmbeddingAugmenter\n",
    "from transformers import AutoModelForSequenceClassification, AutoTokenizer\n",
    "import matplotlib.pyplot as plt\n",
    "from datasets import load_dataset\n",
    "\n",
    "# Load the full dataset\n",
    "dataset = load_dataset(\"rotten_tomatoes\", split=\"train\")\n",
    "\n",
    "# Define the model\n",
    "model_name = \"textattack/distilbert-base-uncased-rotten-tomatoes\"\n",
    "model = AutoModelForSequenceClassification.from_pretrained(model_name)\n",
    "tokenizer = AutoTokenizer.from_pretrained(model_name)\n",
    "model_wrapper = HuggingFaceModelWrapper(model, tokenizer)\n",
    "\n",
    "# Define the attack recipe\n",
    "attack_recipe = TextFoolerJin2019.build(model_wrapper)\n",
    "\n",
    "# Define the training set sizes\n",
    "training_set_sizes = [10, 20, 30]\n",
    "\n",
    "# Define the augmentation methods\n",
    "augmentation_methods = [\"Baseline\", \"EDA\", \"Embedding\"]\n",
    "\n",
    "# Define the results dictionary\n",
    "results = {size: {} for size in training_set_sizes}\n",
    "confidence_intervals = {size: {} for size in training_set_sizes}\n",
    "\n",
    "# Multiple runs for confidence intervals\n",
    "num_runs = 5\n",
    "\n",
    "# Loop through the training set sizes and augmentation methods\n",
    "for training_set_size in training_set_sizes:\n",
    "    for augmentation_method in augmentation_methods:\n",
    "        # Store multiple run results\n",
    "        method_results = []\n",
    "\n",
    "        for _ in range(num_runs):\n",
    "            # Randomly sample from the dataset\n",
    "            np.random.seed()  # Different seed each time\n",
    "            actual_size = min(training_set_size, len(dataset))\n",
    "            subset_indices = np.random.choice(len(dataset), actual_size, replace=False)\n",
    "            subset_dataset = dataset.select(subset_indices)\n",
    "\n",
    "            # Prepare dataset based on augmentation method\n",
    "            if augmentation_method == \"Baseline\":\n",
    "                dataset_ = Dataset([(example['text'], example['label']) for example in subset_dataset])\n",
    "            elif augmentation_method == \"EDA\":\n",
    "                augmenter = EasyDataAugmenter(transformations_per_example=1)\n",
    "                augmented_dataset = []\n",
    "                for example in subset_dataset:\n",
    "                    augmented_text = augmenter.augment(example['text'])[0]\n",
    "                    augmented_dataset.append((augmented_text, example['label']))\n",
    "                dataset_ = Dataset(augmented_dataset)\n",
    "            elif augmentation_method == \"Embedding\":\n",
    "                augmenter = EmbeddingAugmenter(transformations_per_example=1)\n",
    "                augmented_dataset = []\n",
    "                for example in subset_dataset:\n",
    "                    augmented_text = augmenter.augment(example['text'])[0]\n",
    "                    augmented_dataset.append((augmented_text, example['label']))\n",
    "                dataset_ = Dataset(augmented_dataset)\n",
    "\n",
    "            # Create an attacker object with the current dataset\n",
    "            attacker = textattack.Attacker(attack_recipe, dataset_)\n",
    "\n",
    "            # Perform the attack\n",
    "            attack_results = attacker.attack_dataset()\n",
    "\n",
    "            # Calculate success rate\n",
    "            success_rate = sum(1 for r in attack_results if isinstance(r, textattack.attack_results.SuccessfulAttackResult)) / len(attack_results)\n",
    "            method_results.append(success_rate)\n",
    "\n",
    "        # Store results with confidence intervals\n",
    "        results[training_set_size][augmentation_method] = np.mean(method_results)\n",
    "        confidence_intervals[training_set_size][augmentation_method] = np.std(method_results)\n",
    "\n",
    "# Prepare data for plotting\n",
    "success_rates = {method: [results[size][method] for size in training_set_sizes] for method in augmentation_methods}\n",
    "confidence_intervals_plot = {method: [confidence_intervals[size][method] for size in training_set_sizes] for method in augmentation_methods}\n",
    "\n",
    "# Plot the results\n",
    "plt.figure(figsize=(10, 6))\n",
    "for method in augmentation_methods:\n",
    "    plt.errorbar(training_set_sizes, success_rates[method],\n",
    "                 yerr=confidence_intervals_plot[method],\n",
    "                 fmt='-o', capsize=5, label=method)\n",
    "\n",
    "plt.xscale('log')\n",
    "plt.title('Success Rate of Adversarial Attacks by Training Set Size')\n",
    "plt.xlabel('Training Set Size (log scale)')\n",
    "plt.ylabel('Attack Success Rate')\n",
    "plt.legend()\n",
    "plt.grid(True)\n",
    "plt.tight_layout()\n",
    "plt.show()"
   ]
  }
 ],
 "metadata": {
  "accelerator": "GPU",
  "colab": {
   "gpuType": "T4",
   "provenance": []
  },
  "kernelspec": {
   "display_name": "Python 3 (ipykernel)",
   "language": "python",
   "name": "python3"
  },
  "language_info": {
   "codemirror_mode": {
    "name": "ipython",
    "version": 3
   },
   "file_extension": ".py",
   "mimetype": "text/x-python",
   "name": "python",
   "nbconvert_exporter": "python",
   "pygments_lexer": "ipython3",
   "version": "3.8.6"
  },
  "widgets": {
   "application/vnd.jupyter.widget-state+json": {
    "005a9dc0b30f464b9ff7885e5ca302e4": {
     "model_module": "@jupyter-widgets/base",
     "model_module_version": "1.2.0",
     "model_name": "LayoutModel",
     "state": {
      "_model_module": "@jupyter-widgets/base",
      "_model_module_version": "1.2.0",
      "_model_name": "LayoutModel",
      "_view_count": null,
      "_view_module": "@jupyter-widgets/base",
      "_view_module_version": "1.2.0",
      "_view_name": "LayoutView",
      "align_content": null,
      "align_items": null,
      "align_self": null,
      "border": null,
      "bottom": null,
      "display": null,
      "flex": null,
      "flex_flow": null,
      "grid_area": null,
      "grid_auto_columns": null,
      "grid_auto_flow": null,
      "grid_auto_rows": null,
      "grid_column": null,
      "grid_gap": null,
      "grid_row": null,
      "grid_template_areas": null,
      "grid_template_columns": null,
      "grid_template_rows": null,
      "height": null,
      "justify_content": null,
      "justify_items": null,
      "left": null,
      "margin": null,
      "max_height": null,
      "max_width": null,
      "min_height": null,
      "min_width": null,
      "object_fit": null,
      "object_position": null,
      "order": null,
      "overflow": null,
      "overflow_x": null,
      "overflow_y": null,
      "padding": null,
      "right": null,
      "top": null,
      "visibility": null,
      "width": null
     }
    },
    "014953bf81eb47c6a744ed723b80b7de": {
     "model_module": "@jupyter-widgets/base",
     "model_module_version": "1.2.0",
     "model_name": "LayoutModel",
     "state": {
      "_model_module": "@jupyter-widgets/base",
      "_model_module_version": "1.2.0",
      "_model_name": "LayoutModel",
      "_view_count": null,
      "_view_module": "@jupyter-widgets/base",
      "_view_module_version": "1.2.0",
      "_view_name": "LayoutView",
      "align_content": null,
      "align_items": null,
      "align_self": null,
      "border": null,
      "bottom": null,
      "display": null,
      "flex": null,
      "flex_flow": null,
      "grid_area": null,
      "grid_auto_columns": null,
      "grid_auto_flow": null,
      "grid_auto_rows": null,
      "grid_column": null,
      "grid_gap": null,
      "grid_row": null,
      "grid_template_areas": null,
      "grid_template_columns": null,
      "grid_template_rows": null,
      "height": null,
      "justify_content": null,
      "justify_items": null,
      "left": null,
      "margin": null,
      "max_height": null,
      "max_width": null,
      "min_height": null,
      "min_width": null,
      "object_fit": null,
      "object_position": null,
      "order": null,
      "overflow": null,
      "overflow_x": null,
      "overflow_y": null,
      "padding": null,
      "right": null,
      "top": null,
      "visibility": null,
      "width": null
     }
    },
    "02150657eb5a4145898b5557914bc844": {
     "model_module": "@jupyter-widgets/base",
     "model_module_version": "1.2.0",
     "model_name": "LayoutModel",
     "state": {
      "_model_module": "@jupyter-widgets/base",
      "_model_module_version": "1.2.0",
      "_model_name": "LayoutModel",
      "_view_count": null,
      "_view_module": "@jupyter-widgets/base",
      "_view_module_version": "1.2.0",
      "_view_name": "LayoutView",
      "align_content": null,
      "align_items": null,
      "align_self": null,
      "border": null,
      "bottom": null,
      "display": null,
      "flex": null,
      "flex_flow": null,
      "grid_area": null,
      "grid_auto_columns": null,
      "grid_auto_flow": null,
      "grid_auto_rows": null,
      "grid_column": null,
      "grid_gap": null,
      "grid_row": null,
      "grid_template_areas": null,
      "grid_template_columns": null,
      "grid_template_rows": null,
      "height": null,
      "justify_content": null,
      "justify_items": null,
      "left": null,
      "margin": null,
      "max_height": null,
      "max_width": null,
      "min_height": null,
      "min_width": null,
      "object_fit": null,
      "object_position": null,
      "order": null,
      "overflow": null,
      "overflow_x": null,
      "overflow_y": null,
      "padding": null,
      "right": null,
      "top": null,
      "visibility": null,
      "width": null
     }
    },
    "0283bc89194641d48f8559c9308e3332": {
     "model_module": "@jupyter-widgets/controls",
     "model_module_version": "1.5.0",
     "model_name": "HTMLModel",
     "state": {
      "_dom_classes": [],
      "_model_module": "@jupyter-widgets/controls",
      "_model_module_version": "1.5.0",
      "_model_name": "HTMLModel",
      "_view_count": null,
      "_view_module": "@jupyter-widgets/controls",
      "_view_module_version": "1.5.0",
      "_view_name": "HTMLView",
      "description": "",
      "description_tooltip": null,
      "layout": "IPY_MODEL_8b9c740726774c4c988a972f474f05e1",
      "placeholder": "​",
      "style": "IPY_MODEL_f60302e7a05c49f1b7e3882ce6d13ed4",
      "value": " 496/496 [00:00&lt;00:00, 18.9kB/s]"
     }
    },
    "04acaa0525134a9ea88e483e82e0d680": {
     "model_module": "@jupyter-widgets/controls",
     "model_module_version": "1.5.0",
     "model_name": "ProgressStyleModel",
     "state": {
      "_model_module": "@jupyter-widgets/controls",
      "_model_module_version": "1.5.0",
      "_model_name": "ProgressStyleModel",
      "_view_count": null,
      "_view_module": "@jupyter-widgets/base",
      "_view_module_version": "1.2.0",
      "_view_name": "StyleView",
      "bar_color": null,
      "description_width": ""
     }
    },
    "05a8ad74158b42c5965b3f07574c25ff": {
     "model_module": "@jupyter-widgets/controls",
     "model_module_version": "1.5.0",
     "model_name": "ProgressStyleModel",
     "state": {
      "_model_module": "@jupyter-widgets/controls",
      "_model_module_version": "1.5.0",
      "_model_name": "ProgressStyleModel",
      "_view_count": null,
      "_view_module": "@jupyter-widgets/base",
      "_view_module_version": "1.2.0",
      "_view_name": "StyleView",
      "bar_color": null,
      "description_width": ""
     }
    },
    "062b9d8f714647c6a9cd6f139c965ca7": {
     "model_module": "@jupyter-widgets/base",
     "model_module_version": "1.2.0",
     "model_name": "LayoutModel",
     "state": {
      "_model_module": "@jupyter-widgets/base",
      "_model_module_version": "1.2.0",
      "_model_name": "LayoutModel",
      "_view_count": null,
      "_view_module": "@jupyter-widgets/base",
      "_view_module_version": "1.2.0",
      "_view_name": "LayoutView",
      "align_content": null,
      "align_items": null,
      "align_self": null,
      "border": null,
      "bottom": null,
      "display": null,
      "flex": null,
      "flex_flow": null,
      "grid_area": null,
      "grid_auto_columns": null,
      "grid_auto_flow": null,
      "grid_auto_rows": null,
      "grid_column": null,
      "grid_gap": null,
      "grid_row": null,
      "grid_template_areas": null,
      "grid_template_columns": null,
      "grid_template_rows": null,
      "height": null,
      "justify_content": null,
      "justify_items": null,
      "left": null,
      "margin": null,
      "max_height": null,
      "max_width": null,
      "min_height": null,
      "min_width": null,
      "object_fit": null,
      "object_position": null,
      "order": null,
      "overflow": null,
      "overflow_x": null,
      "overflow_y": null,
      "padding": null,
      "right": null,
      "top": null,
      "visibility": null,
      "width": null
     }
    },
    "0a6ae7bf373544278c8040ca2e057d4a": {
     "model_module": "@jupyter-widgets/controls",
     "model_module_version": "1.5.0",
     "model_name": "ProgressStyleModel",
     "state": {
      "_model_module": "@jupyter-widgets/controls",
      "_model_module_version": "1.5.0",
      "_model_name": "ProgressStyleModel",
      "_view_count": null,
      "_view_module": "@jupyter-widgets/base",
      "_view_module_version": "1.2.0",
      "_view_name": "StyleView",
      "bar_color": null,
      "description_width": ""
     }
    },
    "0a86c4cd69d94b99b08d1d6a06860dff": {
     "model_module": "@jupyter-widgets/controls",
     "model_module_version": "1.5.0",
     "model_name": "HBoxModel",
     "state": {
      "_dom_classes": [],
      "_model_module": "@jupyter-widgets/controls",
      "_model_module_version": "1.5.0",
      "_model_name": "HBoxModel",
      "_view_count": null,
      "_view_module": "@jupyter-widgets/controls",
      "_view_module_version": "1.5.0",
      "_view_name": "HBoxView",
      "box_style": "",
      "children": [
       "IPY_MODEL_30f4288027e948f18088f3ba06f60e8a",
       "IPY_MODEL_984473c762dd43a3b931baea0c54b3cc",
       "IPY_MODEL_0283bc89194641d48f8559c9308e3332"
      ],
      "layout": "IPY_MODEL_2faff79341af4fec86f166b4fada9764"
     }
    },
    "0b8314f2e8c34bb18a69363e97854280": {
     "model_module": "@jupyter-widgets/base",
     "model_module_version": "1.2.0",
     "model_name": "LayoutModel",
     "state": {
      "_model_module": "@jupyter-widgets/base",
      "_model_module_version": "1.2.0",
      "_model_name": "LayoutModel",
      "_view_count": null,
      "_view_module": "@jupyter-widgets/base",
      "_view_module_version": "1.2.0",
      "_view_name": "LayoutView",
      "align_content": null,
      "align_items": null,
      "align_self": null,
      "border": null,
      "bottom": null,
      "display": null,
      "flex": null,
      "flex_flow": null,
      "grid_area": null,
      "grid_auto_columns": null,
      "grid_auto_flow": null,
      "grid_auto_rows": null,
      "grid_column": null,
      "grid_gap": null,
      "grid_row": null,
      "grid_template_areas": null,
      "grid_template_columns": null,
      "grid_template_rows": null,
      "height": null,
      "justify_content": null,
      "justify_items": null,
      "left": null,
      "margin": null,
      "max_height": null,
      "max_width": null,
      "min_height": null,
      "min_width": null,
      "object_fit": null,
      "object_position": null,
      "order": null,
      "overflow": null,
      "overflow_x": null,
      "overflow_y": null,
      "padding": null,
      "right": null,
      "top": null,
      "visibility": null,
      "width": null
     }
    },
    "0daa9518e99d46c5b42c0179c2e7f549": {
     "model_module": "@jupyter-widgets/base",
     "model_module_version": "1.2.0",
     "model_name": "LayoutModel",
     "state": {
      "_model_module": "@jupyter-widgets/base",
      "_model_module_version": "1.2.0",
      "_model_name": "LayoutModel",
      "_view_count": null,
      "_view_module": "@jupyter-widgets/base",
      "_view_module_version": "1.2.0",
      "_view_name": "LayoutView",
      "align_content": null,
      "align_items": null,
      "align_self": null,
      "border": null,
      "bottom": null,
      "display": null,
      "flex": null,
      "flex_flow": null,
      "grid_area": null,
      "grid_auto_columns": null,
      "grid_auto_flow": null,
      "grid_auto_rows": null,
      "grid_column": null,
      "grid_gap": null,
      "grid_row": null,
      "grid_template_areas": null,
      "grid_template_columns": null,
      "grid_template_rows": null,
      "height": null,
      "justify_content": null,
      "justify_items": null,
      "left": null,
      "margin": null,
      "max_height": null,
      "max_width": null,
      "min_height": null,
      "min_width": null,
      "object_fit": null,
      "object_position": null,
      "order": null,
      "overflow": null,
      "overflow_x": null,
      "overflow_y": null,
      "padding": null,
      "right": null,
      "top": null,
      "visibility": null,
      "width": null
     }
    },
    "101f2294c07e4120a1d18c52979c87f5": {
     "model_module": "@jupyter-widgets/controls",
     "model_module_version": "1.5.0",
     "model_name": "HBoxModel",
     "state": {
      "_dom_classes": [],
      "_model_module": "@jupyter-widgets/controls",
      "_model_module_version": "1.5.0",
      "_model_name": "HBoxModel",
      "_view_count": null,
      "_view_module": "@jupyter-widgets/controls",
      "_view_module_version": "1.5.0",
      "_view_name": "HBoxView",
      "box_style": "",
      "children": [
       "IPY_MODEL_7d992bd0758a4384a2abc78ff0ba3603",
       "IPY_MODEL_71c72eb8f53b47e4871cebef9ee7d762",
       "IPY_MODEL_6a8e43853bd04d8b89c71d76ff490f52"
      ],
      "layout": "IPY_MODEL_6cbf24ecbb2743daa5662ddc2aa29fed"
     }
    },
    "10fe87bde4094108b3f1374ae138b00d": {
     "model_module": "@jupyter-widgets/base",
     "model_module_version": "1.2.0",
     "model_name": "LayoutModel",
     "state": {
      "_model_module": "@jupyter-widgets/base",
      "_model_module_version": "1.2.0",
      "_model_name": "LayoutModel",
      "_view_count": null,
      "_view_module": "@jupyter-widgets/base",
      "_view_module_version": "1.2.0",
      "_view_name": "LayoutView",
      "align_content": null,
      "align_items": null,
      "align_self": null,
      "border": null,
      "bottom": null,
      "display": null,
      "flex": null,
      "flex_flow": null,
      "grid_area": null,
      "grid_auto_columns": null,
      "grid_auto_flow": null,
      "grid_auto_rows": null,
      "grid_column": null,
      "grid_gap": null,
      "grid_row": null,
      "grid_template_areas": null,
      "grid_template_columns": null,
      "grid_template_rows": null,
      "height": null,
      "justify_content": null,
      "justify_items": null,
      "left": null,
      "margin": null,
      "max_height": null,
      "max_width": null,
      "min_height": null,
      "min_width": null,
      "object_fit": null,
      "object_position": null,
      "order": null,
      "overflow": null,
      "overflow_x": null,
      "overflow_y": null,
      "padding": null,
      "right": null,
      "top": null,
      "visibility": null,
      "width": null
     }
    },
    "13031c518a9c44889af13ab4fbcaa523": {
     "model_module": "@jupyter-widgets/controls",
     "model_module_version": "1.5.0",
     "model_name": "HTMLModel",
     "state": {
      "_dom_classes": [],
      "_model_module": "@jupyter-widgets/controls",
      "_model_module_version": "1.5.0",
      "_model_name": "HTMLModel",
      "_view_count": null,
      "_view_module": "@jupyter-widgets/controls",
      "_view_module_version": "1.5.0",
      "_view_name": "HTMLView",
      "description": "",
      "description_tooltip": null,
      "layout": "IPY_MODEL_4ad8a8ae5f394d5694fe072f05c8b205",
      "placeholder": "​",
      "style": "IPY_MODEL_3283d162580c4523be8b2dec32d42752",
      "value": " 90.0k/90.0k [00:00&lt;00:00, 3.49MB/s]"
     }
    },
    "15c1e99e85a24bab80c244c79c9bc7e0": {
     "model_module": "@jupyter-widgets/controls",
     "model_module_version": "1.5.0",
     "model_name": "FloatProgressModel",
     "state": {
      "_dom_classes": [],
      "_model_module": "@jupyter-widgets/controls",
      "_model_module_version": "1.5.0",
      "_model_name": "FloatProgressModel",
      "_view_count": null,
      "_view_module": "@jupyter-widgets/controls",
      "_view_module_version": "1.5.0",
      "_view_name": "ProgressView",
      "bar_style": "success",
      "description": "",
      "description_tooltip": null,
      "layout": "IPY_MODEL_9fc1d322527940ed9782aace64093e3f",
      "max": 48,
      "min": 0,
      "orientation": "horizontal",
      "style": "IPY_MODEL_916b035891f743688f3f0e7b4264fe05",
      "value": 48
     }
    },
    "1a4011d4518e4cdaa5a2fa1b769128df": {
     "model_module": "@jupyter-widgets/controls",
     "model_module_version": "1.5.0",
     "model_name": "DescriptionStyleModel",
     "state": {
      "_model_module": "@jupyter-widgets/controls",
      "_model_module_version": "1.5.0",
      "_model_name": "DescriptionStyleModel",
      "_view_count": null,
      "_view_module": "@jupyter-widgets/base",
      "_view_module_version": "1.2.0",
      "_view_name": "StyleView",
      "description_width": ""
     }
    },
    "1c4eded5194542d4b77d5c8711ce8bee": {
     "model_module": "@jupyter-widgets/controls",
     "model_module_version": "1.5.0",
     "model_name": "HBoxModel",
     "state": {
      "_dom_classes": [],
      "_model_module": "@jupyter-widgets/controls",
      "_model_module_version": "1.5.0",
      "_model_name": "HBoxModel",
      "_view_count": null,
      "_view_module": "@jupyter-widgets/controls",
      "_view_module_version": "1.5.0",
      "_view_name": "HBoxView",
      "box_style": "",
      "children": [
       "IPY_MODEL_cdb4751c22784ebeb9adff201f190beb",
       "IPY_MODEL_1edd577dafb24dd4adbc3240d243a647",
       "IPY_MODEL_cf683ac40c144ae982875612f3c92e2e"
      ],
      "layout": "IPY_MODEL_b158e4778d3b4714beaa0d768226fdb1"
     }
    },
    "1edd577dafb24dd4adbc3240d243a647": {
     "model_module": "@jupyter-widgets/controls",
     "model_module_version": "1.5.0",
     "model_name": "FloatProgressModel",
     "state": {
      "_dom_classes": [],
      "_model_module": "@jupyter-widgets/controls",
      "_model_module_version": "1.5.0",
      "_model_name": "FloatProgressModel",
      "_view_count": null,
      "_view_module": "@jupyter-widgets/controls",
      "_view_module_version": "1.5.0",
      "_view_name": "ProgressView",
      "bar_style": "success",
      "description": "",
      "description_tooltip": null,
      "layout": "IPY_MODEL_2ed9e8eac13c46f7b40687287592917b",
      "max": 1066,
      "min": 0,
      "orientation": "horizontal",
      "style": "IPY_MODEL_2d15e7097cb6414c8c016c066c0f8fcc",
      "value": 1066
     }
    },
    "1fa7b2fbed844e94990df8de6cc02d27": {
     "model_module": "@jupyter-widgets/base",
     "model_module_version": "1.2.0",
     "model_name": "LayoutModel",
     "state": {
      "_model_module": "@jupyter-widgets/base",
      "_model_module_version": "1.2.0",
      "_model_name": "LayoutModel",
      "_view_count": null,
      "_view_module": "@jupyter-widgets/base",
      "_view_module_version": "1.2.0",
      "_view_name": "LayoutView",
      "align_content": null,
      "align_items": null,
      "align_self": null,
      "border": null,
      "bottom": null,
      "display": null,
      "flex": null,
      "flex_flow": null,
      "grid_area": null,
      "grid_auto_columns": null,
      "grid_auto_flow": null,
      "grid_auto_rows": null,
      "grid_column": null,
      "grid_gap": null,
      "grid_row": null,
      "grid_template_areas": null,
      "grid_template_columns": null,
      "grid_template_rows": null,
      "height": null,
      "justify_content": null,
      "justify_items": null,
      "left": null,
      "margin": null,
      "max_height": null,
      "max_width": null,
      "min_height": null,
      "min_width": null,
      "object_fit": null,
      "object_position": null,
      "order": null,
      "overflow": null,
      "overflow_x": null,
      "overflow_y": null,
      "padding": null,
      "right": null,
      "top": null,
      "visibility": null,
      "width": null
     }
    },
    "1ff50e393dc24d8b807d5cb0af1569e0": {
     "model_module": "@jupyter-widgets/base",
     "model_module_version": "1.2.0",
     "model_name": "LayoutModel",
     "state": {
      "_model_module": "@jupyter-widgets/base",
      "_model_module_version": "1.2.0",
      "_model_name": "LayoutModel",
      "_view_count": null,
      "_view_module": "@jupyter-widgets/base",
      "_view_module_version": "1.2.0",
      "_view_name": "LayoutView",
      "align_content": null,
      "align_items": null,
      "align_self": null,
      "border": null,
      "bottom": null,
      "display": null,
      "flex": null,
      "flex_flow": null,
      "grid_area": null,
      "grid_auto_columns": null,
      "grid_auto_flow": null,
      "grid_auto_rows": null,
      "grid_column": null,
      "grid_gap": null,
      "grid_row": null,
      "grid_template_areas": null,
      "grid_template_columns": null,
      "grid_template_rows": null,
      "height": null,
      "justify_content": null,
      "justify_items": null,
      "left": null,
      "margin": null,
      "max_height": null,
      "max_width": null,
      "min_height": null,
      "min_width": null,
      "object_fit": null,
      "object_position": null,
      "order": null,
      "overflow": null,
      "overflow_x": null,
      "overflow_y": null,
      "padding": null,
      "right": null,
      "top": null,
      "visibility": null,
      "width": null
     }
    },
    "21feaf5753bd45cea2860bcfed1e1024": {
     "model_module": "@jupyter-widgets/controls",
     "model_module_version": "1.5.0",
     "model_name": "HBoxModel",
     "state": {
      "_dom_classes": [],
      "_model_module": "@jupyter-widgets/controls",
      "_model_module_version": "1.5.0",
      "_model_name": "HBoxModel",
      "_view_count": null,
      "_view_module": "@jupyter-widgets/controls",
      "_view_module_version": "1.5.0",
      "_view_name": "HBoxView",
      "box_style": "",
      "children": [
       "IPY_MODEL_c6e85081dea84e1dbe4cd82972a0415f",
       "IPY_MODEL_15c1e99e85a24bab80c244c79c9bc7e0",
       "IPY_MODEL_e51f6d2b967c49f2b09e21191f4de5d6"
      ],
      "layout": "IPY_MODEL_10fe87bde4094108b3f1374ae138b00d"
     }
    },
    "26e7863f76a4404284475e20efedd5f7": {
     "model_module": "@jupyter-widgets/controls",
     "model_module_version": "1.5.0",
     "model_name": "ProgressStyleModel",
     "state": {
      "_model_module": "@jupyter-widgets/controls",
      "_model_module_version": "1.5.0",
      "_model_name": "ProgressStyleModel",
      "_view_count": null,
      "_view_module": "@jupyter-widgets/base",
      "_view_module_version": "1.2.0",
      "_view_name": "StyleView",
      "bar_color": null,
      "description_width": ""
     }
    },
    "2992ea6ccc334992ab92da5e09120f03": {
     "model_module": "@jupyter-widgets/base",
     "model_module_version": "1.2.0",
     "model_name": "LayoutModel",
     "state": {
      "_model_module": "@jupyter-widgets/base",
      "_model_module_version": "1.2.0",
      "_model_name": "LayoutModel",
      "_view_count": null,
      "_view_module": "@jupyter-widgets/base",
      "_view_module_version": "1.2.0",
      "_view_name": "LayoutView",
      "align_content": null,
      "align_items": null,
      "align_self": null,
      "border": null,
      "bottom": null,
      "display": null,
      "flex": null,
      "flex_flow": null,
      "grid_area": null,
      "grid_auto_columns": null,
      "grid_auto_flow": null,
      "grid_auto_rows": null,
      "grid_column": null,
      "grid_gap": null,
      "grid_row": null,
      "grid_template_areas": null,
      "grid_template_columns": null,
      "grid_template_rows": null,
      "height": null,
      "justify_content": null,
      "justify_items": null,
      "left": null,
      "margin": null,
      "max_height": null,
      "max_width": null,
      "min_height": null,
      "min_width": null,
      "object_fit": null,
      "object_position": null,
      "order": null,
      "overflow": null,
      "overflow_x": null,
      "overflow_y": null,
      "padding": null,
      "right": null,
      "top": null,
      "visibility": null,
      "width": null
     }
    },
    "2c312bc61a974cc698c7be4024c4e329": {
     "model_module": "@jupyter-widgets/base",
     "model_module_version": "1.2.0",
     "model_name": "LayoutModel",
     "state": {
      "_model_module": "@jupyter-widgets/base",
      "_model_module_version": "1.2.0",
      "_model_name": "LayoutModel",
      "_view_count": null,
      "_view_module": "@jupyter-widgets/base",
      "_view_module_version": "1.2.0",
      "_view_name": "LayoutView",
      "align_content": null,
      "align_items": null,
      "align_self": null,
      "border": null,
      "bottom": null,
      "display": null,
      "flex": null,
      "flex_flow": null,
      "grid_area": null,
      "grid_auto_columns": null,
      "grid_auto_flow": null,
      "grid_auto_rows": null,
      "grid_column": null,
      "grid_gap": null,
      "grid_row": null,
      "grid_template_areas": null,
      "grid_template_columns": null,
      "grid_template_rows": null,
      "height": null,
      "justify_content": null,
      "justify_items": null,
      "left": null,
      "margin": null,
      "max_height": null,
      "max_width": null,
      "min_height": null,
      "min_width": null,
      "object_fit": null,
      "object_position": null,
      "order": null,
      "overflow": null,
      "overflow_x": null,
      "overflow_y": null,
      "padding": null,
      "right": null,
      "top": null,
      "visibility": null,
      "width": null
     }
    },
    "2d15e7097cb6414c8c016c066c0f8fcc": {
     "model_module": "@jupyter-widgets/controls",
     "model_module_version": "1.5.0",
     "model_name": "ProgressStyleModel",
     "state": {
      "_model_module": "@jupyter-widgets/controls",
      "_model_module_version": "1.5.0",
      "_model_name": "ProgressStyleModel",
      "_view_count": null,
      "_view_module": "@jupyter-widgets/base",
      "_view_module_version": "1.2.0",
      "_view_name": "StyleView",
      "bar_color": null,
      "description_width": ""
     }
    },
    "2ed9e8eac13c46f7b40687287592917b": {
     "model_module": "@jupyter-widgets/base",
     "model_module_version": "1.2.0",
     "model_name": "LayoutModel",
     "state": {
      "_model_module": "@jupyter-widgets/base",
      "_model_module_version": "1.2.0",
      "_model_name": "LayoutModel",
      "_view_count": null,
      "_view_module": "@jupyter-widgets/base",
      "_view_module_version": "1.2.0",
      "_view_name": "LayoutView",
      "align_content": null,
      "align_items": null,
      "align_self": null,
      "border": null,
      "bottom": null,
      "display": null,
      "flex": null,
      "flex_flow": null,
      "grid_area": null,
      "grid_auto_columns": null,
      "grid_auto_flow": null,
      "grid_auto_rows": null,
      "grid_column": null,
      "grid_gap": null,
      "grid_row": null,
      "grid_template_areas": null,
      "grid_template_columns": null,
      "grid_template_rows": null,
      "height": null,
      "justify_content": null,
      "justify_items": null,
      "left": null,
      "margin": null,
      "max_height": null,
      "max_width": null,
      "min_height": null,
      "min_width": null,
      "object_fit": null,
      "object_position": null,
      "order": null,
      "overflow": null,
      "overflow_x": null,
      "overflow_y": null,
      "padding": null,
      "right": null,
      "top": null,
      "visibility": null,
      "width": null
     }
    },
    "2faff79341af4fec86f166b4fada9764": {
     "model_module": "@jupyter-widgets/base",
     "model_module_version": "1.2.0",
     "model_name": "LayoutModel",
     "state": {
      "_model_module": "@jupyter-widgets/base",
      "_model_module_version": "1.2.0",
      "_model_name": "LayoutModel",
      "_view_count": null,
      "_view_module": "@jupyter-widgets/base",
      "_view_module_version": "1.2.0",
      "_view_name": "LayoutView",
      "align_content": null,
      "align_items": null,
      "align_self": null,
      "border": null,
      "bottom": null,
      "display": null,
      "flex": null,
      "flex_flow": null,
      "grid_area": null,
      "grid_auto_columns": null,
      "grid_auto_flow": null,
      "grid_auto_rows": null,
      "grid_column": null,
      "grid_gap": null,
      "grid_row": null,
      "grid_template_areas": null,
      "grid_template_columns": null,
      "grid_template_rows": null,
      "height": null,
      "justify_content": null,
      "justify_items": null,
      "left": null,
      "margin": null,
      "max_height": null,
      "max_width": null,
      "min_height": null,
      "min_width": null,
      "object_fit": null,
      "object_position": null,
      "order": null,
      "overflow": null,
      "overflow_x": null,
      "overflow_y": null,
      "padding": null,
      "right": null,
      "top": null,
      "visibility": null,
      "width": null
     }
    },
    "30f4288027e948f18088f3ba06f60e8a": {
     "model_module": "@jupyter-widgets/controls",
     "model_module_version": "1.5.0",
     "model_name": "HTMLModel",
     "state": {
      "_dom_classes": [],
      "_model_module": "@jupyter-widgets/controls",
      "_model_module_version": "1.5.0",
      "_model_name": "HTMLModel",
      "_view_count": null,
      "_view_module": "@jupyter-widgets/controls",
      "_view_module_version": "1.5.0",
      "_view_name": "HTMLView",
      "description": "",
      "description_tooltip": null,
      "layout": "IPY_MODEL_a9e6bbaabb374615b96ed5ad21cb27a2",
      "placeholder": "​",
      "style": "IPY_MODEL_8f04bb8cb4c544a88764c9eff83f0cbf",
      "value": "config.json: 100%"
     }
    },
    "3139a8f55afa4712a0b308338118ba5e": {
     "model_module": "@jupyter-widgets/controls",
     "model_module_version": "1.5.0",
     "model_name": "HTMLModel",
     "state": {
      "_dom_classes": [],
      "_model_module": "@jupyter-widgets/controls",
      "_model_module_version": "1.5.0",
      "_model_name": "HTMLModel",
      "_view_count": null,
      "_view_module": "@jupyter-widgets/controls",
      "_view_module_version": "1.5.0",
      "_view_name": "HTMLView",
      "description": "",
      "description_tooltip": null,
      "layout": "IPY_MODEL_e58c7ed2862f4e2293f19d94f0cca7ab",
      "placeholder": "​",
      "style": "IPY_MODEL_776a643b33e34dec90d0d45292e6f2e6",
      "value": " 112/112 [00:00&lt;00:00, 5.23kB/s]"
     }
    },
    "317df84546b0498da872b59e32f509b5": {
     "model_module": "@jupyter-widgets/controls",
     "model_module_version": "1.5.0",
     "model_name": "HTMLModel",
     "state": {
      "_dom_classes": [],
      "_model_module": "@jupyter-widgets/controls",
      "_model_module_version": "1.5.0",
      "_model_name": "HTMLModel",
      "_view_count": null,
      "_view_module": "@jupyter-widgets/controls",
      "_view_module_version": "1.5.0",
      "_view_name": "HTMLView",
      "description": "",
      "description_tooltip": null,
      "layout": "IPY_MODEL_e8b308f25d9f49fda8bf56dd6268ab49",
      "placeholder": "​",
      "style": "IPY_MODEL_b4164cf8624f410493c3e4e968d6a532",
      "value": "train.parquet: 100%"
     }
    },
    "31dd78dd62094c7f9cdaef7947213015": {
     "model_module": "@jupyter-widgets/controls",
     "model_module_version": "1.5.0",
     "model_name": "HTMLModel",
     "state": {
      "_dom_classes": [],
      "_model_module": "@jupyter-widgets/controls",
      "_model_module_version": "1.5.0",
      "_model_name": "HTMLModel",
      "_view_count": null,
      "_view_module": "@jupyter-widgets/controls",
      "_view_module_version": "1.5.0",
      "_view_name": "HTMLView",
      "description": "",
      "description_tooltip": null,
      "layout": "IPY_MODEL_52e1092979c744a6bdec30fad5c0e715",
      "placeholder": "​",
      "style": "IPY_MODEL_3eae80fcd8b24c5a9eea715e84292652",
      "value": " 232k/232k [00:00&lt;00:00, 5.98MB/s]"
     }
    },
    "32761836f27847f18f316f7fcdd2a260": {
     "model_module": "@jupyter-widgets/controls",
     "model_module_version": "1.5.0",
     "model_name": "HBoxModel",
     "state": {
      "_dom_classes": [],
      "_model_module": "@jupyter-widgets/controls",
      "_model_module_version": "1.5.0",
      "_model_name": "HBoxModel",
      "_view_count": null,
      "_view_module": "@jupyter-widgets/controls",
      "_view_module_version": "1.5.0",
      "_view_name": "HBoxView",
      "box_style": "",
      "children": [
       "IPY_MODEL_64808644f9e04d9696f5e0a0b2a64362",
       "IPY_MODEL_64e4f4a201a84c67bb8d1d21aba0c7fb",
       "IPY_MODEL_7f520b5a354f410ab81329a8f6040cf1"
      ],
      "layout": "IPY_MODEL_a9c79d3073874f2c8d7b577631817ff7"
     }
    },
    "3283d162580c4523be8b2dec32d42752": {
     "model_module": "@jupyter-widgets/controls",
     "model_module_version": "1.5.0",
     "model_name": "DescriptionStyleModel",
     "state": {
      "_model_module": "@jupyter-widgets/controls",
      "_model_module_version": "1.5.0",
      "_model_name": "DescriptionStyleModel",
      "_view_count": null,
      "_view_module": "@jupyter-widgets/base",
      "_view_module_version": "1.2.0",
      "_view_name": "StyleView",
      "description_width": ""
     }
    },
    "3429ebc4456c40c081ca199aadf70c3e": {
     "model_module": "@jupyter-widgets/controls",
     "model_module_version": "1.5.0",
     "model_name": "DescriptionStyleModel",
     "state": {
      "_model_module": "@jupyter-widgets/controls",
      "_model_module_version": "1.5.0",
      "_model_name": "DescriptionStyleModel",
      "_view_count": null,
      "_view_module": "@jupyter-widgets/base",
      "_view_module_version": "1.2.0",
      "_view_name": "StyleView",
      "description_width": ""
     }
    },
    "3689fbae503d4fa1808d3c840f659e16": {
     "model_module": "@jupyter-widgets/base",
     "model_module_version": "1.2.0",
     "model_name": "LayoutModel",
     "state": {
      "_model_module": "@jupyter-widgets/base",
      "_model_module_version": "1.2.0",
      "_model_name": "LayoutModel",
      "_view_count": null,
      "_view_module": "@jupyter-widgets/base",
      "_view_module_version": "1.2.0",
      "_view_name": "LayoutView",
      "align_content": null,
      "align_items": null,
      "align_self": null,
      "border": null,
      "bottom": null,
      "display": null,
      "flex": null,
      "flex_flow": null,
      "grid_area": null,
      "grid_auto_columns": null,
      "grid_auto_flow": null,
      "grid_auto_rows": null,
      "grid_column": null,
      "grid_gap": null,
      "grid_row": null,
      "grid_template_areas": null,
      "grid_template_columns": null,
      "grid_template_rows": null,
      "height": null,
      "justify_content": null,
      "justify_items": null,
      "left": null,
      "margin": null,
      "max_height": null,
      "max_width": null,
      "min_height": null,
      "min_width": null,
      "object_fit": null,
      "object_position": null,
      "order": null,
      "overflow": null,
      "overflow_x": null,
      "overflow_y": null,
      "padding": null,
      "right": null,
      "top": null,
      "visibility": null,
      "width": null
     }
    },
    "3ac27eef6beb45b596e298282ac20481": {
     "model_module": "@jupyter-widgets/controls",
     "model_module_version": "1.5.0",
     "model_name": "DescriptionStyleModel",
     "state": {
      "_model_module": "@jupyter-widgets/controls",
      "_model_module_version": "1.5.0",
      "_model_name": "DescriptionStyleModel",
      "_view_count": null,
      "_view_module": "@jupyter-widgets/base",
      "_view_module_version": "1.2.0",
      "_view_name": "StyleView",
      "description_width": ""
     }
    },
    "3cd51a772e23470cbf32591a3cdd4f7f": {
     "model_module": "@jupyter-widgets/controls",
     "model_module_version": "1.5.0",
     "model_name": "HTMLModel",
     "state": {
      "_dom_classes": [],
      "_model_module": "@jupyter-widgets/controls",
      "_model_module_version": "1.5.0",
      "_model_name": "HTMLModel",
      "_view_count": null,
      "_view_module": "@jupyter-widgets/controls",
      "_view_module_version": "1.5.0",
      "_view_name": "HTMLView",
      "description": "",
      "description_tooltip": null,
      "layout": "IPY_MODEL_7f357c1369c1483e9e109b1d0b99f7fb",
      "placeholder": "​",
      "style": "IPY_MODEL_4ff750a204e148ffb443ab3188755cf6",
      "value": "Generating train split: 100%"
     }
    },
    "3eae80fcd8b24c5a9eea715e84292652": {
     "model_module": "@jupyter-widgets/controls",
     "model_module_version": "1.5.0",
     "model_name": "DescriptionStyleModel",
     "state": {
      "_model_module": "@jupyter-widgets/controls",
      "_model_module_version": "1.5.0",
      "_model_name": "DescriptionStyleModel",
      "_view_count": null,
      "_view_module": "@jupyter-widgets/base",
      "_view_module_version": "1.2.0",
      "_view_name": "StyleView",
      "description_width": ""
     }
    },
    "3f232e7be5e64a8ba8b9c605981f4fd8": {
     "model_module": "@jupyter-widgets/base",
     "model_module_version": "1.2.0",
     "model_name": "LayoutModel",
     "state": {
      "_model_module": "@jupyter-widgets/base",
      "_model_module_version": "1.2.0",
      "_model_name": "LayoutModel",
      "_view_count": null,
      "_view_module": "@jupyter-widgets/base",
      "_view_module_version": "1.2.0",
      "_view_name": "LayoutView",
      "align_content": null,
      "align_items": null,
      "align_self": null,
      "border": null,
      "bottom": null,
      "display": null,
      "flex": null,
      "flex_flow": null,
      "grid_area": null,
      "grid_auto_columns": null,
      "grid_auto_flow": null,
      "grid_auto_rows": null,
      "grid_column": null,
      "grid_gap": null,
      "grid_row": null,
      "grid_template_areas": null,
      "grid_template_columns": null,
      "grid_template_rows": null,
      "height": null,
      "justify_content": null,
      "justify_items": null,
      "left": null,
      "margin": null,
      "max_height": null,
      "max_width": null,
      "min_height": null,
      "min_width": null,
      "object_fit": null,
      "object_position": null,
      "order": null,
      "overflow": null,
      "overflow_x": null,
      "overflow_y": null,
      "padding": null,
      "right": null,
      "top": null,
      "visibility": null,
      "width": null
     }
    },
    "409d4505adbe47ceaab58c9d7f16ed57": {
     "model_module": "@jupyter-widgets/controls",
     "model_module_version": "1.5.0",
     "model_name": "DescriptionStyleModel",
     "state": {
      "_model_module": "@jupyter-widgets/controls",
      "_model_module_version": "1.5.0",
      "_model_name": "DescriptionStyleModel",
      "_view_count": null,
      "_view_module": "@jupyter-widgets/base",
      "_view_module_version": "1.2.0",
      "_view_name": "StyleView",
      "description_width": ""
     }
    },
    "4593bb6e5baa4f5a9a2fff7f8b971543": {
     "model_module": "@jupyter-widgets/base",
     "model_module_version": "1.2.0",
     "model_name": "LayoutModel",
     "state": {
      "_model_module": "@jupyter-widgets/base",
      "_model_module_version": "1.2.0",
      "_model_name": "LayoutModel",
      "_view_count": null,
      "_view_module": "@jupyter-widgets/base",
      "_view_module_version": "1.2.0",
      "_view_name": "LayoutView",
      "align_content": null,
      "align_items": null,
      "align_self": null,
      "border": null,
      "bottom": null,
      "display": null,
      "flex": null,
      "flex_flow": null,
      "grid_area": null,
      "grid_auto_columns": null,
      "grid_auto_flow": null,
      "grid_auto_rows": null,
      "grid_column": null,
      "grid_gap": null,
      "grid_row": null,
      "grid_template_areas": null,
      "grid_template_columns": null,
      "grid_template_rows": null,
      "height": null,
      "justify_content": null,
      "justify_items": null,
      "left": null,
      "margin": null,
      "max_height": null,
      "max_width": null,
      "min_height": null,
      "min_width": null,
      "object_fit": null,
      "object_position": null,
      "order": null,
      "overflow": null,
      "overflow_x": null,
      "overflow_y": null,
      "padding": null,
      "right": null,
      "top": null,
      "visibility": null,
      "width": null
     }
    },
    "49b55f13ed654a899201dad37cd6c79c": {
     "model_module": "@jupyter-widgets/base",
     "model_module_version": "1.2.0",
     "model_name": "LayoutModel",
     "state": {
      "_model_module": "@jupyter-widgets/base",
      "_model_module_version": "1.2.0",
      "_model_name": "LayoutModel",
      "_view_count": null,
      "_view_module": "@jupyter-widgets/base",
      "_view_module_version": "1.2.0",
      "_view_name": "LayoutView",
      "align_content": null,
      "align_items": null,
      "align_self": null,
      "border": null,
      "bottom": null,
      "display": null,
      "flex": null,
      "flex_flow": null,
      "grid_area": null,
      "grid_auto_columns": null,
      "grid_auto_flow": null,
      "grid_auto_rows": null,
      "grid_column": null,
      "grid_gap": null,
      "grid_row": null,
      "grid_template_areas": null,
      "grid_template_columns": null,
      "grid_template_rows": null,
      "height": null,
      "justify_content": null,
      "justify_items": null,
      "left": null,
      "margin": null,
      "max_height": null,
      "max_width": null,
      "min_height": null,
      "min_width": null,
      "object_fit": null,
      "object_position": null,
      "order": null,
      "overflow": null,
      "overflow_x": null,
      "overflow_y": null,
      "padding": null,
      "right": null,
      "top": null,
      "visibility": null,
      "width": null
     }
    },
    "4ad8a8ae5f394d5694fe072f05c8b205": {
     "model_module": "@jupyter-widgets/base",
     "model_module_version": "1.2.0",
     "model_name": "LayoutModel",
     "state": {
      "_model_module": "@jupyter-widgets/base",
      "_model_module_version": "1.2.0",
      "_model_name": "LayoutModel",
      "_view_count": null,
      "_view_module": "@jupyter-widgets/base",
      "_view_module_version": "1.2.0",
      "_view_name": "LayoutView",
      "align_content": null,
      "align_items": null,
      "align_self": null,
      "border": null,
      "bottom": null,
      "display": null,
      "flex": null,
      "flex_flow": null,
      "grid_area": null,
      "grid_auto_columns": null,
      "grid_auto_flow": null,
      "grid_auto_rows": null,
      "grid_column": null,
      "grid_gap": null,
      "grid_row": null,
      "grid_template_areas": null,
      "grid_template_columns": null,
      "grid_template_rows": null,
      "height": null,
      "justify_content": null,
      "justify_items": null,
      "left": null,
      "margin": null,
      "max_height": null,
      "max_width": null,
      "min_height": null,
      "min_width": null,
      "object_fit": null,
      "object_position": null,
      "order": null,
      "overflow": null,
      "overflow_x": null,
      "overflow_y": null,
      "padding": null,
      "right": null,
      "top": null,
      "visibility": null,
      "width": null
     }
    },
    "4ff750a204e148ffb443ab3188755cf6": {
     "model_module": "@jupyter-widgets/controls",
     "model_module_version": "1.5.0",
     "model_name": "DescriptionStyleModel",
     "state": {
      "_model_module": "@jupyter-widgets/controls",
      "_model_module_version": "1.5.0",
      "_model_name": "DescriptionStyleModel",
      "_view_count": null,
      "_view_module": "@jupyter-widgets/base",
      "_view_module_version": "1.2.0",
      "_view_name": "StyleView",
      "description_width": ""
     }
    },
    "5060b4211a3f4a4cba7425bc85eec0c7": {
     "model_module": "@jupyter-widgets/base",
     "model_module_version": "1.2.0",
     "model_name": "LayoutModel",
     "state": {
      "_model_module": "@jupyter-widgets/base",
      "_model_module_version": "1.2.0",
      "_model_name": "LayoutModel",
      "_view_count": null,
      "_view_module": "@jupyter-widgets/base",
      "_view_module_version": "1.2.0",
      "_view_name": "LayoutView",
      "align_content": null,
      "align_items": null,
      "align_self": null,
      "border": null,
      "bottom": null,
      "display": null,
      "flex": null,
      "flex_flow": null,
      "grid_area": null,
      "grid_auto_columns": null,
      "grid_auto_flow": null,
      "grid_auto_rows": null,
      "grid_column": null,
      "grid_gap": null,
      "grid_row": null,
      "grid_template_areas": null,
      "grid_template_columns": null,
      "grid_template_rows": null,
      "height": null,
      "justify_content": null,
      "justify_items": null,
      "left": null,
      "margin": null,
      "max_height": null,
      "max_width": null,
      "min_height": null,
      "min_width": null,
      "object_fit": null,
      "object_position": null,
      "order": null,
      "overflow": null,
      "overflow_x": null,
      "overflow_y": null,
      "padding": null,
      "right": null,
      "top": null,
      "visibility": null,
      "width": null
     }
    },
    "52e1092979c744a6bdec30fad5c0e715": {
     "model_module": "@jupyter-widgets/base",
     "model_module_version": "1.2.0",
     "model_name": "LayoutModel",
     "state": {
      "_model_module": "@jupyter-widgets/base",
      "_model_module_version": "1.2.0",
      "_model_name": "LayoutModel",
      "_view_count": null,
      "_view_module": "@jupyter-widgets/base",
      "_view_module_version": "1.2.0",
      "_view_name": "LayoutView",
      "align_content": null,
      "align_items": null,
      "align_self": null,
      "border": null,
      "bottom": null,
      "display": null,
      "flex": null,
      "flex_flow": null,
      "grid_area": null,
      "grid_auto_columns": null,
      "grid_auto_flow": null,
      "grid_auto_rows": null,
      "grid_column": null,
      "grid_gap": null,
      "grid_row": null,
      "grid_template_areas": null,
      "grid_template_columns": null,
      "grid_template_rows": null,
      "height": null,
      "justify_content": null,
      "justify_items": null,
      "left": null,
      "margin": null,
      "max_height": null,
      "max_width": null,
      "min_height": null,
      "min_width": null,
      "object_fit": null,
      "object_position": null,
      "order": null,
      "overflow": null,
      "overflow_x": null,
      "overflow_y": null,
      "padding": null,
      "right": null,
      "top": null,
      "visibility": null,
      "width": null
     }
    },
    "5393986261f14c98a48eb742c6e462eb": {
     "model_module": "@jupyter-widgets/controls",
     "model_module_version": "1.5.0",
     "model_name": "FloatProgressModel",
     "state": {
      "_dom_classes": [],
      "_model_module": "@jupyter-widgets/controls",
      "_model_module_version": "1.5.0",
      "_model_name": "FloatProgressModel",
      "_view_count": null,
      "_view_module": "@jupyter-widgets/controls",
      "_view_module_version": "1.5.0",
      "_view_name": "ProgressView",
      "bar_style": "success",
      "description": "",
      "description_tooltip": null,
      "layout": "IPY_MODEL_3f232e7be5e64a8ba8b9c605981f4fd8",
      "max": 92206,
      "min": 0,
      "orientation": "horizontal",
      "style": "IPY_MODEL_5541fb4cecde4b7898e3db400e11a797",
      "value": 92206
     }
    },
    "5541fb4cecde4b7898e3db400e11a797": {
     "model_module": "@jupyter-widgets/controls",
     "model_module_version": "1.5.0",
     "model_name": "ProgressStyleModel",
     "state": {
      "_model_module": "@jupyter-widgets/controls",
      "_model_module_version": "1.5.0",
      "_model_name": "ProgressStyleModel",
      "_view_count": null,
      "_view_module": "@jupyter-widgets/base",
      "_view_module_version": "1.2.0",
      "_view_name": "StyleView",
      "bar_color": null,
      "description_width": ""
     }
    },
    "554cc8f8abd94af8a0814ae1bd3f57d3": {
     "model_module": "@jupyter-widgets/base",
     "model_module_version": "1.2.0",
     "model_name": "LayoutModel",
     "state": {
      "_model_module": "@jupyter-widgets/base",
      "_model_module_version": "1.2.0",
      "_model_name": "LayoutModel",
      "_view_count": null,
      "_view_module": "@jupyter-widgets/base",
      "_view_module_version": "1.2.0",
      "_view_name": "LayoutView",
      "align_content": null,
      "align_items": null,
      "align_self": null,
      "border": null,
      "bottom": null,
      "display": null,
      "flex": null,
      "flex_flow": null,
      "grid_area": null,
      "grid_auto_columns": null,
      "grid_auto_flow": null,
      "grid_auto_rows": null,
      "grid_column": null,
      "grid_gap": null,
      "grid_row": null,
      "grid_template_areas": null,
      "grid_template_columns": null,
      "grid_template_rows": null,
      "height": null,
      "justify_content": null,
      "justify_items": null,
      "left": null,
      "margin": null,
      "max_height": null,
      "max_width": null,
      "min_height": null,
      "min_width": null,
      "object_fit": null,
      "object_position": null,
      "order": null,
      "overflow": null,
      "overflow_x": null,
      "overflow_y": null,
      "padding": null,
      "right": null,
      "top": null,
      "visibility": null,
      "width": null
     }
    },
    "59cc6631d46e49339e9076540c1caaed": {
     "model_module": "@jupyter-widgets/controls",
     "model_module_version": "1.5.0",
     "model_name": "DescriptionStyleModel",
     "state": {
      "_model_module": "@jupyter-widgets/controls",
      "_model_module_version": "1.5.0",
      "_model_name": "DescriptionStyleModel",
      "_view_count": null,
      "_view_module": "@jupyter-widgets/base",
      "_view_module_version": "1.2.0",
      "_view_name": "StyleView",
      "description_width": ""
     }
    },
    "5f82819e7adf4900b5054f4a10ee8d1f": {
     "model_module": "@jupyter-widgets/base",
     "model_module_version": "1.2.0",
     "model_name": "LayoutModel",
     "state": {
      "_model_module": "@jupyter-widgets/base",
      "_model_module_version": "1.2.0",
      "_model_name": "LayoutModel",
      "_view_count": null,
      "_view_module": "@jupyter-widgets/base",
      "_view_module_version": "1.2.0",
      "_view_name": "LayoutView",
      "align_content": null,
      "align_items": null,
      "align_self": null,
      "border": null,
      "bottom": null,
      "display": null,
      "flex": null,
      "flex_flow": null,
      "grid_area": null,
      "grid_auto_columns": null,
      "grid_auto_flow": null,
      "grid_auto_rows": null,
      "grid_column": null,
      "grid_gap": null,
      "grid_row": null,
      "grid_template_areas": null,
      "grid_template_columns": null,
      "grid_template_rows": null,
      "height": null,
      "justify_content": null,
      "justify_items": null,
      "left": null,
      "margin": null,
      "max_height": null,
      "max_width": null,
      "min_height": null,
      "min_width": null,
      "object_fit": null,
      "object_position": null,
      "order": null,
      "overflow": null,
      "overflow_x": null,
      "overflow_y": null,
      "padding": null,
      "right": null,
      "top": null,
      "visibility": null,
      "width": null
     }
    },
    "63a301292ff84da6a2e2582dd08e07c3": {
     "model_module": "@jupyter-widgets/controls",
     "model_module_version": "1.5.0",
     "model_name": "HTMLModel",
     "state": {
      "_dom_classes": [],
      "_model_module": "@jupyter-widgets/controls",
      "_model_module_version": "1.5.0",
      "_model_name": "HTMLModel",
      "_view_count": null,
      "_view_module": "@jupyter-widgets/controls",
      "_view_module_version": "1.5.0",
      "_view_name": "HTMLView",
      "description": "",
      "description_tooltip": null,
      "layout": "IPY_MODEL_1fa7b2fbed844e94990df8de6cc02d27",
      "placeholder": "​",
      "style": "IPY_MODEL_9664a94a4b6e45a2b846c70066b600aa",
      "value": "README.md: 100%"
     }
    },
    "63f6e7a5bc8c4c63a01df93be61de19e": {
     "model_module": "@jupyter-widgets/controls",
     "model_module_version": "1.5.0",
     "model_name": "FloatProgressModel",
     "state": {
      "_dom_classes": [],
      "_model_module": "@jupyter-widgets/controls",
      "_model_module_version": "1.5.0",
      "_model_name": "FloatProgressModel",
      "_view_count": null,
      "_view_module": "@jupyter-widgets/controls",
      "_view_module_version": "1.5.0",
      "_view_name": "ProgressView",
      "bar_style": "success",
      "description": "",
      "description_tooltip": null,
      "layout": "IPY_MODEL_c334f584d4e04552a0b9d91a83c98599",
      "max": 698845,
      "min": 0,
      "orientation": "horizontal",
      "style": "IPY_MODEL_6f5d7724c1284fd48b1209cc7ee4200e",
      "value": 698845
     }
    },
    "64808644f9e04d9696f5e0a0b2a64362": {
     "model_module": "@jupyter-widgets/controls",
     "model_module_version": "1.5.0",
     "model_name": "HTMLModel",
     "state": {
      "_dom_classes": [],
      "_model_module": "@jupyter-widgets/controls",
      "_model_module_version": "1.5.0",
      "_model_name": "HTMLModel",
      "_view_count": null,
      "_view_module": "@jupyter-widgets/controls",
      "_view_module_version": "1.5.0",
      "_view_name": "HTMLView",
      "description": "",
      "description_tooltip": null,
      "layout": "IPY_MODEL_7d813c80b99b43c9afb01e14ed272258",
      "placeholder": "​",
      "style": "IPY_MODEL_781d825cde694eaf98a0db37fd77018a",
      "value": "pytorch_model.bin: 100%"
     }
    },
    "64e4f4a201a84c67bb8d1d21aba0c7fb": {
     "model_module": "@jupyter-widgets/controls",
     "model_module_version": "1.5.0",
     "model_name": "FloatProgressModel",
     "state": {
      "_dom_classes": [],
      "_model_module": "@jupyter-widgets/controls",
      "_model_module_version": "1.5.0",
      "_model_name": "FloatProgressModel",
      "_view_count": null,
      "_view_module": "@jupyter-widgets/controls",
      "_view_module_version": "1.5.0",
      "_view_name": "ProgressView",
      "bar_style": "success",
      "description": "",
      "description_tooltip": null,
      "layout": "IPY_MODEL_3689fbae503d4fa1808d3c840f659e16",
      "max": 267845150,
      "min": 0,
      "orientation": "horizontal",
      "style": "IPY_MODEL_ed600ff947154898a749a38f4625faf3",
      "value": 267845150
     }
    },
    "668ab7746e4e4718a699051f1c9f6933": {
     "model_module": "@jupyter-widgets/controls",
     "model_module_version": "1.5.0",
     "model_name": "ProgressStyleModel",
     "state": {
      "_model_module": "@jupyter-widgets/controls",
      "_model_module_version": "1.5.0",
      "_model_name": "ProgressStyleModel",
      "_view_count": null,
      "_view_module": "@jupyter-widgets/base",
      "_view_module_version": "1.2.0",
      "_view_name": "StyleView",
      "bar_color": null,
      "description_width": ""
     }
    },
    "6977596eb8444a6dbb22ea4d2682cb41": {
     "model_module": "@jupyter-widgets/controls",
     "model_module_version": "1.5.0",
     "model_name": "FloatProgressModel",
     "state": {
      "_dom_classes": [],
      "_model_module": "@jupyter-widgets/controls",
      "_model_module_version": "1.5.0",
      "_model_name": "FloatProgressModel",
      "_view_count": null,
      "_view_module": "@jupyter-widgets/controls",
      "_view_module_version": "1.5.0",
      "_view_name": "ProgressView",
      "bar_style": "success",
      "description": "",
      "description_tooltip": null,
      "layout": "IPY_MODEL_de8a58f2150c4cf4b6fe1e64c9f232a6",
      "max": 231508,
      "min": 0,
      "orientation": "horizontal",
      "style": "IPY_MODEL_04acaa0525134a9ea88e483e82e0d680",
      "value": 231508
     }
    },
    "6a8e43853bd04d8b89c71d76ff490f52": {
     "model_module": "@jupyter-widgets/controls",
     "model_module_version": "1.5.0",
     "model_name": "HTMLModel",
     "state": {
      "_dom_classes": [],
      "_model_module": "@jupyter-widgets/controls",
      "_model_module_version": "1.5.0",
      "_model_name": "HTMLModel",
      "_view_count": null,
      "_view_module": "@jupyter-widgets/controls",
      "_view_module_version": "1.5.0",
      "_view_name": "HTMLView",
      "description": "",
      "description_tooltip": null,
      "layout": "IPY_MODEL_49b55f13ed654a899201dad37cd6c79c",
      "placeholder": "​",
      "style": "IPY_MODEL_3429ebc4456c40c081ca199aadf70c3e",
      "value": " 1066/1066 [00:00&lt;00:00, 30644.31 examples/s]"
     }
    },
    "6cbf24ecbb2743daa5662ddc2aa29fed": {
     "model_module": "@jupyter-widgets/base",
     "model_module_version": "1.2.0",
     "model_name": "LayoutModel",
     "state": {
      "_model_module": "@jupyter-widgets/base",
      "_model_module_version": "1.2.0",
      "_model_name": "LayoutModel",
      "_view_count": null,
      "_view_module": "@jupyter-widgets/base",
      "_view_module_version": "1.2.0",
      "_view_name": "LayoutView",
      "align_content": null,
      "align_items": null,
      "align_self": null,
      "border": null,
      "bottom": null,
      "display": null,
      "flex": null,
      "flex_flow": null,
      "grid_area": null,
      "grid_auto_columns": null,
      "grid_auto_flow": null,
      "grid_auto_rows": null,
      "grid_column": null,
      "grid_gap": null,
      "grid_row": null,
      "grid_template_areas": null,
      "grid_template_columns": null,
      "grid_template_rows": null,
      "height": null,
      "justify_content": null,
      "justify_items": null,
      "left": null,
      "margin": null,
      "max_height": null,
      "max_width": null,
      "min_height": null,
      "min_width": null,
      "object_fit": null,
      "object_position": null,
      "order": null,
      "overflow": null,
      "overflow_x": null,
      "overflow_y": null,
      "padding": null,
      "right": null,
      "top": null,
      "visibility": null,
      "width": null
     }
    },
    "6e133fb84bfc423fb77bbf868d54c54d": {
     "model_module": "@jupyter-widgets/controls",
     "model_module_version": "1.5.0",
     "model_name": "HBoxModel",
     "state": {
      "_dom_classes": [],
      "_model_module": "@jupyter-widgets/controls",
      "_model_module_version": "1.5.0",
      "_model_name": "HBoxModel",
      "_view_count": null,
      "_view_module": "@jupyter-widgets/controls",
      "_view_module_version": "1.5.0",
      "_view_name": "HBoxView",
      "box_style": "",
      "children": [
       "IPY_MODEL_781fa06e9fe948d3b662c84f83ce6cd1",
       "IPY_MODEL_5393986261f14c98a48eb742c6e462eb",
       "IPY_MODEL_b67f9fd4d13442718ff78356a904534b"
      ],
      "layout": "IPY_MODEL_add0ba72147541098eb9d4f3f865af9f"
     }
    },
    "6f5d7724c1284fd48b1209cc7ee4200e": {
     "model_module": "@jupyter-widgets/controls",
     "model_module_version": "1.5.0",
     "model_name": "ProgressStyleModel",
     "state": {
      "_model_module": "@jupyter-widgets/controls",
      "_model_module_version": "1.5.0",
      "_model_name": "ProgressStyleModel",
      "_view_count": null,
      "_view_module": "@jupyter-widgets/base",
      "_view_module_version": "1.2.0",
      "_view_name": "StyleView",
      "bar_color": null,
      "description_width": ""
     }
    },
    "71c72eb8f53b47e4871cebef9ee7d762": {
     "model_module": "@jupyter-widgets/controls",
     "model_module_version": "1.5.0",
     "model_name": "FloatProgressModel",
     "state": {
      "_dom_classes": [],
      "_model_module": "@jupyter-widgets/controls",
      "_model_module_version": "1.5.0",
      "_model_name": "FloatProgressModel",
      "_view_count": null,
      "_view_module": "@jupyter-widgets/controls",
      "_view_module_version": "1.5.0",
      "_view_name": "ProgressView",
      "bar_style": "success",
      "description": "",
      "description_tooltip": null,
      "layout": "IPY_MODEL_2c312bc61a974cc698c7be4024c4e329",
      "max": 1066,
      "min": 0,
      "orientation": "horizontal",
      "style": "IPY_MODEL_668ab7746e4e4718a699051f1c9f6933",
      "value": 1066
     }
    },
    "776a643b33e34dec90d0d45292e6f2e6": {
     "model_module": "@jupyter-widgets/controls",
     "model_module_version": "1.5.0",
     "model_name": "DescriptionStyleModel",
     "state": {
      "_model_module": "@jupyter-widgets/controls",
      "_model_module_version": "1.5.0",
      "_model_name": "DescriptionStyleModel",
      "_view_count": null,
      "_view_module": "@jupyter-widgets/base",
      "_view_module_version": "1.2.0",
      "_view_name": "StyleView",
      "description_width": ""
     }
    },
    "781d825cde694eaf98a0db37fd77018a": {
     "model_module": "@jupyter-widgets/controls",
     "model_module_version": "1.5.0",
     "model_name": "DescriptionStyleModel",
     "state": {
      "_model_module": "@jupyter-widgets/controls",
      "_model_module_version": "1.5.0",
      "_model_name": "DescriptionStyleModel",
      "_view_count": null,
      "_view_module": "@jupyter-widgets/base",
      "_view_module_version": "1.2.0",
      "_view_name": "StyleView",
      "description_width": ""
     }
    },
    "781fa06e9fe948d3b662c84f83ce6cd1": {
     "model_module": "@jupyter-widgets/controls",
     "model_module_version": "1.5.0",
     "model_name": "HTMLModel",
     "state": {
      "_dom_classes": [],
      "_model_module": "@jupyter-widgets/controls",
      "_model_module_version": "1.5.0",
      "_model_name": "HTMLModel",
      "_view_count": null,
      "_view_module": "@jupyter-widgets/controls",
      "_view_module_version": "1.5.0",
      "_view_name": "HTMLView",
      "description": "",
      "description_tooltip": null,
      "layout": "IPY_MODEL_b83faeaa29a740f79a8ff8d78f0a6e02",
      "placeholder": "​",
      "style": "IPY_MODEL_955328e996c545cab2f594426ce8d37b",
      "value": "test.parquet: 100%"
     }
    },
    "7a774d4af1b44be08a96be0497244090": {
     "model_module": "@jupyter-widgets/controls",
     "model_module_version": "1.5.0",
     "model_name": "FloatProgressModel",
     "state": {
      "_dom_classes": [],
      "_model_module": "@jupyter-widgets/controls",
      "_model_module_version": "1.5.0",
      "_model_name": "FloatProgressModel",
      "_view_count": null,
      "_view_module": "@jupyter-widgets/controls",
      "_view_module_version": "1.5.0",
      "_view_name": "ProgressView",
      "bar_style": "success",
      "description": "",
      "description_tooltip": null,
      "layout": "IPY_MODEL_f35bb36beeea455599f08928b9ad99af",
      "max": 8530,
      "min": 0,
      "orientation": "horizontal",
      "style": "IPY_MODEL_c3a8ef7c09a24440bd30afee9bc05eba",
      "value": 8530
     }
    },
    "7d813c80b99b43c9afb01e14ed272258": {
     "model_module": "@jupyter-widgets/base",
     "model_module_version": "1.2.0",
     "model_name": "LayoutModel",
     "state": {
      "_model_module": "@jupyter-widgets/base",
      "_model_module_version": "1.2.0",
      "_model_name": "LayoutModel",
      "_view_count": null,
      "_view_module": "@jupyter-widgets/base",
      "_view_module_version": "1.2.0",
      "_view_name": "LayoutView",
      "align_content": null,
      "align_items": null,
      "align_self": null,
      "border": null,
      "bottom": null,
      "display": null,
      "flex": null,
      "flex_flow": null,
      "grid_area": null,
      "grid_auto_columns": null,
      "grid_auto_flow": null,
      "grid_auto_rows": null,
      "grid_column": null,
      "grid_gap": null,
      "grid_row": null,
      "grid_template_areas": null,
      "grid_template_columns": null,
      "grid_template_rows": null,
      "height": null,
      "justify_content": null,
      "justify_items": null,
      "left": null,
      "margin": null,
      "max_height": null,
      "max_width": null,
      "min_height": null,
      "min_width": null,
      "object_fit": null,
      "object_position": null,
      "order": null,
      "overflow": null,
      "overflow_x": null,
      "overflow_y": null,
      "padding": null,
      "right": null,
      "top": null,
      "visibility": null,
      "width": null
     }
    },
    "7d992bd0758a4384a2abc78ff0ba3603": {
     "model_module": "@jupyter-widgets/controls",
     "model_module_version": "1.5.0",
     "model_name": "HTMLModel",
     "state": {
      "_dom_classes": [],
      "_model_module": "@jupyter-widgets/controls",
      "_model_module_version": "1.5.0",
      "_model_name": "HTMLModel",
      "_view_count": null,
      "_view_module": "@jupyter-widgets/controls",
      "_view_module_version": "1.5.0",
      "_view_name": "HTMLView",
      "description": "",
      "description_tooltip": null,
      "layout": "IPY_MODEL_0b8314f2e8c34bb18a69363e97854280",
      "placeholder": "​",
      "style": "IPY_MODEL_f3656deea55c45aa975e8f8fde063222",
      "value": "Generating validation split: 100%"
     }
    },
    "7f357c1369c1483e9e109b1d0b99f7fb": {
     "model_module": "@jupyter-widgets/base",
     "model_module_version": "1.2.0",
     "model_name": "LayoutModel",
     "state": {
      "_model_module": "@jupyter-widgets/base",
      "_model_module_version": "1.2.0",
      "_model_name": "LayoutModel",
      "_view_count": null,
      "_view_module": "@jupyter-widgets/base",
      "_view_module_version": "1.2.0",
      "_view_name": "LayoutView",
      "align_content": null,
      "align_items": null,
      "align_self": null,
      "border": null,
      "bottom": null,
      "display": null,
      "flex": null,
      "flex_flow": null,
      "grid_area": null,
      "grid_auto_columns": null,
      "grid_auto_flow": null,
      "grid_auto_rows": null,
      "grid_column": null,
      "grid_gap": null,
      "grid_row": null,
      "grid_template_areas": null,
      "grid_template_columns": null,
      "grid_template_rows": null,
      "height": null,
      "justify_content": null,
      "justify_items": null,
      "left": null,
      "margin": null,
      "max_height": null,
      "max_width": null,
      "min_height": null,
      "min_width": null,
      "object_fit": null,
      "object_position": null,
      "order": null,
      "overflow": null,
      "overflow_x": null,
      "overflow_y": null,
      "padding": null,
      "right": null,
      "top": null,
      "visibility": null,
      "width": null
     }
    },
    "7f520b5a354f410ab81329a8f6040cf1": {
     "model_module": "@jupyter-widgets/controls",
     "model_module_version": "1.5.0",
     "model_name": "HTMLModel",
     "state": {
      "_dom_classes": [],
      "_model_module": "@jupyter-widgets/controls",
      "_model_module_version": "1.5.0",
      "_model_name": "HTMLModel",
      "_view_count": null,
      "_view_module": "@jupyter-widgets/controls",
      "_view_module_version": "1.5.0",
      "_view_name": "HTMLView",
      "description": "",
      "description_tooltip": null,
      "layout": "IPY_MODEL_b243c6f616484db19dee1972e0307c63",
      "placeholder": "​",
      "style": "IPY_MODEL_ff0f8d03993f415ea6ae40d6d90f5280",
      "value": " 268M/268M [00:01&lt;00:00, 232MB/s]"
     }
    },
    "81764d59ece84d33a2c024b4dd53b746": {
     "model_module": "@jupyter-widgets/controls",
     "model_module_version": "1.5.0",
     "model_name": "ProgressStyleModel",
     "state": {
      "_model_module": "@jupyter-widgets/controls",
      "_model_module_version": "1.5.0",
      "_model_name": "ProgressStyleModel",
      "_view_count": null,
      "_view_module": "@jupyter-widgets/base",
      "_view_module_version": "1.2.0",
      "_view_name": "StyleView",
      "bar_color": null,
      "description_width": ""
     }
    },
    "817d522eabcd4a53abe3b6dfdd90be95": {
     "model_module": "@jupyter-widgets/base",
     "model_module_version": "1.2.0",
     "model_name": "LayoutModel",
     "state": {
      "_model_module": "@jupyter-widgets/base",
      "_model_module_version": "1.2.0",
      "_model_name": "LayoutModel",
      "_view_count": null,
      "_view_module": "@jupyter-widgets/base",
      "_view_module_version": "1.2.0",
      "_view_name": "LayoutView",
      "align_content": null,
      "align_items": null,
      "align_self": null,
      "border": null,
      "bottom": null,
      "display": null,
      "flex": null,
      "flex_flow": null,
      "grid_area": null,
      "grid_auto_columns": null,
      "grid_auto_flow": null,
      "grid_auto_rows": null,
      "grid_column": null,
      "grid_gap": null,
      "grid_row": null,
      "grid_template_areas": null,
      "grid_template_columns": null,
      "grid_template_rows": null,
      "height": null,
      "justify_content": null,
      "justify_items": null,
      "left": null,
      "margin": null,
      "max_height": null,
      "max_width": null,
      "min_height": null,
      "min_width": null,
      "object_fit": null,
      "object_position": null,
      "order": null,
      "overflow": null,
      "overflow_x": null,
      "overflow_y": null,
      "padding": null,
      "right": null,
      "top": null,
      "visibility": null,
      "width": null
     }
    },
    "81b243844ed843588d528f7f7a792061": {
     "model_module": "@jupyter-widgets/controls",
     "model_module_version": "1.5.0",
     "model_name": "HTMLModel",
     "state": {
      "_dom_classes": [],
      "_model_module": "@jupyter-widgets/controls",
      "_model_module_version": "1.5.0",
      "_model_name": "HTMLModel",
      "_view_count": null,
      "_view_module": "@jupyter-widgets/controls",
      "_view_module_version": "1.5.0",
      "_view_name": "HTMLView",
      "description": "",
      "description_tooltip": null,
      "layout": "IPY_MODEL_014953bf81eb47c6a744ed723b80b7de",
      "placeholder": "​",
      "style": "IPY_MODEL_d222949db8ba479a99d54a60b3b0bd47",
      "value": " 8530/8530 [00:00&lt;00:00, 109657.19 examples/s]"
     }
    },
    "828d5839456044c282d2c7a5e41c5b53": {
     "model_module": "@jupyter-widgets/controls",
     "model_module_version": "1.5.0",
     "model_name": "HBoxModel",
     "state": {
      "_dom_classes": [],
      "_model_module": "@jupyter-widgets/controls",
      "_model_module_version": "1.5.0",
      "_model_name": "HBoxModel",
      "_view_count": null,
      "_view_module": "@jupyter-widgets/controls",
      "_view_module_version": "1.5.0",
      "_view_name": "HBoxView",
      "box_style": "",
      "children": [
       "IPY_MODEL_317df84546b0498da872b59e32f509b5",
       "IPY_MODEL_63f6e7a5bc8c4c63a01df93be61de19e",
       "IPY_MODEL_e05d6d6f3b544937b43dd79dbe5b82fe"
      ],
      "layout": "IPY_MODEL_ebebb04ee5ef40e1a826ef7e4d494eb2"
     }
    },
    "8b9c740726774c4c988a972f474f05e1": {
     "model_module": "@jupyter-widgets/base",
     "model_module_version": "1.2.0",
     "model_name": "LayoutModel",
     "state": {
      "_model_module": "@jupyter-widgets/base",
      "_model_module_version": "1.2.0",
      "_model_name": "LayoutModel",
      "_view_count": null,
      "_view_module": "@jupyter-widgets/base",
      "_view_module_version": "1.2.0",
      "_view_name": "LayoutView",
      "align_content": null,
      "align_items": null,
      "align_self": null,
      "border": null,
      "bottom": null,
      "display": null,
      "flex": null,
      "flex_flow": null,
      "grid_area": null,
      "grid_auto_columns": null,
      "grid_auto_flow": null,
      "grid_auto_rows": null,
      "grid_column": null,
      "grid_gap": null,
      "grid_row": null,
      "grid_template_areas": null,
      "grid_template_columns": null,
      "grid_template_rows": null,
      "height": null,
      "justify_content": null,
      "justify_items": null,
      "left": null,
      "margin": null,
      "max_height": null,
      "max_width": null,
      "min_height": null,
      "min_width": null,
      "object_fit": null,
      "object_position": null,
      "order": null,
      "overflow": null,
      "overflow_x": null,
      "overflow_y": null,
      "padding": null,
      "right": null,
      "top": null,
      "visibility": null,
      "width": null
     }
    },
    "8e2eb05461ed4215b69ee6960d5c7f6e": {
     "model_module": "@jupyter-widgets/controls",
     "model_module_version": "1.5.0",
     "model_name": "DescriptionStyleModel",
     "state": {
      "_model_module": "@jupyter-widgets/controls",
      "_model_module_version": "1.5.0",
      "_model_name": "DescriptionStyleModel",
      "_view_count": null,
      "_view_module": "@jupyter-widgets/base",
      "_view_module_version": "1.2.0",
      "_view_name": "StyleView",
      "description_width": ""
     }
    },
    "8eff85eb87f440fa8fb93f5c345352f4": {
     "model_module": "@jupyter-widgets/controls",
     "model_module_version": "1.5.0",
     "model_name": "HTMLModel",
     "state": {
      "_dom_classes": [],
      "_model_module": "@jupyter-widgets/controls",
      "_model_module_version": "1.5.0",
      "_model_name": "HTMLModel",
      "_view_count": null,
      "_view_module": "@jupyter-widgets/controls",
      "_view_module_version": "1.5.0",
      "_view_name": "HTMLView",
      "description": "",
      "description_tooltip": null,
      "layout": "IPY_MODEL_ded829b024ba447fbdc8f09ab905d80d",
      "placeholder": "​",
      "style": "IPY_MODEL_a6af8d348a15407b9d3957b58fd3df78",
      "value": "validation.parquet: 100%"
     }
    },
    "8f04bb8cb4c544a88764c9eff83f0cbf": {
     "model_module": "@jupyter-widgets/controls",
     "model_module_version": "1.5.0",
     "model_name": "DescriptionStyleModel",
     "state": {
      "_model_module": "@jupyter-widgets/controls",
      "_model_module_version": "1.5.0",
      "_model_name": "DescriptionStyleModel",
      "_view_count": null,
      "_view_module": "@jupyter-widgets/base",
      "_view_module_version": "1.2.0",
      "_view_name": "StyleView",
      "description_width": ""
     }
    },
    "916b035891f743688f3f0e7b4264fe05": {
     "model_module": "@jupyter-widgets/controls",
     "model_module_version": "1.5.0",
     "model_name": "ProgressStyleModel",
     "state": {
      "_model_module": "@jupyter-widgets/controls",
      "_model_module_version": "1.5.0",
      "_model_name": "ProgressStyleModel",
      "_view_count": null,
      "_view_module": "@jupyter-widgets/base",
      "_view_module_version": "1.2.0",
      "_view_name": "StyleView",
      "bar_color": null,
      "description_width": ""
     }
    },
    "92ba3201c4224a82ad7aa381a9e75908": {
     "model_module": "@jupyter-widgets/controls",
     "model_module_version": "1.5.0",
     "model_name": "DescriptionStyleModel",
     "state": {
      "_model_module": "@jupyter-widgets/controls",
      "_model_module_version": "1.5.0",
      "_model_name": "DescriptionStyleModel",
      "_view_count": null,
      "_view_module": "@jupyter-widgets/base",
      "_view_module_version": "1.2.0",
      "_view_name": "StyleView",
      "description_width": ""
     }
    },
    "9525d19e8ad946bd8d7c5ed81a26ca91": {
     "model_module": "@jupyter-widgets/controls",
     "model_module_version": "1.5.0",
     "model_name": "HBoxModel",
     "state": {
      "_dom_classes": [],
      "_model_module": "@jupyter-widgets/controls",
      "_model_module_version": "1.5.0",
      "_model_name": "HBoxModel",
      "_view_count": null,
      "_view_module": "@jupyter-widgets/controls",
      "_view_module_version": "1.5.0",
      "_view_name": "HBoxView",
      "box_style": "",
      "children": [
       "IPY_MODEL_b44ab123440e400890633f77d5087a9f",
       "IPY_MODEL_6977596eb8444a6dbb22ea4d2682cb41",
       "IPY_MODEL_31dd78dd62094c7f9cdaef7947213015"
      ],
      "layout": "IPY_MODEL_02150657eb5a4145898b5557914bc844"
     }
    },
    "955328e996c545cab2f594426ce8d37b": {
     "model_module": "@jupyter-widgets/controls",
     "model_module_version": "1.5.0",
     "model_name": "DescriptionStyleModel",
     "state": {
      "_model_module": "@jupyter-widgets/controls",
      "_model_module_version": "1.5.0",
      "_model_name": "DescriptionStyleModel",
      "_view_count": null,
      "_view_module": "@jupyter-widgets/base",
      "_view_module_version": "1.2.0",
      "_view_name": "StyleView",
      "description_width": ""
     }
    },
    "9664a94a4b6e45a2b846c70066b600aa": {
     "model_module": "@jupyter-widgets/controls",
     "model_module_version": "1.5.0",
     "model_name": "DescriptionStyleModel",
     "state": {
      "_model_module": "@jupyter-widgets/controls",
      "_model_module_version": "1.5.0",
      "_model_name": "DescriptionStyleModel",
      "_view_count": null,
      "_view_module": "@jupyter-widgets/base",
      "_view_module_version": "1.2.0",
      "_view_name": "StyleView",
      "description_width": ""
     }
    },
    "984473c762dd43a3b931baea0c54b3cc": {
     "model_module": "@jupyter-widgets/controls",
     "model_module_version": "1.5.0",
     "model_name": "FloatProgressModel",
     "state": {
      "_dom_classes": [],
      "_model_module": "@jupyter-widgets/controls",
      "_model_module_version": "1.5.0",
      "_model_name": "FloatProgressModel",
      "_view_count": null,
      "_view_module": "@jupyter-widgets/controls",
      "_view_module_version": "1.5.0",
      "_view_name": "ProgressView",
      "bar_style": "success",
      "description": "",
      "description_tooltip": null,
      "layout": "IPY_MODEL_4593bb6e5baa4f5a9a2fff7f8b971543",
      "max": 496,
      "min": 0,
      "orientation": "horizontal",
      "style": "IPY_MODEL_81764d59ece84d33a2c024b4dd53b746",
      "value": 496
     }
    },
    "9cc9de8d0da94f89a93a6b19c587e412": {
     "model_module": "@jupyter-widgets/controls",
     "model_module_version": "1.5.0",
     "model_name": "HBoxModel",
     "state": {
      "_dom_classes": [],
      "_model_module": "@jupyter-widgets/controls",
      "_model_module_version": "1.5.0",
      "_model_name": "HBoxModel",
      "_view_count": null,
      "_view_module": "@jupyter-widgets/controls",
      "_view_module_version": "1.5.0",
      "_view_name": "HBoxView",
      "box_style": "",
      "children": [
       "IPY_MODEL_d681e33ba2ba4fd0866cf68eb2e168b8",
       "IPY_MODEL_dfd8bd2f7df74454a2cd140638658023",
       "IPY_MODEL_3139a8f55afa4712a0b308338118ba5e"
      ],
      "layout": "IPY_MODEL_1ff50e393dc24d8b807d5cb0af1569e0"
     }
    },
    "9f95553b44964fe69f2eb8d3af85fe36": {
     "model_module": "@jupyter-widgets/controls",
     "model_module_version": "1.5.0",
     "model_name": "HTMLModel",
     "state": {
      "_dom_classes": [],
      "_model_module": "@jupyter-widgets/controls",
      "_model_module_version": "1.5.0",
      "_model_name": "HTMLModel",
      "_view_count": null,
      "_view_module": "@jupyter-widgets/controls",
      "_view_module_version": "1.5.0",
      "_view_name": "HTMLView",
      "description": "",
      "description_tooltip": null,
      "layout": "IPY_MODEL_c5e22257a1814c53baabaabb72972395",
      "placeholder": "​",
      "style": "IPY_MODEL_8e2eb05461ed4215b69ee6960d5c7f6e",
      "value": " 7.46k/7.46k [00:00&lt;00:00, 416kB/s]"
     }
    },
    "9fc1d322527940ed9782aace64093e3f": {
     "model_module": "@jupyter-widgets/base",
     "model_module_version": "1.2.0",
     "model_name": "LayoutModel",
     "state": {
      "_model_module": "@jupyter-widgets/base",
      "_model_module_version": "1.2.0",
      "_model_name": "LayoutModel",
      "_view_count": null,
      "_view_module": "@jupyter-widgets/base",
      "_view_module_version": "1.2.0",
      "_view_name": "LayoutView",
      "align_content": null,
      "align_items": null,
      "align_self": null,
      "border": null,
      "bottom": null,
      "display": null,
      "flex": null,
      "flex_flow": null,
      "grid_area": null,
      "grid_auto_columns": null,
      "grid_auto_flow": null,
      "grid_auto_rows": null,
      "grid_column": null,
      "grid_gap": null,
      "grid_row": null,
      "grid_template_areas": null,
      "grid_template_columns": null,
      "grid_template_rows": null,
      "height": null,
      "justify_content": null,
      "justify_items": null,
      "left": null,
      "margin": null,
      "max_height": null,
      "max_width": null,
      "min_height": null,
      "min_width": null,
      "object_fit": null,
      "object_position": null,
      "order": null,
      "overflow": null,
      "overflow_x": null,
      "overflow_y": null,
      "padding": null,
      "right": null,
      "top": null,
      "visibility": null,
      "width": null
     }
    },
    "a1431cb46f7b44298f859f2233f11d8b": {
     "model_module": "@jupyter-widgets/controls",
     "model_module_version": "1.5.0",
     "model_name": "HBoxModel",
     "state": {
      "_dom_classes": [],
      "_model_module": "@jupyter-widgets/controls",
      "_model_module_version": "1.5.0",
      "_model_name": "HBoxModel",
      "_view_count": null,
      "_view_module": "@jupyter-widgets/controls",
      "_view_module_version": "1.5.0",
      "_view_name": "HBoxView",
      "box_style": "",
      "children": [
       "IPY_MODEL_3cd51a772e23470cbf32591a3cdd4f7f",
       "IPY_MODEL_7a774d4af1b44be08a96be0497244090",
       "IPY_MODEL_81b243844ed843588d528f7f7a792061"
      ],
      "layout": "IPY_MODEL_2992ea6ccc334992ab92da5e09120f03"
     }
    },
    "a17bdba3691d45b28330f1b7c1b5d6c2": {
     "model_module": "@jupyter-widgets/controls",
     "model_module_version": "1.5.0",
     "model_name": "FloatProgressModel",
     "state": {
      "_dom_classes": [],
      "_model_module": "@jupyter-widgets/controls",
      "_model_module_version": "1.5.0",
      "_model_name": "FloatProgressModel",
      "_view_count": null,
      "_view_module": "@jupyter-widgets/controls",
      "_view_module_version": "1.5.0",
      "_view_name": "ProgressView",
      "bar_style": "success",
      "description": "",
      "description_tooltip": null,
      "layout": "IPY_MODEL_5f82819e7adf4900b5054f4a10ee8d1f",
      "max": 7457,
      "min": 0,
      "orientation": "horizontal",
      "style": "IPY_MODEL_05a8ad74158b42c5965b3f07574c25ff",
      "value": 7457
     }
    },
    "a264af2abc9944f5951ca1a41fe7621f": {
     "model_module": "@jupyter-widgets/controls",
     "model_module_version": "1.5.0",
     "model_name": "HBoxModel",
     "state": {
      "_dom_classes": [],
      "_model_module": "@jupyter-widgets/controls",
      "_model_module_version": "1.5.0",
      "_model_name": "HBoxModel",
      "_view_count": null,
      "_view_module": "@jupyter-widgets/controls",
      "_view_module_version": "1.5.0",
      "_view_name": "HBoxView",
      "box_style": "",
      "children": [
       "IPY_MODEL_8eff85eb87f440fa8fb93f5c345352f4",
       "IPY_MODEL_e351d67deac84ea1a3a6015f1169db24",
       "IPY_MODEL_13031c518a9c44889af13ab4fbcaa523"
      ],
      "layout": "IPY_MODEL_c989c935db4d447b930d66a903c23c56"
     }
    },
    "a6af8d348a15407b9d3957b58fd3df78": {
     "model_module": "@jupyter-widgets/controls",
     "model_module_version": "1.5.0",
     "model_name": "DescriptionStyleModel",
     "state": {
      "_model_module": "@jupyter-widgets/controls",
      "_model_module_version": "1.5.0",
      "_model_name": "DescriptionStyleModel",
      "_view_count": null,
      "_view_module": "@jupyter-widgets/base",
      "_view_module_version": "1.2.0",
      "_view_name": "StyleView",
      "description_width": ""
     }
    },
    "a9c79d3073874f2c8d7b577631817ff7": {
     "model_module": "@jupyter-widgets/base",
     "model_module_version": "1.2.0",
     "model_name": "LayoutModel",
     "state": {
      "_model_module": "@jupyter-widgets/base",
      "_model_module_version": "1.2.0",
      "_model_name": "LayoutModel",
      "_view_count": null,
      "_view_module": "@jupyter-widgets/base",
      "_view_module_version": "1.2.0",
      "_view_name": "LayoutView",
      "align_content": null,
      "align_items": null,
      "align_self": null,
      "border": null,
      "bottom": null,
      "display": null,
      "flex": null,
      "flex_flow": null,
      "grid_area": null,
      "grid_auto_columns": null,
      "grid_auto_flow": null,
      "grid_auto_rows": null,
      "grid_column": null,
      "grid_gap": null,
      "grid_row": null,
      "grid_template_areas": null,
      "grid_template_columns": null,
      "grid_template_rows": null,
      "height": null,
      "justify_content": null,
      "justify_items": null,
      "left": null,
      "margin": null,
      "max_height": null,
      "max_width": null,
      "min_height": null,
      "min_width": null,
      "object_fit": null,
      "object_position": null,
      "order": null,
      "overflow": null,
      "overflow_x": null,
      "overflow_y": null,
      "padding": null,
      "right": null,
      "top": null,
      "visibility": null,
      "width": null
     }
    },
    "a9e6bbaabb374615b96ed5ad21cb27a2": {
     "model_module": "@jupyter-widgets/base",
     "model_module_version": "1.2.0",
     "model_name": "LayoutModel",
     "state": {
      "_model_module": "@jupyter-widgets/base",
      "_model_module_version": "1.2.0",
      "_model_name": "LayoutModel",
      "_view_count": null,
      "_view_module": "@jupyter-widgets/base",
      "_view_module_version": "1.2.0",
      "_view_name": "LayoutView",
      "align_content": null,
      "align_items": null,
      "align_self": null,
      "border": null,
      "bottom": null,
      "display": null,
      "flex": null,
      "flex_flow": null,
      "grid_area": null,
      "grid_auto_columns": null,
      "grid_auto_flow": null,
      "grid_auto_rows": null,
      "grid_column": null,
      "grid_gap": null,
      "grid_row": null,
      "grid_template_areas": null,
      "grid_template_columns": null,
      "grid_template_rows": null,
      "height": null,
      "justify_content": null,
      "justify_items": null,
      "left": null,
      "margin": null,
      "max_height": null,
      "max_width": null,
      "min_height": null,
      "min_width": null,
      "object_fit": null,
      "object_position": null,
      "order": null,
      "overflow": null,
      "overflow_x": null,
      "overflow_y": null,
      "padding": null,
      "right": null,
      "top": null,
      "visibility": null,
      "width": null
     }
    },
    "ac970541f7ce488b8239a430485b8393": {
     "model_module": "@jupyter-widgets/base",
     "model_module_version": "1.2.0",
     "model_name": "LayoutModel",
     "state": {
      "_model_module": "@jupyter-widgets/base",
      "_model_module_version": "1.2.0",
      "_model_name": "LayoutModel",
      "_view_count": null,
      "_view_module": "@jupyter-widgets/base",
      "_view_module_version": "1.2.0",
      "_view_name": "LayoutView",
      "align_content": null,
      "align_items": null,
      "align_self": null,
      "border": null,
      "bottom": null,
      "display": null,
      "flex": null,
      "flex_flow": null,
      "grid_area": null,
      "grid_auto_columns": null,
      "grid_auto_flow": null,
      "grid_auto_rows": null,
      "grid_column": null,
      "grid_gap": null,
      "grid_row": null,
      "grid_template_areas": null,
      "grid_template_columns": null,
      "grid_template_rows": null,
      "height": null,
      "justify_content": null,
      "justify_items": null,
      "left": null,
      "margin": null,
      "max_height": null,
      "max_width": null,
      "min_height": null,
      "min_width": null,
      "object_fit": null,
      "object_position": null,
      "order": null,
      "overflow": null,
      "overflow_x": null,
      "overflow_y": null,
      "padding": null,
      "right": null,
      "top": null,
      "visibility": null,
      "width": null
     }
    },
    "add0ba72147541098eb9d4f3f865af9f": {
     "model_module": "@jupyter-widgets/base",
     "model_module_version": "1.2.0",
     "model_name": "LayoutModel",
     "state": {
      "_model_module": "@jupyter-widgets/base",
      "_model_module_version": "1.2.0",
      "_model_name": "LayoutModel",
      "_view_count": null,
      "_view_module": "@jupyter-widgets/base",
      "_view_module_version": "1.2.0",
      "_view_name": "LayoutView",
      "align_content": null,
      "align_items": null,
      "align_self": null,
      "border": null,
      "bottom": null,
      "display": null,
      "flex": null,
      "flex_flow": null,
      "grid_area": null,
      "grid_auto_columns": null,
      "grid_auto_flow": null,
      "grid_auto_rows": null,
      "grid_column": null,
      "grid_gap": null,
      "grid_row": null,
      "grid_template_areas": null,
      "grid_template_columns": null,
      "grid_template_rows": null,
      "height": null,
      "justify_content": null,
      "justify_items": null,
      "left": null,
      "margin": null,
      "max_height": null,
      "max_width": null,
      "min_height": null,
      "min_width": null,
      "object_fit": null,
      "object_position": null,
      "order": null,
      "overflow": null,
      "overflow_x": null,
      "overflow_y": null,
      "padding": null,
      "right": null,
      "top": null,
      "visibility": null,
      "width": null
     }
    },
    "b158e4778d3b4714beaa0d768226fdb1": {
     "model_module": "@jupyter-widgets/base",
     "model_module_version": "1.2.0",
     "model_name": "LayoutModel",
     "state": {
      "_model_module": "@jupyter-widgets/base",
      "_model_module_version": "1.2.0",
      "_model_name": "LayoutModel",
      "_view_count": null,
      "_view_module": "@jupyter-widgets/base",
      "_view_module_version": "1.2.0",
      "_view_name": "LayoutView",
      "align_content": null,
      "align_items": null,
      "align_self": null,
      "border": null,
      "bottom": null,
      "display": null,
      "flex": null,
      "flex_flow": null,
      "grid_area": null,
      "grid_auto_columns": null,
      "grid_auto_flow": null,
      "grid_auto_rows": null,
      "grid_column": null,
      "grid_gap": null,
      "grid_row": null,
      "grid_template_areas": null,
      "grid_template_columns": null,
      "grid_template_rows": null,
      "height": null,
      "justify_content": null,
      "justify_items": null,
      "left": null,
      "margin": null,
      "max_height": null,
      "max_width": null,
      "min_height": null,
      "min_width": null,
      "object_fit": null,
      "object_position": null,
      "order": null,
      "overflow": null,
      "overflow_x": null,
      "overflow_y": null,
      "padding": null,
      "right": null,
      "top": null,
      "visibility": null,
      "width": null
     }
    },
    "b243c6f616484db19dee1972e0307c63": {
     "model_module": "@jupyter-widgets/base",
     "model_module_version": "1.2.0",
     "model_name": "LayoutModel",
     "state": {
      "_model_module": "@jupyter-widgets/base",
      "_model_module_version": "1.2.0",
      "_model_name": "LayoutModel",
      "_view_count": null,
      "_view_module": "@jupyter-widgets/base",
      "_view_module_version": "1.2.0",
      "_view_name": "LayoutView",
      "align_content": null,
      "align_items": null,
      "align_self": null,
      "border": null,
      "bottom": null,
      "display": null,
      "flex": null,
      "flex_flow": null,
      "grid_area": null,
      "grid_auto_columns": null,
      "grid_auto_flow": null,
      "grid_auto_rows": null,
      "grid_column": null,
      "grid_gap": null,
      "grid_row": null,
      "grid_template_areas": null,
      "grid_template_columns": null,
      "grid_template_rows": null,
      "height": null,
      "justify_content": null,
      "justify_items": null,
      "left": null,
      "margin": null,
      "max_height": null,
      "max_width": null,
      "min_height": null,
      "min_width": null,
      "object_fit": null,
      "object_position": null,
      "order": null,
      "overflow": null,
      "overflow_x": null,
      "overflow_y": null,
      "padding": null,
      "right": null,
      "top": null,
      "visibility": null,
      "width": null
     }
    },
    "b4164cf8624f410493c3e4e968d6a532": {
     "model_module": "@jupyter-widgets/controls",
     "model_module_version": "1.5.0",
     "model_name": "DescriptionStyleModel",
     "state": {
      "_model_module": "@jupyter-widgets/controls",
      "_model_module_version": "1.5.0",
      "_model_name": "DescriptionStyleModel",
      "_view_count": null,
      "_view_module": "@jupyter-widgets/base",
      "_view_module_version": "1.2.0",
      "_view_name": "StyleView",
      "description_width": ""
     }
    },
    "b44ab123440e400890633f77d5087a9f": {
     "model_module": "@jupyter-widgets/controls",
     "model_module_version": "1.5.0",
     "model_name": "HTMLModel",
     "state": {
      "_dom_classes": [],
      "_model_module": "@jupyter-widgets/controls",
      "_model_module_version": "1.5.0",
      "_model_name": "HTMLModel",
      "_view_count": null,
      "_view_module": "@jupyter-widgets/controls",
      "_view_module_version": "1.5.0",
      "_view_name": "HTMLView",
      "description": "",
      "description_tooltip": null,
      "layout": "IPY_MODEL_bf1ec9315edf439a8944b00ed2f77090",
      "placeholder": "​",
      "style": "IPY_MODEL_db78f9802ab449d0b0326645a17b1298",
      "value": "vocab.txt: 100%"
     }
    },
    "b67f9fd4d13442718ff78356a904534b": {
     "model_module": "@jupyter-widgets/controls",
     "model_module_version": "1.5.0",
     "model_name": "HTMLModel",
     "state": {
      "_dom_classes": [],
      "_model_module": "@jupyter-widgets/controls",
      "_model_module_version": "1.5.0",
      "_model_name": "HTMLModel",
      "_view_count": null,
      "_view_module": "@jupyter-widgets/controls",
      "_view_module_version": "1.5.0",
      "_view_name": "HTMLView",
      "description": "",
      "description_tooltip": null,
      "layout": "IPY_MODEL_005a9dc0b30f464b9ff7885e5ca302e4",
      "placeholder": "​",
      "style": "IPY_MODEL_59cc6631d46e49339e9076540c1caaed",
      "value": " 92.2k/92.2k [00:00&lt;00:00, 5.70MB/s]"
     }
    },
    "b83faeaa29a740f79a8ff8d78f0a6e02": {
     "model_module": "@jupyter-widgets/base",
     "model_module_version": "1.2.0",
     "model_name": "LayoutModel",
     "state": {
      "_model_module": "@jupyter-widgets/base",
      "_model_module_version": "1.2.0",
      "_model_name": "LayoutModel",
      "_view_count": null,
      "_view_module": "@jupyter-widgets/base",
      "_view_module_version": "1.2.0",
      "_view_name": "LayoutView",
      "align_content": null,
      "align_items": null,
      "align_self": null,
      "border": null,
      "bottom": null,
      "display": null,
      "flex": null,
      "flex_flow": null,
      "grid_area": null,
      "grid_auto_columns": null,
      "grid_auto_flow": null,
      "grid_auto_rows": null,
      "grid_column": null,
      "grid_gap": null,
      "grid_row": null,
      "grid_template_areas": null,
      "grid_template_columns": null,
      "grid_template_rows": null,
      "height": null,
      "justify_content": null,
      "justify_items": null,
      "left": null,
      "margin": null,
      "max_height": null,
      "max_width": null,
      "min_height": null,
      "min_width": null,
      "object_fit": null,
      "object_position": null,
      "order": null,
      "overflow": null,
      "overflow_x": null,
      "overflow_y": null,
      "padding": null,
      "right": null,
      "top": null,
      "visibility": null,
      "width": null
     }
    },
    "bb239ffaf3b74b2ca9075f5af3742e13": {
     "model_module": "@jupyter-widgets/controls",
     "model_module_version": "1.5.0",
     "model_name": "DescriptionStyleModel",
     "state": {
      "_model_module": "@jupyter-widgets/controls",
      "_model_module_version": "1.5.0",
      "_model_name": "DescriptionStyleModel",
      "_view_count": null,
      "_view_module": "@jupyter-widgets/base",
      "_view_module_version": "1.2.0",
      "_view_name": "StyleView",
      "description_width": ""
     }
    },
    "bf1ec9315edf439a8944b00ed2f77090": {
     "model_module": "@jupyter-widgets/base",
     "model_module_version": "1.2.0",
     "model_name": "LayoutModel",
     "state": {
      "_model_module": "@jupyter-widgets/base",
      "_model_module_version": "1.2.0",
      "_model_name": "LayoutModel",
      "_view_count": null,
      "_view_module": "@jupyter-widgets/base",
      "_view_module_version": "1.2.0",
      "_view_name": "LayoutView",
      "align_content": null,
      "align_items": null,
      "align_self": null,
      "border": null,
      "bottom": null,
      "display": null,
      "flex": null,
      "flex_flow": null,
      "grid_area": null,
      "grid_auto_columns": null,
      "grid_auto_flow": null,
      "grid_auto_rows": null,
      "grid_column": null,
      "grid_gap": null,
      "grid_row": null,
      "grid_template_areas": null,
      "grid_template_columns": null,
      "grid_template_rows": null,
      "height": null,
      "justify_content": null,
      "justify_items": null,
      "left": null,
      "margin": null,
      "max_height": null,
      "max_width": null,
      "min_height": null,
      "min_width": null,
      "object_fit": null,
      "object_position": null,
      "order": null,
      "overflow": null,
      "overflow_x": null,
      "overflow_y": null,
      "padding": null,
      "right": null,
      "top": null,
      "visibility": null,
      "width": null
     }
    },
    "bf29c75549b84d358c83beb3fb5d92c6": {
     "model_module": "@jupyter-widgets/base",
     "model_module_version": "1.2.0",
     "model_name": "LayoutModel",
     "state": {
      "_model_module": "@jupyter-widgets/base",
      "_model_module_version": "1.2.0",
      "_model_name": "LayoutModel",
      "_view_count": null,
      "_view_module": "@jupyter-widgets/base",
      "_view_module_version": "1.2.0",
      "_view_name": "LayoutView",
      "align_content": null,
      "align_items": null,
      "align_self": null,
      "border": null,
      "bottom": null,
      "display": null,
      "flex": null,
      "flex_flow": null,
      "grid_area": null,
      "grid_auto_columns": null,
      "grid_auto_flow": null,
      "grid_auto_rows": null,
      "grid_column": null,
      "grid_gap": null,
      "grid_row": null,
      "grid_template_areas": null,
      "grid_template_columns": null,
      "grid_template_rows": null,
      "height": null,
      "justify_content": null,
      "justify_items": null,
      "left": null,
      "margin": null,
      "max_height": null,
      "max_width": null,
      "min_height": null,
      "min_width": null,
      "object_fit": null,
      "object_position": null,
      "order": null,
      "overflow": null,
      "overflow_x": null,
      "overflow_y": null,
      "padding": null,
      "right": null,
      "top": null,
      "visibility": null,
      "width": null
     }
    },
    "c334f584d4e04552a0b9d91a83c98599": {
     "model_module": "@jupyter-widgets/base",
     "model_module_version": "1.2.0",
     "model_name": "LayoutModel",
     "state": {
      "_model_module": "@jupyter-widgets/base",
      "_model_module_version": "1.2.0",
      "_model_name": "LayoutModel",
      "_view_count": null,
      "_view_module": "@jupyter-widgets/base",
      "_view_module_version": "1.2.0",
      "_view_name": "LayoutView",
      "align_content": null,
      "align_items": null,
      "align_self": null,
      "border": null,
      "bottom": null,
      "display": null,
      "flex": null,
      "flex_flow": null,
      "grid_area": null,
      "grid_auto_columns": null,
      "grid_auto_flow": null,
      "grid_auto_rows": null,
      "grid_column": null,
      "grid_gap": null,
      "grid_row": null,
      "grid_template_areas": null,
      "grid_template_columns": null,
      "grid_template_rows": null,
      "height": null,
      "justify_content": null,
      "justify_items": null,
      "left": null,
      "margin": null,
      "max_height": null,
      "max_width": null,
      "min_height": null,
      "min_width": null,
      "object_fit": null,
      "object_position": null,
      "order": null,
      "overflow": null,
      "overflow_x": null,
      "overflow_y": null,
      "padding": null,
      "right": null,
      "top": null,
      "visibility": null,
      "width": null
     }
    },
    "c3a8ef7c09a24440bd30afee9bc05eba": {
     "model_module": "@jupyter-widgets/controls",
     "model_module_version": "1.5.0",
     "model_name": "ProgressStyleModel",
     "state": {
      "_model_module": "@jupyter-widgets/controls",
      "_model_module_version": "1.5.0",
      "_model_name": "ProgressStyleModel",
      "_view_count": null,
      "_view_module": "@jupyter-widgets/base",
      "_view_module_version": "1.2.0",
      "_view_name": "StyleView",
      "bar_color": null,
      "description_width": ""
     }
    },
    "c5e22257a1814c53baabaabb72972395": {
     "model_module": "@jupyter-widgets/base",
     "model_module_version": "1.2.0",
     "model_name": "LayoutModel",
     "state": {
      "_model_module": "@jupyter-widgets/base",
      "_model_module_version": "1.2.0",
      "_model_name": "LayoutModel",
      "_view_count": null,
      "_view_module": "@jupyter-widgets/base",
      "_view_module_version": "1.2.0",
      "_view_name": "LayoutView",
      "align_content": null,
      "align_items": null,
      "align_self": null,
      "border": null,
      "bottom": null,
      "display": null,
      "flex": null,
      "flex_flow": null,
      "grid_area": null,
      "grid_auto_columns": null,
      "grid_auto_flow": null,
      "grid_auto_rows": null,
      "grid_column": null,
      "grid_gap": null,
      "grid_row": null,
      "grid_template_areas": null,
      "grid_template_columns": null,
      "grid_template_rows": null,
      "height": null,
      "justify_content": null,
      "justify_items": null,
      "left": null,
      "margin": null,
      "max_height": null,
      "max_width": null,
      "min_height": null,
      "min_width": null,
      "object_fit": null,
      "object_position": null,
      "order": null,
      "overflow": null,
      "overflow_x": null,
      "overflow_y": null,
      "padding": null,
      "right": null,
      "top": null,
      "visibility": null,
      "width": null
     }
    },
    "c6e85081dea84e1dbe4cd82972a0415f": {
     "model_module": "@jupyter-widgets/controls",
     "model_module_version": "1.5.0",
     "model_name": "HTMLModel",
     "state": {
      "_dom_classes": [],
      "_model_module": "@jupyter-widgets/controls",
      "_model_module_version": "1.5.0",
      "_model_name": "HTMLModel",
      "_view_count": null,
      "_view_module": "@jupyter-widgets/controls",
      "_view_module_version": "1.5.0",
      "_view_name": "HTMLView",
      "description": "",
      "description_tooltip": null,
      "layout": "IPY_MODEL_5060b4211a3f4a4cba7425bc85eec0c7",
      "placeholder": "​",
      "style": "IPY_MODEL_1a4011d4518e4cdaa5a2fa1b769128df",
      "value": "tokenizer_config.json: 100%"
     }
    },
    "c989c935db4d447b930d66a903c23c56": {
     "model_module": "@jupyter-widgets/base",
     "model_module_version": "1.2.0",
     "model_name": "LayoutModel",
     "state": {
      "_model_module": "@jupyter-widgets/base",
      "_model_module_version": "1.2.0",
      "_model_name": "LayoutModel",
      "_view_count": null,
      "_view_module": "@jupyter-widgets/base",
      "_view_module_version": "1.2.0",
      "_view_name": "LayoutView",
      "align_content": null,
      "align_items": null,
      "align_self": null,
      "border": null,
      "bottom": null,
      "display": null,
      "flex": null,
      "flex_flow": null,
      "grid_area": null,
      "grid_auto_columns": null,
      "grid_auto_flow": null,
      "grid_auto_rows": null,
      "grid_column": null,
      "grid_gap": null,
      "grid_row": null,
      "grid_template_areas": null,
      "grid_template_columns": null,
      "grid_template_rows": null,
      "height": null,
      "justify_content": null,
      "justify_items": null,
      "left": null,
      "margin": null,
      "max_height": null,
      "max_width": null,
      "min_height": null,
      "min_width": null,
      "object_fit": null,
      "object_position": null,
      "order": null,
      "overflow": null,
      "overflow_x": null,
      "overflow_y": null,
      "padding": null,
      "right": null,
      "top": null,
      "visibility": null,
      "width": null
     }
    },
    "caaf7e0db1b64768832847dd8809e33f": {
     "model_module": "@jupyter-widgets/controls",
     "model_module_version": "1.5.0",
     "model_name": "HBoxModel",
     "state": {
      "_dom_classes": [],
      "_model_module": "@jupyter-widgets/controls",
      "_model_module_version": "1.5.0",
      "_model_name": "HBoxModel",
      "_view_count": null,
      "_view_module": "@jupyter-widgets/controls",
      "_view_module_version": "1.5.0",
      "_view_name": "HBoxView",
      "box_style": "",
      "children": [
       "IPY_MODEL_63a301292ff84da6a2e2582dd08e07c3",
       "IPY_MODEL_a17bdba3691d45b28330f1b7c1b5d6c2",
       "IPY_MODEL_9f95553b44964fe69f2eb8d3af85fe36"
      ],
      "layout": "IPY_MODEL_554cc8f8abd94af8a0814ae1bd3f57d3"
     }
    },
    "cdb4751c22784ebeb9adff201f190beb": {
     "model_module": "@jupyter-widgets/controls",
     "model_module_version": "1.5.0",
     "model_name": "HTMLModel",
     "state": {
      "_dom_classes": [],
      "_model_module": "@jupyter-widgets/controls",
      "_model_module_version": "1.5.0",
      "_model_name": "HTMLModel",
      "_view_count": null,
      "_view_module": "@jupyter-widgets/controls",
      "_view_module_version": "1.5.0",
      "_view_name": "HTMLView",
      "description": "",
      "description_tooltip": null,
      "layout": "IPY_MODEL_817d522eabcd4a53abe3b6dfdd90be95",
      "placeholder": "​",
      "style": "IPY_MODEL_bb239ffaf3b74b2ca9075f5af3742e13",
      "value": "Generating test split: 100%"
     }
    },
    "cf683ac40c144ae982875612f3c92e2e": {
     "model_module": "@jupyter-widgets/controls",
     "model_module_version": "1.5.0",
     "model_name": "HTMLModel",
     "state": {
      "_dom_classes": [],
      "_model_module": "@jupyter-widgets/controls",
      "_model_module_version": "1.5.0",
      "_model_name": "HTMLModel",
      "_view_count": null,
      "_view_module": "@jupyter-widgets/controls",
      "_view_module_version": "1.5.0",
      "_view_name": "HTMLView",
      "description": "",
      "description_tooltip": null,
      "layout": "IPY_MODEL_eed57d8cd9b14c5681e9997dff39074c",
      "placeholder": "​",
      "style": "IPY_MODEL_cfa485b612654ea6b9b8133e842a5897",
      "value": " 1066/1066 [00:00&lt;00:00, 29618.36 examples/s]"
     }
    },
    "cfa485b612654ea6b9b8133e842a5897": {
     "model_module": "@jupyter-widgets/controls",
     "model_module_version": "1.5.0",
     "model_name": "DescriptionStyleModel",
     "state": {
      "_model_module": "@jupyter-widgets/controls",
      "_model_module_version": "1.5.0",
      "_model_name": "DescriptionStyleModel",
      "_view_count": null,
      "_view_module": "@jupyter-widgets/base",
      "_view_module_version": "1.2.0",
      "_view_name": "StyleView",
      "description_width": ""
     }
    },
    "d222949db8ba479a99d54a60b3b0bd47": {
     "model_module": "@jupyter-widgets/controls",
     "model_module_version": "1.5.0",
     "model_name": "DescriptionStyleModel",
     "state": {
      "_model_module": "@jupyter-widgets/controls",
      "_model_module_version": "1.5.0",
      "_model_name": "DescriptionStyleModel",
      "_view_count": null,
      "_view_module": "@jupyter-widgets/base",
      "_view_module_version": "1.2.0",
      "_view_name": "StyleView",
      "description_width": ""
     }
    },
    "d681e33ba2ba4fd0866cf68eb2e168b8": {
     "model_module": "@jupyter-widgets/controls",
     "model_module_version": "1.5.0",
     "model_name": "HTMLModel",
     "state": {
      "_dom_classes": [],
      "_model_module": "@jupyter-widgets/controls",
      "_model_module_version": "1.5.0",
      "_model_name": "HTMLModel",
      "_view_count": null,
      "_view_module": "@jupyter-widgets/controls",
      "_view_module_version": "1.5.0",
      "_view_name": "HTMLView",
      "description": "",
      "description_tooltip": null,
      "layout": "IPY_MODEL_ee396620d2894debad4f343694997980",
      "placeholder": "​",
      "style": "IPY_MODEL_409d4505adbe47ceaab58c9d7f16ed57",
      "value": "special_tokens_map.json: 100%"
     }
    },
    "db78f9802ab449d0b0326645a17b1298": {
     "model_module": "@jupyter-widgets/controls",
     "model_module_version": "1.5.0",
     "model_name": "DescriptionStyleModel",
     "state": {
      "_model_module": "@jupyter-widgets/controls",
      "_model_module_version": "1.5.0",
      "_model_name": "DescriptionStyleModel",
      "_view_count": null,
      "_view_module": "@jupyter-widgets/base",
      "_view_module_version": "1.2.0",
      "_view_name": "StyleView",
      "description_width": ""
     }
    },
    "de8a58f2150c4cf4b6fe1e64c9f232a6": {
     "model_module": "@jupyter-widgets/base",
     "model_module_version": "1.2.0",
     "model_name": "LayoutModel",
     "state": {
      "_model_module": "@jupyter-widgets/base",
      "_model_module_version": "1.2.0",
      "_model_name": "LayoutModel",
      "_view_count": null,
      "_view_module": "@jupyter-widgets/base",
      "_view_module_version": "1.2.0",
      "_view_name": "LayoutView",
      "align_content": null,
      "align_items": null,
      "align_self": null,
      "border": null,
      "bottom": null,
      "display": null,
      "flex": null,
      "flex_flow": null,
      "grid_area": null,
      "grid_auto_columns": null,
      "grid_auto_flow": null,
      "grid_auto_rows": null,
      "grid_column": null,
      "grid_gap": null,
      "grid_row": null,
      "grid_template_areas": null,
      "grid_template_columns": null,
      "grid_template_rows": null,
      "height": null,
      "justify_content": null,
      "justify_items": null,
      "left": null,
      "margin": null,
      "max_height": null,
      "max_width": null,
      "min_height": null,
      "min_width": null,
      "object_fit": null,
      "object_position": null,
      "order": null,
      "overflow": null,
      "overflow_x": null,
      "overflow_y": null,
      "padding": null,
      "right": null,
      "top": null,
      "visibility": null,
      "width": null
     }
    },
    "ded829b024ba447fbdc8f09ab905d80d": {
     "model_module": "@jupyter-widgets/base",
     "model_module_version": "1.2.0",
     "model_name": "LayoutModel",
     "state": {
      "_model_module": "@jupyter-widgets/base",
      "_model_module_version": "1.2.0",
      "_model_name": "LayoutModel",
      "_view_count": null,
      "_view_module": "@jupyter-widgets/base",
      "_view_module_version": "1.2.0",
      "_view_name": "LayoutView",
      "align_content": null,
      "align_items": null,
      "align_self": null,
      "border": null,
      "bottom": null,
      "display": null,
      "flex": null,
      "flex_flow": null,
      "grid_area": null,
      "grid_auto_columns": null,
      "grid_auto_flow": null,
      "grid_auto_rows": null,
      "grid_column": null,
      "grid_gap": null,
      "grid_row": null,
      "grid_template_areas": null,
      "grid_template_columns": null,
      "grid_template_rows": null,
      "height": null,
      "justify_content": null,
      "justify_items": null,
      "left": null,
      "margin": null,
      "max_height": null,
      "max_width": null,
      "min_height": null,
      "min_width": null,
      "object_fit": null,
      "object_position": null,
      "order": null,
      "overflow": null,
      "overflow_x": null,
      "overflow_y": null,
      "padding": null,
      "right": null,
      "top": null,
      "visibility": null,
      "width": null
     }
    },
    "dfd8bd2f7df74454a2cd140638658023": {
     "model_module": "@jupyter-widgets/controls",
     "model_module_version": "1.5.0",
     "model_name": "FloatProgressModel",
     "state": {
      "_dom_classes": [],
      "_model_module": "@jupyter-widgets/controls",
      "_model_module_version": "1.5.0",
      "_model_name": "FloatProgressModel",
      "_view_count": null,
      "_view_module": "@jupyter-widgets/controls",
      "_view_module_version": "1.5.0",
      "_view_name": "ProgressView",
      "bar_style": "success",
      "description": "",
      "description_tooltip": null,
      "layout": "IPY_MODEL_ac970541f7ce488b8239a430485b8393",
      "max": 112,
      "min": 0,
      "orientation": "horizontal",
      "style": "IPY_MODEL_26e7863f76a4404284475e20efedd5f7",
      "value": 112
     }
    },
    "e05d6d6f3b544937b43dd79dbe5b82fe": {
     "model_module": "@jupyter-widgets/controls",
     "model_module_version": "1.5.0",
     "model_name": "HTMLModel",
     "state": {
      "_dom_classes": [],
      "_model_module": "@jupyter-widgets/controls",
      "_model_module_version": "1.5.0",
      "_model_name": "HTMLModel",
      "_view_count": null,
      "_view_module": "@jupyter-widgets/controls",
      "_view_module_version": "1.5.0",
      "_view_name": "HTMLView",
      "description": "",
      "description_tooltip": null,
      "layout": "IPY_MODEL_0daa9518e99d46c5b42c0179c2e7f549",
      "placeholder": "​",
      "style": "IPY_MODEL_3ac27eef6beb45b596e298282ac20481",
      "value": " 699k/699k [00:00&lt;00:00, 13.6MB/s]"
     }
    },
    "e351d67deac84ea1a3a6015f1169db24": {
     "model_module": "@jupyter-widgets/controls",
     "model_module_version": "1.5.0",
     "model_name": "FloatProgressModel",
     "state": {
      "_dom_classes": [],
      "_model_module": "@jupyter-widgets/controls",
      "_model_module_version": "1.5.0",
      "_model_name": "FloatProgressModel",
      "_view_count": null,
      "_view_module": "@jupyter-widgets/controls",
      "_view_module_version": "1.5.0",
      "_view_name": "ProgressView",
      "bar_style": "success",
      "description": "",
      "description_tooltip": null,
      "layout": "IPY_MODEL_062b9d8f714647c6a9cd6f139c965ca7",
      "max": 90001,
      "min": 0,
      "orientation": "horizontal",
      "style": "IPY_MODEL_0a6ae7bf373544278c8040ca2e057d4a",
      "value": 90001
     }
    },
    "e51f6d2b967c49f2b09e21191f4de5d6": {
     "model_module": "@jupyter-widgets/controls",
     "model_module_version": "1.5.0",
     "model_name": "HTMLModel",
     "state": {
      "_dom_classes": [],
      "_model_module": "@jupyter-widgets/controls",
      "_model_module_version": "1.5.0",
      "_model_name": "HTMLModel",
      "_view_count": null,
      "_view_module": "@jupyter-widgets/controls",
      "_view_module_version": "1.5.0",
      "_view_name": "HTMLView",
      "description": "",
      "description_tooltip": null,
      "layout": "IPY_MODEL_bf29c75549b84d358c83beb3fb5d92c6",
      "placeholder": "​",
      "style": "IPY_MODEL_92ba3201c4224a82ad7aa381a9e75908",
      "value": " 48.0/48.0 [00:00&lt;00:00, 2.30kB/s]"
     }
    },
    "e58c7ed2862f4e2293f19d94f0cca7ab": {
     "model_module": "@jupyter-widgets/base",
     "model_module_version": "1.2.0",
     "model_name": "LayoutModel",
     "state": {
      "_model_module": "@jupyter-widgets/base",
      "_model_module_version": "1.2.0",
      "_model_name": "LayoutModel",
      "_view_count": null,
      "_view_module": "@jupyter-widgets/base",
      "_view_module_version": "1.2.0",
      "_view_name": "LayoutView",
      "align_content": null,
      "align_items": null,
      "align_self": null,
      "border": null,
      "bottom": null,
      "display": null,
      "flex": null,
      "flex_flow": null,
      "grid_area": null,
      "grid_auto_columns": null,
      "grid_auto_flow": null,
      "grid_auto_rows": null,
      "grid_column": null,
      "grid_gap": null,
      "grid_row": null,
      "grid_template_areas": null,
      "grid_template_columns": null,
      "grid_template_rows": null,
      "height": null,
      "justify_content": null,
      "justify_items": null,
      "left": null,
      "margin": null,
      "max_height": null,
      "max_width": null,
      "min_height": null,
      "min_width": null,
      "object_fit": null,
      "object_position": null,
      "order": null,
      "overflow": null,
      "overflow_x": null,
      "overflow_y": null,
      "padding": null,
      "right": null,
      "top": null,
      "visibility": null,
      "width": null
     }
    },
    "e8b308f25d9f49fda8bf56dd6268ab49": {
     "model_module": "@jupyter-widgets/base",
     "model_module_version": "1.2.0",
     "model_name": "LayoutModel",
     "state": {
      "_model_module": "@jupyter-widgets/base",
      "_model_module_version": "1.2.0",
      "_model_name": "LayoutModel",
      "_view_count": null,
      "_view_module": "@jupyter-widgets/base",
      "_view_module_version": "1.2.0",
      "_view_name": "LayoutView",
      "align_content": null,
      "align_items": null,
      "align_self": null,
      "border": null,
      "bottom": null,
      "display": null,
      "flex": null,
      "flex_flow": null,
      "grid_area": null,
      "grid_auto_columns": null,
      "grid_auto_flow": null,
      "grid_auto_rows": null,
      "grid_column": null,
      "grid_gap": null,
      "grid_row": null,
      "grid_template_areas": null,
      "grid_template_columns": null,
      "grid_template_rows": null,
      "height": null,
      "justify_content": null,
      "justify_items": null,
      "left": null,
      "margin": null,
      "max_height": null,
      "max_width": null,
      "min_height": null,
      "min_width": null,
      "object_fit": null,
      "object_position": null,
      "order": null,
      "overflow": null,
      "overflow_x": null,
      "overflow_y": null,
      "padding": null,
      "right": null,
      "top": null,
      "visibility": null,
      "width": null
     }
    },
    "ebebb04ee5ef40e1a826ef7e4d494eb2": {
     "model_module": "@jupyter-widgets/base",
     "model_module_version": "1.2.0",
     "model_name": "LayoutModel",
     "state": {
      "_model_module": "@jupyter-widgets/base",
      "_model_module_version": "1.2.0",
      "_model_name": "LayoutModel",
      "_view_count": null,
      "_view_module": "@jupyter-widgets/base",
      "_view_module_version": "1.2.0",
      "_view_name": "LayoutView",
      "align_content": null,
      "align_items": null,
      "align_self": null,
      "border": null,
      "bottom": null,
      "display": null,
      "flex": null,
      "flex_flow": null,
      "grid_area": null,
      "grid_auto_columns": null,
      "grid_auto_flow": null,
      "grid_auto_rows": null,
      "grid_column": null,
      "grid_gap": null,
      "grid_row": null,
      "grid_template_areas": null,
      "grid_template_columns": null,
      "grid_template_rows": null,
      "height": null,
      "justify_content": null,
      "justify_items": null,
      "left": null,
      "margin": null,
      "max_height": null,
      "max_width": null,
      "min_height": null,
      "min_width": null,
      "object_fit": null,
      "object_position": null,
      "order": null,
      "overflow": null,
      "overflow_x": null,
      "overflow_y": null,
      "padding": null,
      "right": null,
      "top": null,
      "visibility": null,
      "width": null
     }
    },
    "ed600ff947154898a749a38f4625faf3": {
     "model_module": "@jupyter-widgets/controls",
     "model_module_version": "1.5.0",
     "model_name": "ProgressStyleModel",
     "state": {
      "_model_module": "@jupyter-widgets/controls",
      "_model_module_version": "1.5.0",
      "_model_name": "ProgressStyleModel",
      "_view_count": null,
      "_view_module": "@jupyter-widgets/base",
      "_view_module_version": "1.2.0",
      "_view_name": "StyleView",
      "bar_color": null,
      "description_width": ""
     }
    },
    "ee396620d2894debad4f343694997980": {
     "model_module": "@jupyter-widgets/base",
     "model_module_version": "1.2.0",
     "model_name": "LayoutModel",
     "state": {
      "_model_module": "@jupyter-widgets/base",
      "_model_module_version": "1.2.0",
      "_model_name": "LayoutModel",
      "_view_count": null,
      "_view_module": "@jupyter-widgets/base",
      "_view_module_version": "1.2.0",
      "_view_name": "LayoutView",
      "align_content": null,
      "align_items": null,
      "align_self": null,
      "border": null,
      "bottom": null,
      "display": null,
      "flex": null,
      "flex_flow": null,
      "grid_area": null,
      "grid_auto_columns": null,
      "grid_auto_flow": null,
      "grid_auto_rows": null,
      "grid_column": null,
      "grid_gap": null,
      "grid_row": null,
      "grid_template_areas": null,
      "grid_template_columns": null,
      "grid_template_rows": null,
      "height": null,
      "justify_content": null,
      "justify_items": null,
      "left": null,
      "margin": null,
      "max_height": null,
      "max_width": null,
      "min_height": null,
      "min_width": null,
      "object_fit": null,
      "object_position": null,
      "order": null,
      "overflow": null,
      "overflow_x": null,
      "overflow_y": null,
      "padding": null,
      "right": null,
      "top": null,
      "visibility": null,
      "width": null
     }
    },
    "eed57d8cd9b14c5681e9997dff39074c": {
     "model_module": "@jupyter-widgets/base",
     "model_module_version": "1.2.0",
     "model_name": "LayoutModel",
     "state": {
      "_model_module": "@jupyter-widgets/base",
      "_model_module_version": "1.2.0",
      "_model_name": "LayoutModel",
      "_view_count": null,
      "_view_module": "@jupyter-widgets/base",
      "_view_module_version": "1.2.0",
      "_view_name": "LayoutView",
      "align_content": null,
      "align_items": null,
      "align_self": null,
      "border": null,
      "bottom": null,
      "display": null,
      "flex": null,
      "flex_flow": null,
      "grid_area": null,
      "grid_auto_columns": null,
      "grid_auto_flow": null,
      "grid_auto_rows": null,
      "grid_column": null,
      "grid_gap": null,
      "grid_row": null,
      "grid_template_areas": null,
      "grid_template_columns": null,
      "grid_template_rows": null,
      "height": null,
      "justify_content": null,
      "justify_items": null,
      "left": null,
      "margin": null,
      "max_height": null,
      "max_width": null,
      "min_height": null,
      "min_width": null,
      "object_fit": null,
      "object_position": null,
      "order": null,
      "overflow": null,
      "overflow_x": null,
      "overflow_y": null,
      "padding": null,
      "right": null,
      "top": null,
      "visibility": null,
      "width": null
     }
    },
    "f35bb36beeea455599f08928b9ad99af": {
     "model_module": "@jupyter-widgets/base",
     "model_module_version": "1.2.0",
     "model_name": "LayoutModel",
     "state": {
      "_model_module": "@jupyter-widgets/base",
      "_model_module_version": "1.2.0",
      "_model_name": "LayoutModel",
      "_view_count": null,
      "_view_module": "@jupyter-widgets/base",
      "_view_module_version": "1.2.0",
      "_view_name": "LayoutView",
      "align_content": null,
      "align_items": null,
      "align_self": null,
      "border": null,
      "bottom": null,
      "display": null,
      "flex": null,
      "flex_flow": null,
      "grid_area": null,
      "grid_auto_columns": null,
      "grid_auto_flow": null,
      "grid_auto_rows": null,
      "grid_column": null,
      "grid_gap": null,
      "grid_row": null,
      "grid_template_areas": null,
      "grid_template_columns": null,
      "grid_template_rows": null,
      "height": null,
      "justify_content": null,
      "justify_items": null,
      "left": null,
      "margin": null,
      "max_height": null,
      "max_width": null,
      "min_height": null,
      "min_width": null,
      "object_fit": null,
      "object_position": null,
      "order": null,
      "overflow": null,
      "overflow_x": null,
      "overflow_y": null,
      "padding": null,
      "right": null,
      "top": null,
      "visibility": null,
      "width": null
     }
    },
    "f3656deea55c45aa975e8f8fde063222": {
     "model_module": "@jupyter-widgets/controls",
     "model_module_version": "1.5.0",
     "model_name": "DescriptionStyleModel",
     "state": {
      "_model_module": "@jupyter-widgets/controls",
      "_model_module_version": "1.5.0",
      "_model_name": "DescriptionStyleModel",
      "_view_count": null,
      "_view_module": "@jupyter-widgets/base",
      "_view_module_version": "1.2.0",
      "_view_name": "StyleView",
      "description_width": ""
     }
    },
    "f60302e7a05c49f1b7e3882ce6d13ed4": {
     "model_module": "@jupyter-widgets/controls",
     "model_module_version": "1.5.0",
     "model_name": "DescriptionStyleModel",
     "state": {
      "_model_module": "@jupyter-widgets/controls",
      "_model_module_version": "1.5.0",
      "_model_name": "DescriptionStyleModel",
      "_view_count": null,
      "_view_module": "@jupyter-widgets/base",
      "_view_module_version": "1.2.0",
      "_view_name": "StyleView",
      "description_width": ""
     }
    },
    "ff0f8d03993f415ea6ae40d6d90f5280": {
     "model_module": "@jupyter-widgets/controls",
     "model_module_version": "1.5.0",
     "model_name": "DescriptionStyleModel",
     "state": {
      "_model_module": "@jupyter-widgets/controls",
      "_model_module_version": "1.5.0",
      "_model_name": "DescriptionStyleModel",
      "_view_count": null,
      "_view_module": "@jupyter-widgets/base",
      "_view_module_version": "1.2.0",
      "_view_name": "StyleView",
      "description_width": ""
     }
    }
   }
  }
 },
 "nbformat": 4,
 "nbformat_minor": 4
}
